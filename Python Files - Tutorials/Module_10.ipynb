{
 "cells": [
  {
   "cell_type": "markdown",
   "id": "f317b591-97f7-47c0-b4e6-3e954ee7ad3e",
   "metadata": {},
   "source": [
    "# Excepction and Error handling"
   ]
  },
  {
   "cell_type": "code",
   "execution_count": 1,
   "id": "7ac2330a-d4ef-4c8c-8c27-e3239b57c3cf",
   "metadata": {},
   "outputs": [
    {
     "name": "stdin",
     "output_type": "stream",
     "text": [
      "Enter Number 2\n",
      "Enter Number 2\n"
     ]
    },
    {
     "name": "stdout",
     "output_type": "stream",
     "text": [
      "Error!\n",
      "I always Run\n"
     ]
    }
   ],
   "source": [
    "number1 = input(\"Enter Number\")\n",
    "number2 = input(\"Enter Number\")\n",
    "number1 = int(number2)\n",
    "try:\n",
    "    number1 = number1+number2\n",
    "except:\n",
    "    print(\"Error!\")\n",
    "finally:\n",
    "    print(\"I always Run\")\n",
    "    "
   ]
  },
  {
   "cell_type": "code",
   "execution_count": 4,
   "id": "613444c6-5038-4f8b-ab38-59671f3b5a2d",
   "metadata": {},
   "outputs": [
    {
     "name": "stdout",
     "output_type": "stream",
     "text": [
      "I am an OS error\n",
      "I am always here\n"
     ]
    }
   ],
   "source": [
    "try:\n",
    "    f = open(\"myfile\",\"r\")\n",
    "    f.write(\"Helllo\")\n",
    "except OSError:\n",
    "    print(\"I am an OS error\")\n",
    "except FileNotFoundError:\n",
    "    print(\"File is not there\")\n",
    "finally:\n",
    "    print(\"I am always here\")"
   ]
  },
  {
   "cell_type": "code",
   "execution_count": 2,
   "id": "614e70ae-2f71-4e4a-a8e2-ef0be7cb5fca",
   "metadata": {},
   "outputs": [],
   "source": [
    "def ask_for_no():\n",
    "    while True:\n",
    "        try:\n",
    "            ini = int(input(\"Give me one Number: \"))\n",
    "        except:\n",
    "            print(\"You made an error!\")\n",
    "            continue\n",
    "        else:\n",
    "            print(\"Thank You!\")\n",
    "            break\n",
    "        finally:\n",
    "            print(\"I Will ask you again\")"
   ]
  },
  {
   "cell_type": "code",
   "execution_count": 3,
   "id": "8e81b2c6-070b-4a6d-b6d2-0375b8accf67",
   "metadata": {},
   "outputs": [
    {
     "name": "stdin",
     "output_type": "stream",
     "text": [
      "Give me one Number:  a\n"
     ]
    },
    {
     "name": "stdout",
     "output_type": "stream",
     "text": [
      "You made an error!\n",
      "I Will ask you again\n"
     ]
    },
    {
     "name": "stdin",
     "output_type": "stream",
     "text": [
      "Give me one Number:  1\n"
     ]
    },
    {
     "name": "stdout",
     "output_type": "stream",
     "text": [
      "Thank You!\n",
      "I Will ask you again\n"
     ]
    }
   ],
   "source": [
    "ask_for_no()"
   ]
  }
 ],
 "metadata": {
  "kernelspec": {
   "display_name": "Python 3 (ipykernel)",
   "language": "python",
   "name": "python3"
  },
  "language_info": {
   "codemirror_mode": {
    "name": "ipython",
    "version": 3
   },
   "file_extension": ".py",
   "mimetype": "text/x-python",
   "name": "python",
   "nbconvert_exporter": "python",
   "pygments_lexer": "ipython3",
   "version": "3.13.5"
  }
 },
 "nbformat": 4,
 "nbformat_minor": 5
}
