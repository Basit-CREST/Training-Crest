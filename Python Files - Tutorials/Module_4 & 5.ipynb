{
 "cells": [
  {
   "cell_type": "markdown",
   "id": "992b272d-da90-4f6f-9836-bd96f5d391e1",
   "metadata": {
    "jp-MarkdownHeadingCollapsed": true
   },
   "source": [
    "# Comparison Operator "
   ]
  },
  {
   "cell_type": "code",
   "execution_count": 1,
   "id": "3dd29733-e4c0-4877-a17c-ae7905599b7a",
   "metadata": {},
   "outputs": [
    {
     "data": {
      "text/plain": [
       "True"
      ]
     },
     "execution_count": 1,
     "metadata": {},
     "output_type": "execute_result"
    }
   ],
   "source": [
    "2 == 2"
   ]
  },
  {
   "cell_type": "code",
   "execution_count": 2,
   "id": "c61c11e4-085e-41e2-af8e-9d9c81851024",
   "metadata": {},
   "outputs": [
    {
     "data": {
      "text/plain": [
       "False"
      ]
     },
     "execution_count": 2,
     "metadata": {},
     "output_type": "execute_result"
    }
   ],
   "source": [
    "2 == '2'"
   ]
  },
  {
   "cell_type": "code",
   "execution_count": 3,
   "id": "86b5ed68-831a-44c8-b932-7b79dacb40e6",
   "metadata": {},
   "outputs": [
    {
     "data": {
      "text/plain": [
       "False"
      ]
     },
     "execution_count": 3,
     "metadata": {},
     "output_type": "execute_result"
    }
   ],
   "source": [
    "'Basit' == 'basit'"
   ]
  },
  {
   "cell_type": "code",
   "execution_count": 6,
   "id": "a20535f3-e8a7-4432-b0ce-278909065e7d",
   "metadata": {},
   "outputs": [
    {
     "data": {
      "text/plain": [
       "True"
      ]
     },
     "execution_count": 6,
     "metadata": {},
     "output_type": "execute_result"
    }
   ],
   "source": [
    "2.0 == 2"
   ]
  },
  {
   "cell_type": "code",
   "execution_count": 7,
   "id": "34e90ba1-8089-4566-a129-4038b076d18c",
   "metadata": {},
   "outputs": [
    {
     "data": {
      "text/plain": [
       "False"
      ]
     },
     "execution_count": 7,
     "metadata": {},
     "output_type": "execute_result"
    }
   ],
   "source": [
    "3 != 3"
   ]
  },
  {
   "cell_type": "code",
   "execution_count": 8,
   "id": "5ead9458-d719-490f-9e94-6a1cf23e139f",
   "metadata": {},
   "outputs": [
    {
     "data": {
      "text/plain": [
       "False"
      ]
     },
     "execution_count": 8,
     "metadata": {},
     "output_type": "execute_result"
    }
   ],
   "source": [
    "2 > 3 "
   ]
  },
  {
   "cell_type": "code",
   "execution_count": 9,
   "id": "5f440403-140d-483c-b8aa-5fe90fa9c8fd",
   "metadata": {},
   "outputs": [
    {
     "data": {
      "text/plain": [
       "True"
      ]
     },
     "execution_count": 9,
     "metadata": {},
     "output_type": "execute_result"
    }
   ],
   "source": [
    "2 >= 2"
   ]
  },
  {
   "cell_type": "code",
   "execution_count": 10,
   "id": "a580a022-b5f9-4ed0-af3f-ea14740df7af",
   "metadata": {},
   "outputs": [
    {
     "data": {
      "text/plain": [
       "True"
      ]
     },
     "execution_count": 10,
     "metadata": {},
     "output_type": "execute_result"
    }
   ],
   "source": [
    "1 < 2 < 3"
   ]
  },
  {
   "cell_type": "code",
   "execution_count": 11,
   "id": "5d3d7233-26b5-4d67-a604-08789ce78f50",
   "metadata": {},
   "outputs": [
    {
     "data": {
      "text/plain": [
       "False"
      ]
     },
     "execution_count": 11,
     "metadata": {},
     "output_type": "execute_result"
    }
   ],
   "source": [
    "1 < 2 > 3"
   ]
  },
  {
   "cell_type": "code",
   "execution_count": 13,
   "id": "e07f21ac-2b52-4e5c-9134-1f9e4e96eca6",
   "metadata": {},
   "outputs": [
    {
     "data": {
      "text/plain": [
       "False"
      ]
     },
     "execution_count": 13,
     "metadata": {},
     "output_type": "execute_result"
    }
   ],
   "source": [
    "1 < 2 and 2 > 3"
   ]
  },
  {
   "cell_type": "code",
   "execution_count": 15,
   "id": "e57c3a3e-f161-4ba4-b245-9978eb2f209e",
   "metadata": {},
   "outputs": [
    {
     "data": {
      "text/plain": [
       "True"
      ]
     },
     "execution_count": 15,
     "metadata": {},
     "output_type": "execute_result"
    }
   ],
   "source": [
    "1 < 2 or 2 > 3"
   ]
  },
  {
   "cell_type": "code",
   "execution_count": 17,
   "id": "6bd5ccf4-4185-4148-825e-09e1d828eab3",
   "metadata": {},
   "outputs": [
    {
     "data": {
      "text/plain": [
       "True"
      ]
     },
     "execution_count": 17,
     "metadata": {},
     "output_type": "execute_result"
    }
   ],
   "source": [
    "not (1==2)"
   ]
  },
  {
   "cell_type": "markdown",
   "id": "6c36b3bc-0341-4eb3-8537-763ad6381ff3",
   "metadata": {
    "jp-MarkdownHeadingCollapsed": true
   },
   "source": [
    "# Control Statements"
   ]
  },
  {
   "cell_type": "code",
   "execution_count": 21,
   "id": "ccbf0663-f409-49d8-99ba-1171bf01490b",
   "metadata": {},
   "outputs": [
    {
     "name": "stdout",
     "output_type": "stream",
     "text": [
      "World!\n"
     ]
    }
   ],
   "source": [
    "hello = True\n",
    "if hello:\n",
    "    print(\"World!\")"
   ]
  },
  {
   "cell_type": "code",
   "execution_count": 24,
   "id": "841236f1-32ea-4de5-8194-a62a15c8c502",
   "metadata": {},
   "outputs": [
    {
     "name": "stdout",
     "output_type": "stream",
     "text": [
      "Always True\n"
     ]
    }
   ],
   "source": [
    "if True:\n",
    "    print('Always True')"
   ]
  },
  {
   "cell_type": "code",
   "execution_count": 27,
   "id": "ac609301-68eb-4c2e-9608-fd57f5368cb3",
   "metadata": {},
   "outputs": [
    {
     "name": "stdout",
     "output_type": "stream",
     "text": [
      "I am Hero\n"
     ]
    }
   ],
   "source": [
    "con = 0\n",
    "if con>0:\n",
    "    print(\"I am Positive\")\n",
    "elif con<0:\n",
    "    print(\"I am negative\")\n",
    "else:\n",
    "    print(\"I am Hero\")"
   ]
  },
  {
   "cell_type": "markdown",
   "id": "37ac12ba-661f-4226-931a-1dab147cf053",
   "metadata": {
    "jp-MarkdownHeadingCollapsed": true
   },
   "source": [
    "# For loops"
   ]
  },
  {
   "cell_type": "code",
   "execution_count": 35,
   "id": "613df6b8-9ce7-4644-b3a2-fe33bc7db77b",
   "metadata": {},
   "outputs": [
    {
     "name": "stdout",
     "output_type": "stream",
     "text": [
      "1\n",
      "2\n",
      "3\n",
      "4\n",
      "5\n",
      "6\n"
     ]
    }
   ],
   "source": [
    "list = [1,2,3,4,5,6]\n",
    "for i in list:\n",
    "    print(i)"
   ]
  },
  {
   "cell_type": "code",
   "execution_count": 37,
   "id": "98fb06bb-8bfe-4ac8-b9c8-f0f6f18c1830",
   "metadata": {},
   "outputs": [
    {
     "name": "stdout",
     "output_type": "stream",
     "text": [
      "I am odd\n",
      "2\n",
      "I am odd\n",
      "4\n",
      "I am odd\n",
      "6\n"
     ]
    }
   ],
   "source": [
    "for i in list:\n",
    "    if i % 2 == 0:\n",
    "        print(i)\n",
    "    else:\n",
    "        print(\"I am odd\")"
   ]
  },
  {
   "cell_type": "code",
   "execution_count": 34,
   "id": "31c4c28e-dcdf-4f80-bd80-ca6510e976c4",
   "metadata": {},
   "outputs": [
    {
     "name": "stdout",
     "output_type": "stream",
     "text": [
      "21\n"
     ]
    }
   ],
   "source": [
    "total_sum = 0\n",
    "for i in list:\n",
    "    total_sum = total_sum + i\n",
    "print(total_sum)"
   ]
  },
  {
   "cell_type": "code",
   "execution_count": 39,
   "id": "54883d08-258e-4c9e-9679-13cc234392e2",
   "metadata": {},
   "outputs": [
    {
     "name": "stdout",
     "output_type": "stream",
     "text": [
      "L\n",
      "o\n",
      "o\n",
      "k\n",
      " \n",
      "\t\n",
      "r\n",
      "i\n",
      "g\n",
      "h\n",
      "t\n",
      ",\n",
      " \n",
      "\t\n",
      "L\n",
      "o\n",
      "o\n",
      "k\n",
      " \n",
      "\t\n",
      "l\n",
      "e\n",
      "f\n",
      "t\n"
     ]
    }
   ],
   "source": [
    "my_string = \"Look right, Look left\"\n",
    "for i in my_string:\n",
    "    print(i)\n",
    "    if i == \" \":\n",
    "        print(\"\\t\")"
   ]
  },
  {
   "cell_type": "code",
   "execution_count": 46,
   "id": "f5d08621-e657-45b6-b241-6f7a0defdf1d",
   "metadata": {},
   "outputs": [
    {
     "name": "stdout",
     "output_type": "stream",
     "text": [
      "1->Roll no. 1\n",
      "2->Roll no. 2\n",
      "3->Roll no. 3\n"
     ]
    }
   ],
   "source": [
    "list1 = [{\"1\" : \"Roll no. 1\"} , {\"2\" : \"Roll no. 2\"} , {\"3\" : \"Roll no. 3\"} ]\n",
    "for items in list1:\n",
    "    for x,y in items.items():\n",
    "        print(x+\"->\"+y)"
   ]
  },
  {
   "cell_type": "code",
   "execution_count": 49,
   "id": "473cedaf-5922-436c-84db-4063894a1c1a",
   "metadata": {},
   "outputs": [
    {
     "name": "stdout",
     "output_type": "stream",
     "text": [
      "1 2 3\n",
      "7 8 9\n",
      "4 5 6\n"
     ]
    }
   ],
   "source": [
    "list2 = [(1,2,3),(7,8,9),(4,5,6)]\n",
    "for i,j,k in list2:\n",
    "    print(i,j,k)"
   ]
  },
  {
   "cell_type": "markdown",
   "id": "b7c8e4b9-4c25-4276-ae0e-78564baec71d",
   "metadata": {
    "jp-MarkdownHeadingCollapsed": true
   },
   "source": [
    "# while loops"
   ]
  },
  {
   "cell_type": "code",
   "execution_count": 50,
   "id": "0a8e0506-a6ea-4677-a1a8-fa79a69b8835",
   "metadata": {},
   "outputs": [
    {
     "name": "stdout",
     "output_type": "stream",
     "text": [
      "I am still not there\n",
      "I am still not there\n",
      "I am still not there\n",
      "I am still not there\n",
      "I am still not there\n"
     ]
    }
   ],
   "source": [
    "x = 0\n",
    "while x < 5:\n",
    "    print(\"I am still not there\")\n",
    "    x += 1"
   ]
  },
  {
   "cell_type": "markdown",
   "id": "7d5228e8-15f0-4637-b70f-ef63d01e4d5f",
   "metadata": {},
   "source": [
    "#### We have pass, break, continue, for controling loop"
   ]
  },
  {
   "cell_type": "code",
   "execution_count": 53,
   "id": "93d9d993-4674-45fb-92e2-3e040457dd52",
   "metadata": {},
   "outputs": [],
   "source": [
    "while x > 5 :\n",
    "    pass    ##in pythonm, where we want to write nothing we write pass, ex: empty class"
   ]
  },
  {
   "cell_type": "code",
   "execution_count": 54,
   "id": "a45e602b-e98c-4a16-9a5c-3c0da03e3b5d",
   "metadata": {},
   "outputs": [
    {
     "name": "stdout",
     "output_type": "stream",
     "text": [
      "B\n",
      "a\n",
      "i\n",
      "t\n"
     ]
    }
   ],
   "source": [
    "y = \"Basit\"\n",
    "for i in y:\n",
    "    if i==\"s\":\n",
    "        continue\n",
    "    print(i)\n",
    "    "
   ]
  },
  {
   "cell_type": "code",
   "execution_count": 55,
   "id": "3bd322f2-a8e7-45b8-b815-eed66b043b2f",
   "metadata": {},
   "outputs": [
    {
     "name": "stdout",
     "output_type": "stream",
     "text": [
      "B\n",
      "a\n"
     ]
    }
   ],
   "source": [
    "y = \"Basit\"\n",
    "for i in y:\n",
    "    if i==\"s\":\n",
    "        break\n",
    "    print(i)\n",
    "    "
   ]
  },
  {
   "cell_type": "markdown",
   "id": "c47cb9c4-58a5-457f-a545-4b5b6c8ad384",
   "metadata": {
    "jp-MarkdownHeadingCollapsed": true
   },
   "source": [
    "# Fnctions "
   ]
  },
  {
   "cell_type": "code",
   "execution_count": 2,
   "id": "02748b1c-6869-4166-915e-513b76f539df",
   "metadata": {},
   "outputs": [
    {
     "name": "stdout",
     "output_type": "stream",
     "text": [
      "1\n",
      "3\n",
      "5\n",
      "7\n",
      "9\n"
     ]
    }
   ],
   "source": [
    "for i in range(1,10,2): #stating, ending-1, jump\n",
    "    print(i) "
   ]
  },
  {
   "cell_type": "code",
   "execution_count": 9,
   "id": "ff77aaf4-317d-4445-bfd8-f985f45c36a9",
   "metadata": {},
   "outputs": [
    {
     "name": "stdout",
     "output_type": "stream",
     "text": [
      "i\n",
      " \n",
      "a\n",
      "m\n",
      " \n",
      "b\n",
      "a\n",
      "s\n",
      "i\n",
      "t\n"
     ]
    }
   ],
   "source": [
    "h = \"i am basit\"\n",
    "for i,j in enumerate(h):   ## unpcacking by enumerate\n",
    "    print(j)\n",
    "\n"
   ]
  },
  {
   "cell_type": "code",
   "execution_count": 10,
   "id": "be6b95e1-24b8-40f6-8cf4-19b562542c78",
   "metadata": {},
   "outputs": [
    {
     "name": "stdout",
     "output_type": "stream",
     "text": [
      "[(1, 1), (2, 2), (3, 3), (4, 4), (5, 5)]\n"
     ]
    }
   ],
   "source": [
    "list1 = [1,2,3,4,5]\n",
    "tup1 = (1,2,3,4,5)\n",
    "list2 = list(zip(list1, tup1))\n",
    "print(list2)"
   ]
  },
  {
   "cell_type": "code",
   "execution_count": 12,
   "id": "9e408e54-5ed3-469d-b426-67f1f725d3ec",
   "metadata": {},
   "outputs": [
    {
     "data": {
      "text/plain": [
       "False"
      ]
     },
     "execution_count": 12,
     "metadata": {},
     "output_type": "execute_result"
    }
   ],
   "source": [
    "'z' in ['a','b','c']"
   ]
  },
  {
   "cell_type": "code",
   "execution_count": 14,
   "id": "bb676e47-eab0-4651-bab1-2a88654c19b4",
   "metadata": {},
   "outputs": [
    {
     "name": "stdout",
     "output_type": "stream",
     "text": [
      "11\n",
      "200\n"
     ]
    }
   ],
   "source": [
    "list3 = [11,110,200,22,90]\n",
    "print(min(list3))\n",
    "print(max(list3))"
   ]
  },
  {
   "cell_type": "code",
   "execution_count": 15,
   "id": "87c5f2d1-82e5-44bd-8017-3768888b4ecb",
   "metadata": {},
   "outputs": [],
   "source": [
    "from random import shuffle"
   ]
  },
  {
   "cell_type": "code",
   "execution_count": 16,
   "id": "8abf29a9-ce92-4278-9069-fc1cd4e66bb4",
   "metadata": {},
   "outputs": [
    {
     "name": "stdout",
     "output_type": "stream",
     "text": [
      "[200, 22, 90, 110, 11]\n"
     ]
    }
   ],
   "source": [
    "shuffle(list3)\n",
    "print(list3)"
   ]
  },
  {
   "cell_type": "code",
   "execution_count": 17,
   "id": "b5a11809-069c-4489-a597-517a2ca57e90",
   "metadata": {},
   "outputs": [],
   "source": [
    "from random import randint"
   ]
  },
  {
   "cell_type": "code",
   "execution_count": 18,
   "id": "6f400ef3-03e6-4d42-9f63-964878e509a6",
   "metadata": {},
   "outputs": [
    {
     "name": "stdout",
     "output_type": "stream",
     "text": [
      "15\n"
     ]
    }
   ],
   "source": [
    "print(randint(0,50))"
   ]
  },
  {
   "cell_type": "code",
   "execution_count": 19,
   "id": "052497d4-9e1e-4e86-bc69-b8122c04122b",
   "metadata": {},
   "outputs": [
    {
     "name": "stdout",
     "output_type": "stream",
     "text": [
      "Enter Something\n"
     ]
    },
    {
     "name": "stdin",
     "output_type": "stream",
     "text": [
      " Hello\n"
     ]
    }
   ],
   "source": [
    "print(\"Enter Something\")\n",
    "i = input()"
   ]
  },
  {
   "cell_type": "code",
   "execution_count": 20,
   "id": "50182f76-63fe-417a-acf6-6f2751a4795c",
   "metadata": {},
   "outputs": [
    {
     "name": "stdout",
     "output_type": "stream",
     "text": [
      "<class 'str'>\n"
     ]
    }
   ],
   "source": [
    "print(type(i))"
   ]
  },
  {
   "cell_type": "code",
   "execution_count": 22,
   "id": "c5ea0b70-41fe-494a-949e-c0bfafa61ad4",
   "metadata": {},
   "outputs": [
    {
     "data": {
      "text/plain": [
       "str"
      ]
     },
     "execution_count": 22,
     "metadata": {},
     "output_type": "execute_result"
    }
   ],
   "source": [
    "type(i)"
   ]
  },
  {
   "cell_type": "code",
   "execution_count": 26,
   "id": "93c921ac-2dc5-441c-8b67-105cafa5bd25",
   "metadata": {},
   "outputs": [
    {
     "name": "stdout",
     "output_type": "stream",
     "text": [
      "3\n",
      "3.54\n"
     ]
    }
   ],
   "source": [
    "x = 3.54 \n",
    "print(int(x))\n",
    "print(float(x))"
   ]
  },
  {
   "cell_type": "markdown",
   "id": "7b7ed92c-9dac-452c-ab92-eed02d70456c",
   "metadata": {},
   "source": [
    "# List Comprehensions"
   ]
  },
  {
   "cell_type": "code",
   "execution_count": 29,
   "id": "2a50a8b9-e616-45ec-9598-f7002e68a453",
   "metadata": {},
   "outputs": [
    {
     "name": "stdout",
     "output_type": "stream",
     "text": [
      "['h', 'e', 'y', ' ', 'i', ' ', 'a', 'm', ' ', 'h', 'e', 'r', 'e']\n"
     ]
    }
   ],
   "source": [
    "stri = \"hey i am here\"\n",
    "list_str = [x for x in stri]\n",
    "print(list_str)"
   ]
  },
  {
   "cell_type": "code",
   "execution_count": 31,
   "id": "5a592012-3b43-4c3e-9709-401410a90105",
   "metadata": {},
   "outputs": [
    {
     "name": "stdout",
     "output_type": "stream",
     "text": [
      "[0, 1, 4, 9, 16, 25, 36, 49, 64, 81]\n"
     ]
    }
   ],
   "source": [
    "list_square = [num ** 2 for num in range(10)]\n",
    "print(list_square)"
   ]
  },
  {
   "cell_type": "code",
   "execution_count": 32,
   "id": "b1853b55-46b2-4fca-9915-434e7a4c903f",
   "metadata": {},
   "outputs": [
    {
     "name": "stdout",
     "output_type": "stream",
     "text": [
      "[0, 4, 16, 36, 64]\n"
     ]
    }
   ],
   "source": [
    "list_square = [num ** 2 for num in range(10) if num % 2 == 0]\n",
    "print(list_square)"
   ]
  },
  {
   "cell_type": "code",
   "execution_count": 34,
   "id": "2640a8d6-63dd-4e6a-b33d-0d85224e712a",
   "metadata": {},
   "outputs": [
    {
     "name": "stdout",
     "output_type": "stream",
     "text": [
      "[100, 200, 300, 200, 400, 600, 300, 600, 900]\n"
     ]
    }
   ],
   "source": [
    "list_3 = [(i*j) for i in [1,2,3] for j in [100,200,300]]\n",
    "print(list_3)"
   ]
  }
 ],
 "metadata": {
  "kernelspec": {
   "display_name": "Python 3 (ipykernel)",
   "language": "python",
   "name": "python3"
  },
  "language_info": {
   "codemirror_mode": {
    "name": "ipython",
    "version": 3
   },
   "file_extension": ".py",
   "mimetype": "text/x-python",
   "name": "python",
   "nbconvert_exporter": "python",
   "pygments_lexer": "ipython3",
   "version": "3.13.5"
  }
 },
 "nbformat": 4,
 "nbformat_minor": 5
}
