{
 "cells": [
  {
   "cell_type": "markdown",
   "id": "f5096faf-47c9-46f5-9c83-4f1fb1e02d83",
   "metadata": {},
   "source": [
    "# Genrators"
   ]
  },
  {
   "cell_type": "code",
   "execution_count": 3,
   "id": "b8c08da5-61b3-4a10-a784-4834041c2e95",
   "metadata": {},
   "outputs": [],
   "source": [
    "def cube(num):\n",
    "    list_a = []\n",
    "    for i in range(num):\n",
    "        list_a.append(i**3)\n",
    "\n",
    "    return list_a"
   ]
  },
  {
   "cell_type": "code",
   "execution_count": 5,
   "id": "66d50e07-f472-4521-9751-932c7c9ef5c6",
   "metadata": {},
   "outputs": [
    {
     "name": "stdout",
     "output_type": "stream",
     "text": [
      "[0, 1, 8, 27, 64, 125, 216, 343, 512, 729]\n"
     ]
    }
   ],
   "source": [
    "print(cube(10)) ## not memory efficient"
   ]
  },
  {
   "cell_type": "code",
   "execution_count": 6,
   "id": "60b83450-8f6e-4fbc-bc12-f81df3f14129",
   "metadata": {},
   "outputs": [],
   "source": [
    "def cube_1(num):\n",
    "    for i in range(num):\n",
    "        yield i**3"
   ]
  },
  {
   "cell_type": "code",
   "execution_count": 9,
   "id": "7ddfacae-b2fe-41c1-b412-89aea6cb0748",
   "metadata": {},
   "outputs": [
    {
     "name": "stdout",
     "output_type": "stream",
     "text": [
      "[0, 1, 8, 27, 64, 125, 216, 343, 512, 729, 1000, 1331, 1728, 2197, 2744, 3375, 4096, 4913, 5832, 6859]\n"
     ]
    }
   ],
   "source": [
    "print(list(cube_1(20)))"
   ]
  },
  {
   "cell_type": "markdown",
   "id": "3763769a-ff70-4001-9db2-5bc53ba86da4",
   "metadata": {},
   "source": [
    "### Fibonaci Numbers Using Genrators"
   ]
  },
  {
   "cell_type": "code",
   "execution_count": 10,
   "id": "38641315-dca4-4caa-ac8f-97468b76e7af",
   "metadata": {},
   "outputs": [],
   "source": [
    "def fib(num):\n",
    "    a = 1\n",
    "    b = 2 \n",
    "    for i in range(num):\n",
    "        yield a\n",
    "        a,b = b,a+b"
   ]
  },
  {
   "cell_type": "code",
   "execution_count": 11,
   "id": "0e43bd30-c825-4083-a8fc-f60966a1065d",
   "metadata": {},
   "outputs": [
    {
     "name": "stdout",
     "output_type": "stream",
     "text": [
      "[1, 2, 3, 5, 8]\n"
     ]
    }
   ],
   "source": [
    "print(list(fib(5)))"
   ]
  },
  {
   "cell_type": "code",
   "execution_count": 12,
   "id": "e3b386be-b323-4ae0-9aed-b2169ce2aef7",
   "metadata": {},
   "outputs": [
    {
     "name": "stdout",
     "output_type": "stream",
     "text": [
      "1\n",
      "2\n",
      "3\n",
      "5\n",
      "8\n",
      "13\n",
      "21\n",
      "34\n",
      "55\n",
      "89\n"
     ]
    }
   ],
   "source": [
    "for i in fib(10):\n",
    "    print(i)"
   ]
  },
  {
   "cell_type": "code",
   "execution_count": 14,
   "id": "8e03a42b-90f5-492d-92e7-964e6b4add4a",
   "metadata": {},
   "outputs": [],
   "source": [
    "g = fib(5)"
   ]
  },
  {
   "cell_type": "code",
   "execution_count": 15,
   "id": "4cfa5637-42a5-48e4-b9d7-19228ebab1d9",
   "metadata": {},
   "outputs": [
    {
     "data": {
      "text/plain": [
       "<generator object fib at 0x0000020BAC8E1D20>"
      ]
     },
     "execution_count": 15,
     "metadata": {},
     "output_type": "execute_result"
    }
   ],
   "source": [
    "g"
   ]
  },
  {
   "cell_type": "code",
   "execution_count": 16,
   "id": "eab01ac8-cc3f-4aab-b50c-f836ebeb6001",
   "metadata": {},
   "outputs": [
    {
     "name": "stdout",
     "output_type": "stream",
     "text": [
      "1\n"
     ]
    }
   ],
   "source": [
    "print(next(g))"
   ]
  },
  {
   "cell_type": "code",
   "execution_count": 17,
   "id": "2570300b-be49-4ec4-8a5a-4541db835659",
   "metadata": {},
   "outputs": [
    {
     "name": "stdout",
     "output_type": "stream",
     "text": [
      "2\n"
     ]
    }
   ],
   "source": [
    "print(next(g))"
   ]
  },
  {
   "cell_type": "code",
   "execution_count": 18,
   "id": "55d94578-7385-471d-8357-44c33b657e4d",
   "metadata": {},
   "outputs": [
    {
     "name": "stdout",
     "output_type": "stream",
     "text": [
      "3\n"
     ]
    }
   ],
   "source": [
    "print(next(g))"
   ]
  },
  {
   "cell_type": "code",
   "execution_count": 19,
   "id": "f4923620-4eef-4bfb-a8f7-074805ff7ed1",
   "metadata": {},
   "outputs": [
    {
     "name": "stdout",
     "output_type": "stream",
     "text": [
      "5\n"
     ]
    }
   ],
   "source": [
    "print(next(g))"
   ]
  },
  {
   "cell_type": "code",
   "execution_count": 20,
   "id": "9cd73d9d-9a19-4fe2-93e4-9c4009c6c08a",
   "metadata": {},
   "outputs": [
    {
     "name": "stdout",
     "output_type": "stream",
     "text": [
      "8\n"
     ]
    }
   ],
   "source": [
    "print(next(g))"
   ]
  },
  {
   "cell_type": "code",
   "execution_count": 21,
   "id": "83898ea2-66fa-4892-a508-5c4c95a15e7c",
   "metadata": {},
   "outputs": [
    {
     "ename": "StopIteration",
     "evalue": "",
     "output_type": "error",
     "traceback": [
      "\u001b[1;31m---------------------------------------------------------------------------\u001b[0m",
      "\u001b[1;31mStopIteration\u001b[0m                             Traceback (most recent call last)",
      "Cell \u001b[1;32mIn[21], line 1\u001b[0m\n\u001b[1;32m----> 1\u001b[0m \u001b[38;5;28mprint\u001b[39m(\u001b[38;5;28mnext\u001b[39m(g))\n",
      "\u001b[1;31mStopIteration\u001b[0m: "
     ]
    }
   ],
   "source": [
    "print(next(g))"
   ]
  }
 ],
 "metadata": {
  "kernelspec": {
   "display_name": "Python 3 (ipykernel)",
   "language": "python",
   "name": "python3"
  },
  "language_info": {
   "codemirror_mode": {
    "name": "ipython",
    "version": 3
   },
   "file_extension": ".py",
   "mimetype": "text/x-python",
   "name": "python",
   "nbconvert_exporter": "python",
   "pygments_lexer": "ipython3",
   "version": "3.13.5"
  }
 },
 "nbformat": 4,
 "nbformat_minor": 5
}
