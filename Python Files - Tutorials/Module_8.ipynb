{
 "cells": [
  {
   "cell_type": "markdown",
   "id": "cbb07347-ec8e-407f-b941-df4de463ad1a",
   "metadata": {},
   "source": [
    "# Class "
   ]
  },
  {
   "cell_type": "code",
   "execution_count": 23,
   "id": "18951785-b75f-4ab4-91d9-4d379ec79173",
   "metadata": {},
   "outputs": [],
   "source": [
    "class SampleClass():\n",
    "    pass"
   ]
  },
  {
   "cell_type": "code",
   "execution_count": 16,
   "id": "df6b05bb-f4fe-4dd6-ae47-6c8a483400f4",
   "metadata": {},
   "outputs": [],
   "source": [
    "class vehicle():\n",
    "\n",
    "    def __init__(self,wheels,engine):\n",
    "        self.wheels = wheels\n",
    "        self.engine = engine   ## attributes\n",
    "\n",
    "\n",
    "    def top_speed(self):  ## methods\n",
    "        return self.wheels * self.engine "
   ]
  },
  {
   "cell_type": "code",
   "execution_count": 17,
   "id": "b489bd36-bcfd-4749-b778-c897ea06af98",
   "metadata": {},
   "outputs": [],
   "source": [
    "v1 = vehicle(4,800)"
   ]
  },
  {
   "cell_type": "code",
   "execution_count": 18,
   "id": "7ce9280e-5970-4494-a464-ab000259f059",
   "metadata": {},
   "outputs": [
    {
     "name": "stdout",
     "output_type": "stream",
     "text": [
      "3200\n"
     ]
    }
   ],
   "source": [
    "ans = v1.top_speed()\n",
    "print(ans)"
   ]
  },
  {
   "cell_type": "code",
   "execution_count": 19,
   "id": "eb24e66c-37c2-439a-901d-919a6c620b65",
   "metadata": {},
   "outputs": [
    {
     "data": {
      "text/plain": [
       "__main__.vehicle"
      ]
     },
     "execution_count": 19,
     "metadata": {},
     "output_type": "execute_result"
    }
   ],
   "source": [
    "type(v1)"
   ]
  },
  {
   "cell_type": "code",
   "execution_count": 22,
   "id": "3350718f-e5cf-4d30-920b-171f44d77974",
   "metadata": {},
   "outputs": [
    {
     "data": {
      "text/plain": [
       "800"
      ]
     },
     "execution_count": 22,
     "metadata": {},
     "output_type": "execute_result"
    }
   ],
   "source": [
    "v1.engine"
   ]
  },
  {
   "cell_type": "code",
   "execution_count": null,
   "id": "deb8093e-e4a1-45bc-adf9-88b02265860b",
   "metadata": {},
   "outputs": [],
   "source": []
  }
 ],
 "metadata": {
  "kernelspec": {
   "display_name": "Python 3 (ipykernel)",
   "language": "python",
   "name": "python3"
  },
  "language_info": {
   "codemirror_mode": {
    "name": "ipython",
    "version": 3
   },
   "file_extension": ".py",
   "mimetype": "text/x-python",
   "name": "python",
   "nbconvert_exporter": "python",
   "pygments_lexer": "ipython3",
   "version": "3.13.5"
  }
 },
 "nbformat": 4,
 "nbformat_minor": 5
}
