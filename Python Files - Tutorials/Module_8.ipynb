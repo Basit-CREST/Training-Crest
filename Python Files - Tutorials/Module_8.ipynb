{
 "cells": [
  {
   "cell_type": "markdown",
   "id": "cbb07347-ec8e-407f-b941-df4de463ad1a",
   "metadata": {
    "jp-MarkdownHeadingCollapsed": true
   },
   "source": [
    "# Class "
   ]
  },
  {
   "cell_type": "code",
   "execution_count": 23,
   "id": "18951785-b75f-4ab4-91d9-4d379ec79173",
   "metadata": {},
   "outputs": [],
   "source": [
    "class SampleClass():\n",
    "    pass"
   ]
  },
  {
   "cell_type": "code",
   "execution_count": 16,
   "id": "df6b05bb-f4fe-4dd6-ae47-6c8a483400f4",
   "metadata": {},
   "outputs": [],
   "source": [
    "class vehicle():\n",
    "\n",
    "    def __init__(self,wheels,engine):\n",
    "        self.wheels = wheels\n",
    "        self.engine = engine   ## attributes\n",
    "\n",
    "\n",
    "    def top_speed(self):  ## methods\n",
    "        return self.wheels * self.engine "
   ]
  },
  {
   "cell_type": "code",
   "execution_count": 17,
   "id": "b489bd36-bcfd-4749-b778-c897ea06af98",
   "metadata": {},
   "outputs": [],
   "source": [
    "v1 = vehicle(4,800)"
   ]
  },
  {
   "cell_type": "code",
   "execution_count": 24,
   "id": "7ce9280e-5970-4494-a464-ab000259f059",
   "metadata": {},
   "outputs": [
    {
     "name": "stdout",
     "output_type": "stream",
     "text": [
      "3200\n"
     ]
    }
   ],
   "source": [
    "ans = v1.top_speed()\n",
    "print(ans)"
   ]
  },
  {
   "cell_type": "code",
   "execution_count": 25,
   "id": "eb24e66c-37c2-439a-901d-919a6c620b65",
   "metadata": {},
   "outputs": [
    {
     "data": {
      "text/plain": [
       "__main__.vehicle"
      ]
     },
     "execution_count": 25,
     "metadata": {},
     "output_type": "execute_result"
    }
   ],
   "source": [
    "type(v1)"
   ]
  },
  {
   "cell_type": "code",
   "execution_count": 26,
   "id": "3350718f-e5cf-4d30-920b-171f44d77974",
   "metadata": {},
   "outputs": [
    {
     "data": {
      "text/plain": [
       "800"
      ]
     },
     "execution_count": 26,
     "metadata": {},
     "output_type": "execute_result"
    }
   ],
   "source": [
    "v1.engine"
   ]
  },
  {
   "cell_type": "code",
   "execution_count": 35,
   "id": "a954817b-49e3-4183-ab15-cb8eafa408eb",
   "metadata": {},
   "outputs": [],
   "source": [
    "class circle():\n",
    "    pi = 3.14\n",
    "\n",
    "    def __init__(self,radius=1):\n",
    "        self.radius = radius\n",
    "        self.area = radius*radius*self.pi\n",
    "    def circumferance(self):\n",
    "        return 2*self.pi*self.radius"
   ]
  },
  {
   "cell_type": "code",
   "execution_count": 28,
   "id": "deb8093e-e4a1-45bc-adf9-88b02265860b",
   "metadata": {},
   "outputs": [],
   "source": [
    "c1 = circle()"
   ]
  },
  {
   "cell_type": "code",
   "execution_count": 29,
   "id": "49bf7520-ad20-421c-bb9c-6d4897101b0a",
   "metadata": {},
   "outputs": [
    {
     "data": {
      "text/plain": [
       "1"
      ]
     },
     "execution_count": 29,
     "metadata": {},
     "output_type": "execute_result"
    }
   ],
   "source": [
    "c1.radius"
   ]
  },
  {
   "cell_type": "code",
   "execution_count": 36,
   "id": "b5ed48b8-ef4e-40d5-82ec-0fe9c83fa10c",
   "metadata": {},
   "outputs": [],
   "source": [
    "c2 = circle(20)"
   ]
  },
  {
   "cell_type": "code",
   "execution_count": 37,
   "id": "a141f5f9-d8a8-4e4a-bd23-25f2f49d4a5f",
   "metadata": {},
   "outputs": [
    {
     "data": {
      "text/plain": [
       "1256.0"
      ]
     },
     "execution_count": 37,
     "metadata": {},
     "output_type": "execute_result"
    }
   ],
   "source": [
    "c2.area"
   ]
  },
  {
   "cell_type": "code",
   "execution_count": 38,
   "id": "f77ce660-499c-4f60-9133-1c0819246760",
   "metadata": {},
   "outputs": [
    {
     "name": "stdout",
     "output_type": "stream",
     "text": [
      "125.60000000000001\n"
     ]
    }
   ],
   "source": [
    "print(c2.circumferance())"
   ]
  },
  {
   "cell_type": "markdown",
   "id": "7e753bba-ea5a-499c-88d2-4fe3f65b017b",
   "metadata": {
    "jp-MarkdownHeadingCollapsed": true
   },
   "source": [
    "# Inheritance"
   ]
  },
  {
   "cell_type": "code",
   "execution_count": 65,
   "id": "cdbf4958-ecb7-48c6-a2ab-bdba7b65ba0a",
   "metadata": {},
   "outputs": [],
   "source": [
    "class animal():\n",
    "    def __init__(self):\n",
    "        print(\"Animal Created!\")\n",
    "    def eat(self):\n",
    "        print(\"Eating Food!\")\n",
    "    def who_am_i(self):\n",
    "        print(\"I am an animal\")"
   ]
  },
  {
   "cell_type": "code",
   "execution_count": 66,
   "id": "e376bbd1-f320-4e44-bcc0-eeae6a909a4a",
   "metadata": {},
   "outputs": [],
   "source": [
    "class Dog(animal):\n",
    "     def __init__(self):\n",
    "        animal.__init__(self)\n",
    "        print(\"Dog Created!\")\n",
    "     def who_am_i(self):\n",
    "         print(\"I am a Dog!\")"
   ]
  },
  {
   "cell_type": "code",
   "execution_count": 67,
   "id": "46859fc6-e327-4434-95ed-e07de8848de2",
   "metadata": {},
   "outputs": [
    {
     "name": "stdout",
     "output_type": "stream",
     "text": [
      "Animal Created!\n",
      "Dog Created!\n"
     ]
    }
   ],
   "source": [
    "d1 = Dog()"
   ]
  },
  {
   "cell_type": "code",
   "execution_count": 63,
   "id": "8cd0cce7-54c0-4729-9aac-603ccfbe4c33",
   "metadata": {},
   "outputs": [
    {
     "name": "stdout",
     "output_type": "stream",
     "text": [
      "Eating Food!\n"
     ]
    }
   ],
   "source": [
    "d1.eat()"
   ]
  },
  {
   "cell_type": "code",
   "execution_count": 68,
   "id": "b5baa4c6-db42-4bf1-bfa6-b9699431667b",
   "metadata": {},
   "outputs": [
    {
     "name": "stdout",
     "output_type": "stream",
     "text": [
      "I am a Dog!\n"
     ]
    }
   ],
   "source": [
    "d1.who_am_i()"
   ]
  },
  {
   "cell_type": "code",
   "execution_count": 71,
   "id": "9a0939b4-e93e-40e4-a9e1-2852870f161c",
   "metadata": {},
   "outputs": [
    {
     "name": "stdout",
     "output_type": "stream",
     "text": [
      "Animal Created!\n"
     ]
    }
   ],
   "source": [
    "a1 = animal()"
   ]
  },
  {
   "cell_type": "code",
   "execution_count": 72,
   "id": "489d90c9-7a27-4074-a37f-cd09845f1abf",
   "metadata": {},
   "outputs": [
    {
     "name": "stdout",
     "output_type": "stream",
     "text": [
      "I am an animal\n"
     ]
    }
   ],
   "source": [
    "a1.who_am_i()"
   ]
  },
  {
   "cell_type": "markdown",
   "id": "d47f47f4-4040-453e-a2ab-07e3676da037",
   "metadata": {
    "jp-MarkdownHeadingCollapsed": true
   },
   "source": [
    "# Polymorphism "
   ]
  },
  {
   "cell_type": "code",
   "execution_count": 76,
   "id": "b98a6f3c-6492-4bb1-b907-095e4b71ccc9",
   "metadata": {},
   "outputs": [],
   "source": [
    "class cat():\n",
    "    def __init__(self,name):\n",
    "        self.name = name \n",
    "        \n",
    "    def speak(self):\n",
    "        print(self.name+\" says meow!\")"
   ]
  },
  {
   "cell_type": "code",
   "execution_count": 77,
   "id": "41fbe0d3-5148-4374-8eb4-ee48d384a8ae",
   "metadata": {},
   "outputs": [],
   "source": [
    "class dog():\n",
    "    def __init__(self,name):\n",
    "        self.name = name \n",
    "        \n",
    "    def speak(self):\n",
    "        print(self.name+\" says woof!\")"
   ]
  },
  {
   "cell_type": "code",
   "execution_count": 81,
   "id": "bc5fc802-d1b8-425a-b048-667ea0f29755",
   "metadata": {},
   "outputs": [
    {
     "name": "stdout",
     "output_type": "stream",
     "text": [
      "Goldy says woof!\n"
     ]
    }
   ],
   "source": [
    "d = dog(\"Goldy\")\n",
    "d.speak()"
   ]
  },
  {
   "cell_type": "code",
   "execution_count": 82,
   "id": "d0cb8aa4-416e-4674-875f-34eaca55ad4b",
   "metadata": {},
   "outputs": [
    {
     "name": "stdout",
     "output_type": "stream",
     "text": [
      "Billa says meow!\n"
     ]
    }
   ],
   "source": [
    "c = cat(\"Billa\")\n",
    "c.speak()"
   ]
  },
  {
   "cell_type": "markdown",
   "id": "9a013382-1f6a-4175-8f5b-cfcd54a9dc1a",
   "metadata": {
    "jp-MarkdownHeadingCollapsed": true
   },
   "source": [
    "# Abstract Method"
   ]
  },
  {
   "cell_type": "code",
   "execution_count": 83,
   "id": "be0bc789-cccf-472b-bbd1-000992110642",
   "metadata": {},
   "outputs": [
    {
     "name": "stdout",
     "output_type": "stream",
     "text": [
      "Fido says Woof!\n",
      "Isis says Meow!\n"
     ]
    }
   ],
   "source": [
    "class Animal:\n",
    "    def __init__(self, name):    # Constructor of the class\n",
    "        self.name = name\n",
    "\n",
    "    def speak(self):              # Abstract method, defined by convention only\n",
    "        raise NotImplementedError(\"Subclass must implement abstract method\")\n",
    "\n",
    "\n",
    "class Dog(Animal):\n",
    "    \n",
    "    def speak(self):\n",
    "        return self.name+' says Woof!'\n",
    "    \n",
    "class Cat(Animal):\n",
    "\n",
    "    def speak(self):\n",
    "        return self.name+' says Meow!'\n",
    "    \n",
    "fido = Dog('Fido')\n",
    "isis = Cat('Isis')\n",
    "\n",
    "print(fido.speak())\n",
    "print(isis.speak())"
   ]
  },
  {
   "cell_type": "markdown",
   "id": "17232438-5224-4ef5-91ec-7b5904a0e350",
   "metadata": {},
   "source": [
    "# Special Methods"
   ]
  },
  {
   "cell_type": "code",
   "execution_count": 91,
   "id": "4355ae0c-04bd-4140-8027-c42467d3aee1",
   "metadata": {},
   "outputs": [],
   "source": [
    "class Book():\n",
    "    def __init__(self,title,author,pages):\n",
    "        self.title = title\n",
    "        self.author = author\n",
    "        self.pages = pages\n",
    "        \n",
    "    def __str__(self):\n",
    "        return f\"The title of book {self.title} and author is {self.author}\"\n",
    "\n",
    "    def __len__(self):\n",
    "        return self.pages\n",
    "        \n",
    "    def __del__(self):\n",
    "        print(\"Object Deleted\")"
   ]
  },
  {
   "cell_type": "code",
   "execution_count": 92,
   "id": "1c5f1509-bbcc-4ac0-9f9e-27540852c94f",
   "metadata": {},
   "outputs": [
    {
     "name": "stdout",
     "output_type": "stream",
     "text": [
      "Object Deleted\n"
     ]
    }
   ],
   "source": [
    "b1 = Book(title = \"Python\", author=\"Me\", pages = 400)"
   ]
  },
  {
   "cell_type": "code",
   "execution_count": 93,
   "id": "8ee2f6ec-5ff0-40da-a43d-94110cfe11e9",
   "metadata": {},
   "outputs": [
    {
     "name": "stdout",
     "output_type": "stream",
     "text": [
      "The title of book Python and author is Me\n"
     ]
    }
   ],
   "source": [
    "print(b1)"
   ]
  },
  {
   "cell_type": "code",
   "execution_count": 94,
   "id": "be7c21b9-176f-40a7-b0ca-86133cafcb1c",
   "metadata": {},
   "outputs": [
    {
     "data": {
      "text/plain": [
       "400"
      ]
     },
     "execution_count": 94,
     "metadata": {},
     "output_type": "execute_result"
    }
   ],
   "source": [
    "len(b1)"
   ]
  },
  {
   "cell_type": "code",
   "execution_count": 95,
   "id": "e7efda50-4138-48d5-98d8-21dcd7cfcbc6",
   "metadata": {},
   "outputs": [
    {
     "name": "stdout",
     "output_type": "stream",
     "text": [
      "Object Deleted\n"
     ]
    }
   ],
   "source": [
    "del(b1)"
   ]
  },
  {
   "cell_type": "code",
   "execution_count": 96,
   "id": "db3cff2a-e350-4d35-b876-da23ecc27d92",
   "metadata": {},
   "outputs": [
    {
     "ename": "NameError",
     "evalue": "name 'b1' is not defined",
     "output_type": "error",
     "traceback": [
      "\u001b[1;31m---------------------------------------------------------------------------\u001b[0m",
      "\u001b[1;31mNameError\u001b[0m                                 Traceback (most recent call last)",
      "Cell \u001b[1;32mIn[96], line 1\u001b[0m\n\u001b[1;32m----> 1\u001b[0m b1\u001b[38;5;241m.\u001b[39mtitle\n",
      "\u001b[1;31mNameError\u001b[0m: name 'b1' is not defined"
     ]
    }
   ],
   "source": [
    "b1.title"
   ]
  }
 ],
 "metadata": {
  "kernelspec": {
   "display_name": "Python 3 (ipykernel)",
   "language": "python",
   "name": "python3"
  },
  "language_info": {
   "codemirror_mode": {
    "name": "ipython",
    "version": 3
   },
   "file_extension": ".py",
   "mimetype": "text/x-python",
   "name": "python",
   "nbconvert_exporter": "python",
   "pygments_lexer": "ipython3",
   "version": "3.13.5"
  }
 },
 "nbformat": 4,
 "nbformat_minor": 5
}
