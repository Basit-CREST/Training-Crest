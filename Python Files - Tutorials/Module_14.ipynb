{
 "cells": [
  {
   "cell_type": "markdown",
   "id": "7d4cfada-6058-4f7d-9c64-9cc422d93ae0",
   "metadata": {},
   "source": [
    "# Advance Python Module"
   ]
  },
  {
   "cell_type": "markdown",
   "id": "2aa921c1-da2d-479e-bb0c-55878e3cc9c2",
   "metadata": {},
   "source": [
    "- ### <b>Collections</b>"
   ]
  },
  {
   "cell_type": "code",
   "execution_count": 11,
   "id": "f858afc0-5943-461d-83fc-678b980888c3",
   "metadata": {},
   "outputs": [],
   "source": [
    "from collections import Counter"
   ]
  },
  {
   "cell_type": "code",
   "execution_count": 12,
   "id": "a5cb4df4-b7f1-4e2b-96ae-1d8b969f765b",
   "metadata": {},
   "outputs": [
    {
     "data": {
      "text/plain": [
       "Counter({1: 5, 2: 3, 3: 1, 4: 1})"
      ]
     },
     "execution_count": 12,
     "metadata": {},
     "output_type": "execute_result"
    }
   ],
   "source": [
    "my_list = [1,1,1,1,1,2,2,2,3,4]\n",
    "Counter(my_list)"
   ]
  },
  {
   "cell_type": "code",
   "execution_count": 13,
   "id": "b3a626e3-aa9f-40b7-9a64-5d36fb67f42f",
   "metadata": {},
   "outputs": [
    {
     "data": {
      "text/plain": [
       "Counter({'a': 4, 3: 3, 1: 1, 2: 1})"
      ]
     },
     "execution_count": 13,
     "metadata": {},
     "output_type": "execute_result"
    }
   ],
   "source": [
    "Counter([\"a\",\"a\",\"a\",\"a\",1,2,3,3,3])"
   ]
  },
  {
   "cell_type": "code",
   "execution_count": 14,
   "id": "6ef9c3dd-ff61-4901-8c85-3543908694d5",
   "metadata": {},
   "outputs": [
    {
     "data": {
      "text/plain": [
       "Counter({'a': 1, 1: 1, 2: 1, 3: 1})"
      ]
     },
     "execution_count": 14,
     "metadata": {},
     "output_type": "execute_result"
    }
   ],
   "source": [
    "Counter({\"a\",\"a\",\"a\",\"a\",1,2,3,3})"
   ]
  },
  {
   "cell_type": "code",
   "execution_count": 10,
   "id": "7a33834a-632a-4a3c-b840-992538d29646",
   "metadata": {},
   "outputs": [
    {
     "data": {
      "text/plain": [
       "Counter({'i': 3,\n",
       "         \"don't\": 3,\n",
       "         'know': 3,\n",
       "         'Today': 1,\n",
       "         'Something': 1,\n",
       "         'amazing': 1,\n",
       "         'happend!': 1,\n",
       "         'which': 1,\n",
       "         'was': 1,\n",
       "         'really': 1,\n",
       "         'thrilling': 1,\n",
       "         'and': 1,\n",
       "         'amazing,': 1,\n",
       "         'can': 1,\n",
       "         'you': 1,\n",
       "         'believe': 1,\n",
       "         'it?': 1})"
      ]
     },
     "execution_count": 10,
     "metadata": {},
     "output_type": "execute_result"
    }
   ],
   "source": [
    "sentence = \"Today Something amazing happend! which was really thrilling and amazing, can you believe it? i don't know i don't know i don't know\"\n",
    "list_sent = sentence.split()\n",
    "Counter(list_sent)"
   ]
  },
  {
   "cell_type": "code",
   "execution_count": 12,
   "id": "40626d83-d011-43ca-8fb4-7e6bbbf076b3",
   "metadata": {},
   "outputs": [
    {
     "data": {
      "text/plain": [
       "[('i', 3), (\"don't\", 3), ('know', 3), ('Today', 1), ('Something', 1)]"
      ]
     },
     "execution_count": 12,
     "metadata": {},
     "output_type": "execute_result"
    }
   ],
   "source": [
    "c = Counter(list_sent)\n",
    "c.most_common(5)"
   ]
  },
  {
   "cell_type": "code",
   "execution_count": 13,
   "id": "c17cf12b-a50d-4bac-89a5-1928927f38cc",
   "metadata": {},
   "outputs": [],
   "source": [
    "from collections import defaultdict"
   ]
  },
  {
   "cell_type": "code",
   "execution_count": 14,
   "id": "fbc67d9f-1715-4002-be1c-3664c56273a1",
   "metadata": {},
   "outputs": [
    {
     "data": {
      "text/plain": [
       "0"
      ]
     },
     "execution_count": 14,
     "metadata": {},
     "output_type": "execute_result"
    }
   ],
   "source": [
    "d = defaultdict(lambda : 0)\n",
    "d['a'] = 100\n",
    "d['b']"
   ]
  },
  {
   "cell_type": "code",
   "execution_count": 20,
   "id": "d7545af8-25e5-4248-b685-746af1d7d90e",
   "metadata": {},
   "outputs": [
    {
     "name": "stdout",
     "output_type": "stream",
     "text": [
      "a 100\n",
      "b 0\n"
     ]
    }
   ],
   "source": [
    "for i,j in d.items():\n",
    "    print(i, j)"
   ]
  },
  {
   "cell_type": "code",
   "execution_count": 3,
   "id": "12053380-6fcd-428b-aa20-b8208993909d",
   "metadata": {},
   "outputs": [],
   "source": [
    "from collections import namedtuple"
   ]
  },
  {
   "cell_type": "code",
   "execution_count": 6,
   "id": "60e6fe0d-6a76-4437-8717-2d24d23609f1",
   "metadata": {},
   "outputs": [],
   "source": [
    "Dog = namedtuple('dog',['age','bread','name'])"
   ]
  },
  {
   "cell_type": "code",
   "execution_count": 7,
   "id": "40ed183c-b40f-4013-85a9-9e48568f595f",
   "metadata": {},
   "outputs": [],
   "source": [
    "sammy = Dog(age=5,bread='husky',name='sam')"
   ]
  },
  {
   "cell_type": "code",
   "execution_count": 8,
   "id": "46423aff-fb37-44e6-9a4f-8cf1b2506093",
   "metadata": {},
   "outputs": [
    {
     "name": "stdout",
     "output_type": "stream",
     "text": [
      "dog(age=5, bread='husky', name='sam')\n"
     ]
    }
   ],
   "source": [
    "print(sammy)"
   ]
  },
  {
   "cell_type": "code",
   "execution_count": 9,
   "id": "7f1f1481-268f-44cb-b252-79aeb2a3d6ba",
   "metadata": {},
   "outputs": [
    {
     "data": {
      "text/plain": [
       "dog(age=5, bread='husky', name='sam')"
      ]
     },
     "execution_count": 9,
     "metadata": {},
     "output_type": "execute_result"
    }
   ],
   "source": [
    "sammy"
   ]
  },
  {
   "cell_type": "code",
   "execution_count": 10,
   "id": "8cffe210-4838-4513-886d-3d0c1d4c430b",
   "metadata": {},
   "outputs": [
    {
     "data": {
      "text/plain": [
       "'husky'"
      ]
     },
     "execution_count": 10,
     "metadata": {},
     "output_type": "execute_result"
    }
   ],
   "source": [
    "sammy.bread"
   ]
  },
  {
   "cell_type": "markdown",
   "id": "419bfe81-ec2a-4406-a21e-e5b94381c6b3",
   "metadata": {},
   "source": [
    "- ### <b>Os</b>"
   ]
  },
  {
   "cell_type": "code",
   "execution_count": 16,
   "id": "265fb63f-9532-4983-88cc-4390be8cd535",
   "metadata": {},
   "outputs": [
    {
     "data": {
      "text/plain": [
       "'D:\\\\Python Course\\\\Python Files - Tutorials'"
      ]
     },
     "execution_count": 16,
     "metadata": {},
     "output_type": "execute_result"
    }
   ],
   "source": [
    "pwd"
   ]
  },
  {
   "cell_type": "code",
   "execution_count": 17,
   "id": "b0c550fe-6d06-485a-bad5-528b81ca4e9a",
   "metadata": {},
   "outputs": [],
   "source": [
    "import os"
   ]
  },
  {
   "cell_type": "code",
   "execution_count": 18,
   "id": "34d5ace1-71c3-481f-a53b-15a663e2fcb7",
   "metadata": {},
   "outputs": [
    {
     "data": {
      "text/plain": [
       "'D:\\\\Python Course\\\\Python Files - Tutorials'"
      ]
     },
     "execution_count": 18,
     "metadata": {},
     "output_type": "execute_result"
    }
   ],
   "source": [
    "os.getcwd()"
   ]
  },
  {
   "cell_type": "code",
   "execution_count": 19,
   "id": "46d8eb55-2f41-4827-99c0-39560ccbaaf5",
   "metadata": {},
   "outputs": [
    {
     "data": {
      "text/plain": [
       "['.ipynb_checkpoints',\n",
       " 'Assessments',\n",
       " 'Module_10.ipynb',\n",
       " 'Module_11 (Milestone_Project_1).ipynb',\n",
       " 'Module_11 (Milestone_Project_2).ipynb',\n",
       " 'Module_12.ipynb',\n",
       " 'Module_13.ipynb',\n",
       " 'Module_14.ipynb',\n",
       " 'Module_3.ipynb',\n",
       " 'Module_4 & 5.ipynb',\n",
       " 'Module_6.ipynb',\n",
       " 'Module_7 (Milestone_Project_1).ipynb',\n",
       " 'Module_8.ipynb',\n",
       " 'Module_9.py']"
      ]
     },
     "execution_count": 19,
     "metadata": {},
     "output_type": "execute_result"
    }
   ],
   "source": [
    "os.listdir()"
   ]
  },
  {
   "cell_type": "code",
   "execution_count": 20,
   "id": "2da10eb9-e9fd-446a-a504-b0e47ecdf27f",
   "metadata": {},
   "outputs": [
    {
     "data": {
      "text/plain": [
       "['$Recycle.Bin',\n",
       " '$WinREAgent',\n",
       " 'Documents and Settings',\n",
       " 'DumpStack.log.tmp',\n",
       " 'hiberfil.sys',\n",
       " 'inetpub',\n",
       " 'Intel',\n",
       " 'pagefile.sys',\n",
       " 'PerfLogs',\n",
       " 'Program Files',\n",
       " 'Program Files (x86)',\n",
       " 'ProgramData',\n",
       " 'Recovery',\n",
       " 'swapfile.sys',\n",
       " 'System Volume Information',\n",
       " 'Users',\n",
       " 'Windows']"
      ]
     },
     "execution_count": 20,
     "metadata": {},
     "output_type": "execute_result"
    }
   ],
   "source": [
    "os.listdir('C://')"
   ]
  },
  {
   "cell_type": "code",
   "execution_count": 32,
   "id": "3646fc32-9612-4020-b483-f3a6f66199dd",
   "metadata": {},
   "outputs": [],
   "source": [
    "import shutil"
   ]
  },
  {
   "cell_type": "code",
   "execution_count": 33,
   "id": "6974ffd8-a216-4335-9ee7-3436f5175d02",
   "metadata": {},
   "outputs": [],
   "source": [
    "f = open('test_file.txt','w+')\n",
    "f.write(\"I am test file.\")\n",
    "f.close()"
   ]
  },
  {
   "cell_type": "code",
   "execution_count": 34,
   "id": "527ab2d3-640c-4169-a1e3-b1b0c125a49a",
   "metadata": {},
   "outputs": [
    {
     "name": "stdout",
     "output_type": "stream",
     "text": [
      "D:\\Python Course\\Python Files - Tutorials\n",
      "True\n"
     ]
    }
   ],
   "source": [
    "print(os.getcwd())                \n",
    "print(os.path.exists(\"test_file.txt\")) "
   ]
  },
  {
   "cell_type": "code",
   "execution_count": 35,
   "id": "9e608d8e-ffa3-47cd-a44f-131440cd29a9",
   "metadata": {},
   "outputs": [
    {
     "data": {
      "text/plain": [
       "'E:\\\\GC Download\\\\Python-Packages\\\\test_file.txt'"
      ]
     },
     "execution_count": 35,
     "metadata": {},
     "output_type": "execute_result"
    }
   ],
   "source": [
    "shutil.move('test_file.txt','E:\\GC Download\\Python-Packages')   "
   ]
  },
  {
   "cell_type": "code",
   "execution_count": 38,
   "id": "4d2c786b-9427-443f-8a4f-cc8a342d91bd",
   "metadata": {},
   "outputs": [
    {
     "name": "stdout",
     "output_type": "stream",
     "text": [
      "Requirement already satisfied: send2trash in c:\\users\\basitsachinwala\\anaconda3\\lib\\site-packages (1.8.2)\n"
     ]
    }
   ],
   "source": [
    "!pip install send2trash"
   ]
  },
  {
   "cell_type": "code",
   "execution_count": 39,
   "id": "8450ea69-f467-4c41-b15c-f6a2fdf64bf0",
   "metadata": {},
   "outputs": [],
   "source": [
    "import send2trash"
   ]
  },
  {
   "cell_type": "markdown",
   "id": "b10707d6-442b-4aa2-869a-430f50682bcb",
   "metadata": {},
   "source": [
    "- os.unlink(path) => delete files\n",
    "- os.rmdir(path)  => delte directories if it's empty\n",
    "- shutil.rmtree(path) => completely delete the files  <b>(Not Safe)</b>\n",
    "- pip install send2trash <b>(Safe)</b>"
   ]
  },
  {
   "cell_type": "code",
   "execution_count": 40,
   "id": "e1347d61-8aa8-40fd-b5e8-b36cfd2a2a5d",
   "metadata": {},
   "outputs": [],
   "source": [
    "send2trash.send2trash('E:\\\\GC Download\\\\Python-Packages\\\\test_file.txt')"
   ]
  },
  {
   "cell_type": "code",
   "execution_count": 43,
   "id": "9f7b483e-6f9f-49f5-aafa-79c998775abc",
   "metadata": {},
   "outputs": [
    {
     "data": {
      "text/plain": [
       "[]"
      ]
     },
     "execution_count": 43,
     "metadata": {},
     "output_type": "execute_result"
    }
   ],
   "source": [
    "os.listdir('E:\\\\GC Download\\\\Python-Packages')"
   ]
  },
  {
   "cell_type": "code",
   "execution_count": 45,
   "id": "588bc1d3-04c0-42ea-9f97-86543adcb916",
   "metadata": {},
   "outputs": [],
   "source": [
    "#os.walk(Path) ==> gives total folder, sub directory and file overview of path step  by step"
   ]
  },
  {
   "cell_type": "markdown",
   "id": "22c63a04-d629-4973-885b-c69b1ea3ff61",
   "metadata": {},
   "source": [
    "- ### <b>Date & Time</b>"
   ]
  },
  {
   "cell_type": "code",
   "execution_count": 46,
   "id": "4652c74a-443d-40be-a54a-2590cd1e19d8",
   "metadata": {},
   "outputs": [],
   "source": [
    "import datetime"
   ]
  },
  {
   "cell_type": "code",
   "execution_count": 49,
   "id": "3de4abd4-d8f4-4cc0-b9eb-bc5cb21deeda",
   "metadata": {},
   "outputs": [],
   "source": [
    "time_ = datetime.time(1,20,30,30)"
   ]
  },
  {
   "cell_type": "code",
   "execution_count": 56,
   "id": "856377ff-63b2-4590-84cc-9b73d429fc1c",
   "metadata": {},
   "outputs": [
    {
     "name": "stdout",
     "output_type": "stream",
     "text": [
      "01:20:30.000030\n",
      "1\n",
      "20\n",
      "30\n",
      "30\n"
     ]
    }
   ],
   "source": [
    "time_\n",
    "print(time_)\n",
    "print(time_.hour)\n",
    "print(time_.minute)\n",
    "print(time_.second)\n",
    "print(time_.microsecond)"
   ]
  },
  {
   "cell_type": "code",
   "execution_count": 57,
   "id": "67928d8a-1635-49ab-8b54-56ca633bd038",
   "metadata": {},
   "outputs": [
    {
     "name": "stdout",
     "output_type": "stream",
     "text": [
      "2025-07-10\n"
     ]
    }
   ],
   "source": [
    "today = datetime.date.today()\n",
    "print(today)"
   ]
  },
  {
   "cell_type": "code",
   "execution_count": 58,
   "id": "fa7f8f82-f910-4118-a417-d469dd029b4f",
   "metadata": {},
   "outputs": [
    {
     "data": {
      "text/plain": [
       "'Thu Jul 10 00:00:00 2025'"
      ]
     },
     "execution_count": 58,
     "metadata": {},
     "output_type": "execute_result"
    }
   ],
   "source": [
    "today.ctime()"
   ]
  },
  {
   "cell_type": "code",
   "execution_count": 60,
   "id": "b80a38ee-768b-4cce-9355-ea40f0262758",
   "metadata": {},
   "outputs": [],
   "source": [
    "from datetime import datetime"
   ]
  },
  {
   "cell_type": "code",
   "execution_count": 61,
   "id": "aa0af315-d1f7-43ac-a81d-d24cae118b9e",
   "metadata": {},
   "outputs": [],
   "source": [
    "my_date = datetime(2025,8,20,14,20,1)"
   ]
  },
  {
   "cell_type": "code",
   "execution_count": 62,
   "id": "7fb33b13-650a-450e-bfcf-5a1f7fcb6190",
   "metadata": {},
   "outputs": [
    {
     "name": "stdout",
     "output_type": "stream",
     "text": [
      "2025-08-20 14:20:01\n"
     ]
    }
   ],
   "source": [
    "print(my_date)"
   ]
  },
  {
   "cell_type": "code",
   "execution_count": 63,
   "id": "5050b5c5-1d18-4522-9117-e54422ec9ed2",
   "metadata": {},
   "outputs": [
    {
     "data": {
      "text/plain": [
       "datetime.datetime(2026, 8, 20, 14, 20, 1)"
      ]
     },
     "execution_count": 63,
     "metadata": {},
     "output_type": "execute_result"
    }
   ],
   "source": [
    "my_date.replace(year=2026)"
   ]
  },
  {
   "cell_type": "code",
   "execution_count": 64,
   "id": "62095c5d-5ff5-409e-ad65-f9362fee5ea1",
   "metadata": {},
   "outputs": [],
   "source": [
    "from datetime import date"
   ]
  },
  {
   "cell_type": "code",
   "execution_count": 65,
   "id": "2f406624-377d-4dac-844a-ca9d2b2edc27",
   "metadata": {},
   "outputs": [],
   "source": [
    "date1 = date(2025,11,3)\n",
    "date2 = date(2026,11,3)"
   ]
  },
  {
   "cell_type": "code",
   "execution_count": 66,
   "id": "fe40fcfe-0b1e-4183-ad2f-2a61da9fa109",
   "metadata": {},
   "outputs": [],
   "source": [
    "diff = date2 - date1"
   ]
  },
  {
   "cell_type": "code",
   "execution_count": 67,
   "id": "284d5ca6-0c4b-4a16-9b93-7e9bbbd9cbef",
   "metadata": {},
   "outputs": [
    {
     "data": {
      "text/plain": [
       "365"
      ]
     },
     "execution_count": 67,
     "metadata": {},
     "output_type": "execute_result"
    }
   ],
   "source": [
    "diff.days"
   ]
  },
  {
   "cell_type": "markdown",
   "id": "81f2f099-38a6-4ad4-952c-37bef6a485a7",
   "metadata": {},
   "source": [
    "- ### <b>Math</b>"
   ]
  },
  {
   "cell_type": "code",
   "execution_count": 68,
   "id": "ee05edb9-2ce7-4ce3-9d5c-4f2a50d0308c",
   "metadata": {},
   "outputs": [],
   "source": [
    "import math"
   ]
  },
  {
   "cell_type": "code",
   "execution_count": 69,
   "id": "34eeff9c-12e7-4210-8e33-82a1d03c5ff1",
   "metadata": {},
   "outputs": [
    {
     "name": "stdout",
     "output_type": "stream",
     "text": [
      "Help on built-in module math:\n",
      "\n",
      "NAME\n",
      "    math\n",
      "\n",
      "DESCRIPTION\n",
      "    This module provides access to the mathematical functions\n",
      "    defined by the C standard.\n",
      "\n",
      "FUNCTIONS\n",
      "    acos(x, /)\n",
      "        Return the arc cosine (measured in radians) of x.\n",
      "\n",
      "        The result is between 0 and pi.\n",
      "\n",
      "    acosh(x, /)\n",
      "        Return the inverse hyperbolic cosine of x.\n",
      "\n",
      "    asin(x, /)\n",
      "        Return the arc sine (measured in radians) of x.\n",
      "\n",
      "        The result is between -pi/2 and pi/2.\n",
      "\n",
      "    asinh(x, /)\n",
      "        Return the inverse hyperbolic sine of x.\n",
      "\n",
      "    atan(x, /)\n",
      "        Return the arc tangent (measured in radians) of x.\n",
      "\n",
      "        The result is between -pi/2 and pi/2.\n",
      "\n",
      "    atan2(y, x, /)\n",
      "        Return the arc tangent (measured in radians) of y/x.\n",
      "\n",
      "        Unlike atan(y/x), the signs of both x and y are considered.\n",
      "\n",
      "    atanh(x, /)\n",
      "        Return the inverse hyperbolic tangent of x.\n",
      "\n",
      "    cbrt(x, /)\n",
      "        Return the cube root of x.\n",
      "\n",
      "    ceil(x, /)\n",
      "        Return the ceiling of x as an Integral.\n",
      "\n",
      "        This is the smallest integer >= x.\n",
      "\n",
      "    comb(n, k, /)\n",
      "        Number of ways to choose k items from n items without repetition and without order.\n",
      "\n",
      "        Evaluates to n! / (k! * (n - k)!) when k <= n and evaluates\n",
      "        to zero when k > n.\n",
      "\n",
      "        Also called the binomial coefficient because it is equivalent\n",
      "        to the coefficient of k-th term in polynomial expansion of the\n",
      "        expression (1 + x)**n.\n",
      "\n",
      "        Raises TypeError if either of the arguments are not integers.\n",
      "        Raises ValueError if either of the arguments are negative.\n",
      "\n",
      "    copysign(x, y, /)\n",
      "        Return a float with the magnitude (absolute value) of x but the sign of y.\n",
      "\n",
      "        On platforms that support signed zeros, copysign(1.0, -0.0)\n",
      "        returns -1.0.\n",
      "\n",
      "    cos(x, /)\n",
      "        Return the cosine of x (measured in radians).\n",
      "\n",
      "    cosh(x, /)\n",
      "        Return the hyperbolic cosine of x.\n",
      "\n",
      "    degrees(x, /)\n",
      "        Convert angle x from radians to degrees.\n",
      "\n",
      "    dist(p, q, /)\n",
      "        Return the Euclidean distance between two points p and q.\n",
      "\n",
      "        The points should be specified as sequences (or iterables) of\n",
      "        coordinates.  Both inputs must have the same dimension.\n",
      "\n",
      "        Roughly equivalent to:\n",
      "            sqrt(sum((px - qx) ** 2.0 for px, qx in zip(p, q)))\n",
      "\n",
      "    erf(x, /)\n",
      "        Error function at x.\n",
      "\n",
      "    erfc(x, /)\n",
      "        Complementary error function at x.\n",
      "\n",
      "    exp(x, /)\n",
      "        Return e raised to the power of x.\n",
      "\n",
      "    exp2(x, /)\n",
      "        Return 2 raised to the power of x.\n",
      "\n",
      "    expm1(x, /)\n",
      "        Return exp(x)-1.\n",
      "\n",
      "        This function avoids the loss of precision involved in the direct evaluation of exp(x)-1 for small x.\n",
      "\n",
      "    fabs(x, /)\n",
      "        Return the absolute value of the float x.\n",
      "\n",
      "    factorial(n, /)\n",
      "        Find n!.\n",
      "\n",
      "    floor(x, /)\n",
      "        Return the floor of x as an Integral.\n",
      "\n",
      "        This is the largest integer <= x.\n",
      "\n",
      "    fma(x, y, z, /)\n",
      "        Fused multiply-add operation.\n",
      "\n",
      "        Compute (x * y) + z with a single round.\n",
      "\n",
      "    fmod(x, y, /)\n",
      "        Return fmod(x, y), according to platform C.\n",
      "\n",
      "        x % y may differ.\n",
      "\n",
      "    frexp(x, /)\n",
      "        Return the mantissa and exponent of x, as pair (m, e).\n",
      "\n",
      "        m is a float and e is an int, such that x = m * 2.**e.\n",
      "        If x is 0, m and e are both 0.  Else 0.5 <= abs(m) < 1.0.\n",
      "\n",
      "    fsum(seq, /)\n",
      "        Return an accurate floating-point sum of values in the iterable seq.\n",
      "\n",
      "        Assumes IEEE-754 floating-point arithmetic.\n",
      "\n",
      "    gamma(x, /)\n",
      "        Gamma function at x.\n",
      "\n",
      "    gcd(*integers)\n",
      "        Greatest Common Divisor.\n",
      "\n",
      "    hypot(...)\n",
      "        hypot(*coordinates) -> value\n",
      "\n",
      "        Multidimensional Euclidean distance from the origin to a point.\n",
      "\n",
      "        Roughly equivalent to:\n",
      "            sqrt(sum(x**2 for x in coordinates))\n",
      "\n",
      "        For a two dimensional point (x, y), gives the hypotenuse\n",
      "        using the Pythagorean theorem:  sqrt(x*x + y*y).\n",
      "\n",
      "        For example, the hypotenuse of a 3/4/5 right triangle is:\n",
      "\n",
      "            >>> hypot(3.0, 4.0)\n",
      "            5.0\n",
      "\n",
      "    isclose(a, b, *, rel_tol=1e-09, abs_tol=0.0)\n",
      "        Determine whether two floating-point numbers are close in value.\n",
      "\n",
      "          rel_tol\n",
      "            maximum difference for being considered \"close\", relative to the\n",
      "            magnitude of the input values\n",
      "          abs_tol\n",
      "            maximum difference for being considered \"close\", regardless of the\n",
      "            magnitude of the input values\n",
      "\n",
      "        Return True if a is close in value to b, and False otherwise.\n",
      "\n",
      "        For the values to be considered close, the difference between them\n",
      "        must be smaller than at least one of the tolerances.\n",
      "\n",
      "        -inf, inf and NaN behave similarly to the IEEE 754 Standard.  That\n",
      "        is, NaN is not close to anything, even itself.  inf and -inf are\n",
      "        only close to themselves.\n",
      "\n",
      "    isfinite(x, /)\n",
      "        Return True if x is neither an infinity nor a NaN, and False otherwise.\n",
      "\n",
      "    isinf(x, /)\n",
      "        Return True if x is a positive or negative infinity, and False otherwise.\n",
      "\n",
      "    isnan(x, /)\n",
      "        Return True if x is a NaN (not a number), and False otherwise.\n",
      "\n",
      "    isqrt(n, /)\n",
      "        Return the integer part of the square root of the input.\n",
      "\n",
      "    lcm(*integers)\n",
      "        Least Common Multiple.\n",
      "\n",
      "    ldexp(x, i, /)\n",
      "        Return x * (2**i).\n",
      "\n",
      "        This is essentially the inverse of frexp().\n",
      "\n",
      "    lgamma(x, /)\n",
      "        Natural logarithm of absolute value of Gamma function at x.\n",
      "\n",
      "    log(...)\n",
      "        log(x, [base=math.e])\n",
      "        Return the logarithm of x to the given base.\n",
      "\n",
      "        If the base is not specified, returns the natural logarithm (base e) of x.\n",
      "\n",
      "    log10(x, /)\n",
      "        Return the base 10 logarithm of x.\n",
      "\n",
      "    log1p(x, /)\n",
      "        Return the natural logarithm of 1+x (base e).\n",
      "\n",
      "        The result is computed in a way which is accurate for x near zero.\n",
      "\n",
      "    log2(x, /)\n",
      "        Return the base 2 logarithm of x.\n",
      "\n",
      "    modf(x, /)\n",
      "        Return the fractional and integer parts of x.\n",
      "\n",
      "        Both results carry the sign of x and are floats.\n",
      "\n",
      "    nextafter(x, y, /, *, steps=None)\n",
      "        Return the floating-point value the given number of steps after x towards y.\n",
      "\n",
      "        If steps is not specified or is None, it defaults to 1.\n",
      "\n",
      "        Raises a TypeError, if x or y is not a double, or if steps is not an integer.\n",
      "        Raises ValueError if steps is negative.\n",
      "\n",
      "    perm(n, k=None, /)\n",
      "        Number of ways to choose k items from n items without repetition and with order.\n",
      "\n",
      "        Evaluates to n! / (n - k)! when k <= n and evaluates\n",
      "        to zero when k > n.\n",
      "\n",
      "        If k is not specified or is None, then k defaults to n\n",
      "        and the function returns n!.\n",
      "\n",
      "        Raises TypeError if either of the arguments are not integers.\n",
      "        Raises ValueError if either of the arguments are negative.\n",
      "\n",
      "    pow(x, y, /)\n",
      "        Return x**y (x to the power of y).\n",
      "\n",
      "    prod(iterable, /, *, start=1)\n",
      "        Calculate the product of all the elements in the input iterable.\n",
      "\n",
      "        The default start value for the product is 1.\n",
      "\n",
      "        When the iterable is empty, return the start value.  This function is\n",
      "        intended specifically for use with numeric values and may reject\n",
      "        non-numeric types.\n",
      "\n",
      "    radians(x, /)\n",
      "        Convert angle x from degrees to radians.\n",
      "\n",
      "    remainder(x, y, /)\n",
      "        Difference between x and the closest integer multiple of y.\n",
      "\n",
      "        Return x - n*y where n*y is the closest integer multiple of y.\n",
      "        In the case where x is exactly halfway between two multiples of\n",
      "        y, the nearest even value of n is used. The result is always exact.\n",
      "\n",
      "    sin(x, /)\n",
      "        Return the sine of x (measured in radians).\n",
      "\n",
      "    sinh(x, /)\n",
      "        Return the hyperbolic sine of x.\n",
      "\n",
      "    sqrt(x, /)\n",
      "        Return the square root of x.\n",
      "\n",
      "    sumprod(p, q, /)\n",
      "        Return the sum of products of values from two iterables p and q.\n",
      "\n",
      "        Roughly equivalent to:\n",
      "\n",
      "            sum(itertools.starmap(operator.mul, zip(p, q, strict=True)))\n",
      "\n",
      "        For float and mixed int/float inputs, the intermediate products\n",
      "        and sums are computed with extended precision.\n",
      "\n",
      "    tan(x, /)\n",
      "        Return the tangent of x (measured in radians).\n",
      "\n",
      "    tanh(x, /)\n",
      "        Return the hyperbolic tangent of x.\n",
      "\n",
      "    trunc(x, /)\n",
      "        Truncates the Real x to the nearest Integral toward 0.\n",
      "\n",
      "        Uses the __trunc__ magic method.\n",
      "\n",
      "    ulp(x, /)\n",
      "        Return the value of the least significant bit of the float x.\n",
      "\n",
      "DATA\n",
      "    e = 2.718281828459045\n",
      "    inf = inf\n",
      "    nan = nan\n",
      "    pi = 3.141592653589793\n",
      "    tau = 6.283185307179586\n",
      "\n",
      "FILE\n",
      "    (built-in)\n",
      "\n",
      "\n"
     ]
    }
   ],
   "source": [
    "help(math)"
   ]
  },
  {
   "cell_type": "code",
   "execution_count": 73,
   "id": "0eec2884-8aa3-45aa-8bf0-567848020ff1",
   "metadata": {},
   "outputs": [
    {
     "data": {
      "text/plain": [
       "5"
      ]
     },
     "execution_count": 73,
     "metadata": {},
     "output_type": "execute_result"
    }
   ],
   "source": [
    "value = 4.66\n",
    "math.ceil(value)"
   ]
  },
  {
   "cell_type": "code",
   "execution_count": 74,
   "id": "20d91ff1-733f-40b6-8797-0a1237d7ef31",
   "metadata": {},
   "outputs": [
    {
     "data": {
      "text/plain": [
       "4"
      ]
     },
     "execution_count": 74,
     "metadata": {},
     "output_type": "execute_result"
    }
   ],
   "source": [
    "math.floor(value)"
   ]
  },
  {
   "cell_type": "code",
   "execution_count": 75,
   "id": "cbce379a-7833-4fb3-92a3-cd8f17c9480a",
   "metadata": {},
   "outputs": [
    {
     "data": {
      "text/plain": [
       "5"
      ]
     },
     "execution_count": 75,
     "metadata": {},
     "output_type": "execute_result"
    }
   ],
   "source": [
    "round(value)"
   ]
  },
  {
   "cell_type": "code",
   "execution_count": 76,
   "id": "7411b0b4-3fe4-46f5-96d4-f5c83c19e35a",
   "metadata": {},
   "outputs": [
    {
     "data": {
      "text/plain": [
       "4"
      ]
     },
     "execution_count": 76,
     "metadata": {},
     "output_type": "execute_result"
    }
   ],
   "source": [
    "round(4.3)"
   ]
  },
  {
   "cell_type": "code",
   "execution_count": 77,
   "id": "16301ee0-9488-484d-bb98-32f15603fbab",
   "metadata": {},
   "outputs": [
    {
     "data": {
      "text/plain": [
       "3.141592653589793"
      ]
     },
     "execution_count": 77,
     "metadata": {},
     "output_type": "execute_result"
    }
   ],
   "source": [
    "math.pi"
   ]
  },
  {
   "cell_type": "code",
   "execution_count": 79,
   "id": "cbf38a74-9040-4a91-939b-3f666c9c09ab",
   "metadata": {},
   "outputs": [
    {
     "name": "stdout",
     "output_type": "stream",
     "text": [
      "2.718281828459045\n",
      "inf\n",
      "nan\n"
     ]
    }
   ],
   "source": [
    "print(math.e)\n",
    "print(math.inf)\n",
    "print(math.nan)"
   ]
  },
  {
   "cell_type": "code",
   "execution_count": 80,
   "id": "dc58f8c0-6f31-4f3d-9056-dd11e7e98944",
   "metadata": {},
   "outputs": [
    {
     "data": {
      "text/plain": [
       "1.0"
      ]
     },
     "execution_count": 80,
     "metadata": {},
     "output_type": "execute_result"
    }
   ],
   "source": [
    "math.log(math.e)"
   ]
  },
  {
   "cell_type": "code",
   "execution_count": 81,
   "id": "e92ca39a-8944-458f-b2f5-99c136d1e0fa",
   "metadata": {},
   "outputs": [
    {
     "data": {
      "text/plain": [
       "2.0"
      ]
     },
     "execution_count": 81,
     "metadata": {},
     "output_type": "execute_result"
    }
   ],
   "source": [
    "math.log(100,10)"
   ]
  },
  {
   "cell_type": "code",
   "execution_count": 84,
   "id": "b83f7e32-2c40-4325-938e-3d9edec5ca1a",
   "metadata": {},
   "outputs": [
    {
     "data": {
      "text/plain": [
       "90.0"
      ]
     },
     "execution_count": 84,
     "metadata": {},
     "output_type": "execute_result"
    }
   ],
   "source": [
    "math.degrees(math.pi/2)"
   ]
  },
  {
   "cell_type": "code",
   "execution_count": 85,
   "id": "0de927ac-800d-48bc-a6f1-044b60b1e659",
   "metadata": {},
   "outputs": [
    {
     "data": {
      "text/plain": [
       "1.0"
      ]
     },
     "execution_count": 85,
     "metadata": {},
     "output_type": "execute_result"
    }
   ],
   "source": [
    "math.sin(math.pi/2)"
   ]
  },
  {
   "cell_type": "code",
   "execution_count": 86,
   "id": "1eaa07d8-2114-4fe8-9a66-a06019ab6d00",
   "metadata": {},
   "outputs": [
    {
     "data": {
      "text/plain": [
       "0.017453292519943295"
      ]
     },
     "execution_count": 86,
     "metadata": {},
     "output_type": "execute_result"
    }
   ],
   "source": [
    "math.radians(1)"
   ]
  },
  {
   "cell_type": "code",
   "execution_count": 87,
   "id": "c110026e-518b-4651-bfe4-6a2f65eddb7d",
   "metadata": {},
   "outputs": [],
   "source": [
    "import random"
   ]
  },
  {
   "cell_type": "code",
   "execution_count": 91,
   "id": "5a560724-99ee-4856-a94d-9eff323293b0",
   "metadata": {},
   "outputs": [
    {
     "data": {
      "text/plain": [
       "16"
      ]
     },
     "execution_count": 91,
     "metadata": {},
     "output_type": "execute_result"
    }
   ],
   "source": [
    "random.randint(1,100)"
   ]
  },
  {
   "cell_type": "code",
   "execution_count": 97,
   "id": "529ed368-a7c0-4d4e-8aa9-88ddfb041dfa",
   "metadata": {},
   "outputs": [
    {
     "data": {
      "text/plain": [
       "75"
      ]
     },
     "execution_count": 97,
     "metadata": {},
     "output_type": "execute_result"
    }
   ],
   "source": [
    "random.seed(101) ## people use seed as 101 or 47\n",
    "random.randint(1,100)  ## answer will always remain 75 in one cell"
   ]
  },
  {
   "cell_type": "code",
   "execution_count": 99,
   "id": "d209ca8b-9512-413a-910e-443b84002afb",
   "metadata": {},
   "outputs": [],
   "source": [
    "my_list = list(range(1,10))"
   ]
  },
  {
   "cell_type": "code",
   "execution_count": 100,
   "id": "398a6bd4-b845-4a00-804c-e1aa3aaa7d11",
   "metadata": {},
   "outputs": [
    {
     "name": "stdout",
     "output_type": "stream",
     "text": [
      "4\n"
     ]
    }
   ],
   "source": [
    "print(random.choice(my_list))"
   ]
  },
  {
   "cell_type": "code",
   "execution_count": 103,
   "id": "fd2211da-b674-4a95-88b6-7d480a897d12",
   "metadata": {},
   "outputs": [
    {
     "name": "stdout",
     "output_type": "stream",
     "text": [
      "[2, 8, 3, 8, 4]\n"
     ]
    }
   ],
   "source": [
    "print(random.choices(population=my_list,k=5)) ## with replacement"
   ]
  },
  {
   "cell_type": "code",
   "execution_count": 104,
   "id": "dfd6dade-1032-4cad-85e5-fbda23552645",
   "metadata": {},
   "outputs": [
    {
     "name": "stdout",
     "output_type": "stream",
     "text": [
      "[2, 7, 4, 3, 9]\n"
     ]
    }
   ],
   "source": [
    "print(random.sample(population=my_list,k=5)) ## without replacement"
   ]
  },
  {
   "cell_type": "code",
   "execution_count": 108,
   "id": "9c46073d-c719-439d-9e07-6cf3740b9a40",
   "metadata": {},
   "outputs": [
    {
     "data": {
      "text/plain": [
       "66.81432024410552"
      ]
     },
     "execution_count": 108,
     "metadata": {},
     "output_type": "execute_result"
    }
   ],
   "source": [
    "random.uniform(a=1,b=100)"
   ]
  },
  {
   "cell_type": "code",
   "execution_count": 110,
   "id": "798437ca-02e9-409d-83d8-5307cd7518c6",
   "metadata": {},
   "outputs": [
    {
     "data": {
      "text/plain": [
       "-0.6745635046111472"
      ]
     },
     "execution_count": 110,
     "metadata": {},
     "output_type": "execute_result"
    }
   ],
   "source": [
    "random.gauss(mu=0,sigma=1)"
   ]
  },
  {
   "cell_type": "markdown",
   "id": "4d07ed91-6775-4199-b197-580f77164459",
   "metadata": {},
   "source": [
    "- ### <b>Debugger</b>"
   ]
  },
  {
   "cell_type": "code",
   "execution_count": 111,
   "id": "bd1524b8-c5f4-4a46-ba5c-4d936de01b7e",
   "metadata": {},
   "outputs": [],
   "source": [
    "import pdb"
   ]
  },
  {
   "cell_type": "code",
   "execution_count": 112,
   "id": "bb8117ba-cac8-4751-bb81-4c235a0ada28",
   "metadata": {},
   "outputs": [
    {
     "name": "stdout",
     "output_type": "stream",
     "text": [
      "> \u001b[1;32mc:\\users\\basitsachinwala\\appdata\\local\\temp\\ipykernel_4880\\1643053581.py\u001b[0m(5)\u001b[0;36m<module>\u001b[1;34m()\u001b[0m\n",
      "\n"
     ]
    },
    {
     "name": "stdin",
     "output_type": "stream",
     "text": [
      "ipdb>  y\n"
     ]
    },
    {
     "name": "stdout",
     "output_type": "stream",
     "text": [
      "3\n"
     ]
    },
    {
     "name": "stdin",
     "output_type": "stream",
     "text": [
      "ipdb>  ans1\n"
     ]
    },
    {
     "name": "stdout",
     "output_type": "stream",
     "text": [
      "7\n"
     ]
    },
    {
     "name": "stdin",
     "output_type": "stream",
     "text": [
      "ipdb>  ans2\n"
     ]
    },
    {
     "name": "stdout",
     "output_type": "stream",
     "text": [
      "*** NameError: name 'ans2' is not defined\n"
     ]
    },
    {
     "name": "stdin",
     "output_type": "stream",
     "text": [
      "ipdb>  q\n"
     ]
    }
   ],
   "source": [
    "x = [1,2,3]\n",
    "y = 3 \n",
    "z = 4\n",
    "ans1 = y + z\n",
    "pdb.set_trace()\n",
    "ans2 = x + y"
   ]
  },
  {
   "cell_type": "markdown",
   "id": "5323c3f2-f083-434c-88c9-7d1e6aa97d5a",
   "metadata": {},
   "source": [
    "- ### <b>RegEx in Python</b>"
   ]
  },
  {
   "cell_type": "code",
   "execution_count": null,
   "id": "2e1908a6-4a33-4ffa-bb40-dbc28f32d588",
   "metadata": {},
   "outputs": [],
   "source": []
  }
 ],
 "metadata": {
  "kernelspec": {
   "display_name": "Python 3 (ipykernel)",
   "language": "python",
   "name": "python3"
  },
  "language_info": {
   "codemirror_mode": {
    "name": "ipython",
    "version": 3
   },
   "file_extension": ".py",
   "mimetype": "text/x-python",
   "name": "python",
   "nbconvert_exporter": "python",
   "pygments_lexer": "ipython3",
   "version": "3.13.5"
  }
 },
 "nbformat": 4,
 "nbformat_minor": 5
}
