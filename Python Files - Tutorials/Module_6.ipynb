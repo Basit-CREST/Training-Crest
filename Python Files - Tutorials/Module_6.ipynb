{
 "cells": [
  {
   "cell_type": "markdown",
   "id": "73013d0a-79aa-4970-a6ad-c7ea1b94b618",
   "metadata": {
    "jp-MarkdownHeadingCollapsed": true
   },
   "source": [
    "# Functions"
   ]
  },
  {
   "cell_type": "code",
   "execution_count": 6,
   "id": "cd6c30e5-c3f4-45a2-bf75-95385d231f4f",
   "metadata": {},
   "outputs": [
    {
     "name": "stdout",
     "output_type": "stream",
     "text": [
      "My name is Heisenberg\n",
      "My name is default\n"
     ]
    }
   ],
   "source": [
    "def say_my_name(name=\"default\"):\n",
    "    print('My name is '+name)\n",
    "say_my_name('Heisenberg')\n",
    "say_my_name()"
   ]
  },
  {
   "cell_type": "code",
   "execution_count": 14,
   "id": "ca42ddf9-4f9e-42b6-b1ac-072a52335a6f",
   "metadata": {},
   "outputs": [
    {
     "name": "stdout",
     "output_type": "stream",
     "text": [
      "30\n"
     ]
    }
   ],
   "source": [
    "def add_me(x,y):\n",
    "    return x + y\n",
    "ans = add_me(10,20)\n",
    "print(ans)"
   ]
  },
  {
   "cell_type": "code",
   "execution_count": 15,
   "id": "bb125237-a564-4514-b071-868f4261d26c",
   "metadata": {},
   "outputs": [
    {
     "name": "stdout",
     "output_type": "stream",
     "text": [
      "30\n",
      "None\n"
     ]
    }
   ],
   "source": [
    "def add_me_again(x,y):\n",
    "    print(x + y)\n",
    "#add_me_again(10,20)\n",
    "print(add_me_again(10,20))"
   ]
  },
  {
   "cell_type": "code",
   "execution_count": 12,
   "id": "3427674a-32c4-4ef6-aa5f-11abe4563c08",
   "metadata": {},
   "outputs": [
    {
     "data": {
      "text/plain": [
       "function"
      ]
     },
     "execution_count": 12,
     "metadata": {},
     "output_type": "execute_result"
    }
   ],
   "source": [
    "type(add_me)"
   ]
  },
  {
   "cell_type": "code",
   "execution_count": 16,
   "id": "00c41ab5-d9b1-4fa9-823f-cdcba4ed2f5e",
   "metadata": {},
   "outputs": [
    {
     "name": "stdout",
     "output_type": "stream",
     "text": [
      "ime\n"
     ]
    }
   ],
   "source": [
    "ans1 = add_me('i','me')\n",
    "print(ans1)"
   ]
  },
  {
   "cell_type": "code",
   "execution_count": 18,
   "id": "a05af60f-e968-482e-a0c3-b38596e7e86d",
   "metadata": {},
   "outputs": [
    {
     "name": "stdout",
     "output_type": "stream",
     "text": [
      "[2, 4, 6, 8]\n"
     ]
    }
   ],
   "source": [
    "def check_even(list):\n",
    "    new_list = []\n",
    "    for i in list:\n",
    "        if i % 2 == 0:\n",
    "            new_list.append(i)\n",
    "    print(new_list)\n",
    "check_even([1,2,3,4,5,6,7,8,9])"
   ]
  },
  {
   "cell_type": "code",
   "execution_count": 20,
   "id": "fba9c38f-6c63-4de6-a1d5-1fad14147b52",
   "metadata": {},
   "outputs": [
    {
     "name": "stdout",
     "output_type": "stream",
     "text": [
      "[2, 4, 6, 8]\n"
     ]
    }
   ],
   "source": [
    "list_1 = [1,2,3,4,5,6,7,8,9]\n",
    "print(list(filter(lambda x : x % 2 == 0 , list_1)))"
   ]
  },
  {
   "cell_type": "code",
   "execution_count": 29,
   "id": "526b9513-7572-4006-9cb3-4ce7b70767fa",
   "metadata": {},
   "outputs": [
    {
     "name": "stdout",
     "output_type": "stream",
     "text": [
      "Basit with an amazing working hour of 200\n"
     ]
    }
   ],
   "source": [
    "## employee of the month\n",
    "list_employee = [('Basit', 200),('Abby', 150),('Raj',190),('Vraj',120)]\n",
    "\n",
    "def winner(welcome):\n",
    "    winner_name = \"\"\n",
    "    winner_score = 0\n",
    "    for i,j in welcome:\n",
    "        if j > winner_score:\n",
    "            winner_score = j\n",
    "            winner_name = i\n",
    "    #return winner_name\n",
    "    return (winner_name,winner_score)\n",
    "winner_name,winner_score = winner(list_employee)\n",
    "print(winner_name+' with an amazing working hour of '+str(winner_score))"
   ]
  },
  {
   "cell_type": "code",
   "execution_count": 31,
   "id": "ee7f9303-8808-4759-b680-054911dfe6d9",
   "metadata": {},
   "outputs": [
    {
     "name": "stdin",
     "output_type": "stream",
     "text": [
      "Enter 1,2 or 3 8\n",
      "Enter 1,2 or 3 1\n"
     ]
    }
   ],
   "source": [
    "#guessing the input\n",
    "def give_me():\n",
    "    num = 0\n",
    "    while num not in [1,2,3]:\n",
    "        num = int(input(\"Enter 1,2 or 3\"))\n",
    "give_me()"
   ]
  },
  {
   "cell_type": "code",
   "execution_count": 40,
   "id": "b602f669-8bc2-4570-a48c-9be8c83fcf4d",
   "metadata": {},
   "outputs": [
    {
     "name": "stdout",
     "output_type": "stream",
     "text": [
      "['o', ' ', ' ']\n"
     ]
    }
   ],
   "source": [
    "from random import shuffle\n",
    "#shuffle string\n",
    "def shuffle_1(li):\n",
    "    shuffle(li)\n",
    "    return li\n",
    "y = shuffle_1([' ','o',' '])\n",
    "print(y)    "
   ]
  },
  {
   "cell_type": "code",
   "execution_count": 41,
   "id": "70662ab0-973e-4f21-9ccc-d1e6ae1f4303",
   "metadata": {},
   "outputs": [],
   "source": [
    "# make one function, person playing game like, shuffling and person guessing correct order"
   ]
  },
  {
   "cell_type": "code",
   "execution_count": 42,
   "id": "58e34e64-aece-42a5-a73e-137de25e73fb",
   "metadata": {},
   "outputs": [
    {
     "name": "stdout",
     "output_type": "stream",
     "text": [
      "45\n"
     ]
    }
   ],
   "source": [
    "#unlimited function argument \n",
    "def add_me(*i_am_number):\n",
    "    return sum(i_am_number)\n",
    "print(add_me(1,2,3,4,5,6,7,8,9))"
   ]
  },
  {
   "cell_type": "code",
   "execution_count": 54,
   "id": "23112899-76cf-4e9f-8bfc-7c7ad1b1c91b",
   "metadata": {},
   "outputs": [],
   "source": [
    "#unlimited key-word arguments\n",
    "def is_there_fruit(**fruits_hello):\n",
    "    if 'fruits' in fruits_hello:\n",
    "        print(\"ye rahe fruits {}\".format(fruits_hello['fruits']))\n"
   ]
  },
  {
   "cell_type": "code",
   "execution_count": 55,
   "id": "72378eb4-8d5a-4147-9e15-ea0ee985bbae",
   "metadata": {},
   "outputs": [
    {
     "name": "stdout",
     "output_type": "stream",
     "text": [
      "ye rahe fruits apple\n"
     ]
    }
   ],
   "source": [
    "is_there_fruit(fruits='apple',veggie='karela')"
   ]
  },
  {
   "cell_type": "markdown",
   "id": "10c5a14a-f96a-426a-827a-12088914f3d9",
   "metadata": {
    "jp-MarkdownHeadingCollapsed": true
   },
   "source": [
    "# Map & Filter Function"
   ]
  },
  {
   "cell_type": "code",
   "execution_count": 66,
   "id": "56cf3894-0e0c-46f1-a600-31dd363f0c89",
   "metadata": {},
   "outputs": [
    {
     "name": "stdout",
     "output_type": "stream",
     "text": [
      "[1, 4, 9, 16, 25, 36, 49, 64, 81]\n"
     ]
    }
   ],
   "source": [
    "# squring\n",
    "my_list = [1,2,3,4,5,6,7,8,9]\n",
    "list_2 = list(map(lambda x: x**2 , my_list))\n",
    "print(list_2)  ## map(function with some value in return,iteratable)"
   ]
  },
  {
   "cell_type": "code",
   "execution_count": 65,
   "id": "cc1723c1-5fb7-4c0f-9585-e6d57c77fa31",
   "metadata": {},
   "outputs": [
    {
     "name": "stdout",
     "output_type": "stream",
     "text": [
      "[2, 4, 6, 8]\n"
     ]
    }
   ],
   "source": [
    "list_3 = list(filter(lambda x : x % 2 == 0, my_list))\n",
    "print(list_3) ## filter(function which return boolean , iteratable)"
   ]
  },
  {
   "cell_type": "code",
   "execution_count": 69,
   "id": "247aa6d6-876e-465a-8d7f-2c35151a034c",
   "metadata": {},
   "outputs": [
    {
     "name": "stdout",
     "output_type": "stream",
     "text": [
      "[4, 16, 36, 64]\n"
     ]
    }
   ],
   "source": [
    "squared_evens = list(map(lambda x: x**2, filter(lambda x: x % 2 == 0, my_list)))\n",
    "print(squared_evens)  ##using both together "
   ]
  },
  {
   "cell_type": "markdown",
   "id": "e60b89c2-7031-4a3c-b2eb-180d9f8759ce",
   "metadata": {
    "jp-MarkdownHeadingCollapsed": true
   },
   "source": [
    "# Nested Statements and Scope"
   ]
  },
  {
   "cell_type": "code",
   "execution_count": 77,
   "id": "dc4ddf0d-649a-461c-a292-c51a1bde3ed7",
   "metadata": {},
   "outputs": [],
   "source": [
    "my_string = \"Monkey\"  ## global\n",
    "def outter():\n",
    "    my_string = \"Donkey\"  ##enclosing\n",
    "\n",
    "    def printer():\n",
    "        my_string = \"Girrafe\" ##local\n",
    "        print(my_string)\n",
    "    printer()"
   ]
  },
  {
   "cell_type": "code",
   "execution_count": 78,
   "id": "92d37075-02f7-4e56-9d03-37b06597dc08",
   "metadata": {},
   "outputs": [
    {
     "name": "stdout",
     "output_type": "stream",
     "text": [
      "Girrafe\n"
     ]
    }
   ],
   "source": [
    "outter()"
   ]
  },
  {
   "cell_type": "markdown",
   "id": "b5cedf11-fe4e-4d4c-8187-2e39cf8ad2bd",
   "metadata": {},
   "source": [
    "#### L - Local\n",
    "#### E - Enclosing \n",
    "#### G - Global\n",
    "#### B - Built in function"
   ]
  },
  {
   "cell_type": "code",
   "execution_count": null,
   "id": "76f4d859-a6ac-4b46-8304-2dc3900ca916",
   "metadata": {},
   "outputs": [],
   "source": []
  }
 ],
 "metadata": {
  "kernelspec": {
   "display_name": "Python 3 (ipykernel)",
   "language": "python",
   "name": "python3"
  },
  "language_info": {
   "codemirror_mode": {
    "name": "ipython",
    "version": 3
   },
   "file_extension": ".py",
   "mimetype": "text/x-python",
   "name": "python",
   "nbconvert_exporter": "python",
   "pygments_lexer": "ipython3",
   "version": "3.13.5"
  }
 },
 "nbformat": 4,
 "nbformat_minor": 5
}
