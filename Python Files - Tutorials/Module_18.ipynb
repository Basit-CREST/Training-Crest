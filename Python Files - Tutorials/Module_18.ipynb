{
 "cells": [
  {
   "cell_type": "markdown",
   "id": "4623d673-7c6c-4582-956f-938c6f0c4764",
   "metadata": {},
   "source": [
    "# Sending Emails"
   ]
  },
  {
   "cell_type": "code",
   "execution_count": 53,
   "id": "f9eb5360-bffb-444a-a521-524b8616d642",
   "metadata": {},
   "outputs": [],
   "source": [
    "import smtplib"
   ]
  },
  {
   "cell_type": "code",
   "execution_count": 54,
   "id": "2f62ea55-2f8c-49b4-85bc-8f0fd9581000",
   "metadata": {},
   "outputs": [],
   "source": [
    "smtp_object = smtplib.SMTP('smtp.gmail.com',587) ## we can use 465 instead of 587 port number or none"
   ]
  },
  {
   "cell_type": "code",
   "execution_count": 55,
   "id": "16df0cb3-abfb-4d6a-958c-a9806edede5c",
   "metadata": {},
   "outputs": [
    {
     "data": {
      "text/plain": [
       "(250,\n",
       " b'smtp.gmail.com at your service, [123.201.110.130]\\nSIZE 36700160\\n8BITMIME\\nSTARTTLS\\nENHANCEDSTATUSCODES\\nPIPELINING\\nCHUNKING\\nSMTPUTF8')"
      ]
     },
     "execution_count": 55,
     "metadata": {},
     "output_type": "execute_result"
    }
   ],
   "source": [
    "smtp_object.ehlo()"
   ]
  },
  {
   "cell_type": "code",
   "execution_count": 56,
   "id": "60a89712-f2ec-4191-830f-87952f7c4ba2",
   "metadata": {},
   "outputs": [
    {
     "data": {
      "text/plain": [
       "(220, b'2.0.0 Ready to start TLS')"
      ]
     },
     "execution_count": 56,
     "metadata": {},
     "output_type": "execute_result"
    }
   ],
   "source": [
    "smtp_object.starttls() ## if we use port number 465 we can skip this step as 465 already have ssl"
   ]
  },
  {
   "cell_type": "code",
   "execution_count": 57,
   "id": "1bf9d45c-48b1-4ac1-8124-d9a3d674de27",
   "metadata": {},
   "outputs": [],
   "source": [
    "import getpass"
   ]
  },
  {
   "cell_type": "code",
   "execution_count": 58,
   "id": "c29c311a-7cdc-471b-bb46-4a6d8727e2ae",
   "metadata": {},
   "outputs": [
    {
     "name": "stdin",
     "output_type": "stream",
     "text": [
      "Enter password ········\n"
     ]
    }
   ],
   "source": [
    "app_password = getpass.getpass(\"Enter password\")"
   ]
  },
  {
   "cell_type": "code",
   "execution_count": 59,
   "id": "7c7ee0b5-d9f6-4f1a-8c0c-dbb2e19b1ea9",
   "metadata": {},
   "outputs": [
    {
     "name": "stdin",
     "output_type": "stream",
     "text": [
      "Enter Email ········\n"
     ]
    }
   ],
   "source": [
    "email = getpass.getpass(\"Enter Email\")"
   ]
  },
  {
   "cell_type": "code",
   "execution_count": 60,
   "id": "28a5eb8a-0aa0-4b96-ad31-5ea7a2b72429",
   "metadata": {},
   "outputs": [
    {
     "data": {
      "text/plain": [
       "(235, b'2.7.0 Accepted')"
      ]
     },
     "execution_count": 60,
     "metadata": {},
     "output_type": "execute_result"
    }
   ],
   "source": [
    "smtp_object.login(email,app_password)"
   ]
  },
  {
   "cell_type": "code",
   "execution_count": 61,
   "id": "82ef6a07-837c-4402-858d-654281619710",
   "metadata": {},
   "outputs": [
    {
     "name": "stdin",
     "output_type": "stream",
     "text": [
      "Enter the Subject title Python\n",
      "Enter the body message Python Module 18\n"
     ]
    },
    {
     "data": {
      "text/plain": [
       "{}"
      ]
     },
     "execution_count": 61,
     "metadata": {},
     "output_type": "execute_result"
    }
   ],
   "source": [
    "from_address = email\n",
    "to_adress = email\n",
    "subject = input(\"Enter the Subject title\")\n",
    "Body_msg = input(\"Enter the body message\")\n",
    "msg = \"Subject \" + subject + \"\\n\" + Body_msg\n",
    "\n",
    "smtp_object.sendmail(from_address,to_adress,msg)"
   ]
  },
  {
   "cell_type": "code",
   "execution_count": 72,
   "id": "702a1cfe-a5ff-4a8f-a953-6be2d8b66b7c",
   "metadata": {},
   "outputs": [
    {
     "name": "stdin",
     "output_type": "stream",
     "text": [
      "Enter the subject:  Python\n",
      "Enter the body message:  Finally, It's Done!\n"
     ]
    },
    {
     "data": {
      "text/plain": [
       "(221,\n",
       " b'2.0.0 closing connection 98e67ed59e1d1-31c3eb45c7csm9982820a91.25 - gsmtp')"
      ]
     },
     "execution_count": 72,
     "metadata": {},
     "output_type": "execute_result"
    }
   ],
   "source": [
    "import smtplib\n",
    "from email.mime.text import MIMEText\n",
    "from email.mime.multipart import MIMEMultipart\n",
    "\n",
    "from_address = email\n",
    "to_address = email\n",
    "subject = input(\"Enter the subject: \")\n",
    "body = input(\"Enter the body message: \")\n",
    "\n",
    "# Create the message\n",
    "msg = MIMEMultipart()\n",
    "msg['From'] = from_address\n",
    "msg['To'] = to_address\n",
    "msg['Subject'] = subject\n",
    "msg.attach(MIMEText(body, 'plain'))\n",
    "\n",
    "# Send it using SMTP (example with Gmail)\n",
    "smtp_object = smtplib.SMTP('smtp.gmail.com', 587)\n",
    "smtp_object.starttls()\n",
    "smtp_object.login(from_address, app_password)\n",
    "smtp_object.sendmail(from_address, to_address, msg.as_string())\n",
    "smtp_object.quit()\n"
   ]
  },
  {
   "cell_type": "code",
   "execution_count": 62,
   "id": "75616368-f7c0-40cc-ad8a-4936a6b7dbf2",
   "metadata": {},
   "outputs": [],
   "source": [
    "smtp_object.close()"
   ]
  },
  {
   "cell_type": "markdown",
   "id": "7a172345-e313-415f-80e2-fb1e7aa18b13",
   "metadata": {},
   "source": [
    "# Receiving Emails"
   ]
  },
  {
   "cell_type": "code",
   "execution_count": 76,
   "id": "787c84af-b608-4209-9f64-eba8ab9ac95f",
   "metadata": {},
   "outputs": [],
   "source": [
    "import imaplib"
   ]
  },
  {
   "cell_type": "code",
   "execution_count": 77,
   "id": "da4a9530-6e89-48dd-9137-5ec2606ec958",
   "metadata": {},
   "outputs": [],
   "source": [
    "M = imaplib.IMAP4_SSL('imap.gmail.com')"
   ]
  },
  {
   "cell_type": "code",
   "execution_count": 78,
   "id": "2b97fae5-9c58-486b-a416-f96ace7b3429",
   "metadata": {},
   "outputs": [
    {
     "data": {
      "text/plain": [
       "('OK', [b'basit.s@crestinfosystems.com authenticated (Success)'])"
      ]
     },
     "execution_count": 78,
     "metadata": {},
     "output_type": "execute_result"
    }
   ],
   "source": [
    "M.login(email,app_password)"
   ]
  },
  {
   "cell_type": "code",
   "execution_count": 79,
   "id": "a0b73436-d72a-4778-af8c-e92c1ca927b4",
   "metadata": {},
   "outputs": [
    {
     "data": {
      "text/plain": [
       "('OK',\n",
       " [b'(\\\\HasNoChildren) \"/\" \"INBOX\"',\n",
       "  b'(\\\\HasChildren \\\\Noselect) \"/\" \"[Gmail]\"',\n",
       "  b'(\\\\All \\\\HasNoChildren) \"/\" \"[Gmail]/All Mail\"',\n",
       "  b'(\\\\Drafts \\\\HasNoChildren) \"/\" \"[Gmail]/Drafts\"',\n",
       "  b'(\\\\HasNoChildren \\\\Important) \"/\" \"[Gmail]/Important\"',\n",
       "  b'(\\\\HasNoChildren \\\\Sent) \"/\" \"[Gmail]/Sent Mail\"',\n",
       "  b'(\\\\HasNoChildren \\\\Junk) \"/\" \"[Gmail]/Spam\"',\n",
       "  b'(\\\\Flagged \\\\HasNoChildren) \"/\" \"[Gmail]/Starred\"',\n",
       "  b'(\\\\HasNoChildren \\\\Trash) \"/\" \"[Gmail]/Trash\"'])"
      ]
     },
     "execution_count": 79,
     "metadata": {},
     "output_type": "execute_result"
    }
   ],
   "source": [
    "M.list()"
   ]
  },
  {
   "cell_type": "code",
   "execution_count": 80,
   "id": "26d55e67-6006-4ee8-b230-e0b12ada1f71",
   "metadata": {},
   "outputs": [
    {
     "data": {
      "text/plain": [
       "('OK', [b'25'])"
      ]
     },
     "execution_count": 80,
     "metadata": {},
     "output_type": "execute_result"
    }
   ],
   "source": [
    "M.select('inbox')"
   ]
  },
  {
   "cell_type": "markdown",
   "id": "b450def5-78ed-4ea4-a14d-13d1bf588886",
   "metadata": {},
   "source": [
    "| **Keyword**                         | **Definition**                                                                                                                                                                                   |\n",
    "|------------------------------------|--------------------------------------------------------------------------------------------------------------------------------------------------------------------------------------------------|\n",
    "| `ALL`                              | Returns all messages in your email folder. Often there are size limits from `imaplib`. To change these, use `imaplib._MAXLINE = 100` (or another number).                                       |\n",
    "| `BEFORE date`                      | Returns all messages **before** the date. Date must be formatted as `01-Nov-2000`.                                                                                                               |\n",
    "| `ON date`                          | Returns all messages **on** the specified date. Date must be formatted as `01-Nov-2000`.                                                                                                         |\n",
    "| `SINCE date`                       | Returns all messages **after** the date. Date must be formatted as `01-Nov-2000`.                                                                                                                |\n",
    "| `FROM some_string`                | Returns all messages from the sender. Can be an email like `FROM user@example.com` or a string like `FROM example`.                                                                             |\n",
    "| `TO some_string`                  | Returns all messages sent **to** a specific email address or string.                                                                                                                             |\n",
    "| `CC some_string` / `BCC some_string` | Returns all messages **carbon copied (CC)** or **blind carbon copied (BCC)** to the given string.                                                                                                 |\n",
    "| `SUBJECT string`, `BODY string`, `TEXT \"string with spaces\"` | Returns all messages with the string in the subject or body. Wrap phrases with spaces in double quotes.                                                   |\n",
    "| `SEEN`, `UNSEEN`                   | Returns messages that have been **read** or **unread**.                                                                                                                                          |\n",
    "| `ANSWERED`, `UNANSWERED`           | Returns messages that have been **replied to** or **not replied to**.                                                                                                                            |\n",
    "| `DELETED`, `UNDELETED`             | Returns messages that have been **deleted** or **not deleted**.                                                                                                                                  |\n"
   ]
  },
  {
   "cell_type": "code",
   "execution_count": 81,
   "id": "0881f10a-bece-48ec-b873-d002280935ba",
   "metadata": {},
   "outputs": [],
   "source": [
    "typ , data = M.search(None,'SUBJECT \"Python\"')"
   ]
  },
  {
   "cell_type": "code",
   "execution_count": 82,
   "id": "edf3c110-53fb-4f80-a1e1-08fda7734b24",
   "metadata": {},
   "outputs": [
    {
     "data": {
      "text/plain": [
       "'OK'"
      ]
     },
     "execution_count": 82,
     "metadata": {},
     "output_type": "execute_result"
    }
   ],
   "source": [
    "typ"
   ]
  },
  {
   "cell_type": "code",
   "execution_count": 83,
   "id": "bdddb8df-05f2-4eac-8b9e-7009336cdf84",
   "metadata": {},
   "outputs": [
    {
     "data": {
      "text/plain": [
       "[b'25']"
      ]
     },
     "execution_count": 83,
     "metadata": {},
     "output_type": "execute_result"
    }
   ],
   "source": [
    "data"
   ]
  },
  {
   "cell_type": "code",
   "execution_count": 84,
   "id": "c055fc09-2034-4407-a8b2-9425abed215b",
   "metadata": {},
   "outputs": [],
   "source": [
    "email_id = data[0]"
   ]
  },
  {
   "cell_type": "code",
   "execution_count": 87,
   "id": "d2eabdd6-d297-4944-8c6f-604f566afa58",
   "metadata": {},
   "outputs": [],
   "source": [
    "result, email_data = M.fetch(email_id,'(RFC822)')"
   ]
  },
  {
   "cell_type": "code",
   "execution_count": 90,
   "id": "3beffb91-0833-4481-bb60-9fdc036a10ac",
   "metadata": {},
   "outputs": [],
   "source": [
    "raw_eamil_data = email_data[0][1]"
   ]
  },
  {
   "cell_type": "code",
   "execution_count": 91,
   "id": "8134b663-5202-474d-bd1f-88f7024da779",
   "metadata": {},
   "outputs": [],
   "source": [
    "raw_email_string = raw_eamil_data.decode('utf-8')"
   ]
  },
  {
   "cell_type": "code",
   "execution_count": 93,
   "id": "e9f64629-2f0a-4f66-98ae-b402d3c3011c",
   "metadata": {},
   "outputs": [],
   "source": [
    "import email"
   ]
  },
  {
   "cell_type": "code",
   "execution_count": 94,
   "id": "8ac30fbf-f347-450c-a81f-19c371290307",
   "metadata": {},
   "outputs": [],
   "source": [
    "email_message = email.message_from_string(raw_email_string)"
   ]
  },
  {
   "cell_type": "code",
   "execution_count": 95,
   "id": "aab4035a-3442-46ac-b42a-0c128b3c6a91",
   "metadata": {},
   "outputs": [
    {
     "name": "stdout",
     "output_type": "stream",
     "text": [
      "b\"Finally, It's Done!\"\n"
     ]
    }
   ],
   "source": [
    "for part in email_message.walk():\n",
    "    if part.get_content_type() == 'text/plain':\n",
    "        body = part.get_payload(decode=True)\n",
    "        print(body)"
   ]
  }
 ],
 "metadata": {
  "kernelspec": {
   "display_name": "Python 3 (ipykernel)",
   "language": "python",
   "name": "python3"
  },
  "language_info": {
   "codemirror_mode": {
    "name": "ipython",
    "version": 3
   },
   "file_extension": ".py",
   "mimetype": "text/x-python",
   "name": "python",
   "nbconvert_exporter": "python",
   "pygments_lexer": "ipython3",
   "version": "3.13.5"
  }
 },
 "nbformat": 4,
 "nbformat_minor": 5
}
