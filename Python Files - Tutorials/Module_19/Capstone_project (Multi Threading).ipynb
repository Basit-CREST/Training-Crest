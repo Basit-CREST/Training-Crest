{
 "cells": [
  {
   "cell_type": "markdown",
   "id": "83bc39ce-15e9-469d-8cab-536224b2957d",
   "metadata": {},
   "source": [
    "# Multi-Threading"
   ]
  },
  {
   "cell_type": "code",
   "execution_count": 17,
   "id": "df51de61-e3c6-46c6-bd19-2af8dbf86eee",
   "metadata": {},
   "outputs": [],
   "source": [
    "import threading"
   ]
  },
  {
   "cell_type": "code",
   "execution_count": 18,
   "id": "8cb13355-7741-42f5-9204-8a4054c85a23",
   "metadata": {},
   "outputs": [],
   "source": [
    "import time"
   ]
  },
  {
   "cell_type": "code",
   "execution_count": 35,
   "id": "85c06899-891f-4a50-b577-3ed8d685ef88",
   "metadata": {},
   "outputs": [],
   "source": [
    "def number_listing():\n",
    "    for i in range(5):\n",
    "        print(i)\n",
    "        print(threading.current_thread().name)\n",
    "        time.sleep(2)"
   ]
  },
  {
   "cell_type": "code",
   "execution_count": 36,
   "id": "ced7f515-f2d5-4e08-a279-001a522d955a",
   "metadata": {},
   "outputs": [],
   "source": [
    "def string_listing():\n",
    "     for i in range(5):\n",
    "        print(\"1 2 3 4 5\")\n",
    "        print(threading.current_thread().name)\n",
    "        time.sleep(2)"
   ]
  },
  {
   "cell_type": "code",
   "execution_count": 37,
   "id": "a0a7e52a-18b5-4500-84e9-87137aa8863e",
   "metadata": {},
   "outputs": [],
   "source": [
    "thread1 = threading.Thread(target=number_listing,name=\"Number thread\")\n",
    "thread2 = threading.Thread(target=string_listing,name=\"String thread\")"
   ]
  },
  {
   "cell_type": "code",
   "execution_count": 38,
   "id": "36165937-44d0-47c7-89fa-5c0e1b9168ee",
   "metadata": {},
   "outputs": [
    {
     "name": "stdout",
     "output_type": "stream",
     "text": [
      "0\n",
      "Number thread\n",
      "1 2 3 4 5\n",
      "String thread\n",
      "1\n",
      "Number thread\n",
      "1 2 3 4 5\n",
      "String thread\n",
      "2\n",
      "Number thread\n",
      "1 2 3 4 5\n",
      "String thread\n",
      "3\n",
      "Number thread\n",
      "1 2 3 4 5\n",
      "String thread\n",
      "4\n",
      "Number thread\n",
      "1 2 3 4 5\n",
      "String thread\n"
     ]
    }
   ],
   "source": [
    "thread1.start()\n",
    "thread2.start()"
   ]
  },
  {
   "cell_type": "code",
   "execution_count": 39,
   "id": "5555be45-f48f-4e19-aecd-4cfa93a146db",
   "metadata": {},
   "outputs": [],
   "source": [
    "thread1.join()\n",
    "thread2.join()"
   ]
  },
  {
   "cell_type": "markdown",
   "id": "699782db-b57a-472c-a13e-7e135567d8b5",
   "metadata": {},
   "source": [
    "# Web-Scrapping using Multi threading"
   ]
  },
  {
   "cell_type": "code",
   "execution_count": 58,
   "id": "bc2e1d7f-24b9-4253-a43e-05debfc72fa5",
   "metadata": {},
   "outputs": [],
   "source": [
    "import requests"
   ]
  },
  {
   "cell_type": "code",
   "execution_count": 59,
   "id": "b1790daf-44f4-4ceb-bf78-f2c9fb4f5757",
   "metadata": {},
   "outputs": [],
   "source": [
    "import bs4"
   ]
  },
  {
   "cell_type": "code",
   "execution_count": 42,
   "id": "e022adb3-a5dc-456b-83ae-73e25fde2523",
   "metadata": {},
   "outputs": [],
   "source": [
    "base_url = \"https://books.toscrape.com/catalogue/page-{}.html\""
   ]
  },
  {
   "cell_type": "code",
   "execution_count": 45,
   "id": "d314f097-12e8-42ff-944f-dc1cc6b6cf94",
   "metadata": {},
   "outputs": [],
   "source": [
    "all_two_star_book = []"
   ]
  },
  {
   "cell_type": "code",
   "execution_count": 47,
   "id": "a24c48ed-7499-4c8a-99f8-8c1030ef2e84",
   "metadata": {},
   "outputs": [],
   "source": [
    "def scrapper(i):\n",
    "    content_3 = requests.get(base_url.format(i))\n",
    "    soup = bs4.BeautifulSoup(content_3.text,'lxml')\n",
    "    books = soup.select('.product_pod')\n",
    "    for book in books:\n",
    "        if len(book.select('.star-rating.Two')) != 0:\n",
    "            book_title = book.select('a')[1]['title']\n",
    "            all_two_star_book.append(book_title)"
   ]
  },
  {
   "cell_type": "code",
   "execution_count": 49,
   "id": "6f4a75c8-d367-43a9-8eb5-5524bd3baa4e",
   "metadata": {},
   "outputs": [],
   "source": [
    "threads = []"
   ]
  },
  {
   "cell_type": "code",
   "execution_count": 52,
   "id": "886a077a-08ce-4b15-95bc-b643958be048",
   "metadata": {},
   "outputs": [],
   "source": [
    "for i in range(1,51):\n",
    "    t = threading.Thread(target=scrapper,args=(i,))\n",
    "    threads.append(t)\n",
    "    t.start()"
   ]
  },
  {
   "cell_type": "code",
   "execution_count": 55,
   "id": "22eaae61-b1df-4949-8114-b22af53f97b2",
   "metadata": {},
   "outputs": [],
   "source": [
    "for t in threads:\n",
    "    t.join()"
   ]
  },
  {
   "cell_type": "code",
   "execution_count": 53,
   "id": "f3dd4b86-8614-4741-b70b-a793143a88ca",
   "metadata": {
    "scrolled": true
   },
   "outputs": [
    {
     "name": "stdout",
     "output_type": "stream",
     "text": [
      "['Frankenstein', 'Emma', 'More Than Music (Chasing the Dream #1)', 'Lowriders to the Center of the Earth (Lowriders in Space #2)', 'The Little Prince', 'The Last Girl (The Dominion Trilogy #1)', \"Miller's Valley\", \"Love That Boy: What Two Presidents, Eight Road Trips, and My Son Taught Me About a Parent's Expectations\", 'Left Behind (Left Behind #1)', 'Howl and Other Poems', 'And Then There Were None', 'A Storm of Swords (A Song of Ice and Fire #3)', 'The Suffragettes (Little Black Classics, #96)', 'Midnight Riot (Peter Grant/ Rivers of London - books #1)', 'Me Talk Pretty One Day', 'Manuscript Found in Accra', 'Lust & Wonder', \"Life, the Universe and Everything (Hitchhiker's Guide to the Galaxy #3)\", 'Life After Life', 'The Picture of Dorian Gray', 'The Name of God is Mercy', \"The Lover's Dictionary\", 'Girl in the Blue Coat', 'Fruits Basket, Vol. 3 (Fruits Basket #3)', 'Cosmos', 'The Lonely City: Adventures in the Art of Being Alone', 'The Dinner Party', 'Stars Above (The Lunar Chronicles #4.5)', 'Love, Lies and Spies', 'Taking Shots (Assassins #1)', 'Settling the Score (The Summer Games #1)', 'Rhythm, Chord & Malykhin', 'One Second (Seven #7)', 'Chasing Heaven: What Dying Taught Me About Living', 'Becoming Wise: An Inquiry into the Mystery and Art of Living', 'Beauty Restored (Riley Family Legacy Novellas #3)', 'Batman: The Long Halloween (Batman)', \"Ayumi's Violin\", 'Wild Swans', 'The Da Vinci Code (Robert Langdon #2)', 'The Cat in the Hat (Beginner Books B-1)', 'The Book Thief', 'The Autobiography of Malcolm X', \"Surely You're Joking, Mr. Feynman!: Adventures of a Curious Character\", 'Soldier (Talon #3)', 'A Game of Thrones (A Song of Ice and Fire #1)', \"The Pilgrim's Progress\", 'The Hound of the Baskervilles (Sherlock Holmes #5)', \"The Geography of Bliss: One Grump's Search for the Happiest Places in the World\", 'The Demonists (Demonist #1)', 'The Demon Prince of Momochi House, Vol. 4 (The Demon Prince of Momochi House #4)', 'Shopaholic & Baby (Shopaholic #5)', 'Vampire Girl (Vampire Girl #1)', 'Three Wishes (River of Time: California #1)', 'The Wicked + The Divine, Vol. 1: The Faust Act (The Wicked + The Divine)', 'The 5th Wave (The 5th Wave #1)', 'Peak: Secrets from the New Science of Expertise', 'Logan Kade (Fallen Crest High #5.5)', 'Like Never Before (Walker Family #2)', 'How to Be a Domestic Goddess: Baking and the Art of Comfort Cooking', 'Finding God in the Ruins: How God Redeems Pain', 'Chronicles, Vol. 1', 'Far From True (Promise Falls Trilogy #2)', 'Confessions of a Shopaholic (Shopaholic #1)', 'Misery', \"Old Records Never Die: One Man's Quest for His Vinyl and His Past\", 'Of Mice and Men', 'My Perfect Mistake (Over the Top #1)', 'Meditations', 'I Am Malala: The Girl Who Stood Up for Education and Was Shot by the Taliban', 'House of Lost Worlds: Dinosaurs, Dynasties, and the Story of Life on Earth', 'Horrible Bear!', 'Holidays on Ice', \"Chernobyl 01:23:40: The Incredible True Story of the World's Worst Nuclear Disaster\", '23 Degrees South: A Tropical Tale of Changing Whether...', 'When Breath Becomes Air', 'Vagabonding: An Uncommon Guide to the Art of Long-Term World Travel', 'The Martian (The Martian #1)', 'Mothering Sunday', 'Lilac Girls', '10% Happier: How I Tamed the Voice in My Head, Reduced Stress Without Losing My Edge, and Found Self-Help That Actually Works', 'Soul Reader', 'Security', 'Saga, Volume 5 (Saga (Collected Editions) #5)', 'Reskilling America: Learning to Labor in the Twenty-First Century', 'Vegan Vegetarian Omnivore: Dinner for Everyone at the Table', 'Two Boys Kissing', 'Twilight (Twilight #1)', 'Twenties Girl', 'The Tipping Point: How Little Things Can Make a Big Difference', 'The Stand', 'Reasons to Stay Alive', 'Without Borders (Wanderlove #1)', 'Carrie', 'Batman: Europa', 'Angels Walking (Angels Walking #1)', \"I Know Why the Caged Bird Sings (Maya Angelou's Autobiography #1)\", 'Drama', \"America's War for the Greater Middle East: A Military History\", 'Civilization and Its Discontents', \"Catastrophic Happiness: Finding Joy in Childhood's Messy Years\", 'Career of Evil (Cormoran Strike #3)', 'Born to Run: A Hidden Tribe, Superathletes, and the Greatest Race the World Has Never Seen', \"Best of My Love (Fool's Gold #20)\", 'Beowulf', 'Awkward', 'Louisa: The Extraordinary Life of Mrs. Adams', 'Large Print Heart of the Pride', 'Grumbles', \"Heaven is for Real: A Little Boy's Astounding Story of His Trip to Heaven and Back\", \"Brazen: The Courage to Find the You That's Been Hiding\", '32 Yolks', 'Wildlife of New York: A Five-Borough Coloring Book', 'Unreasonable Hope: Finding Faith in the God Who Brings Purpose to Your Pain', 'The Last Mile (Amos Decker #2)', 'The Immortal Life of Henrietta Lacks', 'The Hidden Oracle (The Trials of Apollo #1)', 'The Guilty (Will Robie #4)', 'Seven Days in the Art World', 'Rework', 'Packing for Mars: The Curious Science of Life in the Void', 'Orange Is the New Black', 'One for the Money (Stephanie Plum #1)', 'I Hate Fairyland, Vol. 1: Madly Ever After (I Hate Fairyland (Compilations) #1-5)', 'Giant Days, Vol. 2 (Giant Days #5-8)', 'Everydata: The Misinformation Hidden in the Little Data You Consume Every Day', \"Don't Be a Jerk: And Other Practical Advice from Dogen, Japan's Greatest Zen Master\", 'Bossypants', 'Bitch Planet, Vol. 1: Extraordinary Machine (Bitch Planet (Collected Editions))', 'Avatar: The Last Airbender: Smoke and Shadow, Part 3 (Smoke and Shadow #3)', 'Eat Fat, Get Thin', 'Doctor Sleep (The Shining #2)', 'Crazy Love: Overwhelmed by a Relentless God', 'A Summer In Europe', 'The Rise and Fall of the Third Reich: A History of Nazi Germany', 'The Makings of a Fatherless Child', 'The Fellowship of the Ring (The Lord of the Rings #1)', 'The Psychopath Test: A Journey Through the Madness Industry', 'The Power of Now: A Guide to Spiritual Enlightenment', \"The Omnivore's Dilemma: A Natural History of Four Meals\", 'The Love and Lemons Cookbook: An Apple-to-Zucchini Celebration of Impromptu Cooking', 'The Girl on the Train', 'The Emerald Mystery', 'The Argonauts', 'Suddenly in Love (Lake Haven #1)', 'Soft Apocalypse', \"So You've Been Publicly Shamed\", 'Shoe Dog: A Memoir by the Creator of NIKE', 'Troublemaker: Surviving Hollywood and Scientology', 'The Widow', 'Setting the World on Fire: The Brief, Astonishing Life of St. Catherine of Siena', 'Red Hood/Arsenal, Vol. 1: Open for Business (Red Hood/Arsenal #1)', 'Once Was a Time', 'No Dream Is Too High: Life Lessons From a Man Who Walked on the Moon', 'Naruto (3-in-1 Edition), Vol. 14: Includes Vols. 40, 41 & 42 (Naruto: Omnibus #14)', 'Underlying Notes', 'The Flowers Lied', 'Modern Day Fables', 'Why Save the Bankers?: And Other Essays on Our Economic and Political Crisis', 'The Raven King (The Raven Cycle #4)', 'The Expatriates', 'The Last Painting of Sara de Vos', 'The Guns of August', 'The Girl Who Played with Fire (Millennium Trilogy #2)', 'Adulthood Is a Myth: A \"Sarah\\'s Scribbles\" Collection', 'A Study in Scarlet (Sherlock Holmes #1)', 'A Series of Catastrophes and Miracles: A True Story of Love, Science, and Cancer', \"A People's History of the United States\", 'My Kitchen Year: 136 Recipes That Saved My Life', 'The Art Book', 'Steal Like an Artist: 10 Things Nobody Told You About Being Creative', 'Raymie Nightingale', 'Tuesday Nights in 1980', \"Tell the Wolves I'm Home\", 'In the Woods (Dublin Murder Squad #1)', 'Give It Back', \"What's It Like in Space?: Stories from Astronauts Who've Been There\", 'Until Friday Night (The Field Party #1)', 'Unbroken: A World War II Story of Survival, Resilience, and Redemption', 'Twenty Yawns', 'Through the Woods', 'This Is Where It Ends', 'The Year of Magical Thinking', 'Starving Hearts (Triangular Trade Trilogy, #1)', 'Libertarianism for Beginners', \"It's Only the Himalayas\", 'How Music Works', 'Maude (1883-1993):She Grew Up with the country', \"You can't bury them all: Poems\", 'Starving Hearts (Triangular Trade Trilogy, #1)', 'Libertarianism for Beginners', \"It's Only the Himalayas\", 'Reasons to Stay Alive', 'Without Borders (Wanderlove #1)', 'How Music Works', 'Maude (1883-1993):She Grew Up with the country', \"You can't bury them all: Poems\", 'The Argonauts', 'Suddenly in Love (Lake Haven #1)', 'Soft Apocalypse', \"So You've Been Publicly Shamed\", 'Shoe Dog: A Memoir by the Creator of NIKE', 'Like Never Before (Walker Family #2)', 'How to Be a Domestic Goddess: Baking and the Art of Comfort Cooking', 'Finding God in the Ruins: How God Redeems Pain', 'Chronicles, Vol. 1', 'Girl in the Blue Coat', 'Fruits Basket, Vol. 3 (Fruits Basket #3)', 'Cosmos', 'The Art Book', 'Steal Like an Artist: 10 Things Nobody Told You About Being Creative', 'Raymie Nightingale', 'The Little Prince', 'The Last Girl (The Dominion Trilogy #1)', 'Louisa: The Extraordinary Life of Mrs. Adams', 'Large Print Heart of the Pride', 'Grumbles', 'Vampire Girl (Vampire Girl #1)', 'Three Wishes (River of Time: California #1)', 'The Wicked + The Divine, Vol. 1: The Faust Act (The Wicked + The Divine)', 'Red Hood/Arsenal, Vol. 1: Open for Business (Red Hood/Arsenal #1)', 'Once Was a Time', 'No Dream Is Too High: Life Lessons From a Man Who Walked on the Moon', 'Naruto (3-in-1 Edition), Vol. 14: Includes Vols. 40, 41 & 42 (Naruto: Omnibus #14)', 'The 5th Wave (The 5th Wave #1)', 'Peak: Secrets from the New Science of Expertise', 'Logan Kade (Fallen Crest High #5.5)', \"Heaven is for Real: A Little Boy's Astounding Story of His Trip to Heaven and Back\", \"Brazen: The Courage to Find the You That's Been Hiding\", '32 Yolks', 'Wildlife of New York: A Five-Borough Coloring Book', 'Unreasonable Hope: Finding Faith in the God Who Brings Purpose to Your Pain', 'Soul Reader', 'Security', 'Saga, Volume 5 (Saga (Collected Editions) #5)', 'Reskilling America: Learning to Labor in the Twenty-First Century', 'The Da Vinci Code (Robert Langdon #2)', 'The Cat in the Hat (Beginner Books B-1)', 'The Book Thief', 'The Autobiography of Malcolm X', \"Surely You're Joking, Mr. Feynman!: Adventures of a Curious Character\", 'Soldier (Talon #3)', 'Shopaholic & Baby (Shopaholic #5)', 'Far From True (Promise Falls Trilogy #2)', 'Confessions of a Shopaholic (Shopaholic #1)', 'The Last Painting of Sara de Vos', 'The Guns of August', 'The Girl Who Played with Fire (Millennium Trilogy #2)', 'I Hate Fairyland, Vol. 1: Madly Ever After (I Hate Fairyland (Compilations) #1-5)', 'Giant Days, Vol. 2 (Giant Days #5-8)', 'Everydata: The Misinformation Hidden in the Little Data You Consume Every Day', \"Don't Be a Jerk: And Other Practical Advice from Dogen, Japan's Greatest Zen Master\", 'Bossypants', 'Bitch Planet, Vol. 1: Extraordinary Machine (Bitch Planet (Collected Editions))', 'Avatar: The Last Airbender: Smoke and Shadow, Part 3 (Smoke and Shadow #3)', \"Tell the Wolves I'm Home\", 'In the Woods (Dublin Murder Squad #1)', 'Give It Back', 'Chasing Heaven: What Dying Taught Me About Living', 'Becoming Wise: An Inquiry into the Mystery and Art of Living', 'Beauty Restored (Riley Family Legacy Novellas #3)', 'Batman: The Long Halloween (Batman)', \"Ayumi's Violin\", 'Wild Swans', \"I Know Why the Caged Bird Sings (Maya Angelou's Autobiography #1)\", 'Drama', \"America's War for the Greater Middle East: A Military History\", 'The Picture of Dorian Gray', 'The Name of God is Mercy', \"The Lover's Dictionary\", 'Eat Fat, Get Thin', 'Doctor Sleep (The Shining #2)', 'Crazy Love: Overwhelmed by a Relentless God', 'A Summer In Europe', 'The Rise and Fall of the Third Reich: A History of Nazi Germany', 'The Makings of a Fatherless Child', 'The Fellowship of the Ring (The Lord of the Rings #1)', \"What's It Like in Space?: Stories from Astronauts Who've Been There\", 'Until Friday Night (The Field Party #1)', 'Unbroken: A World War II Story of Survival, Resilience, and Redemption', 'Twenty Yawns', 'Through the Woods', 'This Is Where It Ends', 'The Year of Magical Thinking', 'Political Suicide: Missteps, Peccadilloes, Bad Calls, Backroom Hijinx, Sordid Pasts, Rotten Breaks, and Just Plain Dumb Mistakes in the Annals of American Politics', 'Obsidian (Lux #1)', 'My Paris Kitchen: Recipes and Stories', 'Masks and Shadows', 'Why Save the Bankers?: And Other Essays on Our Economic and Political Crisis', 'The Raven King (The Raven Cycle #4)', 'The Expatriates', 'Seven Days in the Art World', 'Rework', 'Packing for Mars: The Curious Science of Life in the Void', 'Orange Is the New Black', 'One for the Money (Stephanie Plum #1)', 'Lumberjanes, Vol. 2: Friendship to the Max (Lumberjanes #5-8)', 'Lumberjanes Vol. 3: A Terrible Plan (Lumberjanes #9-12)', 'Judo: Seven Steps to Black Belt (an Introductory Guide for Beginners)', 'The Psychopath Test: A Journey Through the Madness Industry', 'The Power of Now: A Guide to Spiritual Enlightenment', \"The Omnivore's Dilemma: A Natural History of Four Meals\", 'The Love and Lemons Cookbook: An Apple-to-Zucchini Celebration of Impromptu Cooking', 'The Girl on the Train', 'The Emerald Mystery', 'Frankenstein', 'Emma', 'And Then There Were None', 'A Storm of Swords (A Song of Ice and Fire #3)', 'The Suffragettes (Little Black Classics, #96)', 'Tuesday Nights in 1980', 'More Than Music (Chasing the Dream #1)', 'Lowriders to the Center of the Earth (Lowriders in Space #2)', \"Old Records Never Die: One Man's Quest for His Vinyl and His Past\", 'Of Mice and Men', 'My Perfect Mistake (Over the Top #1)', 'Meditations', 'A Game of Thrones (A Song of Ice and Fire #1)', \"The Pilgrim's Progress\", 'The Hound of the Baskervilles (Sherlock Holmes #5)', \"The Geography of Bliss: One Grump's Search for the Happiest Places in the World\", 'The Demonists (Demonist #1)', 'The Demon Prince of Momochi House, Vol. 4 (The Demon Prince of Momochi House #4)', 'Misery', 'Midnight Riot (Peter Grant/ Rivers of London - books #1)', 'Me Talk Pretty One Day', 'Manuscript Found in Accra', 'Lust & Wonder', \"Life, the Universe and Everything (Hitchhiker's Guide to the Galaxy #3)\", 'Life After Life', 'The Last Mile (Amos Decker #2)', 'The Immortal Life of Henrietta Lacks', 'The Hidden Oracle (The Trials of Apollo #1)', 'The Guilty (Will Robie #4)', 'Vegan Vegetarian Omnivore: Dinner for Everyone at the Table', 'Two Boys Kissing', 'Twilight (Twilight #1)', 'Twenties Girl', 'The Tipping Point: How Little Things Can Make a Big Difference', 'The Stand', 'I Am Malala: The Girl Who Stood Up for Education and Was Shot by the Taliban', 'House of Lost Worlds: Dinosaurs, Dynasties, and the Story of Life on Earth', 'Horrible Bear!', 'Holidays on Ice', 'Taking Shots (Assassins #1)', 'Settling the Score (The Summer Games #1)', 'Rhythm, Chord & Malykhin', 'One Second (Seven #7)', 'Civilization and Its Discontents', \"Catastrophic Happiness: Finding Joy in Childhood's Messy Years\", 'Career of Evil (Cormoran Strike #3)', 'Born to Run: A Hidden Tribe, Superathletes, and the Greatest Race the World Has Never Seen', \"Best of My Love (Fool's Gold #20)\", 'Beowulf', 'Awkward', 'Underlying Notes', 'The Flowers Lied', 'Modern Day Fables', 'The Lonely City: Adventures in the Art of Being Alone', 'The Dinner Party', 'Stars Above (The Lunar Chronicles #4.5)', 'Love, Lies and Spies', \"Chernobyl 01:23:40: The Incredible True Story of the World's Worst Nuclear Disaster\", '23 Degrees South: A Tropical Tale of Changing Whether...', 'When Breath Becomes Air', 'Vagabonding: An Uncommon Guide to the Art of Long-Term World Travel', 'The Martian (The Martian #1)', 'Troublemaker: Surviving Hollywood and Scientology', 'The Widow', 'Setting the World on Fire: The Brief, Astonishing Life of St. Catherine of Siena', 'Adulthood Is a Myth: A \"Sarah\\'s Scribbles\" Collection', 'A Study in Scarlet (Sherlock Holmes #1)', 'A Series of Catastrophes and Miracles: A True Story of Love, Science, and Cancer', \"A People's History of the United States\", 'My Kitchen Year: 136 Recipes That Saved My Life', 'Carrie', 'Batman: Europa', \"Miller's Valley\", \"Love That Boy: What Two Presidents, Eight Road Trips, and My Son Taught Me About a Parent's Expectations\", 'Left Behind (Left Behind #1)', 'Howl and Other Poems', 'Angels Walking (Angels Walking #1)', 'Mothering Sunday', 'Lilac Girls', '10% Happier: How I Tamed the Voice in My Head, Reduced Stress Without Losing My Edge, and Found Self-Help That Actually Works']\n"
     ]
    }
   ],
   "source": [
    "print(all_two_star_book)"
   ]
  },
  {
   "cell_type": "code",
   "execution_count": 54,
   "id": "af434f66-25c6-474b-9919-3cb39a68f0d3",
   "metadata": {},
   "outputs": [
    {
     "name": "stdout",
     "output_type": "stream",
     "text": [
      "385\n"
     ]
    }
   ],
   "source": [
    "print(len(all_two_star_book))"
   ]
  },
  {
   "cell_type": "markdown",
   "id": "7de92525-deea-414a-99f3-72149e3176bf",
   "metadata": {},
   "source": [
    "# Project"
   ]
  },
  {
   "cell_type": "code",
   "execution_count": 83,
   "id": "5b2e959e-114f-42b0-acc5-2e920c45466c",
   "metadata": {},
   "outputs": [],
   "source": [
    "def scrapper(url):\n",
    "    all_link = []\n",
    "    all_img = []\n",
    "    content_3 = requests.get(url)\n",
    "    soup = bs4.BeautifulSoup(content_3.text,'lxml')\n",
    "    \n",
    "    for link in soup.find_all('a'):\n",
    "        all_link.append(link.get('href'))\n",
    "        \n",
    "    for img in soup.find_all('img'):\n",
    "        all_img.append(img.get('src'))\n",
    "    print(url)\n",
    "    print(len(all_link))\n",
    "    print(len(all_img))\n",
    "        "
   ]
  },
  {
   "cell_type": "code",
   "execution_count": 84,
   "id": "2081226b-8333-4e46-8253-fb3912bb4601",
   "metadata": {},
   "outputs": [],
   "source": [
    "from concurrent.futures import ThreadPoolExecutor\n",
    "\n",
    "def run_scraper(urls, max_threads=5):\n",
    "    with ThreadPoolExecutor(max_workers=max_threads) as executor:\n",
    "        executor.map(scrapper, urls)\n"
   ]
  },
  {
   "cell_type": "code",
   "execution_count": 85,
   "id": "41ed6d83-c452-43ab-b45a-4a356781b874",
   "metadata": {},
   "outputs": [
    {
     "name": "stdout",
     "output_type": "stream",
     "text": [
      "https://en.wikipedia.org/wiki/Germany\n",
      "3733\n",
      "83\n",
      "https://en.wikipedia.org/wiki/France\n",
      "4886\n",
      "102\n",
      "https://en.wikipedia.org/wiki/Bulgaria\n",
      "4186\n",
      "75\n",
      "https://en.wikipedia.org/wiki/India\n",
      "5172\n",
      "125\n",
      "https://en.wikipedia.org/wiki/Japan\n",
      "4113\n",
      "69\n"
     ]
    }
   ],
   "source": [
    "urls = [\n",
    "    \"https://en.wikipedia.org/wiki/Bulgaria\",\n",
    "    \"https://en.wikipedia.org/wiki/Germany\",\n",
    "    \"https://en.wikipedia.org/wiki/France\",\n",
    "    \"https://en.wikipedia.org/wiki/India\",\n",
    "    \"https://en.wikipedia.org/wiki/Japan\"\n",
    "]\n",
    "\n",
    "run_scraper(urls, max_threads=3)  # adjust as needed\n"
   ]
  },
  {
   "cell_type": "code",
   "execution_count": null,
   "id": "b7be1437-a7ec-4fc9-a6f0-94f2925b389a",
   "metadata": {},
   "outputs": [],
   "source": []
  }
 ],
 "metadata": {
  "kernelspec": {
   "display_name": "Python 3 (ipykernel)",
   "language": "python",
   "name": "python3"
  },
  "language_info": {
   "codemirror_mode": {
    "name": "ipython",
    "version": 3
   },
   "file_extension": ".py",
   "mimetype": "text/x-python",
   "name": "python",
   "nbconvert_exporter": "python",
   "pygments_lexer": "ipython3",
   "version": "3.13.5"
  }
 },
 "nbformat": 4,
 "nbformat_minor": 5
}
