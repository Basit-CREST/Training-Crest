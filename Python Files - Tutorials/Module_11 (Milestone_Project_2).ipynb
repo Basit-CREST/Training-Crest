{
 "cells": [
  {
   "cell_type": "markdown",
   "id": "1064657f-3b91-4aeb-bbaa-9f7ff11250c5",
   "metadata": {},
   "source": [
    "# Blackjack Game"
   ]
  },
  {
   "cell_type": "code",
   "execution_count": 40,
   "id": "c61732e5-36fe-40ba-8c5e-57988f1d541c",
   "metadata": {},
   "outputs": [],
   "source": [
    "suits = [\"Spades\",\"Diamonds\",\"Hearts\",\"Clubs\"]\n",
    "ranks = [\"Two\",\"Three\",\"Four\",\"Five\",\"Six\",\"Seven\",\"Eight\",\"Nine\",\"Ten\",\"Jack\",\"Queen\",\"King\",\"Ace\"]\n",
    "values = {\"Two\" : 2 , \"Three\" : 3 , \"Four\": 4 , \"Five\" : 5 , \"Six\" : 6 , \"Seven\" : 7 , \"Eight\" : 8 , \"Nine\" : 9 , \"Ten\" : 10 ,\n",
    "           \"Jack\" : 10 , \"Queen\" : 10, \"King\" : 10 , \"Ace\" : 11}"
   ]
  },
  {
   "cell_type": "code",
   "execution_count": 41,
   "id": "18dd4a3b-97ac-4591-9a3f-8d8fbe9dd9a4",
   "metadata": {},
   "outputs": [],
   "source": [
    "class Card():\n",
    "    def __init__(self,suit,rank):\n",
    "        self.suit = suit\n",
    "        self.rank = rank\n",
    "\n",
    "    def __str__(self):\n",
    "        return f\"{self.rank} of {self.suit}\""
   ]
  },
  {
   "cell_type": "code",
   "execution_count": 42,
   "id": "354630bd-3b82-49e2-8b4f-361c066bc4c0",
   "metadata": {},
   "outputs": [],
   "source": [
    "import random"
   ]
  },
  {
   "cell_type": "code",
   "execution_count": 43,
   "id": "adcdb174-d110-46e6-8bbe-24f4d0df7b79",
   "metadata": {},
   "outputs": [],
   "source": [
    "class Deck():\n",
    "    def __init__(self):\n",
    "        self.all_cards = []\n",
    "        for suit in suits:\n",
    "            for rank in ranks:\n",
    "                self.all_cards.append(Card(suit,rank))\n",
    "\n",
    "    def shuffle(self):\n",
    "        random.shuffle(self.all_cards)\n",
    "\n",
    "    def __str__(self):\n",
    "        deck = \"\"\n",
    "        for card in self.all_cards:\n",
    "            deck += \"\\n\" + card.__str__()\n",
    "        return f\"Deck has \" + deck\n",
    "\n",
    "    def deal(self):\n",
    "        single_card = self.all_cards.pop(0)\n",
    "        return single_card"
   ]
  },
  {
   "cell_type": "code",
   "execution_count": 44,
   "id": "911440ff-08fb-4460-910d-ee9897ec281f",
   "metadata": {},
   "outputs": [
    {
     "name": "stdout",
     "output_type": "stream",
     "text": [
      "Deck has \n",
      "Three of Spades\n",
      "Seven of Diamonds\n",
      "Jack of Spades\n",
      "Two of Diamonds\n",
      "King of Clubs\n",
      "Three of Hearts\n",
      "Ace of Hearts\n",
      "Eight of Hearts\n",
      "Seven of Clubs\n",
      "Five of Hearts\n",
      "Queen of Diamonds\n",
      "Seven of Hearts\n",
      "King of Diamonds\n",
      "Nine of Hearts\n",
      "Three of Clubs\n",
      "Five of Clubs\n",
      "Five of Diamonds\n",
      "Four of Hearts\n",
      "Two of Clubs\n",
      "Four of Diamonds\n",
      "Ten of Diamonds\n",
      "Eight of Diamonds\n",
      "Six of Hearts\n",
      "Ace of Spades\n",
      "Eight of Spades\n",
      "Jack of Hearts\n",
      "Queen of Clubs\n",
      "Queen of Hearts\n",
      "Four of Clubs\n",
      "Ace of Clubs\n",
      "Nine of Clubs\n",
      "Jack of Clubs\n",
      "Seven of Spades\n",
      "Four of Spades\n",
      "Ten of Spades\n",
      "Jack of Diamonds\n",
      "Ace of Diamonds\n",
      "Eight of Clubs\n",
      "Six of Diamonds\n",
      "Ten of Hearts\n",
      "Nine of Diamonds\n",
      "Queen of Spades\n",
      "King of Spades\n",
      "Two of Hearts\n",
      "Ten of Clubs\n",
      "King of Hearts\n",
      "Nine of Spades\n",
      "Two of Spades\n",
      "Six of Spades\n",
      "Six of Clubs\n",
      "Three of Diamonds\n",
      "Five of Spades\n"
     ]
    }
   ],
   "source": [
    "try_deck = Deck()\n",
    "try_deck.shuffle()\n",
    "print(try_deck)"
   ]
  },
  {
   "cell_type": "code",
   "execution_count": 58,
   "id": "3c12d402-3e0a-40ff-a984-36fa3270bc78",
   "metadata": {},
   "outputs": [],
   "source": [
    "class Hand():\n",
    "    def __init__(self):\n",
    "        self.cards = []\n",
    "        self.value = 0\n",
    "        self.ace = 0\n",
    "\n",
    "    def add_card(self,card):\n",
    "        self.cards.append(card)\n",
    "        self.value += values[card.rank]\n",
    "\n",
    "        if card.suit == \"Ace\":\n",
    "            self.ace += 1\n",
    "\n",
    "    def adjust_for_ace(self):\n",
    "        if self.value > 21 and self.ace:\n",
    "            self.ace -= 1\n",
    "            self.value -= 10"
   ]
  },
  {
   "cell_type": "code",
   "execution_count": 70,
   "id": "fcbb6188-454d-4050-9503-349d48c17f4f",
   "metadata": {},
   "outputs": [],
   "source": [
    "class Chips():\n",
    "    def __init__(self,total=100):\n",
    "        self.total = total \n",
    "        self.bet = 0\n",
    "\n",
    "    def win_bet(self):\n",
    "        self.total += self.bet\n",
    "\n",
    "    def lose_bet(self):\n",
    "        self.total -= self.bet"
   ]
  },
  {
   "cell_type": "code",
   "execution_count": 71,
   "id": "d37f35bd-02d5-41a1-af50-38936514ed2a",
   "metadata": {},
   "outputs": [
    {
     "data": {
      "text/plain": [
       "21"
      ]
     },
     "execution_count": 71,
     "metadata": {},
     "output_type": "execute_result"
    }
   ],
   "source": [
    "test_deck = Deck()\n",
    "test_deck.shuffle()\n",
    "test_player = Hand()\n",
    "test_player.add_card(test_deck.deal())\n",
    "test_player.add_card(test_deck.deal())\n",
    "test_player.value"
   ]
  },
  {
   "cell_type": "code",
   "execution_count": 72,
   "id": "acf8c38a-2f68-444f-9a90-2ebdb7220e77",
   "metadata": {},
   "outputs": [
    {
     "name": "stdout",
     "output_type": "stream",
     "text": [
      "Ace of Hearts\n",
      "Queen of Diamonds\n"
     ]
    }
   ],
   "source": [
    "for cards in test_player.cards:\n",
    "    print(cards)"
   ]
  },
  {
   "cell_type": "code",
   "execution_count": 73,
   "id": "0765edd4-5e98-4104-ae48-22e2d2db6391",
   "metadata": {},
   "outputs": [],
   "source": [
    "def take_bet(chips):\n",
    "    \n",
    "    while True:\n",
    "        try:\n",
    "            chips.bet = int(input('How many chips would you like to bet? '))\n",
    "        except ValueError:\n",
    "            print('Sorry, a bet must be an integer!')\n",
    "        else:\n",
    "            if chips.bet > chips.total:\n",
    "                print(\"Sorry, your bet can't exceed\",chips.total)\n",
    "            else:\n",
    "                break"
   ]
  },
  {
   "cell_type": "code",
   "execution_count": 74,
   "id": "4b9b4a17-ebb5-4a92-b8ae-a8ae3f2dac4c",
   "metadata": {},
   "outputs": [],
   "source": [
    "def hit(deck,hand):\n",
    "    \n",
    "    hand.add_card(deck.deal())\n",
    "    hand.adjust_for_ace()"
   ]
  },
  {
   "cell_type": "code",
   "execution_count": 75,
   "id": "33c55911-2fee-48bc-a1fb-de61a9ebebb8",
   "metadata": {},
   "outputs": [],
   "source": [
    "def hit_or_stand(deck,hand):\n",
    "    global playing  # to control an upcoming while loop\n",
    "    \n",
    "    while True:\n",
    "        x = input(\"Would you like to Hit or Stand? Enter 'h' or 's' \")\n",
    "        \n",
    "        if x[0].lower() == 'h':\n",
    "            hit(deck,hand)  # hit() function defined above\n",
    "\n",
    "        elif x[0].lower() == 's':\n",
    "            print(\"Player stands. Dealer is playing.\")\n",
    "            playing = False\n",
    "\n",
    "        else:\n",
    "            print(\"Sorry, please try again.\")\n",
    "            continue\n",
    "        break"
   ]
  },
  {
   "cell_type": "code",
   "execution_count": 76,
   "id": "c85c8a8a-1595-4552-8a95-5071d91748f3",
   "metadata": {},
   "outputs": [],
   "source": [
    "def show_some(player,dealer):\n",
    "    print(\"\\nDealer's Hand:\")\n",
    "    print(\" <card hidden>\")\n",
    "    print('',dealer.cards[1])  \n",
    "    print(\"\\nPlayer's Hand:\", *player.cards, sep='\\n ')\n",
    "    \n",
    "def show_all(player,dealer):\n",
    "    print(\"\\nDealer's Hand:\", *dealer.cards, sep='\\n ')\n",
    "    print(\"Dealer's Hand =\",dealer.value)\n",
    "    print(\"\\nPlayer's Hand:\", *player.cards, sep='\\n ')\n",
    "    print(\"Player's Hand =\",player.value)"
   ]
  },
  {
   "cell_type": "code",
   "execution_count": 77,
   "id": "bd677e15-7a08-4c8e-b76d-6d888ac68a84",
   "metadata": {},
   "outputs": [],
   "source": [
    "def player_busts(player,dealer,chips):\n",
    "    print(\"Player busts!\")\n",
    "    chips.lose_bet()\n",
    "\n",
    "def player_wins(player,dealer,chips):\n",
    "    print(\"Player wins!\")\n",
    "    chips.win_bet()\n",
    "\n",
    "def dealer_busts(player,dealer,chips):\n",
    "    print(\"Dealer busts!\")\n",
    "    chips.win_bet()\n",
    "    \n",
    "def dealer_wins(player,dealer,chips):\n",
    "    print(\"Dealer wins!\")\n",
    "    chips.lose_bet()\n",
    "    \n",
    "def push(player,dealer):\n",
    "    print(\"Dealer and Player tie! It's a push.\")"
   ]
  },
  {
   "cell_type": "code",
   "execution_count": 78,
   "id": "fb534229-360e-44e2-9c3d-fe20fb9f25ca",
   "metadata": {},
   "outputs": [],
   "source": [
    "playing = True"
   ]
  },
  {
   "cell_type": "code",
   "execution_count": 80,
   "id": "cf74fa28-8a56-4d77-a74e-6bf2d503be65",
   "metadata": {},
   "outputs": [
    {
     "name": "stdout",
     "output_type": "stream",
     "text": [
      "Welcome to BlackJack! Get as close to 21 as you can without going over!\n",
      "    Dealer hits until she reaches 17. Aces count as 1 or 11.\n"
     ]
    },
    {
     "name": "stdin",
     "output_type": "stream",
     "text": [
      "How many chips would you like to bet?  5\n"
     ]
    },
    {
     "name": "stdout",
     "output_type": "stream",
     "text": [
      "\n",
      "Dealer's Hand:\n",
      " <card hidden>\n",
      " Five of Clubs\n",
      "\n",
      "Player's Hand:\n",
      " Nine of Spades\n",
      " Six of Clubs\n"
     ]
    },
    {
     "name": "stdin",
     "output_type": "stream",
     "text": [
      "Would you like to Hit or Stand? Enter 'h' or 's'  s\n"
     ]
    },
    {
     "name": "stdout",
     "output_type": "stream",
     "text": [
      "Player stands. Dealer is playing.\n",
      "\n",
      "Dealer's Hand:\n",
      " <card hidden>\n",
      " Five of Clubs\n",
      "\n",
      "Player's Hand:\n",
      " Nine of Spades\n",
      " Six of Clubs\n",
      "\n",
      "Dealer's Hand:\n",
      " Ten of Diamonds\n",
      " Five of Clubs\n",
      " Ace of Clubs\n",
      "Dealer's Hand = 26\n",
      "\n",
      "Player's Hand:\n",
      " Nine of Spades\n",
      " Six of Clubs\n",
      "Player's Hand = 15\n",
      "Dealer busts!\n",
      "\n",
      "Player's winnings stand at 105\n"
     ]
    },
    {
     "name": "stdin",
     "output_type": "stream",
     "text": [
      "Would you like to play another hand? Enter 'y' or 'n'  s\n"
     ]
    },
    {
     "name": "stdout",
     "output_type": "stream",
     "text": [
      "Thanks for playing!\n"
     ]
    }
   ],
   "source": [
    "while True:\n",
    "    # Print an opening statement\n",
    "    print('Welcome to BlackJack! Get as close to 21 as you can without going over!\\n\\\n",
    "    Dealer hits until she reaches 17. Aces count as 1 or 11.')\n",
    "    \n",
    "    # Create & shuffle the deck, deal two cards to each player\n",
    "    deck = Deck()\n",
    "    deck.shuffle()\n",
    "    \n",
    "    player_hand = Hand()\n",
    "    player_hand.add_card(deck.deal())\n",
    "    player_hand.add_card(deck.deal())\n",
    "    \n",
    "    dealer_hand = Hand()\n",
    "    dealer_hand.add_card(deck.deal())\n",
    "    dealer_hand.add_card(deck.deal())\n",
    "            \n",
    "    # Set up the Player's chips\n",
    "    player_chips = Chips()  # remember the default value is 100    \n",
    "    \n",
    "    # Prompt the Player for their bet\n",
    "    take_bet(player_chips)\n",
    "    \n",
    "    # Show cards (but keep one dealer card hidden)\n",
    "    show_some(player_hand,dealer_hand)\n",
    "    \n",
    "    while playing:  # recall this variable from our hit_or_stand function\n",
    "        \n",
    "        # Prompt for Player to Hit or Stand\n",
    "        hit_or_stand(deck,player_hand) \n",
    "        \n",
    "        # Show cards (but keep one dealer card hidden)\n",
    "        show_some(player_hand,dealer_hand)  \n",
    "        \n",
    "        # If player's hand exceeds 21, run player_busts() and break out of loop\n",
    "        if player_hand.value > 21:\n",
    "            player_busts(player_hand,dealer_hand,player_chips)\n",
    "            break        \n",
    "\n",
    "\n",
    "    # If Player hasn't busted, play Dealer's hand until Dealer reaches 17 \n",
    "    if player_hand.value <= 21:\n",
    "        \n",
    "        while dealer_hand.value < 17:\n",
    "            hit(deck,dealer_hand)    \n",
    "    \n",
    "        # Show all cards\n",
    "        show_all(player_hand,dealer_hand)\n",
    "        \n",
    "        # Run different winning scenarios\n",
    "        if dealer_hand.value > 21:\n",
    "            dealer_busts(player_hand,dealer_hand,player_chips)\n",
    "\n",
    "        elif dealer_hand.value > player_hand.value:\n",
    "            dealer_wins(player_hand,dealer_hand,player_chips)\n",
    "\n",
    "        elif dealer_hand.value < player_hand.value:\n",
    "            player_wins(player_hand,dealer_hand,player_chips)\n",
    "\n",
    "        else:\n",
    "            push(player_hand,dealer_hand)        \n",
    "    \n",
    "    # Inform Player of their chips total \n",
    "    print(\"\\nPlayer's winnings stand at\",player_chips.total)\n",
    "    \n",
    "    # Ask to play again\n",
    "    new_game = input(\"Would you like to play another hand? Enter 'y' or 'n' \")\n",
    "    \n",
    "    if new_game[0].lower()=='y':\n",
    "        playing=True\n",
    "        continue\n",
    "    else:\n",
    "        print(\"Thanks for playing!\")\n",
    "        break"
   ]
  },
  {
   "cell_type": "code",
   "execution_count": null,
   "id": "c130c1ee-f9ee-4ee9-a9f5-9c0cb492f9d8",
   "metadata": {},
   "outputs": [],
   "source": []
  }
 ],
 "metadata": {
  "kernelspec": {
   "display_name": "Python 3 (ipykernel)",
   "language": "python",
   "name": "python3"
  },
  "language_info": {
   "codemirror_mode": {
    "name": "ipython",
    "version": 3
   },
   "file_extension": ".py",
   "mimetype": "text/x-python",
   "name": "python",
   "nbconvert_exporter": "python",
   "pygments_lexer": "ipython3",
   "version": "3.13.5"
  }
 },
 "nbformat": 4,
 "nbformat_minor": 5
}
