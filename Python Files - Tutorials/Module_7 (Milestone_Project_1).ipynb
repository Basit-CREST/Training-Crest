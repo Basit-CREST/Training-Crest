{
 "cells": [
  {
   "cell_type": "markdown",
   "id": "553bc5c6-bbd6-4619-aa64-881f5c8c7566",
   "metadata": {},
   "source": [
    "# Tic Tac Toe Game"
   ]
  },
  {
   "cell_type": "code",
   "execution_count": 2,
   "id": "6669544c-e362-4b60-ab57-799125a623ac",
   "metadata": {},
   "outputs": [
    {
     "name": "stdout",
     "output_type": "stream",
     "text": [
      "[' ', ' ', ' ']\n",
      "[' ', ' ', ' ']\n",
      "[' ', ' ', ' ']\n"
     ]
    }
   ],
   "source": [
    "game_box = [[\" \",\" \",\" \"],[\" \",\" \",\" \"],[\" \",\" \",\" \"]]\n",
    "print(game_box[0])\n",
    "print(game_box[1])\n",
    "print(game_box[2])"
   ]
  },
  {
   "cell_type": "code",
   "execution_count": 12,
   "id": "dcd43242-ca68-4cc2-9f2c-4f2c51564d4e",
   "metadata": {},
   "outputs": [],
   "source": [
    "entry = ['O','X','O','X','X','O','O','O','X']\n",
    "def display(entry):\n",
    "    print('   |   |')\n",
    "    print(' ' + entry[0] + ' | ' + entry[1] + ' | ' + entry[2])\n",
    "    print('   |   |')\n",
    "    print(\"-----------\")\n",
    "    print('   |   |')\n",
    "    print(' ' + entry[3] + ' | ' + entry[4] + ' | ' + entry[5])\n",
    "    print('   |   |')\n",
    "    print(\"-----------\")\n",
    "    print('   |   |')\n",
    "    print(' ' + entry[6] + ' | ' + entry[7] + ' | ' + entry[8])\n",
    "    print('   |   |')\n"
   ]
  },
  {
   "cell_type": "code",
   "execution_count": 13,
   "id": "85397c17-151c-4e1b-b434-3306001a0bcc",
   "metadata": {},
   "outputs": [
    {
     "name": "stdout",
     "output_type": "stream",
     "text": [
      "   |   |\n",
      " O | X | O\n",
      "   |   |\n",
      "-----------\n",
      "   |   |\n",
      " X | X | O\n",
      "   |   |\n",
      "-----------\n",
      "   |   |\n",
      " O | O | X\n",
      "   |   |\n"
     ]
    }
   ],
   "source": [
    "display(entry)"
   ]
  },
  {
   "cell_type": "code",
   "execution_count": 19,
   "id": "01a4a4c8-4991-437e-9f0a-72bdd3339667",
   "metadata": {},
   "outputs": [],
   "source": [
    "#ask user what he/she want to enter (X or O)\n",
    "def choose_char():\n",
    "    var_list = ['X','O']\n",
    "    var_1 = \"\"\n",
    "    while var_1 not in var_list:\n",
    "        var_1=input(\"What do you want to choose (X or O)?\")\n",
    "        if var_1 == 'X':\n",
    "            print('You are player number one!')\n",
    "        elif var_1 == 'O':\n",
    "            print('You are player number two!')"
   ]
  },
  {
   "cell_type": "code",
   "execution_count": 20,
   "id": "b3f6b92a-4f07-4178-97e1-d7e33fc955e8",
   "metadata": {},
   "outputs": [
    {
     "name": "stdin",
     "output_type": "stream",
     "text": [
      "What do you want to choose (X or O)? O\n"
     ]
    },
    {
     "name": "stdout",
     "output_type": "stream",
     "text": [
      "You are player number two!\n"
     ]
    }
   ],
   "source": [
    "choose_char()"
   ]
  },
  {
   "cell_type": "code",
   "execution_count": 9,
   "id": "3881b82e-e055-4930-b744-6ade0ab0d9bd",
   "metadata": {},
   "outputs": [],
   "source": [
    "def position_choose():\n",
    "    pos_list = range(1,10)\n",
    "    pos = 0\n",
    "    while pos not in pos_list:\n",
    "        pos = int(input(\"Enter position, where do you want to put X or O?\"))\n",
    "        if pos not in pos_list:\n",
    "            print(\"You have choose the position between 1 to 9\")"
   ]
  },
  {
   "cell_type": "code",
   "execution_count": 10,
   "id": "dfa60bdf-e77a-4ccf-8833-0e8c434a0fa1",
   "metadata": {},
   "outputs": [
    {
     "name": "stdin",
     "output_type": "stream",
     "text": [
      "Enter position, where do you want to put X or O? 4\n"
     ]
    }
   ],
   "source": [
    "position_choose()"
   ]
  },
  {
   "cell_type": "code",
   "execution_count": null,
   "id": "9b0d9955-7114-454d-b551-72f506027a20",
   "metadata": {},
   "outputs": [],
   "source": []
  }
 ],
 "metadata": {
  "kernelspec": {
   "display_name": "Python 3 (ipykernel)",
   "language": "python",
   "name": "python3"
  },
  "language_info": {
   "codemirror_mode": {
    "name": "ipython",
    "version": 3
   },
   "file_extension": ".py",
   "mimetype": "text/x-python",
   "name": "python",
   "nbconvert_exporter": "python",
   "pygments_lexer": "ipython3",
   "version": "3.13.5"
  }
 },
 "nbformat": 4,
 "nbformat_minor": 5
}
