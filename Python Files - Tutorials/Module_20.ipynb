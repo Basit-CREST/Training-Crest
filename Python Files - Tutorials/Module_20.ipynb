{
 "cells": [
  {
   "cell_type": "markdown",
   "id": "ad0af1bf-222f-446b-9172-fd7b16a967d2",
   "metadata": {
    "jp-MarkdownHeadingCollapsed": true
   },
   "source": [
    "# Advance Numbers"
   ]
  },
  {
   "cell_type": "markdown",
   "id": "56a73fc9-4d8c-4bf5-a202-85dccdd6dc94",
   "metadata": {},
   "source": [
    "Information about [Hexadecimal](https://en.wikipedia.org/wiki/Hexadecimal#:~:text=Hexadecimal%20(also%20known%20as%20base,radix%20(base)%20of%20sixteen.)"
   ]
  },
  {
   "cell_type": "code",
   "execution_count": 1,
   "id": "804be1c5-f4bd-452c-a367-ddb94eaf1151",
   "metadata": {},
   "outputs": [
    {
     "data": {
      "text/plain": [
       "'0xe9'"
      ]
     },
     "execution_count": 1,
     "metadata": {},
     "output_type": "execute_result"
    }
   ],
   "source": [
    "hex(233)"
   ]
  },
  {
   "cell_type": "code",
   "execution_count": 4,
   "id": "fe780247-03fa-44bc-bc20-2f460f8cdd2a",
   "metadata": {},
   "outputs": [
    {
     "data": {
      "text/plain": [
       "'0x17'"
      ]
     },
     "execution_count": 4,
     "metadata": {},
     "output_type": "execute_result"
    }
   ],
   "source": [
    "hex(23)"
   ]
  },
  {
   "cell_type": "markdown",
   "id": "b378b283-a33f-4496-9e17-7b8806f38be3",
   "metadata": {},
   "source": [
    "Information about [Binary](https://en.wikipedia.org/wiki/Binary_number)"
   ]
  },
  {
   "cell_type": "code",
   "execution_count": 6,
   "id": "0ede1120-f5f7-4249-b194-396578a53acb",
   "metadata": {},
   "outputs": [
    {
     "data": {
      "text/plain": [
       "'0b1100'"
      ]
     },
     "execution_count": 6,
     "metadata": {},
     "output_type": "execute_result"
    }
   ],
   "source": [
    "bin(12)"
   ]
  },
  {
   "cell_type": "code",
   "execution_count": 8,
   "id": "923d52d9-21b5-43c4-bdd8-e7482b7baceb",
   "metadata": {},
   "outputs": [
    {
     "data": {
      "text/plain": [
       "'0b1101111010'"
      ]
     },
     "execution_count": 8,
     "metadata": {},
     "output_type": "execute_result"
    }
   ],
   "source": [
    "bin(890)"
   ]
  },
  {
   "cell_type": "code",
   "execution_count": 9,
   "id": "97be3f78-7dee-493b-a8df-1121f10666da",
   "metadata": {},
   "outputs": [
    {
     "data": {
      "text/plain": [
       "1"
      ]
     },
     "execution_count": 9,
     "metadata": {},
     "output_type": "execute_result"
    }
   ],
   "source": [
    "pow(2,4,3)"
   ]
  },
  {
   "cell_type": "code",
   "execution_count": 10,
   "id": "41ac99cc-305d-4ff4-958b-e4a12805cfe5",
   "metadata": {},
   "outputs": [
    {
     "data": {
      "text/plain": [
       "1"
      ]
     },
     "execution_count": 10,
     "metadata": {},
     "output_type": "execute_result"
    }
   ],
   "source": [
    "abs(-1)"
   ]
  },
  {
   "cell_type": "code",
   "execution_count": 11,
   "id": "315eabf5-b876-4bb6-8d9c-670ad22e7af2",
   "metadata": {},
   "outputs": [
    {
     "data": {
      "text/plain": [
       "1"
      ]
     },
     "execution_count": 11,
     "metadata": {},
     "output_type": "execute_result"
    }
   ],
   "source": [
    "round(1.2)"
   ]
  },
  {
   "cell_type": "code",
   "execution_count": 12,
   "id": "1d130928-c2a5-420b-9f76-09001e8e15f5",
   "metadata": {},
   "outputs": [
    {
     "data": {
      "text/plain": [
       "8.98"
      ]
     },
     "execution_count": 12,
     "metadata": {},
     "output_type": "execute_result"
    }
   ],
   "source": [
    "round(8.978987,2)"
   ]
  },
  {
   "cell_type": "markdown",
   "id": "f457375a-b024-46da-8791-f7cb61b1cd3d",
   "metadata": {
    "jp-MarkdownHeadingCollapsed": true
   },
   "source": [
    "# Advance Strings"
   ]
  },
  {
   "cell_type": "code",
   "execution_count": 13,
   "id": "efa6d971-ecb3-4127-a739-bad2e02407dd",
   "metadata": {},
   "outputs": [],
   "source": [
    "s = \"hello world!\""
   ]
  },
  {
   "cell_type": "code",
   "execution_count": 14,
   "id": "52826ad4-5f71-4675-b520-cfe441cedb1f",
   "metadata": {},
   "outputs": [
    {
     "data": {
      "text/plain": [
       "'Hello world!'"
      ]
     },
     "execution_count": 14,
     "metadata": {},
     "output_type": "execute_result"
    }
   ],
   "source": [
    "s.capitalize()"
   ]
  },
  {
   "cell_type": "code",
   "execution_count": 16,
   "id": "3ab067e0-980b-4214-8523-ec045b4d8b38",
   "metadata": {},
   "outputs": [
    {
     "data": {
      "text/plain": [
       "'HELLO WORLD!'"
      ]
     },
     "execution_count": 16,
     "metadata": {},
     "output_type": "execute_result"
    }
   ],
   "source": [
    "s.upper()"
   ]
  },
  {
   "cell_type": "code",
   "execution_count": 17,
   "id": "77c1fa9c-e6d1-45aa-9127-a56a477426eb",
   "metadata": {},
   "outputs": [
    {
     "data": {
      "text/plain": [
       "'hello world!'"
      ]
     },
     "execution_count": 17,
     "metadata": {},
     "output_type": "execute_result"
    }
   ],
   "source": [
    "s.lower()"
   ]
  },
  {
   "cell_type": "code",
   "execution_count": 18,
   "id": "a7157fb1-0559-4111-8212-b5fdd46b9c3f",
   "metadata": {},
   "outputs": [
    {
     "data": {
      "text/plain": [
       "3"
      ]
     },
     "execution_count": 18,
     "metadata": {},
     "output_type": "execute_result"
    }
   ],
   "source": [
    "s.count(\"l\")"
   ]
  },
  {
   "cell_type": "code",
   "execution_count": 20,
   "id": "f7421633-681f-4584-8e8a-24d24b8b3af3",
   "metadata": {},
   "outputs": [
    {
     "data": {
      "text/plain": [
       "6"
      ]
     },
     "execution_count": 20,
     "metadata": {},
     "output_type": "execute_result"
    }
   ],
   "source": [
    "s.find(\"w\")"
   ]
  },
  {
   "cell_type": "code",
   "execution_count": 23,
   "id": "1ee963aa-78fe-4166-9b6f-b28fcbc6ece2",
   "metadata": {},
   "outputs": [
    {
     "data": {
      "text/plain": [
       "'zzzzhello world!zzzz'"
      ]
     },
     "execution_count": 23,
     "metadata": {},
     "output_type": "execute_result"
    }
   ],
   "source": [
    "s.center(20,'z')"
   ]
  },
  {
   "cell_type": "code",
   "execution_count": 34,
   "id": "bac531be-4e1b-4625-9111-87538b140bca",
   "metadata": {},
   "outputs": [
    {
     "data": {
      "text/plain": [
       "'a       bcd'"
      ]
     },
     "execution_count": 34,
     "metadata": {},
     "output_type": "execute_result"
    }
   ],
   "source": [
    "\"a\\tbcd\".expandtabs()"
   ]
  },
  {
   "cell_type": "code",
   "execution_count": 35,
   "id": "52388961-0366-4c47-9b8e-0c5b8cc7146f",
   "metadata": {},
   "outputs": [],
   "source": [
    "s = \"hello\""
   ]
  },
  {
   "cell_type": "code",
   "execution_count": 36,
   "id": "e855e1c6-3d25-4056-aac0-014c35f29785",
   "metadata": {},
   "outputs": [
    {
     "data": {
      "text/plain": [
       "True"
      ]
     },
     "execution_count": 36,
     "metadata": {},
     "output_type": "execute_result"
    }
   ],
   "source": [
    "s.isalnum()"
   ]
  },
  {
   "cell_type": "code",
   "execution_count": 37,
   "id": "6c7314b6-ff2f-4026-b6fe-3056c6696f32",
   "metadata": {},
   "outputs": [
    {
     "data": {
      "text/plain": [
       "True"
      ]
     },
     "execution_count": 37,
     "metadata": {},
     "output_type": "execute_result"
    }
   ],
   "source": [
    "s.isalpha()"
   ]
  },
  {
   "cell_type": "code",
   "execution_count": 38,
   "id": "16422627-12af-4876-94c4-8cd28c4fa6db",
   "metadata": {},
   "outputs": [
    {
     "data": {
      "text/plain": [
       "True"
      ]
     },
     "execution_count": 38,
     "metadata": {},
     "output_type": "execute_result"
    }
   ],
   "source": [
    "s.islower()"
   ]
  },
  {
   "cell_type": "code",
   "execution_count": 39,
   "id": "5c39f186-e144-481d-b8cd-0b6cc28ea4bb",
   "metadata": {},
   "outputs": [
    {
     "data": {
      "text/plain": [
       "False"
      ]
     },
     "execution_count": 39,
     "metadata": {},
     "output_type": "execute_result"
    }
   ],
   "source": [
    "s.isspace()"
   ]
  },
  {
   "cell_type": "code",
   "execution_count": 40,
   "id": "f2026fbe-0878-4ec2-a2a6-30eb67ec04f3",
   "metadata": {},
   "outputs": [
    {
     "data": {
      "text/plain": [
       "False"
      ]
     },
     "execution_count": 40,
     "metadata": {},
     "output_type": "execute_result"
    }
   ],
   "source": [
    "s.istitle()"
   ]
  },
  {
   "cell_type": "code",
   "execution_count": 41,
   "id": "36f112e1-edc9-469f-b421-eb1743c1120c",
   "metadata": {},
   "outputs": [
    {
     "data": {
      "text/plain": [
       "False"
      ]
     },
     "execution_count": 41,
     "metadata": {},
     "output_type": "execute_result"
    }
   ],
   "source": [
    "s.isupper()"
   ]
  },
  {
   "cell_type": "code",
   "execution_count": 42,
   "id": "9fd6e92e-fde3-41d2-bb40-6073b228719d",
   "metadata": {},
   "outputs": [
    {
     "data": {
      "text/plain": [
       "False"
      ]
     },
     "execution_count": 42,
     "metadata": {},
     "output_type": "execute_result"
    }
   ],
   "source": [
    "'hello'.isupper()"
   ]
  },
  {
   "cell_type": "code",
   "execution_count": 43,
   "id": "4ba8c5e2-4d68-49bf-a586-015c5f84082f",
   "metadata": {},
   "outputs": [
    {
     "data": {
      "text/plain": [
       "True"
      ]
     },
     "execution_count": 43,
     "metadata": {},
     "output_type": "execute_result"
    }
   ],
   "source": [
    "s.endswith('o')"
   ]
  },
  {
   "cell_type": "code",
   "execution_count": 44,
   "id": "8b11a21d-9dd2-40b4-9101-e4db443bd7e6",
   "metadata": {},
   "outputs": [
    {
     "data": {
      "text/plain": [
       "'o'"
      ]
     },
     "execution_count": 44,
     "metadata": {},
     "output_type": "execute_result"
    }
   ],
   "source": [
    "s[-1]"
   ]
  },
  {
   "cell_type": "code",
   "execution_count": 45,
   "id": "b2b33a87-0856-456f-b243-0f83bae5c45c",
   "metadata": {},
   "outputs": [
    {
     "data": {
      "text/plain": [
       "['h', 'llo']"
      ]
     },
     "execution_count": 45,
     "metadata": {},
     "output_type": "execute_result"
    }
   ],
   "source": [
    "s.split('e')"
   ]
  },
  {
   "cell_type": "code",
   "execution_count": 47,
   "id": "d205bd47-cf7e-4cd7-b3f7-a1fa8500efad",
   "metadata": {},
   "outputs": [],
   "source": [
    "s = \"hihhhihhhiiihiii\""
   ]
  },
  {
   "cell_type": "code",
   "execution_count": 48,
   "id": "83f73fab-8473-4e0c-929d-d37a5c7fe0bb",
   "metadata": {},
   "outputs": [
    {
     "data": {
      "text/plain": [
       "['h', 'hhh', 'hhh', '', '', 'h', '', '', '']"
      ]
     },
     "execution_count": 48,
     "metadata": {},
     "output_type": "execute_result"
    }
   ],
   "source": [
    "s.split(\"i\")"
   ]
  },
  {
   "cell_type": "code",
   "execution_count": 49,
   "id": "59e7920d-470a-477a-a856-d0714beb62d2",
   "metadata": {},
   "outputs": [
    {
     "data": {
      "text/plain": [
       "('h', 'i', 'hhhihhhiiihiii')"
      ]
     },
     "execution_count": 49,
     "metadata": {},
     "output_type": "execute_result"
    }
   ],
   "source": [
    "s.partition(\"i\")"
   ]
  },
  {
   "cell_type": "markdown",
   "id": "682e2095-e6c0-4de2-82e8-fb055169745d",
   "metadata": {
    "jp-MarkdownHeadingCollapsed": true
   },
   "source": [
    "# Advance Sets"
   ]
  },
  {
   "cell_type": "code",
   "execution_count": 11,
   "id": "f610c18a-cb88-4e28-92a6-80947d8ccc92",
   "metadata": {},
   "outputs": [],
   "source": [
    "s = set()"
   ]
  },
  {
   "cell_type": "code",
   "execution_count": 12,
   "id": "07e384c6-9ee5-4490-92ae-58c4e874d035",
   "metadata": {},
   "outputs": [],
   "source": [
    "s.add(1)"
   ]
  },
  {
   "cell_type": "code",
   "execution_count": 13,
   "id": "e5dec916-c4da-47eb-ba5d-6d7e752ec994",
   "metadata": {},
   "outputs": [],
   "source": [
    "s.add(2)"
   ]
  },
  {
   "cell_type": "code",
   "execution_count": 14,
   "id": "583f2f0a-7efe-46c6-b8b1-66745857faf1",
   "metadata": {},
   "outputs": [
    {
     "data": {
      "text/plain": [
       "{1, 2}"
      ]
     },
     "execution_count": 14,
     "metadata": {},
     "output_type": "execute_result"
    }
   ],
   "source": [
    "s"
   ]
  },
  {
   "cell_type": "code",
   "execution_count": 5,
   "id": "31b03578-de1c-43fd-9523-1daf3acfe9c2",
   "metadata": {},
   "outputs": [],
   "source": [
    "s.clear()"
   ]
  },
  {
   "cell_type": "code",
   "execution_count": 6,
   "id": "dca2b927-4941-48e5-8825-c19ffcb5626f",
   "metadata": {},
   "outputs": [
    {
     "data": {
      "text/plain": [
       "set()"
      ]
     },
     "execution_count": 6,
     "metadata": {},
     "output_type": "execute_result"
    }
   ],
   "source": [
    "s"
   ]
  },
  {
   "cell_type": "code",
   "execution_count": 16,
   "id": "a8135a57-4fb5-4dfc-bd1a-9cd5f17052b9",
   "metadata": {},
   "outputs": [],
   "source": [
    "s = {1,2,3,4}"
   ]
  },
  {
   "cell_type": "code",
   "execution_count": 15,
   "id": "92faa6a1-0ab1-4c7c-9332-398fe1bbefdf",
   "metadata": {},
   "outputs": [],
   "source": [
    "sc = s.copy()"
   ]
  },
  {
   "cell_type": "code",
   "execution_count": 19,
   "id": "b3e2e960-4453-40b3-b31e-ca9cc47b112c",
   "metadata": {},
   "outputs": [],
   "source": [
    "sc.add(3)\n",
    "sc.add(4)\n",
    "sc.add(5)"
   ]
  },
  {
   "cell_type": "code",
   "execution_count": 21,
   "id": "6c851972-a672-40e9-ba7b-8a5f64568d0c",
   "metadata": {},
   "outputs": [
    {
     "data": {
      "text/plain": [
       "{5}"
      ]
     },
     "execution_count": 21,
     "metadata": {},
     "output_type": "execute_result"
    }
   ],
   "source": [
    "sc.difference(s)"
   ]
  },
  {
   "cell_type": "code",
   "execution_count": 22,
   "id": "6c655285-9ed2-482e-9a1d-03c29eba4df3",
   "metadata": {},
   "outputs": [
    {
     "data": {
      "text/plain": [
       "{1, 2, 3, 4, 5}"
      ]
     },
     "execution_count": 22,
     "metadata": {},
     "output_type": "execute_result"
    }
   ],
   "source": [
    "sc"
   ]
  },
  {
   "cell_type": "code",
   "execution_count": 66,
   "id": "42989ef1-a165-4820-9580-f809683ab795",
   "metadata": {},
   "outputs": [],
   "source": [
    "set1 = {1,2,3}\n",
    "set2 = {1,4,5}\n",
    "set2.difference_update(set1)"
   ]
  },
  {
   "cell_type": "code",
   "execution_count": 67,
   "id": "03c23b4f-cba9-4ace-a71e-9b838a15fe92",
   "metadata": {},
   "outputs": [
    {
     "data": {
      "text/plain": [
       "{4, 5}"
      ]
     },
     "execution_count": 67,
     "metadata": {},
     "output_type": "execute_result"
    }
   ],
   "source": [
    "set2"
   ]
  },
  {
   "cell_type": "code",
   "execution_count": 70,
   "id": "6e80cc36-f460-44c1-9bc2-4d620db40cf1",
   "metadata": {},
   "outputs": [
    {
     "data": {
      "text/plain": [
       "{1, 2, 3, 4}"
      ]
     },
     "execution_count": 70,
     "metadata": {},
     "output_type": "execute_result"
    }
   ],
   "source": [
    "s "
   ]
  },
  {
   "cell_type": "code",
   "execution_count": 71,
   "id": "8c893d11-1842-4d3f-ae8a-cd8d3cad676d",
   "metadata": {},
   "outputs": [],
   "source": [
    "s.discard(3)"
   ]
  },
  {
   "cell_type": "code",
   "execution_count": 72,
   "id": "211f56e0-487c-435b-bb6e-ed02ff8a9b0a",
   "metadata": {},
   "outputs": [
    {
     "data": {
      "text/plain": [
       "{1, 2, 4}"
      ]
     },
     "execution_count": 72,
     "metadata": {},
     "output_type": "execute_result"
    }
   ],
   "source": [
    "s"
   ]
  },
  {
   "cell_type": "code",
   "execution_count": 74,
   "id": "d79c9863-cd45-4af3-8409-91e591bac421",
   "metadata": {},
   "outputs": [],
   "source": [
    "s.discard(50)"
   ]
  },
  {
   "cell_type": "code",
   "execution_count": 75,
   "id": "2ea41e4d-3c1b-4177-aaad-b47d89cdec54",
   "metadata": {},
   "outputs": [
    {
     "data": {
      "text/plain": [
       "{1, 2, 4}"
      ]
     },
     "execution_count": 75,
     "metadata": {},
     "output_type": "execute_result"
    }
   ],
   "source": [
    "s"
   ]
  },
  {
   "cell_type": "code",
   "execution_count": 84,
   "id": "44b2c7f2-167b-4a90-bb65-e3a477a243e2",
   "metadata": {},
   "outputs": [
    {
     "data": {
      "text/plain": [
       "{22}"
      ]
     },
     "execution_count": 84,
     "metadata": {},
     "output_type": "execute_result"
    }
   ],
   "source": [
    "s1 = {11,22,33}\n",
    "s2 = {22,44,55}\n",
    "s1.intersection(s2)"
   ]
  },
  {
   "cell_type": "code",
   "execution_count": 81,
   "id": "b89d4d55-b129-4000-aa48-a18a7f1ae91a",
   "metadata": {},
   "outputs": [
    {
     "data": {
      "text/plain": [
       "{11, 22, 33}"
      ]
     },
     "execution_count": 81,
     "metadata": {},
     "output_type": "execute_result"
    }
   ],
   "source": [
    "s1"
   ]
  },
  {
   "cell_type": "code",
   "execution_count": 82,
   "id": "a71b8cdf-0543-4f85-8b54-a2aa587154c9",
   "metadata": {},
   "outputs": [],
   "source": [
    "s1.intersection_update(s2)"
   ]
  },
  {
   "cell_type": "code",
   "execution_count": 83,
   "id": "ac54bc34-9d89-4229-944e-a9c81c924f9d",
   "metadata": {},
   "outputs": [
    {
     "data": {
      "text/plain": [
       "{22}"
      ]
     },
     "execution_count": 83,
     "metadata": {},
     "output_type": "execute_result"
    }
   ],
   "source": [
    "s1"
   ]
  },
  {
   "cell_type": "code",
   "execution_count": 85,
   "id": "e8611748-90f7-4d6c-9b6e-358c43a89925",
   "metadata": {},
   "outputs": [
    {
     "data": {
      "text/plain": [
       "False"
      ]
     },
     "execution_count": 85,
     "metadata": {},
     "output_type": "execute_result"
    }
   ],
   "source": [
    "s1.isdisjoint(s2)"
   ]
  },
  {
   "cell_type": "code",
   "execution_count": 86,
   "id": "ae877878-84bc-4495-b897-8a11448c4028",
   "metadata": {},
   "outputs": [],
   "source": [
    "s3 = {10}"
   ]
  },
  {
   "cell_type": "code",
   "execution_count": 87,
   "id": "d66d52e9-f37b-4822-88dd-efc31589fee5",
   "metadata": {},
   "outputs": [
    {
     "data": {
      "text/plain": [
       "True"
      ]
     },
     "execution_count": 87,
     "metadata": {},
     "output_type": "execute_result"
    }
   ],
   "source": [
    "s1.isdisjoint(s3)"
   ]
  },
  {
   "cell_type": "code",
   "execution_count": 88,
   "id": "9696d53f-0e61-4d55-a6e5-1f9e25bc881d",
   "metadata": {},
   "outputs": [
    {
     "data": {
      "text/plain": [
       "True"
      ]
     },
     "execution_count": 88,
     "metadata": {},
     "output_type": "execute_result"
    }
   ],
   "source": [
    "s_1 = {1,2,3}\n",
    "s_2 = {1,2}\n",
    "s_2.issubset(s_1)"
   ]
  },
  {
   "cell_type": "code",
   "execution_count": 90,
   "id": "0d656a26-ff41-479e-9ff0-233a11f18f4f",
   "metadata": {},
   "outputs": [
    {
     "data": {
      "text/plain": [
       "True"
      ]
     },
     "execution_count": 90,
     "metadata": {},
     "output_type": "execute_result"
    }
   ],
   "source": [
    "s_1.issuperset(s_2)"
   ]
  },
  {
   "cell_type": "code",
   "execution_count": 91,
   "id": "fe182487-4175-43dd-9e56-324ff54227ec",
   "metadata": {},
   "outputs": [
    {
     "data": {
      "text/plain": [
       "{3}"
      ]
     },
     "execution_count": 91,
     "metadata": {},
     "output_type": "execute_result"
    }
   ],
   "source": [
    "s_1.symmetric_difference(s_2)"
   ]
  },
  {
   "cell_type": "code",
   "execution_count": 95,
   "id": "14a4fa83-ee52-431a-bbc2-51f6515f7edd",
   "metadata": {},
   "outputs": [
    {
     "data": {
      "text/plain": [
       "{1, 2, 3}"
      ]
     },
     "execution_count": 95,
     "metadata": {},
     "output_type": "execute_result"
    }
   ],
   "source": [
    "s_2.union(s_1)"
   ]
  },
  {
   "cell_type": "code",
   "execution_count": 96,
   "id": "149e5ee7-4b0e-4322-89d4-2d6116b3b28d",
   "metadata": {},
   "outputs": [
    {
     "data": {
      "text/plain": [
       "{1, 2}"
      ]
     },
     "execution_count": 96,
     "metadata": {},
     "output_type": "execute_result"
    }
   ],
   "source": [
    "s_2"
   ]
  },
  {
   "cell_type": "code",
   "execution_count": 97,
   "id": "91b5d436-cb2e-4c3a-b281-32065d63ef46",
   "metadata": {},
   "outputs": [],
   "source": [
    "s_2.update(s_1)"
   ]
  },
  {
   "cell_type": "code",
   "execution_count": 98,
   "id": "99e60d1b-00c0-4728-bc8a-c909ce22c859",
   "metadata": {},
   "outputs": [
    {
     "data": {
      "text/plain": [
       "{1, 2, 3}"
      ]
     },
     "execution_count": 98,
     "metadata": {},
     "output_type": "execute_result"
    }
   ],
   "source": [
    "s_2"
   ]
  },
  {
   "cell_type": "markdown",
   "id": "358d70eb-2e53-408e-a1f6-973986d3257b",
   "metadata": {
    "jp-MarkdownHeadingCollapsed": true
   },
   "source": [
    "# Advance Dictionaries"
   ]
  },
  {
   "cell_type": "code",
   "execution_count": 23,
   "id": "557badd2-2b1f-4408-81b9-846b2a1ca326",
   "metadata": {},
   "outputs": [],
   "source": [
    "d = {\"k1\" : 1 , \"k2\" : 2}"
   ]
  },
  {
   "cell_type": "code",
   "execution_count": 24,
   "id": "5424d4ca-24df-4743-8456-a978eca2afac",
   "metadata": {},
   "outputs": [
    {
     "name": "stdout",
     "output_type": "stream",
     "text": [
      "k1->1\n",
      "k2->2\n"
     ]
    }
   ],
   "source": [
    "for i , j in d.items():\n",
    "    print(i + \"->\" + str(j))"
   ]
  },
  {
   "cell_type": "code",
   "execution_count": 25,
   "id": "e5a140ea-5a48-468d-8ee6-6395ee75a357",
   "metadata": {},
   "outputs": [],
   "source": [
    "d1 = {x : x**2 for x in range(10)}"
   ]
  },
  {
   "cell_type": "code",
   "execution_count": 26,
   "id": "8e7d542c-7118-48c7-ab4f-9c61c14d77b5",
   "metadata": {},
   "outputs": [
    {
     "data": {
      "text/plain": [
       "{0: 0, 1: 1, 2: 4, 3: 9, 4: 16, 5: 25, 6: 36, 7: 49, 8: 64, 9: 81}"
      ]
     },
     "execution_count": 26,
     "metadata": {},
     "output_type": "execute_result"
    }
   ],
   "source": [
    "d1"
   ]
  },
  {
   "cell_type": "code",
   "execution_count": 30,
   "id": "2e1a6df5-6a25-41cc-8185-e785f8c032f7",
   "metadata": {},
   "outputs": [],
   "source": [
    "d2 = {x : v for x , v in zip(['a','b'],range(2))}"
   ]
  },
  {
   "cell_type": "code",
   "execution_count": 31,
   "id": "13d8e2dd-8d84-47b6-8257-245a04272f54",
   "metadata": {},
   "outputs": [
    {
     "data": {
      "text/plain": [
       "{'a': 0, 'b': 1}"
      ]
     },
     "execution_count": 31,
     "metadata": {},
     "output_type": "execute_result"
    }
   ],
   "source": [
    "d2"
   ]
  },
  {
   "cell_type": "code",
   "execution_count": 32,
   "id": "cf5d8b54-d63c-49f8-a841-f55d19abef61",
   "metadata": {},
   "outputs": [
    {
     "data": {
      "text/plain": [
       "dict_values([0, 1])"
      ]
     },
     "execution_count": 32,
     "metadata": {},
     "output_type": "execute_result"
    }
   ],
   "source": [
    "d2.values() "
   ]
  },
  {
   "cell_type": "code",
   "execution_count": 34,
   "id": "284bb631-9fde-4f38-8fcc-e30bb2b56e0c",
   "metadata": {},
   "outputs": [
    {
     "data": {
      "text/plain": [
       "dict_keys(['a', 'b'])"
      ]
     },
     "execution_count": 34,
     "metadata": {},
     "output_type": "execute_result"
    }
   ],
   "source": [
    "d2.keys()"
   ]
  },
  {
   "cell_type": "markdown",
   "id": "c50657b8-688c-47f3-8dbb-8170848c3d5f",
   "metadata": {
    "jp-MarkdownHeadingCollapsed": true
   },
   "source": [
    "# Advance Lists"
   ]
  },
  {
   "cell_type": "code",
   "execution_count": 35,
   "id": "ef1728b1-db07-47cd-b116-a1bbe915923d",
   "metadata": {},
   "outputs": [],
   "source": [
    "l = [1,2,3,4]"
   ]
  },
  {
   "cell_type": "code",
   "execution_count": 36,
   "id": "dc593125-9c7c-4081-993c-a3832024eb9b",
   "metadata": {},
   "outputs": [],
   "source": [
    "l.append(5)"
   ]
  },
  {
   "cell_type": "code",
   "execution_count": 37,
   "id": "94e2f29c-2563-409c-8fc9-9b90aedc8658",
   "metadata": {},
   "outputs": [
    {
     "data": {
      "text/plain": [
       "[1, 2, 3, 4, 5]"
      ]
     },
     "execution_count": 37,
     "metadata": {},
     "output_type": "execute_result"
    }
   ],
   "source": [
    "l"
   ]
  },
  {
   "cell_type": "code",
   "execution_count": 38,
   "id": "b90e293d-01a1-4b79-b443-6a5caefc6b9e",
   "metadata": {},
   "outputs": [
    {
     "data": {
      "text/plain": [
       "1"
      ]
     },
     "execution_count": 38,
     "metadata": {},
     "output_type": "execute_result"
    }
   ],
   "source": [
    "l.count(3)"
   ]
  },
  {
   "cell_type": "code",
   "execution_count": 39,
   "id": "91b3c159-d878-461f-9841-840628f9f92e",
   "metadata": {},
   "outputs": [
    {
     "data": {
      "text/plain": [
       "0"
      ]
     },
     "execution_count": 39,
     "metadata": {},
     "output_type": "execute_result"
    }
   ],
   "source": [
    "l.count(10)"
   ]
  },
  {
   "cell_type": "code",
   "execution_count": 45,
   "id": "e44501df-0b05-4b2a-a40b-70eefbbdc559",
   "metadata": {},
   "outputs": [
    {
     "name": "stdout",
     "output_type": "stream",
     "text": [
      "[1, 2, 3, 4, [4, 5]]\n",
      "[1, 2, 3, 4]\n",
      "[1, 2, 3, 4, 4, 5]\n"
     ]
    }
   ],
   "source": [
    "x = [1,2,3,4]\n",
    "y = [4,5]\n",
    "x.append(y)\n",
    "print(x)\n",
    "del x[4]\n",
    "print(x)\n",
    "x.extend(y)\n",
    "print(x)"
   ]
  },
  {
   "cell_type": "code",
   "execution_count": 46,
   "id": "e1629f50-48a0-4a15-bab3-206b5759ec44",
   "metadata": {},
   "outputs": [
    {
     "data": {
      "text/plain": [
       "3"
      ]
     },
     "execution_count": 46,
     "metadata": {},
     "output_type": "execute_result"
    }
   ],
   "source": [
    "x.index(4)"
   ]
  },
  {
   "cell_type": "code",
   "execution_count": 47,
   "id": "745fbb57-280b-4b76-b7ef-a518a6f0acd5",
   "metadata": {},
   "outputs": [
    {
     "data": {
      "text/plain": [
       "2"
      ]
     },
     "execution_count": 47,
     "metadata": {},
     "output_type": "execute_result"
    }
   ],
   "source": [
    "x.count(4)"
   ]
  },
  {
   "cell_type": "code",
   "execution_count": 48,
   "id": "7fdeda58-e340-4910-854b-c623d8e89b83",
   "metadata": {},
   "outputs": [],
   "source": [
    "x.insert(2,\"inserted\")"
   ]
  },
  {
   "cell_type": "code",
   "execution_count": 49,
   "id": "7e18c736-f619-45fc-8962-eb045fd9d707",
   "metadata": {},
   "outputs": [
    {
     "data": {
      "text/plain": [
       "[1, 2, 'inserted', 3, 4, 4, 5]"
      ]
     },
     "execution_count": 49,
     "metadata": {},
     "output_type": "execute_result"
    }
   ],
   "source": [
    "x"
   ]
  },
  {
   "cell_type": "code",
   "execution_count": 50,
   "id": "8158e75d-9e2e-463d-9371-04040c4a2080",
   "metadata": {},
   "outputs": [],
   "source": [
    "ele = x.pop(2)"
   ]
  },
  {
   "cell_type": "code",
   "execution_count": 51,
   "id": "896c367c-6ba4-4f14-a787-c51398fd8a6c",
   "metadata": {},
   "outputs": [
    {
     "data": {
      "text/plain": [
       "'inserted'"
      ]
     },
     "execution_count": 51,
     "metadata": {},
     "output_type": "execute_result"
    }
   ],
   "source": [
    "ele"
   ]
  },
  {
   "cell_type": "code",
   "execution_count": 52,
   "id": "f5c6c437-b7e5-42e0-849c-9e21a75c621e",
   "metadata": {},
   "outputs": [],
   "source": [
    "p = x.pop()"
   ]
  },
  {
   "cell_type": "code",
   "execution_count": 53,
   "id": "b7678cef-5d91-4b82-b727-efbe83db4525",
   "metadata": {},
   "outputs": [
    {
     "data": {
      "text/plain": [
       "5"
      ]
     },
     "execution_count": 53,
     "metadata": {},
     "output_type": "execute_result"
    }
   ],
   "source": [
    "p"
   ]
  },
  {
   "cell_type": "code",
   "execution_count": 54,
   "id": "465f1c06-0d2f-4e51-852d-aefa1ca04077",
   "metadata": {},
   "outputs": [],
   "source": [
    "x.remove(1)"
   ]
  },
  {
   "cell_type": "code",
   "execution_count": 55,
   "id": "65fcd05b-1c25-4638-89b4-6bcbc41f000e",
   "metadata": {},
   "outputs": [
    {
     "data": {
      "text/plain": [
       "[2, 3, 4, 4]"
      ]
     },
     "execution_count": 55,
     "metadata": {},
     "output_type": "execute_result"
    }
   ],
   "source": [
    "x"
   ]
  },
  {
   "cell_type": "code",
   "execution_count": 56,
   "id": "a6c53629-d65e-4c52-a123-a5625b3b32d1",
   "metadata": {},
   "outputs": [
    {
     "data": {
      "text/plain": [
       "[4, 4, 3, 2]"
      ]
     },
     "execution_count": 56,
     "metadata": {},
     "output_type": "execute_result"
    }
   ],
   "source": [
    "x.reverse()\n",
    "x"
   ]
  }
 ],
 "metadata": {
  "kernelspec": {
   "display_name": "Python 3 (ipykernel)",
   "language": "python",
   "name": "python3"
  },
  "language_info": {
   "codemirror_mode": {
    "name": "ipython",
    "version": 3
   },
   "file_extension": ".py",
   "mimetype": "text/x-python",
   "name": "python",
   "nbconvert_exporter": "python",
   "pygments_lexer": "ipython3",
   "version": "3.13.5"
  }
 },
 "nbformat": 4,
 "nbformat_minor": 5
}
