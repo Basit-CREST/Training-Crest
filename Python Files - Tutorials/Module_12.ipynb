{
 "cells": [
  {
   "cell_type": "markdown",
   "id": "00ed1d15-a0f8-4ead-b9bd-6e3f7cf6cf4b",
   "metadata": {},
   "source": [
    "# Decorators"
   ]
  },
  {
   "cell_type": "markdown",
   "id": "573642d2-a0ee-4ed2-899a-32d3176216a6",
   "metadata": {
    "jp-MarkdownHeadingCollapsed": true
   },
   "source": [
    "### Function returns another Function"
   ]
  },
  {
   "cell_type": "code",
   "execution_count": 8,
   "id": "8b7f8db1-db9c-46be-b984-7f499c9dc8f3",
   "metadata": {},
   "outputs": [],
   "source": [
    "def hello():\n",
    "    print(\"Hello, greeting!\")"
   ]
  },
  {
   "cell_type": "code",
   "execution_count": 9,
   "id": "c4da4557-0542-4445-9215-50855a53f78c",
   "metadata": {},
   "outputs": [],
   "source": [
    "new_var = hello"
   ]
  },
  {
   "cell_type": "code",
   "execution_count": 10,
   "id": "2a2cdc20-dc98-45d3-b4d7-8a0aeb002e4c",
   "metadata": {},
   "outputs": [],
   "source": [
    "del hello"
   ]
  },
  {
   "cell_type": "code",
   "execution_count": 11,
   "id": "e16dcea0-25ad-4a59-9447-dd126ee16169",
   "metadata": {},
   "outputs": [
    {
     "name": "stdout",
     "output_type": "stream",
     "text": [
      "Hello, greeting!\n"
     ]
    }
   ],
   "source": [
    "new_var()"
   ]
  },
  {
   "cell_type": "code",
   "execution_count": 20,
   "id": "925cbc10-4ae5-4f07-85dc-5ab8efd258ec",
   "metadata": {},
   "outputs": [],
   "source": [
    "def new_func(name):\n",
    "\n",
    "    def greet():\n",
    "        return f\"i am greet function\"\n",
    "\n",
    "    def printer():\n",
    "        return f\"i am printer function\"\n",
    "        \n",
    "    if(name == \"Basit\"):\n",
    "        return greet()\n",
    "        "
   ]
  },
  {
   "cell_type": "code",
   "execution_count": 21,
   "id": "d4782039-4cde-4138-b441-33ccffe48dd2",
   "metadata": {},
   "outputs": [],
   "source": [
    "new_obj = new_func(\"Basit\")"
   ]
  },
  {
   "cell_type": "code",
   "execution_count": 23,
   "id": "92bade0f-d5ad-426e-bc49-5e3493919281",
   "metadata": {},
   "outputs": [
    {
     "name": "stdout",
     "output_type": "stream",
     "text": [
      "i am greet function\n"
     ]
    }
   ],
   "source": [
    "print(new_obj)"
   ]
  },
  {
   "cell_type": "code",
   "execution_count": 24,
   "id": "b9bb5a60-439c-46bb-8ee6-0e803cbfb844",
   "metadata": {},
   "outputs": [],
   "source": [
    "def new_func(name):\n",
    "\n",
    "    def greet():\n",
    "        return f\"i am greet function\"\n",
    "\n",
    "    def printer():\n",
    "        return f\"i am printer function\"\n",
    "        \n",
    "    if(name == \"Basit\"):\n",
    "        return greet\n",
    "        "
   ]
  },
  {
   "cell_type": "code",
   "execution_count": 25,
   "id": "5feb301c-ec66-412b-9ff7-da9282c89e2c",
   "metadata": {},
   "outputs": [],
   "source": [
    "new_obj_2 = new_func(\"Basit\")"
   ]
  },
  {
   "cell_type": "code",
   "execution_count": 26,
   "id": "6b5caa0a-a7fe-4ca8-a44d-83283e175b5e",
   "metadata": {},
   "outputs": [
    {
     "data": {
      "text/plain": [
       "'i am greet function'"
      ]
     },
     "execution_count": 26,
     "metadata": {},
     "output_type": "execute_result"
    }
   ],
   "source": [
    "new_obj_2()"
   ]
  },
  {
   "cell_type": "code",
   "execution_count": 27,
   "id": "f96b6b74-8876-4c9c-96df-af8922c8b498",
   "metadata": {},
   "outputs": [
    {
     "data": {
      "text/plain": [
       "<function __main__.new_func.<locals>.greet()>"
      ]
     },
     "execution_count": 27,
     "metadata": {},
     "output_type": "execute_result"
    }
   ],
   "source": [
    "new_obj_2      "
   ]
  },
  {
   "cell_type": "markdown",
   "id": "fff1b775-fc71-4b50-b337-1de49e28dcc1",
   "metadata": {
    "jp-MarkdownHeadingCollapsed": true
   },
   "source": [
    "### Function as an Arguments in another function"
   ]
  },
  {
   "cell_type": "code",
   "execution_count": 30,
   "id": "b0eedb62-1ccf-4389-a656-1471c8eaa543",
   "metadata": {},
   "outputs": [],
   "source": [
    "def hey():\n",
    "    return \"today is wednesday\""
   ]
  },
  {
   "cell_type": "code",
   "execution_count": 31,
   "id": "f710d2bc-0a27-4bb5-a285-039ddfe500e3",
   "metadata": {},
   "outputs": [],
   "source": [
    "def give_me_arg(func_coming):\n",
    "    print(\"i am function that accepting function as an argument\")\n",
    "    print(func_coming())"
   ]
  },
  {
   "cell_type": "code",
   "execution_count": 33,
   "id": "7a7cc6fe-f0b0-4a2b-a716-608798d71064",
   "metadata": {},
   "outputs": [
    {
     "name": "stdout",
     "output_type": "stream",
     "text": [
      "i am function that accepting function as an argument\n",
      "today is wednesday\n"
     ]
    }
   ],
   "source": [
    "give_me_arg(hey)"
   ]
  },
  {
   "cell_type": "markdown",
   "id": "c0f581c8-f066-437a-8b8d-6d93da04e64e",
   "metadata": {
    "jp-MarkdownHeadingCollapsed": true
   },
   "source": [
    "### Decorators Blue Print"
   ]
  },
  {
   "cell_type": "code",
   "execution_count": 73,
   "id": "da065b84-8fd5-4ae8-b9a0-cc37b38bf809",
   "metadata": {},
   "outputs": [],
   "source": [
    "def new_decorator(old_func):\n",
    "    def new_func():\n",
    "        print(\"Extra code above old function\")\n",
    "        old_func()\n",
    "        print(\"Extra code below old function\")\n",
    "    return new_func"
   ]
  },
  {
   "cell_type": "code",
   "execution_count": 74,
   "id": "1b73a2f8-a097-4b34-87b0-966b8c29c890",
   "metadata": {},
   "outputs": [],
   "source": [
    "def need_decorator():\n",
    "    print(\"i am old function\")"
   ]
  },
  {
   "cell_type": "code",
   "execution_count": 75,
   "id": "a020bc8e-42f1-464b-a254-76ed7f111ab1",
   "metadata": {},
   "outputs": [
    {
     "name": "stdout",
     "output_type": "stream",
     "text": [
      "i am old function\n"
     ]
    }
   ],
   "source": [
    "need_decorator()"
   ]
  },
  {
   "cell_type": "code",
   "execution_count": 76,
   "id": "7edc4e3f-2eeb-40db-a307-47e07ae95583",
   "metadata": {},
   "outputs": [],
   "source": [
    "need_decorator = new_decorator(need_decorator)"
   ]
  },
  {
   "cell_type": "code",
   "execution_count": 77,
   "id": "d92a8155-6598-4d0c-917e-bfbb3b8b535c",
   "metadata": {},
   "outputs": [
    {
     "name": "stdout",
     "output_type": "stream",
     "text": [
      "Extra code above old function\n",
      "i am old function\n",
      "Extra code below old function\n"
     ]
    }
   ],
   "source": [
    "need_decorator()"
   ]
  },
  {
   "cell_type": "code",
   "execution_count": 82,
   "id": "14baf582-734c-40f9-87de-ff3985d3f72a",
   "metadata": {},
   "outputs": [],
   "source": [
    "@new_decorator\n",
    "def need_decorator():\n",
    "    print(\"i am now new\")"
   ]
  },
  {
   "cell_type": "code",
   "execution_count": 83,
   "id": "69018817-4b70-4144-bcf8-f47e683c4fe5",
   "metadata": {},
   "outputs": [
    {
     "name": "stdout",
     "output_type": "stream",
     "text": [
      "Extra code above old function\n",
      "i am now new\n",
      "Extra code below old function\n"
     ]
    }
   ],
   "source": [
    "need_decorator()"
   ]
  }
 ],
 "metadata": {
  "kernelspec": {
   "display_name": "Python 3 (ipykernel)",
   "language": "python",
   "name": "python3"
  },
  "language_info": {
   "codemirror_mode": {
    "name": "ipython",
    "version": 3
   },
   "file_extension": ".py",
   "mimetype": "text/x-python",
   "name": "python",
   "nbconvert_exporter": "python",
   "pygments_lexer": "ipython3",
   "version": "3.13.5"
  }
 },
 "nbformat": 4,
 "nbformat_minor": 5
}
