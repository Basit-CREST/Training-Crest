{
 "cells": [
  {
   "cell_type": "markdown",
   "id": "e5b14812-678d-4e42-ad92-74cfa88e66f3",
   "metadata": {
    "jp-MarkdownHeadingCollapsed": true
   },
   "source": [
    "# Numbers"
   ]
  },
  {
   "cell_type": "code",
   "execution_count": 11,
   "id": "7cfb49ac-3c3d-4c68-8a9f-158105811f07",
   "metadata": {},
   "outputs": [
    {
     "name": "stdout",
     "output_type": "stream",
     "text": [
      "4\n",
      "0\n",
      "4\n",
      "3.6\n",
      "3\n",
      "8\n",
      "1\n"
     ]
    }
   ],
   "source": [
    "print(2 + 2)\n",
    "print(2 - 2)\n",
    "print(2 * 2)\n",
    "print(18 / 5)\n",
    "print(18 // 5)\n",
    "print(2 ** 3)\n",
    "print(3 % 2)"
   ]
  },
  {
   "cell_type": "markdown",
   "id": "c7c4a73f-b492-4004-a82c-48cbad1dde67",
   "metadata": {
    "jp-MarkdownHeadingCollapsed": true
   },
   "source": [
    "# Variable Assignhments"
   ]
  },
  {
   "cell_type": "code",
   "execution_count": 13,
   "id": "c556526f-ac06-4762-9d90-16e0feebbfc0",
   "metadata": {},
   "outputs": [
    {
     "name": "stdout",
     "output_type": "stream",
     "text": [
      "5\n"
     ]
    }
   ],
   "source": [
    "a = 5\n",
    "print(a)"
   ]
  },
  {
   "cell_type": "code",
   "execution_count": 14,
   "id": "369e2f35-b17a-4ed3-9151-104432ad4694",
   "metadata": {},
   "outputs": [
    {
     "name": "stdout",
     "output_type": "stream",
     "text": [
      "10\n"
     ]
    }
   ],
   "source": [
    "a = 10 \n",
    "print(a)"
   ]
  },
  {
   "cell_type": "code",
   "execution_count": 18,
   "id": "398b619c-b3b3-4e8b-9edd-11b9e3d13cf0",
   "metadata": {},
   "outputs": [
    {
     "name": "stdout",
     "output_type": "stream",
     "text": [
      "80\n"
     ]
    }
   ],
   "source": [
    "a = a + a  #as many time we run this cell, value of a getting daouble every time\n",
    "print(a)"
   ]
  },
  {
   "cell_type": "markdown",
   "id": "3ce247dd-229c-45ba-bc20-5fb1bf1abc16",
   "metadata": {
    "jp-MarkdownHeadingCollapsed": true
   },
   "source": [
    "# Strings"
   ]
  },
  {
   "cell_type": "code",
   "execution_count": 44,
   "id": "21b4d3f3-50a6-48f9-bd4d-4038a75ab091",
   "metadata": {},
   "outputs": [
    {
     "name": "stdout",
     "output_type": "stream",
     "text": [
      "Hello, i don't have it\n",
      "o\n"
     ]
    }
   ],
   "source": [
    "s = 'Hello, i don\\'t have it'\n",
    "print('Hello, i don\\'t have it')\n",
    "print(s[4])"
   ]
  },
  {
   "cell_type": "code",
   "execution_count": 28,
   "id": "f7e00e53-3213-4fae-9744-cdef886e74a5",
   "metadata": {},
   "outputs": [
    {
     "name": "stdout",
     "output_type": "stream",
     "text": [
      " I am sorry ,\n",
      "it's not what it is \n"
     ]
    }
   ],
   "source": [
    "ss = \"\"\" I am sorry ,\n",
    "it's not what it is \"\"\"\n",
    "print(ss) # multi line strings"
   ]
  },
  {
   "cell_type": "code",
   "execution_count": 31,
   "id": "3a77b339-497b-48ac-a82b-8321d21c721f",
   "metadata": {},
   "outputs": [
    {
     "name": "stdout",
     "output_type": "stream",
     "text": [
      "i\n"
     ]
    }
   ],
   "source": [
    "print(s[-2:-1])"
   ]
  },
  {
   "cell_type": "code",
   "execution_count": 47,
   "id": "50f00460-ab3a-45c8-baf4-6fa076f13dc5",
   "metadata": {},
   "outputs": [
    {
     "name": "stdout",
     "output_type": "stream",
     "text": [
      "zyxwvutsrqponmlkjihgfedcba\n",
      "abcdefghijklmnopqrstuvwxyz\n"
     ]
    }
   ],
   "source": [
    "sx = 'abcdefghijklmnopqrstuvwxyz'\n",
    "xyz = \"\".join(reversed(sx))\n",
    "print(xyz)\n",
    "print(xyz[::-1])"
   ]
  },
  {
   "cell_type": "code",
   "execution_count": 49,
   "id": "42822594-55e3-4bbf-873e-859e912f801d",
   "metadata": {},
   "outputs": [],
   "source": [
    "# slicing \n",
    "# [starting:ending:jumping size or in negative it will be reversing element]"
   ]
  },
  {
   "cell_type": "code",
   "execution_count": 54,
   "id": "1ad35017-d5a2-4a11-a66c-6b731d44328e",
   "metadata": {},
   "outputs": [
    {
     "name": "stdout",
     "output_type": "stream",
     "text": [
      "cf\n"
     ]
    }
   ],
   "source": [
    "print(sx[2:7:3])"
   ]
  },
  {
   "cell_type": "code",
   "execution_count": 53,
   "id": "849d339d-529c-4814-a9da-7d6581ef69ee",
   "metadata": {},
   "outputs": [
    {
     "name": "stdout",
     "output_type": "stream",
     "text": [
      "tw\n"
     ]
    }
   ],
   "source": [
    "print(sx[-7:-2:3])"
   ]
  },
  {
   "cell_type": "code",
   "execution_count": 57,
   "id": "5a30c1e0-93e5-41e1-a515-d85283310047",
   "metadata": {},
   "outputs": [
    {
     "name": "stdout",
     "output_type": "stream",
     "text": [
      "My age is 10\n"
     ]
    }
   ],
   "source": [
    "a = 10 \n",
    "print(f\"My age is {a}\") #using f-string"
   ]
  },
  {
   "cell_type": "code",
   "execution_count": 61,
   "id": "3ca947ec-6a8d-447a-a78a-93121b09cf26",
   "metadata": {},
   "outputs": [
    {
     "name": "stdout",
     "output_type": "stream",
     "text": [
      "Hello There, My Self Basit and I am from Crest\n"
     ]
    }
   ],
   "source": [
    "print(\"Hello There, My Self {0} and I am from {1}\".format('Basit','Crest'))"
   ]
  },
  {
   "cell_type": "code",
   "execution_count": 64,
   "id": "37ed2805-c4dc-436c-81d8-bc7b067d7b5d",
   "metadata": {},
   "outputs": [
    {
     "name": "stdout",
     "output_type": "stream",
     "text": [
      "Is really 5/2 is equal to 2.5\n"
     ]
    }
   ],
   "source": [
    "result = 5 / 2\n",
    "print(\"Is really {} is equal to {r:1.1f}\".format('5/2',r = result))"
   ]
  },
  {
   "cell_type": "markdown",
   "id": "f283c3e0-fc69-465f-a111-4cc16cb9d5d0",
   "metadata": {
    "jp-MarkdownHeadingCollapsed": true
   },
   "source": [
    "# Data Structures"
   ]
  },
  {
   "cell_type": "markdown",
   "id": "c927905a-9a87-4387-8485-023593bd8453",
   "metadata": {},
   "source": [
    "Lists"
   ]
  },
  {
   "cell_type": "code",
   "execution_count": 74,
   "id": "8a57b9ff-9468-4fc2-95fd-ab0fbfb1be52",
   "metadata": {},
   "outputs": [
    {
     "name": "stdout",
     "output_type": "stream",
     "text": [
      "[1, 2, 3]\n"
     ]
    }
   ],
   "source": [
    "a = [1,2,3]\n",
    "print(a)"
   ]
  },
  {
   "cell_type": "code",
   "execution_count": 75,
   "id": "d4cc9d34-7677-4d77-a6c3-ddd0dcc1b251",
   "metadata": {},
   "outputs": [
    {
     "name": "stdout",
     "output_type": "stream",
     "text": [
      "[1, 2, 3, 4, 5, 6]\n"
     ]
    }
   ],
   "source": [
    "b = [4,5,6]\n",
    "a = a + b\n",
    "print(a)"
   ]
  },
  {
   "cell_type": "code",
   "execution_count": 76,
   "id": "a3a1ebc7-330e-462c-8ca6-e566542f2606",
   "metadata": {},
   "outputs": [
    {
     "name": "stdout",
     "output_type": "stream",
     "text": [
      "[0, 2, 3, 4, 5, 6]\n"
     ]
    }
   ],
   "source": [
    "a[0] = 0\n",
    "print(a)"
   ]
  },
  {
   "cell_type": "code",
   "execution_count": 81,
   "id": "99cd8856-ad19-4173-a067-ef6c9f05737b",
   "metadata": {},
   "outputs": [
    {
     "name": "stdout",
     "output_type": "stream",
     "text": [
      "[1, 2, 3, 4, 5, [...]]\n",
      "[1, 2, 3, 4, 5, [...], [1, 2, 3, 4, 5, [...]]]\n"
     ]
    }
   ],
   "source": [
    "a = [1,2,3,4,5]\n",
    "a.append(a) \n",
    "print(a)  \n",
    "a.append(a.copy())\n",
    "print(a)"
   ]
  },
  {
   "cell_type": "code",
   "execution_count": 82,
   "id": "c2cda20d-e715-4abe-b6af-a6d425f32b92",
   "metadata": {},
   "outputs": [
    {
     "data": {
      "text/plain": [
       "[1, 2, 3, 4, 5, [1, 2, 3, 4, 5, [...]]]"
      ]
     },
     "execution_count": 82,
     "metadata": {},
     "output_type": "execute_result"
    }
   ],
   "source": [
    "a.pop()"
   ]
  },
  {
   "cell_type": "code",
   "execution_count": 83,
   "id": "1cdb9fdc-34ee-491a-8135-db618db2640c",
   "metadata": {},
   "outputs": [
    {
     "data": {
      "text/plain": [
       "1"
      ]
     },
     "execution_count": 83,
     "metadata": {},
     "output_type": "execute_result"
    }
   ],
   "source": [
    "a.pop(0)"
   ]
  },
  {
   "cell_type": "code",
   "execution_count": 88,
   "id": "5e355ff4-0385-4a80-a7a9-55c88c51b38b",
   "metadata": {},
   "outputs": [
    {
     "name": "stdout",
     "output_type": "stream",
     "text": [
      "[1, 1, 2]\n"
     ]
    }
   ],
   "source": [
    "a = [1 , 2 , 1]  # for sorting we need simmilar datatype in list contain\n",
    "a.sort()\n",
    "print(a)"
   ]
  },
  {
   "cell_type": "markdown",
   "id": "41c565a0-caa4-4ab9-8419-a1925c386b19",
   "metadata": {},
   "source": [
    "Dictionary"
   ]
  },
  {
   "cell_type": "code",
   "execution_count": 95,
   "id": "75866953-9272-4fb1-bc6f-e2ed05c51098",
   "metadata": {},
   "outputs": [
    {
     "data": {
      "text/plain": [
       "20"
      ]
     },
     "execution_count": 95,
     "metadata": {},
     "output_type": "execute_result"
    }
   ],
   "source": [
    "dict = {\"My\" : 20, \"My sis\" : 22}\n",
    "dict[\"My\"]"
   ]
  },
  {
   "cell_type": "code",
   "execution_count": 96,
   "id": "c7b97fa9-5d26-4fd7-b75d-b51aa7f68205",
   "metadata": {},
   "outputs": [
    {
     "name": "stdout",
     "output_type": "stream",
     "text": [
      "My's = 20\n",
      "My sis's = 22\n"
     ]
    }
   ],
   "source": [
    "for x,y in dict.items():\n",
    "    print(f\"{x}'s = {y}\")"
   ]
  },
  {
   "cell_type": "code",
   "execution_count": 98,
   "id": "b8f77411-19d7-4e59-b332-247bf09e5f41",
   "metadata": {},
   "outputs": [
    {
     "data": {
      "text/plain": [
       "'Nested Dictionary'"
      ]
     },
     "execution_count": 98,
     "metadata": {},
     "output_type": "execute_result"
    }
   ],
   "source": [
    "dict1 = {\"a\" : 1, \"b\" : [0,1,2] , \"c\" : {\"d\" : \"Nested Dictionary\"}}\n",
    "dict1[\"c\"][\"d\"]"
   ]
  },
  {
   "cell_type": "markdown",
   "id": "9c7c8f1a-ddd4-4ba7-b8dc-d16c8880ef83",
   "metadata": {},
   "source": [
    "Tuples"
   ]
  },
  {
   "cell_type": "code",
   "execution_count": 110,
   "id": "26f4ad3a-c770-44af-91cf-fb4743679032",
   "metadata": {},
   "outputs": [
    {
     "name": "stdout",
     "output_type": "stream",
     "text": [
      "1\n"
     ]
    }
   ],
   "source": [
    "f = (1,2,3)\n",
    "print(f[0])"
   ]
  },
  {
   "cell_type": "code",
   "execution_count": 112,
   "id": "da145a6e-8af2-44d9-86c5-4021a1a350c4",
   "metadata": {},
   "outputs": [
    {
     "ename": "TypeError",
     "evalue": "'tuple' object does not support item assignment",
     "output_type": "error",
     "traceback": [
      "\u001b[1;31m---------------------------------------------------------------------------\u001b[0m",
      "\u001b[1;31mTypeError\u001b[0m                                 Traceback (most recent call last)",
      "Cell \u001b[1;32mIn[112], line 1\u001b[0m\n\u001b[1;32m----> 1\u001b[0m f[\u001b[38;5;241m0\u001b[39m] \u001b[38;5;241m=\u001b[39m \u001b[38;5;241m0\u001b[39m\n",
      "\u001b[1;31mTypeError\u001b[0m: 'tuple' object does not support item assignment"
     ]
    }
   ],
   "source": [
    "f[0] = 0 # tuples immutable"
   ]
  },
  {
   "cell_type": "code",
   "execution_count": 113,
   "id": "4040e275-0a98-46eb-adcc-0443043b88f1",
   "metadata": {},
   "outputs": [
    {
     "data": {
      "text/plain": [
       "2"
      ]
     },
     "execution_count": 113,
     "metadata": {},
     "output_type": "execute_result"
    }
   ],
   "source": [
    "g = ('a','a','b')\n",
    "g.count('a')"
   ]
  },
  {
   "cell_type": "code",
   "execution_count": 115,
   "id": "dd58a1fd-4369-4650-b19e-08b48280b982",
   "metadata": {},
   "outputs": [
    {
     "data": {
      "text/plain": [
       "0"
      ]
     },
     "execution_count": 115,
     "metadata": {},
     "output_type": "execute_result"
    }
   ],
   "source": [
    "g.index('a')"
   ]
  },
  {
   "cell_type": "markdown",
   "id": "6caa0f73-126b-4133-abaa-5a6b2695b117",
   "metadata": {},
   "source": [
    "Sets"
   ]
  },
  {
   "cell_type": "code",
   "execution_count": 117,
   "id": "bb7071f9-57f1-4d0d-af4b-447115c8043f",
   "metadata": {},
   "outputs": [
    {
     "data": {
      "text/plain": [
       "set"
      ]
     },
     "execution_count": 117,
     "metadata": {},
     "output_type": "execute_result"
    }
   ],
   "source": [
    "s = set()\n",
    "type(s)"
   ]
  },
  {
   "cell_type": "code",
   "execution_count": 122,
   "id": "7fd65976-bfd2-4bda-8345-10d86b04b42b",
   "metadata": {},
   "outputs": [
    {
     "name": "stdout",
     "output_type": "stream",
     "text": [
      "{1, 2}\n"
     ]
    }
   ],
   "source": [
    "k = set()\n",
    "k = {1,2}\n",
    "k.add(2)\n",
    "print(k)"
   ]
  },
  {
   "cell_type": "code",
   "execution_count": 123,
   "id": "ad5665df-9ee3-42a7-85b4-ea37a8b04702",
   "metadata": {},
   "outputs": [
    {
     "name": "stdout",
     "output_type": "stream",
     "text": [
      "{1, 2, 3}\n"
     ]
    }
   ],
   "source": [
    "list_l1 = [1,2,3,3,3,3,3]\n",
    "list_l1 = set(list_l1)\n",
    "print(list_l1)"
   ]
  },
  {
   "cell_type": "markdown",
   "id": "b7fe5384-8863-42d9-befd-add111d60260",
   "metadata": {},
   "source": [
    "Boolean"
   ]
  },
  {
   "cell_type": "code",
   "execution_count": 124,
   "id": "35a2d6a3-0b2e-4f1c-8431-56b735890829",
   "metadata": {},
   "outputs": [
    {
     "data": {
      "text/plain": [
       "True"
      ]
     },
     "execution_count": 124,
     "metadata": {},
     "output_type": "execute_result"
    }
   ],
   "source": [
    "True"
   ]
  },
  {
   "cell_type": "code",
   "execution_count": 125,
   "id": "181991a6-fd4f-48e7-b949-6cd5ddc81fb9",
   "metadata": {},
   "outputs": [
    {
     "data": {
      "text/plain": [
       "False"
      ]
     },
     "execution_count": 125,
     "metadata": {},
     "output_type": "execute_result"
    }
   ],
   "source": [
    "1 > 2"
   ]
  },
  {
   "cell_type": "code",
   "execution_count": 129,
   "id": "de9a0be9-f8c2-4fec-8964-c8f1fd3be34e",
   "metadata": {},
   "outputs": [
    {
     "data": {
      "text/plain": [
       "bool"
      ]
     },
     "execution_count": 129,
     "metadata": {},
     "output_type": "execute_result"
    }
   ],
   "source": [
    "type(True)"
   ]
  },
  {
   "cell_type": "markdown",
   "id": "542cf303-8feb-4a56-a4e7-139ee62908d3",
   "metadata": {},
   "source": [
    "# File I/O"
   ]
  },
  {
   "cell_type": "code",
   "execution_count": 131,
   "id": "1346d135-301c-4799-88a5-689a07536ba2",
   "metadata": {},
   "outputs": [
    {
     "name": "stdout",
     "output_type": "stream",
     "text": [
      "Writing my_text.txt\n"
     ]
    }
   ],
   "source": [
    "%%writefile my_text.txt\n",
    "Hello, my self jaggu. Who are you?"
   ]
  },
  {
   "cell_type": "code",
   "execution_count": 135,
   "id": "9a4e09d3-df03-46cc-9c1f-3cb977593bbf",
   "metadata": {},
   "outputs": [
    {
     "name": "stdout",
     "output_type": "stream",
     "text": [
      "Hello, my self jaggu. Who are you?\n",
      "\n"
     ]
    }
   ],
   "source": [
    "my_txt = open('my_text.txt',mode='r')\n",
    "print(my_txt.read())"
   ]
  },
  {
   "cell_type": "code",
   "execution_count": null,
   "id": "3eb12d4c-bd08-4cf7-b9fb-aa5dd95c91f4",
   "metadata": {},
   "outputs": [],
   "source": []
  }
 ],
 "metadata": {
  "kernelspec": {
   "display_name": "Python 3 (ipykernel)",
   "language": "python",
   "name": "python3"
  },
  "language_info": {
   "codemirror_mode": {
    "name": "ipython",
    "version": 3
   },
   "file_extension": ".py",
   "mimetype": "text/x-python",
   "name": "python",
   "nbconvert_exporter": "python",
   "pygments_lexer": "ipython3",
   "version": "3.13.5"
  }
 },
 "nbformat": 4,
 "nbformat_minor": 5
}
