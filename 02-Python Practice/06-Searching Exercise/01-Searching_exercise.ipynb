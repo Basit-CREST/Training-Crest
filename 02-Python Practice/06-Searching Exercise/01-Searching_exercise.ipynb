{
 "cells": [
  {
   "cell_type": "markdown",
   "id": "dac18ca7-d68a-42a8-a0a8-61f9066be63b",
   "metadata": {
    "jp-MarkdownHeadingCollapsed": true
   },
   "source": [
    "# Binary Search"
   ]
  },
  {
   "cell_type": "code",
   "execution_count": 4,
   "id": "fe9e06dd-4f2b-4b32-9ca7-09ee31a289ce",
   "metadata": {},
   "outputs": [],
   "source": [
    "list = [3,5,7,0,3,4,2,6,1]"
   ]
  },
  {
   "cell_type": "code",
   "execution_count": 9,
   "id": "57eccf8a-390c-409f-ae4f-38fa963c60b4",
   "metadata": {},
   "outputs": [],
   "source": [
    "def binary_search(arr,key):\n",
    "    arr.sort()\n",
    "\n",
    "    length = len(arr)\n",
    "    left = 0\n",
    "    right = length - 1\n",
    "\n",
    "    while left <= right:\n",
    "        mid = left + right\n",
    "        mid = mid // 2\n",
    "        if list[mid] == key:\n",
    "            return f\"Found the Key\"\n",
    "        elif list[mid] > key:\n",
    "            right = mid - 1\n",
    "        else:\n",
    "            left =  mid + 1\n",
    "\n",
    "    print(\"Not Found The Key\")"
   ]
  },
  {
   "cell_type": "code",
   "execution_count": 10,
   "id": "068ad29c-276c-487a-be50-5cc2004cf0b8",
   "metadata": {},
   "outputs": [
    {
     "data": {
      "text/plain": [
       "'Found the Key'"
      ]
     },
     "execution_count": 10,
     "metadata": {},
     "output_type": "execute_result"
    }
   ],
   "source": [
    "binary_search(list,4)"
   ]
  },
  {
   "cell_type": "markdown",
   "id": "efa7d1df-aee3-4000-b227-d24d7ce7bdc3",
   "metadata": {
    "jp-MarkdownHeadingCollapsed": true
   },
   "source": [
    "# Binary Search Recursive"
   ]
  },
  {
   "cell_type": "code",
   "execution_count": 30,
   "id": "bd136e08-89ec-4fee-b471-4b687a402f57",
   "metadata": {},
   "outputs": [],
   "source": [
    "def recursive_binary(arr,left,right,key):\n",
    "    if not left <= right:\n",
    "        print(\"Not Found\")\n",
    "    else:\n",
    "        mid = left + right\n",
    "        mid = mid // 2\n",
    "        if arr[mid] == key:\n",
    "            print(\"Found\")\n",
    "        elif arr[mid] > key:\n",
    "            recursive_binary(arr,left,mid - 1,key)\n",
    "        else:\n",
    "            recursive_binary(arr,mid + 1,right,key)"
   ]
  },
  {
   "cell_type": "code",
   "execution_count": 31,
   "id": "a8928c16-62ca-46d5-87c7-74684718a693",
   "metadata": {},
   "outputs": [],
   "source": [
    "my_list = [4,8,2,9,1,2,7,3]\n",
    "my_list.sort()"
   ]
  },
  {
   "cell_type": "code",
   "execution_count": 32,
   "id": "091e57f3-8238-4151-ac06-7208fd832eb0",
   "metadata": {},
   "outputs": [
    {
     "name": "stdout",
     "output_type": "stream",
     "text": [
      "Found\n"
     ]
    }
   ],
   "source": [
    "recursive_binary(my_list,0,len(my_list)-1,4)"
   ]
  },
  {
   "cell_type": "code",
   "execution_count": 33,
   "id": "b8a5ed7e-7573-4811-937c-75561b0a429d",
   "metadata": {},
   "outputs": [
    {
     "name": "stdout",
     "output_type": "stream",
     "text": [
      "Not Found\n"
     ]
    }
   ],
   "source": [
    "recursive_binary(my_list,0,len(my_list)-1,10)"
   ]
  },
  {
   "cell_type": "markdown",
   "id": "ddfc30ab-e5a5-423a-83b4-7024f25a4687",
   "metadata": {
    "jp-MarkdownHeadingCollapsed": true
   },
   "source": [
    "# Rabin Karp"
   ]
  },
  {
   "cell_type": "code",
   "execution_count": 34,
   "id": "dbcb3220-6545-4f90-bbb3-38360d98cb8d",
   "metadata": {},
   "outputs": [],
   "source": [
    "txt = \"THIS IS A TEST TEXT\"\n",
    "pat = \"TEST\""
   ]
  },
  {
   "cell_type": "code",
   "execution_count": 39,
   "id": "36cb56f5-ca90-475c-abae-89bf206b0266",
   "metadata": {},
   "outputs": [],
   "source": [
    "def rabin_karp(text,pat):\n",
    "    q = 101\n",
    "    d = 255\n",
    "    N = len(text)\n",
    "    M = len(pat)\n",
    "    h = pow(d,M-1) % q\n",
    "    t = 0\n",
    "    p = 0\n",
    "\n",
    "\n",
    "    for i in range(M):\n",
    "        t = (d * t + ord(text[i])) % q\n",
    "        p = (d * p + ord(pat[i])) % q\n",
    "\n",
    "    for i in range(N-M+1):\n",
    "        if t == p:\n",
    "            for j in range(M):\n",
    "                if text[j+i] != pat[j]:\n",
    "                    break\n",
    "            j += 1\n",
    "            if j == M:\n",
    "                print(\"We found the Pattern at \" + str(i))\n",
    "\n",
    "        if i < (N-M):\n",
    "            t = (d*(t-ord(txt[i])*h) + ord(txt[i + M]))% q\n",
    "\n",
    "        if t < 0:\n",
    "            t += q   "
   ]
  },
  {
   "cell_type": "code",
   "execution_count": 40,
   "id": "99c296e1-acf2-4007-920e-de9016f59c7b",
   "metadata": {},
   "outputs": [
    {
     "name": "stdout",
     "output_type": "stream",
     "text": [
      "We found the Pattern at 10\n"
     ]
    }
   ],
   "source": [
    "rabin_karp(txt,pat)"
   ]
  },
  {
   "cell_type": "code",
   "execution_count": null,
   "id": "452b7772-5ab3-486c-9cf1-30f7bf2b6825",
   "metadata": {},
   "outputs": [],
   "source": []
  }
 ],
 "metadata": {
  "kernelspec": {
   "display_name": "Python 3 (ipykernel)",
   "language": "python",
   "name": "python3"
  },
  "language_info": {
   "codemirror_mode": {
    "name": "ipython",
    "version": 3
   },
   "file_extension": ".py",
   "mimetype": "text/x-python",
   "name": "python",
   "nbconvert_exporter": "python",
   "pygments_lexer": "ipython3",
   "version": "3.13.5"
  },
  "widgets": {
   "application/vnd.jupyter.widget-state+json": {
    "state": {},
    "version_major": 2,
    "version_minor": 0
   }
  }
 },
 "nbformat": 4,
 "nbformat_minor": 5
}
