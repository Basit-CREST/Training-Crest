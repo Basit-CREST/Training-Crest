{
 "cells": [
  {
   "cell_type": "markdown",
   "id": "7e0301f7-9c79-45a0-aeac-ec7e1ccd6ae9",
   "metadata": {
    "jp-MarkdownHeadingCollapsed": true
   },
   "source": [
    "# Reverse the Stack"
   ]
  },
  {
   "cell_type": "code",
   "execution_count": 38,
   "id": "a069e189-5b7c-44f8-91f5-fc460afaba87",
   "metadata": {},
   "outputs": [],
   "source": [
    "class stack():\n",
    "    def __init__(self):\n",
    "        self.elements = []\n",
    "\n",
    "    def push(self,value):\n",
    "        self.elements.append(value)\n",
    "\n",
    "    def pop(self):\n",
    "        return self.elements.pop()\n",
    "\n",
    "    def empty(self):\n",
    "        return self.elements == []\n",
    "\n",
    "    def print(self):\n",
    "        for i in self.elements:\n",
    "            print(i)\n",
    "\n",
    "    def size(self):\n",
    "        return len(self.elements)"
   ]
  },
  {
   "cell_type": "code",
   "execution_count": 14,
   "id": "ddc798f0-640c-49bf-859e-7eb63a1029e0",
   "metadata": {},
   "outputs": [],
   "source": [
    "def bottom_insert(s,val):\n",
    "\n",
    "    if s.empty():\n",
    "        s.push(val)\n",
    "    else:\n",
    "        popped = s.pop()\n",
    "        bottom_insert(s,val)\n",
    "        s.push(popped)\n",
    "    "
   ]
  },
  {
   "cell_type": "code",
   "execution_count": 15,
   "id": "e4ec994b-9ceb-4c66-8c03-6dc05cb30437",
   "metadata": {},
   "outputs": [],
   "source": [
    "def reverse(s):\n",
    "    if s.empty():\n",
    "        pass\n",
    "    else:\n",
    "        popped = s.pop()\n",
    "        reverse(s)\n",
    "        bottom_insert(s,popped)"
   ]
  },
  {
   "cell_type": "code",
   "execution_count": 16,
   "id": "7a6a3e12-7032-41a5-876c-bb9f2c5602ff",
   "metadata": {},
   "outputs": [],
   "source": [
    "s1 = stack()"
   ]
  },
  {
   "cell_type": "code",
   "execution_count": 17,
   "id": "79ba2119-dc9a-4f54-8255-194f8b87c084",
   "metadata": {},
   "outputs": [],
   "source": [
    "s1.push(1)\n",
    "s1.push(2)\n",
    "s1.push(3)\n",
    "s1.push(4)\n",
    "s1.push(5)"
   ]
  },
  {
   "cell_type": "code",
   "execution_count": 11,
   "id": "c27561bc-7978-48aa-b405-a218defc9817",
   "metadata": {},
   "outputs": [
    {
     "name": "stdout",
     "output_type": "stream",
     "text": [
      "1\n",
      "2\n",
      "3\n",
      "4\n",
      "5\n"
     ]
    }
   ],
   "source": [
    "s1.print()"
   ]
  },
  {
   "cell_type": "code",
   "execution_count": 18,
   "id": "a6ad5709-fb13-4e39-b406-f1f3f9ff4a63",
   "metadata": {},
   "outputs": [],
   "source": [
    "reverse(s1)"
   ]
  },
  {
   "cell_type": "code",
   "execution_count": 19,
   "id": "d2b88455-a12f-4d75-b11e-3adad6fe704a",
   "metadata": {},
   "outputs": [
    {
     "name": "stdout",
     "output_type": "stream",
     "text": [
      "5\n",
      "4\n",
      "3\n",
      "2\n",
      "1\n"
     ]
    }
   ],
   "source": [
    "s1.print()"
   ]
  },
  {
   "cell_type": "markdown",
   "id": "8cbc83e5-5777-4285-8c59-e7a739926ff0",
   "metadata": {
    "jp-MarkdownHeadingCollapsed": true
   },
   "source": [
    "# Check whether the given string is Palindrome using Stack"
   ]
  },
  {
   "cell_type": "code",
   "execution_count": 39,
   "id": "7e6d96e8-7bdb-4008-868a-d0459f3882f8",
   "metadata": {},
   "outputs": [],
   "source": [
    "s = \"geekeeg\""
   ]
  },
  {
   "cell_type": "code",
   "execution_count": 40,
   "id": "048bf20a-1be7-402f-9d66-eba52b082e16",
   "metadata": {},
   "outputs": [],
   "source": [
    "s2 = stack()"
   ]
  },
  {
   "cell_type": "code",
   "execution_count": 41,
   "id": "e8bd1df2-5374-4d9e-9625-39ad6167c595",
   "metadata": {},
   "outputs": [],
   "source": [
    "def check_palindrome(s):\n",
    "    for i in s:\n",
    "        s2.push(i)\n",
    "\n",
    "    if s2.size():  \n",
    "        for i in s:\n",
    "            if i != s2.pop():\n",
    "                return f\"Not palindrome\"\n",
    "    return f\"Palindrome\""
   ]
  },
  {
   "cell_type": "code",
   "execution_count": 42,
   "id": "7b263189-feca-4907-9e47-a1cc68a79b4c",
   "metadata": {},
   "outputs": [
    {
     "data": {
      "text/plain": [
       "'Palindrome'"
      ]
     },
     "execution_count": 42,
     "metadata": {},
     "output_type": "execute_result"
    }
   ],
   "source": [
    "check_palindrome(s)"
   ]
  },
  {
   "cell_type": "markdown",
   "id": "a16b8037-e957-4309-a4a9-317b5d4db090",
   "metadata": {
    "jp-MarkdownHeadingCollapsed": true
   },
   "source": [
    "# Queue Using Doubly linked list"
   ]
  },
  {
   "cell_type": "code",
   "execution_count": 43,
   "id": "51cd8c8c-4931-44ea-a52f-b4102d4e9d02",
   "metadata": {},
   "outputs": [],
   "source": [
    "class Node():\n",
    "    def __init__(self,val):\n",
    "        self.val = val\n",
    "        self.next = None\n",
    "        self.prev = None"
   ]
  },
  {
   "cell_type": "code",
   "execution_count": 56,
   "id": "b65f1995-89f5-4360-8a6d-f6c2421e0eb1",
   "metadata": {},
   "outputs": [],
   "source": [
    "class Queue():\n",
    "    def __init__(self):\n",
    "        self.Head = None\n",
    "        self.Tail = None\n",
    "    \n",
    "    def enqueue(self,val):\n",
    "        new_node = Node(val)\n",
    "        if self.Head == None:\n",
    "            self.Head = new_node\n",
    "            self.Tail = new_node\n",
    "        else:\n",
    "            self.Head.prev = new_node\n",
    "            new_node.next = self.Head\n",
    "            self.Head = new_node\n",
    "\n",
    "    def dequeue(self):\n",
    "        temp = self.Tail\n",
    "        self.Tail = temp.prev\n",
    "        temp.prev = None\n",
    "        return temp.val\n",
    "            \n",
    "    def print(self):\n",
    "        temp = self.Tail\n",
    "        while True:\n",
    "            print(temp.val)\n",
    "            temp = temp.prev\n",
    "            if temp==self.Head:\n",
    "                print(temp.val)\n",
    "                break"
   ]
  },
  {
   "cell_type": "code",
   "execution_count": 57,
   "id": "7cf86bce-e6ac-4826-8fd1-3a42e3a9f12c",
   "metadata": {},
   "outputs": [
    {
     "name": "stdout",
     "output_type": "stream",
     "text": [
      "1\n",
      "2\n",
      "3\n",
      "4\n",
      "5\n"
     ]
    }
   ],
   "source": [
    "q1 = Queue()\n",
    "q1.enqueue(1)\n",
    "q1.enqueue(2)\n",
    "q1.enqueue(3)\n",
    "q1.enqueue(4)\n",
    "q1.enqueue(5)\n",
    "q1.print()"
   ]
  },
  {
   "cell_type": "code",
   "execution_count": 58,
   "id": "f8daf6bc-0618-45cf-8732-efa1b86dfc50",
   "metadata": {},
   "outputs": [
    {
     "data": {
      "text/plain": [
       "1"
      ]
     },
     "execution_count": 58,
     "metadata": {},
     "output_type": "execute_result"
    }
   ],
   "source": [
    "q1.dequeue()"
   ]
  },
  {
   "cell_type": "code",
   "execution_count": 59,
   "id": "5a7adaa2-24b2-44b6-a6f0-1b82877e3758",
   "metadata": {},
   "outputs": [
    {
     "name": "stdout",
     "output_type": "stream",
     "text": [
      "2\n",
      "3\n",
      "4\n",
      "5\n"
     ]
    }
   ],
   "source": [
    "q1.print()"
   ]
  },
  {
   "cell_type": "code",
   "execution_count": 60,
   "id": "2b3885b6-8931-45e5-9b25-1accfd969490",
   "metadata": {},
   "outputs": [
    {
     "data": {
      "text/plain": [
       "2"
      ]
     },
     "execution_count": 60,
     "metadata": {},
     "output_type": "execute_result"
    }
   ],
   "source": [
    "q1.dequeue()"
   ]
  }
 ],
 "metadata": {
  "kernelspec": {
   "display_name": "Python 3 (ipykernel)",
   "language": "python",
   "name": "python3"
  },
  "language_info": {
   "codemirror_mode": {
    "name": "ipython",
    "version": 3
   },
   "file_extension": ".py",
   "mimetype": "text/x-python",
   "name": "python",
   "nbconvert_exporter": "python",
   "pygments_lexer": "ipython3",
   "version": "3.13.5"
  },
  "widgets": {
   "application/vnd.jupyter.widget-state+json": {
    "state": {},
    "version_major": 2,
    "version_minor": 0
   }
  }
 },
 "nbformat": 4,
 "nbformat_minor": 5
}
