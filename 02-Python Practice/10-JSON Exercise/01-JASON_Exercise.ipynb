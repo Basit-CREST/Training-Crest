{
 "cells": [
  {
   "cell_type": "markdown",
   "id": "ae44e1d7-23c3-4ef0-b74b-71600131e921",
   "metadata": {
    "jp-MarkdownHeadingCollapsed": true
   },
   "source": [
    "# Convert class object to JSON in Python"
   ]
  },
  {
   "cell_type": "code",
   "execution_count": 4,
   "id": "58b16c02-5769-43d2-ab3c-6c41ef34869f",
   "metadata": {},
   "outputs": [],
   "source": [
    "import json"
   ]
  },
  {
   "cell_type": "code",
   "execution_count": 1,
   "id": "6852fd20-eadc-4e85-9555-162c7011b54f",
   "metadata": {},
   "outputs": [],
   "source": [
    "class person():\n",
    "    def __init__(self,name,age):\n",
    "        self.name = name\n",
    "        self.age = age"
   ]
  },
  {
   "cell_type": "code",
   "execution_count": 2,
   "id": "30036236-05ed-4a8a-830b-f9b7f6f37400",
   "metadata": {},
   "outputs": [],
   "source": [
    "p1 = person(\"XYZ\",22)"
   ]
  },
  {
   "cell_type": "code",
   "execution_count": 5,
   "id": "b7437296-c0d3-4023-ac5e-833692554ed1",
   "metadata": {},
   "outputs": [],
   "source": [
    "dic = json.dumps(p1.__dict__)"
   ]
  },
  {
   "cell_type": "code",
   "execution_count": 9,
   "id": "db267514-9283-41e9-bf0f-87c27a842bfe",
   "metadata": {},
   "outputs": [
    {
     "name": "stdout",
     "output_type": "stream",
     "text": [
      "{\"name\": \"XYZ\", \"age\": 22}\n"
     ]
    }
   ],
   "source": [
    "print(dic)"
   ]
  },
  {
   "cell_type": "code",
   "execution_count": 7,
   "id": "daddc44e-e1e6-4cba-b012-95b417f8e3a2",
   "metadata": {},
   "outputs": [
    {
     "data": {
      "text/plain": [
       "str"
      ]
     },
     "execution_count": 7,
     "metadata": {},
     "output_type": "execute_result"
    }
   ],
   "source": [
    "type(dic)"
   ]
  },
  {
   "cell_type": "markdown",
   "id": "7e1fdb50-77f5-4939-a51b-06fc1bc38d58",
   "metadata": {
    "jp-MarkdownHeadingCollapsed": true
   },
   "source": [
    "# Convert CSV data to JSON"
   ]
  },
  {
   "cell_type": "code",
   "execution_count": 10,
   "id": "444f19e8-b61e-4bc4-8ff6-9e05bf5def8b",
   "metadata": {},
   "outputs": [],
   "source": [
    "import csv\n",
    "import json"
   ]
  },
  {
   "cell_type": "code",
   "execution_count": 11,
   "id": "e08b2327",
   "metadata": {},
   "outputs": [],
   "source": [
    "import pandas as pd\n",
    "df = pd.read_csv('content.csv')\n",
    "df.to_json('output.json', orient='records', lines=True)"
   ]
  },
  {
   "cell_type": "markdown",
   "id": "baee86e1-94fb-4e7c-a854-26fc8b5519a0",
   "metadata": {
    "jp-MarkdownHeadingCollapsed": true
   },
   "source": [
    "# Convert JSON data Into a Custom Python Object"
   ]
  },
  {
   "cell_type": "code",
   "execution_count": 12,
   "id": "b54616ab-8636-494c-b36c-ff0191d1089c",
   "metadata": {},
   "outputs": [
    {
     "name": "stdout",
     "output_type": "stream",
     "text": [
      "GeekCustomDecoder 2 Pune\n"
     ]
    }
   ],
   "source": [
    "import json\n",
    "from collections import namedtuple\n",
    "\n",
    "\n",
    "def customDecoder(geekDict):\n",
    "    return namedtuple('X', geekDict.keys())(*geekDict.values())\n",
    "\n",
    "\n",
    "geekJsonData = '{\"name\": \"GeekCustomDecoder\", \"id\": 2, \"location\": \"Pune\"}'\n",
    "\n",
    "\n",
    "x = json.loads(geekJsonData, object_hook=customDecoder)\n",
    "\n",
    "print(x.name, x.id, x.location)"
   ]
  },
  {
   "cell_type": "markdown",
   "id": "ee8c5ded-3086-4990-9b64-faff5c6bce24",
   "metadata": {
    "jp-MarkdownHeadingCollapsed": true
   },
   "source": [
    "# Flattening JSON objects in Python"
   ]
  },
  {
   "cell_type": "code",
   "execution_count": 15,
   "id": "b0f924b6-c2f4-4fd0-be85-c314bfb121b4",
   "metadata": {},
   "outputs": [
    {
     "name": "stdout",
     "output_type": "stream",
     "text": [
      "Collecting flatten_json\n",
      "  Downloading flatten_json-0.1.14-py3-none-any.whl.metadata (4.2 kB)\n",
      "Requirement already satisfied: six in c:\\users\\basitsachinwala\\anaconda3\\lib\\site-packages (from flatten_json) (1.17.0)\n",
      "Downloading flatten_json-0.1.14-py3-none-any.whl (8.0 kB)\n",
      "Installing collected packages: flatten_json\n",
      "Successfully installed flatten_json-0.1.14\n"
     ]
    }
   ],
   "source": [
    "!pip install flatten_json"
   ]
  },
  {
   "cell_type": "code",
   "execution_count": 16,
   "id": "085af3c3-3fa9-405f-b47b-d339b547cdfe",
   "metadata": {},
   "outputs": [
    {
     "name": "stdout",
     "output_type": "stream",
     "text": [
      "{'user_Rachel_UserID': 1717171717, 'user_Rachel_Email': 'rachel1999@gmail.com', 'user_Rachel_friends_0': 'John', 'user_Rachel_friends_1': 'Jeremy', 'user_Rachel_friends_2': 'Emily'}\n"
     ]
    }
   ],
   "source": [
    "from flatten_json import flatten\n",
    "\n",
    "unflat_json = {'user':\n",
    "               {'Rachel':\n",
    "                {'UserID': 1717171717,\n",
    "                 'Email': 'rachel1999@gmail.com',\n",
    "                 'friends': ['John', 'Jeremy', 'Emily']\n",
    "                 }\n",
    "                }\n",
    "               }\n",
    "\n",
    "flat_json = flatten(unflat_json)\n",
    "\n",
    "print(flat_json)"
   ]
  },
  {
   "cell_type": "code",
   "execution_count": null,
   "id": "364c6986-b2af-4cc3-93a2-0178d8ee4c5f",
   "metadata": {},
   "outputs": [],
   "source": []
  },
  {
   "cell_type": "code",
   "execution_count": null,
   "id": "b5bb31e8-64be-4b43-a5e7-7f633e890704",
   "metadata": {},
   "outputs": [],
   "source": []
  }
 ],
 "metadata": {
  "kernelspec": {
   "display_name": "Python 3 (ipykernel)",
   "language": "python",
   "name": "python3"
  },
  "language_info": {
   "codemirror_mode": {
    "name": "ipython",
    "version": 3
   },
   "file_extension": ".py",
   "mimetype": "text/x-python",
   "name": "python",
   "nbconvert_exporter": "python",
   "pygments_lexer": "ipython3",
   "version": "3.13.5"
  },
  "widgets": {
   "application/vnd.jupyter.widget-state+json": {
    "state": {},
    "version_major": 2,
    "version_minor": 0
   }
  }
 },
 "nbformat": 4,
 "nbformat_minor": 5
}
