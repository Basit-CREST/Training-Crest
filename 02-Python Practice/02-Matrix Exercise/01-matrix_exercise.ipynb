{
 "cells": [
  {
   "cell_type": "markdown",
   "id": "6b923982-5e9b-4fad-ae94-e20a031b66d7",
   "metadata": {
    "jp-MarkdownHeadingCollapsed": true
   },
   "source": [
    "## Exercise 1"
   ]
  },
  {
   "cell_type": "code",
   "execution_count": 2,
   "id": "9f563e54-8be8-4967-9697-cfe4951c0eb0",
   "metadata": {},
   "outputs": [],
   "source": [
    "list = [[3, 1, 2, 5, 4], [0, 1, 2, 3, 4], [6, 5, 4, 3, 2], [0, 5, 4, 2]] "
   ]
  },
  {
   "cell_type": "code",
   "execution_count": 5,
   "id": "8f826dc1-e06f-4843-8b13-5ecde7f95ade",
   "metadata": {},
   "outputs": [],
   "source": [
    "def give_me_sort(row):\n",
    "    return len([i for i,j in enumerate(row) if i == j])"
   ]
  },
  {
   "cell_type": "code",
   "execution_count": 6,
   "id": "1999fcb8-2cf7-494d-8c7d-3b6b81d52313",
   "metadata": {},
   "outputs": [],
   "source": [
    "list.sort(key=give_me_sort)"
   ]
  },
  {
   "cell_type": "code",
   "execution_count": 7,
   "id": "852e25f7-e167-4585-b678-9fa604b4e344",
   "metadata": {},
   "outputs": [
    {
     "data": {
      "text/plain": [
       "[[6, 5, 4, 3, 2], [0, 5, 4, 2], [3, 1, 2, 5, 4], [0, 1, 2, 3, 4]]"
      ]
     },
     "execution_count": 7,
     "metadata": {},
     "output_type": "execute_result"
    }
   ],
   "source": [
    "list"
   ]
  },
  {
   "cell_type": "markdown",
   "id": "2265fd8c-e5b1-4bb1-9487-e6f7c17deb31",
   "metadata": {
    "jp-MarkdownHeadingCollapsed": true
   },
   "source": [
    "## Exercise 2"
   ]
  },
  {
   "cell_type": "code",
   "execution_count": 1,
   "id": "f8bb5ca7-0895-43d7-a34b-72ee26769a57",
   "metadata": {},
   "outputs": [],
   "source": [
    "a = [[5, 3, 2], [8, 6, 3], [3, 5, 2], [3, 6], [3, 7, 4], [2, 9]]\n",
    "K = 4 "
   ]
  },
  {
   "cell_type": "code",
   "execution_count": 4,
   "id": "cfdade78-7002-4957-996d-f21a4ea81113",
   "metadata": {},
   "outputs": [],
   "source": [
    "for i in range(len(a)):\n",
    "    if ((i > K) and ((i + 1) % K == 0)) or (i + 1) == K:\n",
    "        a[i] = list(reversed(a[i]))"
   ]
  },
  {
   "cell_type": "code",
   "execution_count": 5,
   "id": "1ce7f1f3-c6e9-49a3-9439-d728d94ffa7a",
   "metadata": {},
   "outputs": [
    {
     "data": {
      "text/plain": [
       "[[5, 3, 2], [8, 6, 3], [3, 5, 2], [6, 3], [4, 7, 3], [2, 9]]"
      ]
     },
     "execution_count": 5,
     "metadata": {},
     "output_type": "execute_result"
    }
   ],
   "source": [
    "a"
   ]
  },
  {
   "cell_type": "markdown",
   "id": "043628f0-9391-4555-9bde-14ad9004754b",
   "metadata": {
    "jp-MarkdownHeadingCollapsed": true
   },
   "source": [
    "## Exercise 3"
   ]
  },
  {
   "cell_type": "markdown",
   "id": "c9efbd07-f76b-4f29-955a-ec39b97fa472",
   "metadata": {},
   "source": [
    "<b>Solution 1</b>"
   ]
  },
  {
   "cell_type": "code",
   "execution_count": 39,
   "id": "0f976deb-33c8-4f18-825f-29182bf3488d",
   "metadata": {},
   "outputs": [],
   "source": [
    "test_str = \"[gfg,is],[best,for],[all,geeks]\""
   ]
  },
  {
   "cell_type": "code",
   "execution_count": 40,
   "id": "d03cfe68-6c14-4c34-88a6-657cd36c9021",
   "metadata": {},
   "outputs": [],
   "source": [
    "test_str=list(test_str[1:-1].split(sep=\"],[\"))"
   ]
  },
  {
   "cell_type": "code",
   "execution_count": 44,
   "id": "5b5e5f89-b1b0-4c3c-8e3c-1dc2f1ee10f2",
   "metadata": {},
   "outputs": [
    {
     "data": {
      "text/plain": [
       "['gfg,is', 'best,for', 'all,geeks']"
      ]
     },
     "execution_count": 44,
     "metadata": {},
     "output_type": "execute_result"
    }
   ],
   "source": [
    "test_str\n",
    "#type(test_str)"
   ]
  },
  {
   "cell_type": "code",
   "execution_count": 45,
   "id": "d7d3b7cc-a1f2-443a-bf1b-9f35cf977688",
   "metadata": {},
   "outputs": [
    {
     "data": {
      "text/plain": [
       "[['gfg', 'is'], ['best', 'for'], ['all', 'geeks']]"
      ]
     },
     "execution_count": 45,
     "metadata": {},
     "output_type": "execute_result"
    }
   ],
   "source": [
    "my_final_list = []\n",
    "for i in test_str:\n",
    "    my_final_list.append(i.split(sep=\",\"))\n",
    "my_final_list"
   ]
  },
  {
   "cell_type": "code",
   "execution_count": 50,
   "id": "cebe0686-2598-4433-99de-81d1012cfc84",
   "metadata": {},
   "outputs": [
    {
     "data": {
      "text/plain": [
       "list"
      ]
     },
     "execution_count": 50,
     "metadata": {},
     "output_type": "execute_result"
    }
   ],
   "source": [
    "type(my_final_list)"
   ]
  },
  {
   "cell_type": "markdown",
   "id": "d6c71b60-ffea-4f85-9d9d-a4292e2a7081",
   "metadata": {},
   "source": [
    "<b>Solution 2</b>"
   ]
  },
  {
   "cell_type": "code",
   "execution_count": 9,
   "id": "1a85f6ca-15c6-423e-b117-0d99edb87d7d",
   "metadata": {},
   "outputs": [],
   "source": [
    "import json"
   ]
  },
  {
   "cell_type": "code",
   "execution_count": 46,
   "id": "7b2b2d1a-1e88-4975-9f07-3b17d26efd8e",
   "metadata": {},
   "outputs": [],
   "source": [
    "test_str = '[[\"gfg\", \"is\"], [\"best\", \"for\"], [\"all\", \"geeks\"]]'"
   ]
  },
  {
   "cell_type": "code",
   "execution_count": 47,
   "id": "712aad29-8d91-4c44-a54d-c8f91bafb2ca",
   "metadata": {},
   "outputs": [],
   "source": [
    "test_str = json.loads(test_str)"
   ]
  },
  {
   "cell_type": "code",
   "execution_count": 48,
   "id": "5fdcf418-fc1a-452a-95b9-f01866e9b7c7",
   "metadata": {},
   "outputs": [
    {
     "data": {
      "text/plain": [
       "[['gfg', 'is'], ['best', 'for'], ['all', 'geeks']]"
      ]
     },
     "execution_count": 48,
     "metadata": {},
     "output_type": "execute_result"
    }
   ],
   "source": [
    "test_str"
   ]
  },
  {
   "cell_type": "code",
   "execution_count": 49,
   "id": "36a443dd-6830-4dad-9e82-afa163312750",
   "metadata": {},
   "outputs": [
    {
     "data": {
      "text/plain": [
       "list"
      ]
     },
     "execution_count": 49,
     "metadata": {},
     "output_type": "execute_result"
    }
   ],
   "source": [
    "type(test_str)"
   ]
  },
  {
   "cell_type": "markdown",
   "id": "4302d437-3271-4c01-93f5-a319a7865ff2",
   "metadata": {
    "jp-MarkdownHeadingCollapsed": true
   },
   "source": [
    "## Exercise 4"
   ]
  },
  {
   "cell_type": "code",
   "execution_count": 51,
   "id": "e9c18e41-bf9a-4d4f-8e9e-68738cf06f00",
   "metadata": {},
   "outputs": [],
   "source": [
    "test_list = [[6, 3, 1], [8, 9], [2], [10, 12, 7], [4, 11]]"
   ]
  },
  {
   "cell_type": "code",
   "execution_count": 52,
   "id": "0b8ecafd-a814-4970-a8f9-110718ee6da4",
   "metadata": {},
   "outputs": [],
   "source": [
    "output = {i : len(j) for i , j in enumerate(test_list) }"
   ]
  },
  {
   "cell_type": "code",
   "execution_count": 53,
   "id": "2a791275-7238-455b-81c3-9d877852feb5",
   "metadata": {},
   "outputs": [
    {
     "data": {
      "text/plain": [
       "{0: 3, 1: 2, 2: 1, 3: 3, 4: 2}"
      ]
     },
     "execution_count": 53,
     "metadata": {},
     "output_type": "execute_result"
    }
   ],
   "source": [
    "output"
   ]
  },
  {
   "cell_type": "markdown",
   "id": "2da158d2-41f5-4d22-985b-5288d2b333a3",
   "metadata": {
    "jp-MarkdownHeadingCollapsed": true
   },
   "source": [
    "## Exercise 5"
   ]
  },
  {
   "cell_type": "code",
   "execution_count": 54,
   "id": "987b8139-c0d9-42bd-9b21-5e706dc28b9d",
   "metadata": {},
   "outputs": [],
   "source": [
    "test_list = [[4, 5, 7], [10, 8, 3], [19, 4, 6]]"
   ]
  },
  {
   "cell_type": "code",
   "execution_count": 58,
   "id": "c83cc76b-66d8-45ba-bd86-e45838f9c41b",
   "metadata": {},
   "outputs": [
    {
     "data": {
      "text/plain": [
       "list"
      ]
     },
     "execution_count": 58,
     "metadata": {},
     "output_type": "execute_result"
    }
   ],
   "source": [
    "type(test_list)"
   ]
  },
  {
   "cell_type": "code",
   "execution_count": 55,
   "id": "2b3d540d-6531-4986-93c7-1d2389cf6789",
   "metadata": {},
   "outputs": [
    {
     "data": {
      "text/plain": [
       "[['4', '5', '7'], ['10', '8', '3'], ['19', '4', '6']]"
      ]
     },
     "execution_count": 55,
     "metadata": {},
     "output_type": "execute_result"
    }
   ],
   "source": [
    "[[str(instance) for instance in instance_1] for instance_1 in test_list]"
   ]
  },
  {
   "cell_type": "markdown",
   "id": "46b8354d-d4f7-4e53-9f57-2d7b691ab2e1",
   "metadata": {
    "jp-MarkdownHeadingCollapsed": true
   },
   "source": [
    "## Exercise 6"
   ]
  },
  {
   "cell_type": "code",
   "execution_count": 3,
   "id": "d52ab008-ee7f-41a0-b825-88782e65630a",
   "metadata": {},
   "outputs": [],
   "source": [
    "test_list = [[(4, 5), (7, 8)], [(10, 13), (18, 17)]] "
   ]
  },
  {
   "cell_type": "code",
   "execution_count": 9,
   "id": "115e9359-3740-4f09-97a3-d5c56b975982",
   "metadata": {},
   "outputs": [
    {
     "data": {
      "text/plain": [
       "[(4, 5, 7, 8), (10, 13, 18, 17)]"
      ]
     },
     "execution_count": 9,
     "metadata": {},
     "output_type": "execute_result"
    }
   ],
   "source": [
    "answer = []\n",
    "for i in test_list:\n",
    "    temp = []\n",
    "    for j in i:\n",
    "        temp.extend(list(j))\n",
    "\n",
    "    answer.append(tuple(temp))\n",
    "\n",
    "answer"
   ]
  },
  {
   "cell_type": "markdown",
   "id": "e1f0cf5e-081c-4d00-9f05-cc720cc61104",
   "metadata": {
    "jp-MarkdownHeadingCollapsed": true
   },
   "source": [
    "## Exercise 7"
   ]
  },
  {
   "cell_type": "code",
   "execution_count": 1,
   "id": "d6f1f3c7-f65e-4ded-ac91-634e306b8023",
   "metadata": {},
   "outputs": [],
   "source": [
    "test_list = [[5, 8], [2, 0], [5, 4], [2, 3], [2, 9]] "
   ]
  },
  {
   "cell_type": "code",
   "execution_count": 16,
   "id": "f097d924-86d0-4cf1-9983-4b750e378f1f",
   "metadata": {},
   "outputs": [
    {
     "data": {
      "text/plain": [
       "{5: [8, 4], 2: [0, 3, 9]}"
      ]
     },
     "execution_count": 16,
     "metadata": {},
     "output_type": "execute_result"
    }
   ],
   "source": [
    "dic_ans = {}\n",
    "for i in range(len(test_list)):\n",
    "    for j in range(len(test_list[i])):\n",
    "        if test_list[i][0] not in dic_ans:\n",
    "            dic_ans[test_list[i][0]] = []\n",
    "        if j != 0:\n",
    "            dic_ans[test_list[i][0]].append(test_list[i][j])\n",
    "dic_ans"
   ]
  },
  {
   "cell_type": "code",
   "execution_count": 18,
   "id": "c2de9a28-2b7b-4843-a77c-4217ebe8b2b2",
   "metadata": {},
   "outputs": [
    {
     "data": {
      "text/plain": [
       "{5: [8, 4], 2: [0, 3, 9]}"
      ]
     },
     "execution_count": 18,
     "metadata": {},
     "output_type": "execute_result"
    }
   ],
   "source": [
    "dic_ans = {}\n",
    "for i in range(len(test_list)):\n",
    "    if test_list[i][0] not in dic_ans:\n",
    "        dic_ans[test_list[i][0]] = []\n",
    "    dic_ans[test_list[i][0]].extend(test_list[i][1:])\n",
    "dic_ans"
   ]
  },
  {
   "cell_type": "markdown",
   "id": "1b0fb342-1cfe-4a97-8952-3c7bacd22c6e",
   "metadata": {
    "jp-MarkdownHeadingCollapsed": true
   },
   "source": [
    "## Exercise 8"
   ]
  },
  {
   "cell_type": "code",
   "execution_count": 19,
   "id": "50729795-02e3-400d-ab53-c0827f24beb8",
   "metadata": {},
   "outputs": [],
   "source": [
    "test_list = [[5, 8, 10], [2, 0, 9], [5, 4, 2], [2, 3, 9]]"
   ]
  },
  {
   "cell_type": "code",
   "execution_count": 20,
   "id": "1775dbcc-df71-4173-bc86-f1b5f3077f75",
   "metadata": {},
   "outputs": [],
   "source": [
    "ans_dict = {}\n",
    "for i in range(len(test_list)-1):\n",
    "    ans_dict[test_list[0][i]] = []\n",
    "    ans_dict[test_list[0][i]].append(test_list[i+1])\n",
    "    "
   ]
  },
  {
   "cell_type": "code",
   "execution_count": 21,
   "id": "b7ef8cbf-089e-4771-91db-d0f5d34d692a",
   "metadata": {},
   "outputs": [
    {
     "data": {
      "text/plain": [
       "{5: [[2, 0, 9]], 8: [[5, 4, 2]], 10: [[2, 3, 9]]}"
      ]
     },
     "execution_count": 21,
     "metadata": {},
     "output_type": "execute_result"
    }
   ],
   "source": [
    "ans_dict"
   ]
  },
  {
   "cell_type": "markdown",
   "id": "d07e8b5b-636d-47ce-b7d5-137d4bcdb1ac",
   "metadata": {
    "jp-MarkdownHeadingCollapsed": true
   },
   "source": [
    "## Exercise 9"
   ]
  },
  {
   "cell_type": "code",
   "execution_count": 13,
   "id": "c56ca1a5-afb9-4177-8116-149e76edd566",
   "metadata": {},
   "outputs": [],
   "source": [
    "matrix1 = [[1, 2], [3, 4]]\n",
    "matrix2 = [[4, 5], [6, 7]]"
   ]
  },
  {
   "cell_type": "code",
   "execution_count": 14,
   "id": "ea6881d3-d16f-4378-a8d2-f8b26321422a",
   "metadata": {},
   "outputs": [],
   "source": [
    "row = len(matrix1)\n",
    "col = len(matrix1[0])\n",
    "result = [[0 for _ in range(col)] for _ in range(row)]"
   ]
  },
  {
   "cell_type": "code",
   "execution_count": 15,
   "id": "33c16251-e017-45da-b287-b03a2658ca97",
   "metadata": {},
   "outputs": [
    {
     "data": {
      "text/plain": [
       "[[0, 0], [0, 0]]"
      ]
     },
     "execution_count": 15,
     "metadata": {},
     "output_type": "execute_result"
    }
   ],
   "source": [
    "result"
   ]
  },
  {
   "cell_type": "code",
   "execution_count": 16,
   "id": "80489bcc-e36a-49c5-b7bd-66b1fe9035f9",
   "metadata": {},
   "outputs": [],
   "source": [
    "for i in range(row):\n",
    "    for j in range(col):\n",
    "        result[i][j] = matrix1[i][j] - matrix2[i][j]"
   ]
  },
  {
   "cell_type": "code",
   "execution_count": 17,
   "id": "9291533f-dc90-4337-8f03-c7fa36989583",
   "metadata": {},
   "outputs": [
    {
     "data": {
      "text/plain": [
       "[[-3, -3], [-3, -3]]"
      ]
     },
     "execution_count": 17,
     "metadata": {},
     "output_type": "execute_result"
    }
   ],
   "source": [
    "result"
   ]
  },
  {
   "cell_type": "markdown",
   "id": "30bff63d-6a1f-4ad0-9444-26924dccee3d",
   "metadata": {
    "jp-MarkdownHeadingCollapsed": true
   },
   "source": [
    "## Exercise 10"
   ]
  },
  {
   "cell_type": "code",
   "execution_count": 20,
   "id": "2086a6bc-81ab-4785-ac66-5df23d7a5eb0",
   "metadata": {},
   "outputs": [],
   "source": [
    "for i in range(row):\n",
    "    for j in range(col):\n",
    "        result[i][j] = matrix1[i][j] + matrix2[i][j]"
   ]
  },
  {
   "cell_type": "code",
   "execution_count": 21,
   "id": "6e7b8a46-a9de-4c36-8250-3774fc8b931d",
   "metadata": {},
   "outputs": [
    {
     "data": {
      "text/plain": [
       "[[5, 7], [9, 11]]"
      ]
     },
     "execution_count": 21,
     "metadata": {},
     "output_type": "execute_result"
    }
   ],
   "source": [
    "result"
   ]
  },
  {
   "cell_type": "markdown",
   "id": "35644ad4-e5b2-43f8-b8cf-3b24e2cd941d",
   "metadata": {},
   "source": [
    "<b>Using List Comprehension</b>"
   ]
  },
  {
   "cell_type": "code",
   "execution_count": 22,
   "id": "28829544-264b-4c6e-87be-90ef23a39e39",
   "metadata": {},
   "outputs": [],
   "source": [
    "res = [[ x+y for x , y in zip(row_a,row_b) ]for row_a, row_b in zip(matrix1,matrix2)]"
   ]
  },
  {
   "cell_type": "code",
   "execution_count": 23,
   "id": "9d96ebc9-156f-4f5a-97dd-8143de981c14",
   "metadata": {},
   "outputs": [
    {
     "data": {
      "text/plain": [
       "[[5, 7], [9, 11]]"
      ]
     },
     "execution_count": 23,
     "metadata": {},
     "output_type": "execute_result"
    }
   ],
   "source": [
    "res"
   ]
  },
  {
   "cell_type": "markdown",
   "id": "620a1383-8278-41e1-86ee-3940e4428086",
   "metadata": {
    "jp-MarkdownHeadingCollapsed": true
   },
   "source": [
    "## Exercise 11"
   ]
  },
  {
   "cell_type": "code",
   "execution_count": 25,
   "id": "f786c97b-85f4-480f-9f4b-bc3b67589696",
   "metadata": {},
   "outputs": [
    {
     "data": {
      "text/plain": [
       "1622880"
      ]
     },
     "execution_count": 25,
     "metadata": {},
     "output_type": "execute_result"
    }
   ],
   "source": [
    "a = [[1, 4, 5], [7, 3], [4], [46, 7, 3]]\n",
    "prod = 1\n",
    "for i in a:\n",
    "    for j in i:\n",
    "        prod *= j\n",
    "prod"
   ]
  },
  {
   "cell_type": "markdown",
   "id": "d8a3689c-64ba-4c4c-9283-bdaf774fe49a",
   "metadata": {
    "jp-MarkdownHeadingCollapsed": true
   },
   "source": [
    "## Exercise 12"
   ]
  },
  {
   "cell_type": "code",
   "execution_count": 29,
   "id": "7b0ab54b-cb79-4772-981a-d7ae47c814cb",
   "metadata": {},
   "outputs": [],
   "source": [
    "m = [[1, 2], [3, 4], [5, 6]]\n",
    "n = [[0 for _ in range(len(m))] for _ in range(len(m[0]))]"
   ]
  },
  {
   "cell_type": "code",
   "execution_count": 30,
   "id": "2cbb6278-77b7-4a03-8c03-dce0e579233b",
   "metadata": {},
   "outputs": [
    {
     "data": {
      "text/plain": [
       "[[0, 0, 0], [0, 0, 0]]"
      ]
     },
     "execution_count": 30,
     "metadata": {},
     "output_type": "execute_result"
    }
   ],
   "source": [
    "n"
   ]
  },
  {
   "cell_type": "code",
   "execution_count": 31,
   "id": "c6817d42-7149-470e-ae8c-c148f107c070",
   "metadata": {},
   "outputs": [
    {
     "data": {
      "text/plain": [
       "[[1, 3, 5], [2, 4, 6]]"
      ]
     },
     "execution_count": 31,
     "metadata": {},
     "output_type": "execute_result"
    }
   ],
   "source": [
    "for i in range(len(m)):\n",
    "    for j in range(len(m[0])):\n",
    "        n[j][i] = m[i][j]\n",
    "n"
   ]
  },
  {
   "cell_type": "markdown",
   "id": "1848a3fa-1f35-4f5f-8898-911eb4be6dae",
   "metadata": {
    "jp-MarkdownHeadingCollapsed": true
   },
   "source": [
    "## Exercise 13"
   ]
  },
  {
   "cell_type": "code",
   "execution_count": 32,
   "id": "78497629-2c1c-49fb-8e1c-fd0ec1c9a6f1",
   "metadata": {},
   "outputs": [],
   "source": [
    "m = [[1, 2], [3, 4], [5, 6]]\n",
    "n = [[0 for _ in range(len(m))] for _ in range(len(m[0]))]"
   ]
  },
  {
   "cell_type": "markdown",
   "id": "2f0d2c53-f94c-4364-814d-27ed9c56db62",
   "metadata": {
    "jp-MarkdownHeadingCollapsed": true
   },
   "source": [
    "## Exercise 14"
   ]
  },
  {
   "cell_type": "code",
   "execution_count": 37,
   "id": "14c52f7a-6b05-4b80-b9b9-84d4a658fda2",
   "metadata": {},
   "outputs": [],
   "source": [
    "test_list = [[4, 5, 6], [8, 1, 10], [7, 12, 5]]\n",
    "k = 2"
   ]
  },
  {
   "cell_type": "code",
   "execution_count": 38,
   "id": "fe3a7f47-9956-4a79-92d4-feb94c558c5e",
   "metadata": {},
   "outputs": [],
   "source": [
    "ans = [[ test_list[i][j] for j in range(len(test_list[0])) if (j+1) == k]for i in range(len(test_list))]"
   ]
  },
  {
   "cell_type": "code",
   "execution_count": 39,
   "id": "46015b2a-0738-441d-878f-70cfc5fda78c",
   "metadata": {},
   "outputs": [
    {
     "data": {
      "text/plain": [
       "[[5], [1], [12]]"
      ]
     },
     "execution_count": 39,
     "metadata": {},
     "output_type": "execute_result"
    }
   ],
   "source": [
    "ans"
   ]
  },
  {
   "cell_type": "markdown",
   "id": "053ab64e-da6b-491a-b8bb-94b3adfd3d86",
   "metadata": {},
   "source": [
    "<b>Simple Solution</b>"
   ]
  },
  {
   "cell_type": "code",
   "execution_count": 41,
   "id": "78a76448-2394-42a8-822e-88db97613564",
   "metadata": {},
   "outputs": [],
   "source": [
    "ans = [ i[k-1]  for i in test_list]"
   ]
  },
  {
   "cell_type": "code",
   "execution_count": 42,
   "id": "7d618a7b-169f-4d32-a48c-ee925f126463",
   "metadata": {},
   "outputs": [
    {
     "data": {
      "text/plain": [
       "[5, 1, 12]"
      ]
     },
     "execution_count": 42,
     "metadata": {},
     "output_type": "execute_result"
    }
   ],
   "source": [
    "ans"
   ]
  },
  {
   "cell_type": "markdown",
   "id": "c92a377c-9f29-42fb-ae3f-862e1e139cba",
   "metadata": {
    "jp-MarkdownHeadingCollapsed": true
   },
   "source": [
    "## Exercise 15"
   ]
  },
  {
   "cell_type": "code",
   "execution_count": 66,
   "id": "dd7c84f7-8f20-41e5-9078-8a1f111b9f06",
   "metadata": {},
   "outputs": [],
   "source": [
    "test_list = [[\"Gfg\", \"good\"], [\"is\", \"for\"], [\"Best\"]]"
   ]
  },
  {
   "cell_type": "code",
   "execution_count": 69,
   "id": "4c26c829-3e8c-4ebb-8675-89ea9ff46e6e",
   "metadata": {},
   "outputs": [],
   "source": [
    "max_1 = max([len(i) for i in test_list])\n",
    "ans = max_1 * [\"\"]"
   ]
  },
  {
   "cell_type": "code",
   "execution_count": 72,
   "id": "7bbef563-5142-4237-88a4-70869379ad04",
   "metadata": {},
   "outputs": [],
   "source": [
    "for i in test_list:\n",
    "    for index , value in enumerate(i):\n",
    "        ans[index] += str(value)"
   ]
  },
  {
   "cell_type": "code",
   "execution_count": 73,
   "id": "f7b75db6-0a0d-4fb7-965d-3030af8e3c22",
   "metadata": {},
   "outputs": [
    {
     "data": {
      "text/plain": [
       "['GfgisBest', 'goodfor']"
      ]
     },
     "execution_count": 73,
     "metadata": {},
     "output_type": "execute_result"
    }
   ],
   "source": [
    "ans"
   ]
  },
  {
   "cell_type": "markdown",
   "id": "aaf48eb6-b09e-4b90-bae5-9d5276fef1b5",
   "metadata": {
    "jp-MarkdownHeadingCollapsed": true
   },
   "source": [
    "## Exercise 16"
   ]
  },
  {
   "cell_type": "code",
   "execution_count": 45,
   "id": "1fd1838f-dfc8-4eb7-927c-a83365ca9ca3",
   "metadata": {},
   "outputs": [],
   "source": [
    "test_list = [[4, 5], [7, 3]]\n",
    "add_list = ['Gfg', 'best']\n",
    "ans = []"
   ]
  },
  {
   "cell_type": "code",
   "execution_count": 48,
   "id": "16d790fd-00f3-4445-8231-87afd6af9bbe",
   "metadata": {},
   "outputs": [],
   "source": [
    "for i,x in zip(test_list,add_list):\n",
    "    for j in i:\n",
    "        ans.append((x,j))"
   ]
  },
  {
   "cell_type": "code",
   "execution_count": 49,
   "id": "01a169ab-8ea0-46bb-9e8c-5d6a4ba6ae81",
   "metadata": {},
   "outputs": [
    {
     "data": {
      "text/plain": [
       "[('Gfg', 4), ('Gfg', 5), ('best', 7), ('best', 3)]"
      ]
     },
     "execution_count": 49,
     "metadata": {},
     "output_type": "execute_result"
    }
   ],
   "source": [
    "ans"
   ]
  },
  {
   "cell_type": "markdown",
   "id": "c8d7ead0-6377-45fc-98d2-9239e3010d86",
   "metadata": {
    "jp-MarkdownHeadingCollapsed": true
   },
   "source": [
    "## Exercise 17"
   ]
  },
  {
   "cell_type": "code",
   "execution_count": 53,
   "id": "17933208-0aba-4882-ac06-3f9a0a838705",
   "metadata": {},
   "outputs": [],
   "source": [
    "test_list = [[4, 5, 7], [2, 3, 4], [9, 8, 6]]\n",
    "check_matr = [[2, 3], [1, 2], [9, 0]] "
   ]
  },
  {
   "cell_type": "code",
   "execution_count": 55,
   "id": "7dbdee93-9896-496e-a243-949d68ab862e",
   "metadata": {},
   "outputs": [
    {
     "data": {
      "text/plain": [
       "[[2, 3]]"
      ]
     },
     "execution_count": 55,
     "metadata": {},
     "output_type": "execute_result"
    }
   ],
   "source": [
    "ans = []\n",
    "for i in check_matr:\n",
    "    for j in test_list:\n",
    "        if set(i).issubset(j) and (i not in ans):\n",
    "            ans.append(i)\n",
    "ans"
   ]
  },
  {
   "cell_type": "markdown",
   "id": "4a175f44-1243-4b0a-b6a8-e8b9dbc4d461",
   "metadata": {
    "jp-MarkdownHeadingCollapsed": true
   },
   "source": [
    "## Exercise 18"
   ]
  },
  {
   "cell_type": "code",
   "execution_count": 62,
   "id": "633bc6ce-3d86-4d3a-9e3b-eda7d269d60d",
   "metadata": {},
   "outputs": [],
   "source": [
    "ans = []"
   ]
  },
  {
   "cell_type": "code",
   "execution_count": 63,
   "id": "07180ff5-11c0-4f75-b003-49f0278209fc",
   "metadata": {},
   "outputs": [],
   "source": [
    "test_list = [1, 3, 4, 4, 2, 3]\n",
    "for i in test_list:\n",
    "    x = test_list.count(i)\n",
    "    if x * [i] not in ans:\n",
    "        ans.append(x * [i])"
   ]
  },
  {
   "cell_type": "code",
   "execution_count": 64,
   "id": "d8a16d0b-23b4-4b0c-a451-babc8f632832",
   "metadata": {},
   "outputs": [
    {
     "data": {
      "text/plain": [
       "[[1], [3, 3], [4, 4], [2]]"
      ]
     },
     "execution_count": 64,
     "metadata": {},
     "output_type": "execute_result"
    }
   ],
   "source": [
    "ans"
   ]
  },
  {
   "cell_type": "markdown",
   "id": "f6f07d9b-9bc0-41fd-ab67-b591024fc0bd",
   "metadata": {
    "jp-MarkdownHeadingCollapsed": true
   },
   "source": [
    "## Exercise 19"
   ]
  },
  {
   "cell_type": "code",
   "execution_count": 74,
   "id": "d184c700-b1df-40c4-acf2-c6586f72e366",
   "metadata": {},
   "outputs": [],
   "source": [
    "test_list = [[('Gfg', 3), ('is', 3)], [('best', 1)], [('for', 5), ('geeks', 1)]]\n",
    "cus_eles = [6, 7, 8]"
   ]
  },
  {
   "cell_type": "code",
   "execution_count": 87,
   "id": "97a7f0d2-be7d-423a-9a34-dd810d3f03e8",
   "metadata": {},
   "outputs": [
    {
     "data": {
      "text/plain": [
       "[[('Gfg', 3, 6), ('is', 3, 6)],\n",
       " [('best', 1, 7)],\n",
       " [('for', 5, 8), ('geeks', 1, 8)]]"
      ]
     },
     "execution_count": 87,
     "metadata": {},
     "output_type": "execute_result"
    }
   ],
   "source": [
    "ans = []\n",
    "for i in range(len(test_list)):\n",
    "    t = []\n",
    "    for j in test_list[i]:\n",
    "        temp = list(j)\n",
    "        temp.append(cus_eles[i])\n",
    "        t.append(tuple(temp))\n",
    "    ans.append(t)\n",
    "ans"
   ]
  },
  {
   "cell_type": "markdown",
   "id": "54002c65-d0a7-43cc-a36a-34e61bb4977b",
   "metadata": {},
   "source": [
    "## Exercise 20"
   ]
  },
  {
   "cell_type": "code",
   "execution_count": null,
   "id": "7cf4a64e-1868-4bad-bf4c-eb7e99c77b2f",
   "metadata": {},
   "outputs": [],
   "source": []
  }
 ],
 "metadata": {
  "kernelspec": {
   "display_name": "Python 3 (ipykernel)",
   "language": "python",
   "name": "python3"
  },
  "language_info": {
   "codemirror_mode": {
    "name": "ipython",
    "version": 3
   },
   "file_extension": ".py",
   "mimetype": "text/x-python",
   "name": "python",
   "nbconvert_exporter": "python",
   "pygments_lexer": "ipython3",
   "version": "3.13.5"
  },
  "widgets": {
   "application/vnd.jupyter.widget-state+json": {
    "state": {},
    "version_major": 2,
    "version_minor": 0
   }
  }
 },
 "nbformat": 4,
 "nbformat_minor": 5
}
