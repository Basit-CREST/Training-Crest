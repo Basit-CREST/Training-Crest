{
 "cells": [
  {
   "cell_type": "markdown",
   "id": "6b923982-5e9b-4fad-ae94-e20a031b66d7",
   "metadata": {},
   "source": [
    "## Exercise 1"
   ]
  },
  {
   "cell_type": "code",
   "execution_count": 2,
   "id": "9f563e54-8be8-4967-9697-cfe4951c0eb0",
   "metadata": {},
   "outputs": [],
   "source": [
    "list = [[3, 1, 2, 5, 4], [0, 1, 2, 3, 4], [6, 5, 4, 3, 2], [0, 5, 4, 2]] "
   ]
  },
  {
   "cell_type": "code",
   "execution_count": 5,
   "id": "8f826dc1-e06f-4843-8b13-5ecde7f95ade",
   "metadata": {},
   "outputs": [],
   "source": [
    "def give_me_sort(row):\n",
    "    return len([i for i,j in enumerate(row) if i == j])"
   ]
  },
  {
   "cell_type": "code",
   "execution_count": 6,
   "id": "1999fcb8-2cf7-494d-8c7d-3b6b81d52313",
   "metadata": {},
   "outputs": [],
   "source": [
    "list.sort(key=give_me_sort)"
   ]
  },
  {
   "cell_type": "code",
   "execution_count": 7,
   "id": "852e25f7-e167-4585-b678-9fa604b4e344",
   "metadata": {},
   "outputs": [
    {
     "data": {
      "text/plain": [
       "[[6, 5, 4, 3, 2], [0, 5, 4, 2], [3, 1, 2, 5, 4], [0, 1, 2, 3, 4]]"
      ]
     },
     "execution_count": 7,
     "metadata": {},
     "output_type": "execute_result"
    }
   ],
   "source": [
    "list"
   ]
  },
  {
   "cell_type": "markdown",
   "id": "2265fd8c-e5b1-4bb1-9487-e6f7c17deb31",
   "metadata": {},
   "source": [
    "## Exercise 2"
   ]
  },
  {
   "cell_type": "code",
   "execution_count": 1,
   "id": "f8bb5ca7-0895-43d7-a34b-72ee26769a57",
   "metadata": {},
   "outputs": [],
   "source": [
    "a = [[5, 3, 2], [8, 6, 3], [3, 5, 2], [3, 6], [3, 7, 4], [2, 9]]\n",
    "K = 4 "
   ]
  },
  {
   "cell_type": "code",
   "execution_count": 4,
   "id": "cfdade78-7002-4957-996d-f21a4ea81113",
   "metadata": {},
   "outputs": [],
   "source": [
    "for i in range(len(a)):\n",
    "    if ((i > K) and ((i + 1) % K == 0)) or (i + 1) == K:\n",
    "        a[i] = list(reversed(a[i]))"
   ]
  },
  {
   "cell_type": "code",
   "execution_count": 5,
   "id": "1ce7f1f3-c6e9-49a3-9439-d728d94ffa7a",
   "metadata": {},
   "outputs": [
    {
     "data": {
      "text/plain": [
       "[[5, 3, 2], [8, 6, 3], [3, 5, 2], [6, 3], [4, 7, 3], [2, 9]]"
      ]
     },
     "execution_count": 5,
     "metadata": {},
     "output_type": "execute_result"
    }
   ],
   "source": [
    "a"
   ]
  },
  {
   "cell_type": "markdown",
   "id": "043628f0-9391-4555-9bde-14ad9004754b",
   "metadata": {},
   "source": [
    "## Exercise 3"
   ]
  },
  {
   "cell_type": "markdown",
   "id": "c9efbd07-f76b-4f29-955a-ec39b97fa472",
   "metadata": {},
   "source": [
    "<b>Solution 1</b>"
   ]
  },
  {
   "cell_type": "code",
   "execution_count": 39,
   "id": "0f976deb-33c8-4f18-825f-29182bf3488d",
   "metadata": {},
   "outputs": [],
   "source": [
    "test_str = \"[gfg,is],[best,for],[all,geeks]\""
   ]
  },
  {
   "cell_type": "code",
   "execution_count": 40,
   "id": "d03cfe68-6c14-4c34-88a6-657cd36c9021",
   "metadata": {},
   "outputs": [],
   "source": [
    "test_str=list(test_str[1:-1].split(sep=\"],[\"))"
   ]
  },
  {
   "cell_type": "code",
   "execution_count": 44,
   "id": "5b5e5f89-b1b0-4c3c-8e3c-1dc2f1ee10f2",
   "metadata": {},
   "outputs": [
    {
     "data": {
      "text/plain": [
       "['gfg,is', 'best,for', 'all,geeks']"
      ]
     },
     "execution_count": 44,
     "metadata": {},
     "output_type": "execute_result"
    }
   ],
   "source": [
    "test_str\n",
    "#type(test_str)"
   ]
  },
  {
   "cell_type": "code",
   "execution_count": 45,
   "id": "d7d3b7cc-a1f2-443a-bf1b-9f35cf977688",
   "metadata": {},
   "outputs": [
    {
     "data": {
      "text/plain": [
       "[['gfg', 'is'], ['best', 'for'], ['all', 'geeks']]"
      ]
     },
     "execution_count": 45,
     "metadata": {},
     "output_type": "execute_result"
    }
   ],
   "source": [
    "my_final_list = []\n",
    "for i in test_str:\n",
    "    my_final_list.append(i.split(sep=\",\"))\n",
    "my_final_list"
   ]
  },
  {
   "cell_type": "code",
   "execution_count": 50,
   "id": "cebe0686-2598-4433-99de-81d1012cfc84",
   "metadata": {},
   "outputs": [
    {
     "data": {
      "text/plain": [
       "list"
      ]
     },
     "execution_count": 50,
     "metadata": {},
     "output_type": "execute_result"
    }
   ],
   "source": [
    "type(my_final_list)"
   ]
  },
  {
   "cell_type": "markdown",
   "id": "d6c71b60-ffea-4f85-9d9d-a4292e2a7081",
   "metadata": {},
   "source": [
    "<b>Solution 2</b>"
   ]
  },
  {
   "cell_type": "code",
   "execution_count": 9,
   "id": "1a85f6ca-15c6-423e-b117-0d99edb87d7d",
   "metadata": {},
   "outputs": [],
   "source": [
    "import json"
   ]
  },
  {
   "cell_type": "code",
   "execution_count": 46,
   "id": "7b2b2d1a-1e88-4975-9f07-3b17d26efd8e",
   "metadata": {},
   "outputs": [],
   "source": [
    "test_str = '[[\"gfg\", \"is\"], [\"best\", \"for\"], [\"all\", \"geeks\"]]'"
   ]
  },
  {
   "cell_type": "code",
   "execution_count": 47,
   "id": "712aad29-8d91-4c44-a54d-c8f91bafb2ca",
   "metadata": {},
   "outputs": [],
   "source": [
    "test_str = json.loads(test_str)"
   ]
  },
  {
   "cell_type": "code",
   "execution_count": 48,
   "id": "5fdcf418-fc1a-452a-95b9-f01866e9b7c7",
   "metadata": {},
   "outputs": [
    {
     "data": {
      "text/plain": [
       "[['gfg', 'is'], ['best', 'for'], ['all', 'geeks']]"
      ]
     },
     "execution_count": 48,
     "metadata": {},
     "output_type": "execute_result"
    }
   ],
   "source": [
    "test_str"
   ]
  },
  {
   "cell_type": "code",
   "execution_count": 49,
   "id": "36a443dd-6830-4dad-9e82-afa163312750",
   "metadata": {},
   "outputs": [
    {
     "data": {
      "text/plain": [
       "list"
      ]
     },
     "execution_count": 49,
     "metadata": {},
     "output_type": "execute_result"
    }
   ],
   "source": [
    "type(test_str)"
   ]
  },
  {
   "cell_type": "markdown",
   "id": "4302d437-3271-4c01-93f5-a319a7865ff2",
   "metadata": {},
   "source": [
    "## Exercise 4"
   ]
  },
  {
   "cell_type": "code",
   "execution_count": 51,
   "id": "e9c18e41-bf9a-4d4f-8e9e-68738cf06f00",
   "metadata": {},
   "outputs": [],
   "source": [
    "test_list = [[6, 3, 1], [8, 9], [2], [10, 12, 7], [4, 11]]"
   ]
  },
  {
   "cell_type": "code",
   "execution_count": 52,
   "id": "0b8ecafd-a814-4970-a8f9-110718ee6da4",
   "metadata": {},
   "outputs": [],
   "source": [
    "output = {i : len(j) for i , j in enumerate(test_list) }"
   ]
  },
  {
   "cell_type": "code",
   "execution_count": 53,
   "id": "2a791275-7238-455b-81c3-9d877852feb5",
   "metadata": {},
   "outputs": [
    {
     "data": {
      "text/plain": [
       "{0: 3, 1: 2, 2: 1, 3: 3, 4: 2}"
      ]
     },
     "execution_count": 53,
     "metadata": {},
     "output_type": "execute_result"
    }
   ],
   "source": [
    "output"
   ]
  },
  {
   "cell_type": "markdown",
   "id": "2da158d2-41f5-4d22-985b-5288d2b333a3",
   "metadata": {},
   "source": [
    "## Exercise 5"
   ]
  },
  {
   "cell_type": "code",
   "execution_count": 54,
   "id": "987b8139-c0d9-42bd-9b21-5e706dc28b9d",
   "metadata": {},
   "outputs": [],
   "source": [
    "test_list = [[4, 5, 7], [10, 8, 3], [19, 4, 6]]"
   ]
  },
  {
   "cell_type": "code",
   "execution_count": 58,
   "id": "c83cc76b-66d8-45ba-bd86-e45838f9c41b",
   "metadata": {},
   "outputs": [
    {
     "data": {
      "text/plain": [
       "list"
      ]
     },
     "execution_count": 58,
     "metadata": {},
     "output_type": "execute_result"
    }
   ],
   "source": [
    "type(test_list)"
   ]
  },
  {
   "cell_type": "code",
   "execution_count": 55,
   "id": "2b3d540d-6531-4986-93c7-1d2389cf6789",
   "metadata": {},
   "outputs": [
    {
     "data": {
      "text/plain": [
       "[['4', '5', '7'], ['10', '8', '3'], ['19', '4', '6']]"
      ]
     },
     "execution_count": 55,
     "metadata": {},
     "output_type": "execute_result"
    }
   ],
   "source": [
    "[[str(instance) for instance in instance_1] for instance_1 in test_list]"
   ]
  },
  {
   "cell_type": "markdown",
   "id": "46b8354d-d4f7-4e53-9f57-2d7b691ab2e1",
   "metadata": {},
   "source": [
    "## Exercise 6"
   ]
  },
  {
   "cell_type": "code",
   "execution_count": null,
   "id": "d52ab008-ee7f-41a0-b825-88782e65630a",
   "metadata": {},
   "outputs": [],
   "source": []
  }
 ],
 "metadata": {
  "kernelspec": {
   "display_name": "Python 3 (ipykernel)",
   "language": "python",
   "name": "python3"
  },
  "language_info": {
   "codemirror_mode": {
    "name": "ipython",
    "version": 3
   },
   "file_extension": ".py",
   "mimetype": "text/x-python",
   "name": "python",
   "nbconvert_exporter": "python",
   "pygments_lexer": "ipython3",
   "version": "3.13.5"
  },
  "widgets": {
   "application/vnd.jupyter.widget-state+json": {
    "state": {},
    "version_major": 2,
    "version_minor": 0
   }
  }
 },
 "nbformat": 4,
 "nbformat_minor": 5
}
