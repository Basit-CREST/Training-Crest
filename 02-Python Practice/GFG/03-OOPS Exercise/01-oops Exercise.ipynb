{
 "cells": [
  {
   "cell_type": "markdown",
   "id": "8246a0cd-6fff-45a1-bd33-bd8ce9e6ea4d",
   "metadata": {
    "jp-MarkdownHeadingCollapsed": true
   },
   "source": [
    "## Get index in the list of objects by attribute in Python"
   ]
  },
  {
   "cell_type": "code",
   "execution_count": 5,
   "id": "eb8f614b-7ae8-45ad-9691-68b89ed7bcc8",
   "metadata": {},
   "outputs": [],
   "source": [
    "class X:\n",
    "    def __init__(self,value):\n",
    "        self.value = value"
   ]
  },
  {
   "cell_type": "code",
   "execution_count": 14,
   "id": "c4901160-82c8-4c56-95a2-14830fec06de",
   "metadata": {},
   "outputs": [],
   "source": [
    "def getIndex(xm,arr):\n",
    "    for index, x in enumerate(arr):\n",
    "        if x.value == xm:\n",
    "            return index\n",
    "    return -1"
   ]
  },
  {
   "cell_type": "code",
   "execution_count": 15,
   "id": "e93d905b-27e4-43b6-aa7d-3bca68941b63",
   "metadata": {},
   "outputs": [
    {
     "name": "stdout",
     "output_type": "stream",
     "text": [
      "0\n",
      "1\n",
      "2\n",
      "3\n",
      "4\n",
      "5\n",
      "6\n",
      "7\n",
      "8\n",
      "9\n"
     ]
    }
   ],
   "source": [
    "a = [X(i) for i in range(10)]\n",
    "for i in a:\n",
    "    print(i.value)"
   ]
  },
  {
   "cell_type": "code",
   "execution_count": 16,
   "id": "2e2e6f18-0868-4b10-b2ae-8602bc7b83bd",
   "metadata": {},
   "outputs": [
    {
     "data": {
      "text/plain": [
       "list"
      ]
     },
     "execution_count": 16,
     "metadata": {},
     "output_type": "execute_result"
    }
   ],
   "source": [
    "type(a)"
   ]
  },
  {
   "cell_type": "code",
   "execution_count": 17,
   "id": "0d421832-109f-4b95-aeea-4b9e01232249",
   "metadata": {},
   "outputs": [
    {
     "name": "stdout",
     "output_type": "stream",
     "text": [
      "3\n"
     ]
    }
   ],
   "source": [
    "print(getIndex(3,a))"
   ]
  },
  {
   "cell_type": "markdown",
   "id": "2df42c91-2ed5-48eb-93f8-7b09a26ee415",
   "metadata": {
    "jp-MarkdownHeadingCollapsed": true
   },
   "source": [
    "## Python program to build flashcard using class in Python"
   ]
  },
  {
   "cell_type": "code",
   "execution_count": 29,
   "id": "27781b1e-2af1-44c7-8bcf-255a2b39e641",
   "metadata": {},
   "outputs": [],
   "source": [
    "flashcard = []"
   ]
  },
  {
   "cell_type": "code",
   "execution_count": 30,
   "id": "180cc3e7-eccb-4d1c-a8a9-20d59cb00289",
   "metadata": {},
   "outputs": [],
   "source": [
    "class flash:\n",
    "    def __init__(self,card,meaning):\n",
    "        self.card = card\n",
    "        self.meaning = meaning\n",
    "\n",
    "    def __str__(self):\n",
    "        return f\"Card Title:- {self.card} description {self.meaning} \"        "
   ]
  },
  {
   "cell_type": "code",
   "execution_count": 31,
   "id": "3bb8fb1d-2536-4103-b3cf-84889271d438",
   "metadata": {},
   "outputs": [
    {
     "name": "stdin",
     "output_type": "stream",
     "text": [
      "Enter Card Title Crest\n",
      "Enter meaning of Card IT Comapny\n",
      "Hey, do you want to add other card? if yeas press 0 0\n",
      "Enter Card Title CHARUSAT\n",
      "Enter meaning of Card University\n",
      "Hey, do you want to add other card? if yeas press 0 1\n"
     ]
    }
   ],
   "source": [
    "while(True):\n",
    "    card_title = input(\"Enter Card Title\")\n",
    "    card_meaning = input(\"Enter meaning of Card\")\n",
    "    f = flash(card_title,card_meaning)\n",
    "    flashcard.append(f)\n",
    "    option = int(input(\"Hey, do you want to add other card? if yeas press 0\"))\n",
    "\n",
    "    if(option):\n",
    "        break"
   ]
  },
  {
   "cell_type": "code",
   "execution_count": 32,
   "id": "8c44e116-e6ff-4c94-a9dc-923fd2c2a445",
   "metadata": {},
   "outputs": [
    {
     "name": "stdout",
     "output_type": "stream",
     "text": [
      "Crest\n",
      "Descreption:-\n",
      "\tIT Comapny\n",
      "\n",
      "\n",
      "CHARUSAT\n",
      "Descreption:-\n",
      "\tUniversity\n",
      "\n",
      "\n"
     ]
    }
   ],
   "source": [
    "for i in flashcard:\n",
    "    print(f\"{i.card}\")\n",
    "    print(\"Descreption:-\")\n",
    "    print(\"\\t\"+f\"{i.meaning}\")\n",
    "    print(\"\\n\")"
   ]
  },
  {
   "cell_type": "markdown",
   "id": "4fbede53-39bf-40ab-a625-7692f5c4c709",
   "metadata": {
    "jp-MarkdownHeadingCollapsed": true
   },
   "source": [
    "## How to Change a Dictionary Into a Class?"
   ]
  },
  {
   "cell_type": "code",
   "execution_count": 37,
   "id": "d8fb1dd1-ac53-4018-a3e0-9d3a89cf0b0b",
   "metadata": {},
   "outputs": [],
   "source": [
    "class give_dict():\n",
    "    def __init__(self,dic):\n",
    "        for key in dic.keys():\n",
    "            setattr(self,key,dic[key])\n",
    "\n",
    "dict1 = {\"H\":\"Hello\",\"2\":\"Hi\",\"3\":\"Hyyy\"}\n",
    "g = give_dict(dict1)    "
   ]
  },
  {
   "cell_type": "code",
   "execution_count": 38,
   "id": "d9de18b5-13d3-47c8-a931-3158968b210a",
   "metadata": {},
   "outputs": [
    {
     "data": {
      "text/plain": [
       "'Hello'"
      ]
     },
     "execution_count": 38,
     "metadata": {},
     "output_type": "execute_result"
    }
   ],
   "source": [
    "g.H"
   ]
  },
  {
   "cell_type": "code",
   "execution_count": 39,
   "id": "f496d958-66c1-4b73-81cb-20344c3d119d",
   "metadata": {},
   "outputs": [
    {
     "ename": "SyntaxError",
     "evalue": "invalid syntax (1420224318.py, line 1)",
     "output_type": "error",
     "traceback": [
      "\u001b[1;36m  Cell \u001b[1;32mIn[39], line 1\u001b[1;36m\u001b[0m\n\u001b[1;33m    g.2\u001b[0m\n\u001b[1;37m     ^\u001b[0m\n\u001b[1;31mSyntaxError\u001b[0m\u001b[1;31m:\u001b[0m invalid syntax\n"
     ]
    }
   ],
   "source": [
    "g.2"
   ]
  },
  {
   "cell_type": "code",
   "execution_count": 40,
   "id": "1d607e45-97b1-4f54-ae95-aa1a2a9248fd",
   "metadata": {},
   "outputs": [
    {
     "name": "stdout",
     "output_type": "stream",
     "text": [
      "Hi\n"
     ]
    }
   ],
   "source": [
    "print(getattr(g, \"2\")) "
   ]
  },
  {
   "cell_type": "markdown",
   "id": "dd045bc0-69ea-4e18-bf16-7793f18ac464",
   "metadata": {
    "jp-MarkdownHeadingCollapsed": true
   },
   "source": [
    "## How to create a list of object in Python class"
   ]
  },
  {
   "cell_type": "code",
   "execution_count": 41,
   "id": "2700ad29-e5ed-4275-9590-5430e1569460",
   "metadata": {},
   "outputs": [],
   "source": [
    "class n:\n",
    "    def __init__(self,name,rollnumber):\n",
    "        self.name = name\n",
    "        self.rollnumber = rollnumber\n",
    "\n",
    "name_list = ['x','y','z']\n",
    "class_list = [ n(name_list[i],i) for i in range(3)]\n",
    "        "
   ]
  },
  {
   "cell_type": "code",
   "execution_count": 42,
   "id": "4a83f90d-063f-4791-9b5e-625059bc23d6",
   "metadata": {},
   "outputs": [
    {
     "data": {
      "text/plain": [
       "[<__main__.n at 0x1bac45e7e00>,\n",
       " <__main__.n at 0x1bac56591d0>,\n",
       " <__main__.n at 0x1bac56587d0>]"
      ]
     },
     "execution_count": 42,
     "metadata": {},
     "output_type": "execute_result"
    }
   ],
   "source": [
    "class_list"
   ]
  },
  {
   "cell_type": "code",
   "execution_count": 44,
   "id": "a6c2aa9b-9053-4892-801b-ee0f633656b7",
   "metadata": {},
   "outputs": [
    {
     "name": "stdout",
     "output_type": "stream",
     "text": [
      "x->0\n",
      "y->1\n",
      "z->2\n"
     ]
    }
   ],
   "source": [
    "for i in class_list:\n",
    "    print(i.name + \"->\"+ str(i.rollnumber))"
   ]
  }
 ],
 "metadata": {
  "kernelspec": {
   "display_name": "Python 3 (ipykernel)",
   "language": "python",
   "name": "python3"
  },
  "language_info": {
   "codemirror_mode": {
    "name": "ipython",
    "version": 3
   },
   "file_extension": ".py",
   "mimetype": "text/x-python",
   "name": "python",
   "nbconvert_exporter": "python",
   "pygments_lexer": "ipython3",
   "version": "3.13.5"
  },
  "widgets": {
   "application/vnd.jupyter.widget-state+json": {
    "state": {},
    "version_major": 2,
    "version_minor": 0
   }
  }
 },
 "nbformat": 4,
 "nbformat_minor": 5
}
