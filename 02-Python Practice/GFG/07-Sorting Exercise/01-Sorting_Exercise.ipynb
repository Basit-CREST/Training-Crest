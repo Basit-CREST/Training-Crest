{
 "cells": [
  {
   "cell_type": "markdown",
   "id": "f5bf0b68-82c3-4e48-a8d2-e45655a2f61a",
   "metadata": {
    "jp-MarkdownHeadingCollapsed": true
   },
   "source": [
    "# Insertion Sort"
   ]
  },
  {
   "cell_type": "code",
   "execution_count": 1,
   "id": "d7812f9f-bc6d-4183-9edd-5c27a129064c",
   "metadata": {},
   "outputs": [],
   "source": [
    "def insertion_sort(arr):\n",
    "    size = len(arr)\n",
    "    for i in range(1,size):\n",
    "        if arr[i] < arr[i-1]:\n",
    "            arr[i] , arr[i-1] = arr[i-1] , arr[i]\n",
    "            j = i\n",
    "            while j > 0:\n",
    "                if arr[j-1] > arr[j]:\n",
    "                    arr[j] , arr[j-1] = arr[j-1] , arr[j]\n",
    "                j -= 1                "
   ]
  },
  {
   "cell_type": "code",
   "execution_count": 2,
   "id": "b4f1c341-62da-4acd-a899-03a74589ef8e",
   "metadata": {},
   "outputs": [],
   "source": [
    "my_list = [1,5,3,4]\n",
    "insertion_sort(my_list)"
   ]
  },
  {
   "cell_type": "code",
   "execution_count": 3,
   "id": "7653fa55-835a-431f-be2e-155c6ac65f10",
   "metadata": {},
   "outputs": [
    {
     "data": {
      "text/plain": [
       "[1, 3, 4, 5]"
      ]
     },
     "execution_count": 3,
     "metadata": {},
     "output_type": "execute_result"
    }
   ],
   "source": [
    "my_list"
   ]
  },
  {
   "cell_type": "markdown",
   "id": "4757889c-4e3b-4aaa-a524-eb2117db563a",
   "metadata": {
    "jp-MarkdownHeadingCollapsed": true
   },
   "source": [
    "# Counting Sort"
   ]
  },
  {
   "cell_type": "code",
   "execution_count": 37,
   "id": "e0924efa-99fd-4b9e-aa28-8e1aa0b60ad5",
   "metadata": {},
   "outputs": [],
   "source": [
    "my_list = [9,3,4,5,3,4,2,9]"
   ]
  },
  {
   "cell_type": "code",
   "execution_count": 38,
   "id": "11a5a79e-20df-4952-ade8-8fed5d172576",
   "metadata": {},
   "outputs": [],
   "source": [
    "def counting_sort(a):\n",
    "    max1 = max(a)\n",
    "    #print(max1)\n",
    "    max_arr = [0] * (max1+1)\n",
    "    #print(len(max_arr))\n",
    "    ans = [0] * len(my_list)\n",
    "\n",
    "    for i in my_list:\n",
    "        max_arr[i] += 1\n",
    "    \n",
    "    for i in range(1,len(max_arr)):\n",
    "        max_arr[i] += max_arr[i-1]\n",
    "    #print(max_arr)    \n",
    "    for i in reversed(a):\n",
    "        ans[max_arr[i]-1] = i\n",
    "        max_arr[i] -= 1\n",
    "\n",
    "    return ans"
   ]
  },
  {
   "cell_type": "code",
   "execution_count": 39,
   "id": "3352f969-440f-4626-85fb-03c16c8d6153",
   "metadata": {},
   "outputs": [
    {
     "data": {
      "text/plain": [
       "[2, 3, 3, 4, 4, 5, 9, 9]"
      ]
     },
     "execution_count": 39,
     "metadata": {},
     "output_type": "execute_result"
    }
   ],
   "source": [
    "counting_sort(my_list)"
   ]
  },
  {
   "cell_type": "markdown",
   "id": "2302a054-58bc-4154-b7b1-3ee8be75c61c",
   "metadata": {},
   "source": [
    "# Binary Insertion Sort"
   ]
  },
  {
   "cell_type": "code",
   "execution_count": 20,
   "id": "ead1a29f-1d52-43d7-adf7-9049b6c714f2",
   "metadata": {},
   "outputs": [],
   "source": [
    "def binary_search(arr,start,end,k):\n",
    "\n",
    "    if start == end:\n",
    "        if k > arr[start]:\n",
    "            return start+1\n",
    "        else:\n",
    "            return start\n",
    "    \n",
    "    if start > end:\n",
    "        return start\n",
    "\n",
    "    mid = (start+end)//2\n",
    "\n",
    "    if arr[mid] == k:\n",
    "        return mid\n",
    "    elif arr[mid] > k:\n",
    "        return binary_search(arr,start,mid-1,k)\n",
    "    else:\n",
    "        return binary_search(arr,mid+1,end,k)\n",
    "    "
   ]
  },
  {
   "cell_type": "code",
   "execution_count": 21,
   "id": "0c529785-2481-4fa0-8605-3e190c6fe5ab",
   "metadata": {},
   "outputs": [],
   "source": [
    "def binary_insertion_sort(arr):\n",
    "    for i in range(1,len(arr)):\n",
    "        val = arr[i]\n",
    "        index = binary_search(arr,0,i-1,val)\n",
    "        arr = arr[:index] + [val] + arr[index:i] + arr[i+1:]\n",
    "    return arr\n",
    "        "
   ]
  },
  {
   "cell_type": "code",
   "execution_count": 22,
   "id": "1b6a090d-ccc1-4d5d-b92a-e8fef53087bb",
   "metadata": {},
   "outputs": [
    {
     "data": {
      "text/plain": [
       "[1, 2, 3, 4, 6, 7, 8, 9]"
      ]
     },
     "execution_count": 22,
     "metadata": {},
     "output_type": "execute_result"
    }
   ],
   "source": [
    "my_list = [3,2,1,6,4,8,7,9]\n",
    "binary_insertion_sort(my_list)"
   ]
  },
  {
   "cell_type": "markdown",
   "id": "c69be391-4a24-4984-afc4-6d47426ceef3",
   "metadata": {},
   "source": [
    "# Heap Sort"
   ]
  },
  {
   "cell_type": "code",
   "execution_count": 29,
   "id": "f3fbe05b-759b-46b8-a4fa-3d9d828a8d86",
   "metadata": {},
   "outputs": [],
   "source": [
    "def heapify(arr,n,i):\n",
    "\n",
    "    largest = i\n",
    "    l = i * 2 + 1\n",
    "    r = i * 2 + 2\n",
    "\n",
    "    if l<n and arr[l]>arr[largest]:\n",
    "        largest = l\n",
    "\n",
    "    if r<n and arr[r]>arr[largest]:\n",
    "        largest = r\n",
    "\n",
    "    if i != largest:\n",
    "        arr[largest] , arr[i] = arr[i] , arr[largest]\n",
    "        heapify(arr,n,largest)\n",
    "     "
   ]
  },
  {
   "cell_type": "code",
   "execution_count": 30,
   "id": "6319de53-0f84-48a5-8c45-834279e2ac47",
   "metadata": {},
   "outputs": [],
   "source": [
    "def heap_sort(arr):\n",
    "    n = len(arr)\n",
    "\n",
    "    for i in range(n//2-1,-1,-1):\n",
    "        heapify(arr,n,i)\n",
    "    for i in range(n - 1, 0, -1):\n",
    "        arr[0], arr[i] = arr[i], arr[0] \n",
    "        heapify(arr, i, 0)"
   ]
  },
  {
   "cell_type": "code",
   "execution_count": 31,
   "id": "d0153a61-c91c-4b10-95a6-9cf1f897d3c9",
   "metadata": {},
   "outputs": [],
   "source": [
    "my_list = [3,2,1,6,4,8,7,9]\n",
    "heap_sort(my_list)"
   ]
  },
  {
   "cell_type": "code",
   "execution_count": 32,
   "id": "f5f97428-aa8f-4377-b68a-16958f742bec",
   "metadata": {},
   "outputs": [
    {
     "data": {
      "text/plain": [
       "[1, 2, 3, 4, 6, 7, 8, 9]"
      ]
     },
     "execution_count": 32,
     "metadata": {},
     "output_type": "execute_result"
    }
   ],
   "source": [
    "my_list"
   ]
  }
 ],
 "metadata": {
  "kernelspec": {
   "display_name": "Python 3 (ipykernel)",
   "language": "python",
   "name": "python3"
  },
  "language_info": {
   "codemirror_mode": {
    "name": "ipython",
    "version": 3
   },
   "file_extension": ".py",
   "mimetype": "text/x-python",
   "name": "python",
   "nbconvert_exporter": "python",
   "pygments_lexer": "ipython3",
   "version": "3.13.5"
  },
  "widgets": {
   "application/vnd.jupyter.widget-state+json": {
    "state": {},
    "version_major": 2,
    "version_minor": 0
   }
  }
 },
 "nbformat": 4,
 "nbformat_minor": 5
}
