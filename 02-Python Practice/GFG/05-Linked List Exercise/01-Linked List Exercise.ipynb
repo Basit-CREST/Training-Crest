{
 "cells": [
  {
   "cell_type": "markdown",
   "id": "8bffc8f4-d475-4557-9a2d-b35f6cbc73d3",
   "metadata": {
    "jp-MarkdownHeadingCollapsed": true
   },
   "source": [
    "# Linked List"
   ]
  },
  {
   "cell_type": "code",
   "execution_count": 5,
   "id": "f62cc924-7657-4e51-bdf0-82c7865714a3",
   "metadata": {},
   "outputs": [],
   "source": [
    "class Node:\n",
    "    def __init__(self,val):\n",
    "        self.val = val\n",
    "        self.next = None"
   ]
  },
  {
   "cell_type": "code",
   "execution_count": 25,
   "id": "95dc3121-39d8-43ef-b947-193b23a964fb",
   "metadata": {},
   "outputs": [],
   "source": [
    "class LinkedList:\n",
    "    def __init__(self):\n",
    "        self.head = None\n",
    "    def add_begining(self,val):\n",
    "        new_node = Node(val)\n",
    "        new_node.next = self.head\n",
    "        self.head = new_node\n",
    "    def print_linkedlist(self):\n",
    "        temp = self.head\n",
    "        while temp:\n",
    "            print(temp.val)\n",
    "            temp = temp.next\n",
    "    def add_end(self,val):\n",
    "        new_node = Node(val)\n",
    "        if not self.head:\n",
    "            self.head = new_node\n",
    "            return\n",
    "        temp = self.head\n",
    "        while temp.next:\n",
    "            temp = temp.next\n",
    "\n",
    "        temp.next = new_node\n",
    "\n",
    "    def delete_by_key(self,key):\n",
    "        temp = self.head\n",
    "        prev = None\n",
    "\n",
    "        if temp and temp.val == key:\n",
    "            self.head = temp.next\n",
    "            return\n",
    "        \n",
    "        while temp:\n",
    "            prev = temp\n",
    "            temp = temp.next\n",
    "            if key == temp.val:\n",
    "                prev.next = temp.next\n",
    "                return\n",
    "\n",
    "    def reverse_print(self):\n",
    "        temp = self.head\n",
    "        reverse_linkedlist = []\n",
    "        while temp:\n",
    "            reverse_linkedlist.append(temp.val)\n",
    "            temp = temp.next\n",
    "\n",
    "        print(reverse_linkedlist[::-1])\n",
    "\n",
    "    def serach_key(self,key):\n",
    "        temp = self.head\n",
    "        count = 1\n",
    "        while temp:\n",
    "            if temp.val == key:\n",
    "                print(\"Index of Given Key \" + str(count))\n",
    "                return\n",
    "            else:\n",
    "                count += 1\n",
    "            temp = temp.next\n",
    "        print(\"Key Not Found\")\n",
    "\n",
    "    def reverse_linkedlist(self):\n",
    "        pass"
   ]
  },
  {
   "cell_type": "code",
   "execution_count": 24,
   "id": "a56f4374-d41c-4aac-912c-018ad9e080cb",
   "metadata": {},
   "outputs": [
    {
     "name": "stdout",
     "output_type": "stream",
     "text": [
      "1\n",
      "2\n",
      "21\n",
      "22\n",
      "Index of Given Key 2\n",
      "Key Not Found\n",
      "1\n",
      "2\n",
      "[2, 1]\n"
     ]
    }
   ],
   "source": [
    "L1 = LinkedList()\n",
    "L1.add_begining(21)\n",
    "L1.add_begining(2)\n",
    "L1.add_begining(1)\n",
    "L1.add_end(22)\n",
    "L1.print_linkedlist()\n",
    "\n",
    "L1.delete_by_key(21)\n",
    "L1.delete_by_key(22)\n",
    "\n",
    "L1.serach_key(2)\n",
    "L1.serach_key(22)\n",
    "L1.print_linkedlist()\n",
    "L1.reverse_print()"
   ]
  },
  {
   "cell_type": "markdown",
   "id": "47b5e841-d7c6-4ea3-82aa-2477203c879f",
   "metadata": {
    "jp-MarkdownHeadingCollapsed": true
   },
   "source": [
    "# Circular Linked List"
   ]
  },
  {
   "cell_type": "code",
   "execution_count": 2,
   "id": "8df97aa1-5d6b-4376-a2c7-2c3df61613c0",
   "metadata": {},
   "outputs": [],
   "source": [
    "class Node():\n",
    "    def __init__(self,val):\n",
    "        self.val = val\n",
    "        self.next = None         "
   ]
  },
  {
   "cell_type": "code",
   "execution_count": 7,
   "id": "8f1a10ba-ad59-4917-bc5e-65580f6b0190",
   "metadata": {},
   "outputs": [],
   "source": [
    "class circular_linkedlist():\n",
    "    def __init__(self):\n",
    "        self.head = Node(None)\n",
    "        self.tail = Node(None)\n",
    "\n",
    "    def add_at_begining(self,val):\n",
    "        new_node = Node(val)\n",
    "        if self.head.val is None:\n",
    "            self.head = new_node\n",
    "            self.tail = new_node\n",
    "            self.tail.next = self.head \n",
    "            self.head.next = self.tail\n",
    "        else:\n",
    "            self.tail.next = new_node\n",
    "            self.tail = new_node\n",
    "            self.tail.next = self.head\n",
    "    def print_LL(self):\n",
    "        temp = self.tail.next\n",
    "        temp1 = temp\n",
    "        while temp1:\n",
    "            print(temp1.val)\n",
    "            temp1 = temp1.next\n",
    "            if temp == temp1:\n",
    "                break\n",
    "\n",
    "    def search(self,key):\n",
    "        temp = self.tail.next\n",
    "        temp1 = temp\n",
    "        while temp:\n",
    "            if temp.val == key:\n",
    "                print(\"Found the Key\")\n",
    "                return \n",
    "            temp = temp.next\n",
    "            if temp == temp1:\n",
    "                break\n",
    "        print(\"Not Found\")"
   ]
  },
  {
   "cell_type": "code",
   "execution_count": 8,
   "id": "37c85985-2ec6-4c51-8695-d37bf02f6147",
   "metadata": {},
   "outputs": [
    {
     "name": "stdout",
     "output_type": "stream",
     "text": [
      "Found the Key\n",
      "Not Found\n",
      "1\n",
      "2\n",
      "3\n"
     ]
    }
   ],
   "source": [
    "L2 = circular_linkedlist()\n",
    "L2.add_at_begining(1)\n",
    "L2.add_at_begining(2)\n",
    "L2.add_at_begining(3)\n",
    "L2.search(2)\n",
    "L2.search(0)\n",
    "L2.print_LL() ## for printing circular linked list we might stuck in infinite loop , to check first node in repeat we should save first node in temp"
   ]
  },
  {
   "cell_type": "markdown",
   "id": "a72ea606-81b8-48bd-b96a-a1acba40bf5c",
   "metadata": {
    "jp-MarkdownHeadingCollapsed": true
   },
   "source": [
    "# Reverse The Linked List"
   ]
  },
  {
   "cell_type": "code",
   "execution_count": 71,
   "id": "1ec5f101-2daa-45ac-ba89-7d958804340b",
   "metadata": {},
   "outputs": [],
   "source": [
    "class Node():\n",
    "    def __init__(self,val,next):\n",
    "        self.val = val\n",
    "        self.next = next"
   ]
  },
  {
   "cell_type": "code",
   "execution_count": 121,
   "id": "a8a3364b-2cfd-4d81-b836-f9ba596c4c7c",
   "metadata": {},
   "outputs": [],
   "source": [
    "class LinkedList_r():\n",
    "    def __init__(self):\n",
    "        self.head = None\n",
    "    def push(self,val):\n",
    "         new_node = Node(val,self.head)\n",
    "         self.head = new_node\n",
    "    def print_l(self):\n",
    "        temp = self.head\n",
    "        while temp != None:\n",
    "            print(temp.val)\n",
    "            temp = temp.next\n",
    "    def reverse(self):\n",
    "        ptr = self.head\n",
    "        #print(ptr.next)\n",
    "        while ptr.next:\n",
    "            stk.append(ptr)\n",
    "            ptr = ptr.next\n",
    "        self.head = ptr\n",
    "        \n",
    "        #print(ptr.next)\n",
    "        #print(ptr)\n",
    "        \n",
    "        while len(stk) != 1:\n",
    "            ptr.next = stk.pop()\n",
    "            ptr = ptr.next\n",
    "        ptr.next = None\n",
    "    def reverse_1(self):\n",
    "        current = self.head\n",
    "        prev = None\n",
    "        while current:\n",
    "            next = current.next\n",
    "            current.next = prev\n",
    "            prev = current\n",
    "            current = next\n",
    "        self.head = prev   "
   ]
  },
  {
   "cell_type": "code",
   "execution_count": 122,
   "id": "a5831326-6d6a-4541-b6ac-6227795075a7",
   "metadata": {},
   "outputs": [],
   "source": [
    "l3 = LinkedList_r()"
   ]
  },
  {
   "cell_type": "code",
   "execution_count": 123,
   "id": "de2155ec-363d-4f8e-aa10-7abd2fb4e4cb",
   "metadata": {},
   "outputs": [],
   "source": [
    "l3.push(3)\n",
    "l3.push(2)\n",
    "l3.push(1)\n",
    "l3.push(0)"
   ]
  },
  {
   "cell_type": "code",
   "execution_count": 124,
   "id": "32646111-b697-4029-af30-0c1f7573a799",
   "metadata": {},
   "outputs": [
    {
     "name": "stdout",
     "output_type": "stream",
     "text": [
      "0\n",
      "1\n",
      "2\n",
      "3\n"
     ]
    }
   ],
   "source": [
    "l3.print_l()"
   ]
  },
  {
   "cell_type": "markdown",
   "id": "a04bf7b8-703c-4e0c-8a5a-9e260b02f5da",
   "metadata": {},
   "source": [
    "## Reverse Method One : Using Stack"
   ]
  },
  {
   "cell_type": "code",
   "execution_count": null,
   "id": "6d7cd509-2993-414d-b5eb-737e32884db9",
   "metadata": {},
   "outputs": [],
   "source": [
    " def reverse(self):\n",
    "        ptr = self.head\n",
    "        while ptr.next:\n",
    "            stk.append(ptr.next)\n",
    "            ptr = ptr.next\n",
    "        self.head = ptr\n",
    "        while len(stk) != 0:\n",
    "            ptr.next = stk.pop()\n",
    "            ptr = ptr.next\n",
    "        ptr.next = None"
   ]
  },
  {
   "cell_type": "code",
   "execution_count": 16,
   "id": "a88a955b-686b-4a53-aa04-3e0d4e8741b9",
   "metadata": {},
   "outputs": [],
   "source": [
    "stk = []"
   ]
  },
  {
   "cell_type": "code",
   "execution_count": 125,
   "id": "17d21930-373c-4948-a0ab-fcdca5eaf21a",
   "metadata": {},
   "outputs": [
    {
     "name": "stdout",
     "output_type": "stream",
     "text": [
      "3\n",
      "2\n",
      "1\n",
      "0\n"
     ]
    }
   ],
   "source": [
    "l3.reverse()\n",
    "l3.print_l()"
   ]
  },
  {
   "cell_type": "markdown",
   "id": "afffe64d-9511-4a57-bffb-c9795ef14358",
   "metadata": {},
   "source": [
    "## Reverse Method Two : Using Two Pointer "
   ]
  },
  {
   "cell_type": "code",
   "execution_count": null,
   "id": "aef6c425-5897-49fd-b7e5-8d41d2b3b9c9",
   "metadata": {},
   "outputs": [],
   "source": [
    "def reverse_1():\n",
    "        current = self.head\n",
    "        prev = None\n",
    "        while current.next:\n",
    "            next = current.next\n",
    "            current.next = prev\n",
    "            prev = current\n",
    "            current = next\n",
    "        self.head = current"
   ]
  },
  {
   "cell_type": "code",
   "execution_count": 126,
   "id": "1a3061f2-7c32-42ed-a9cc-2166335d2993",
   "metadata": {},
   "outputs": [
    {
     "name": "stdout",
     "output_type": "stream",
     "text": [
      "0\n",
      "1\n",
      "2\n",
      "3\n"
     ]
    }
   ],
   "source": [
    "l3.reverse_1()\n",
    "l3.print_l()"
   ]
  },
  {
   "cell_type": "markdown",
   "id": "3671d69f-5643-42eb-8561-12e7867f090b",
   "metadata": {
    "jp-MarkdownHeadingCollapsed": true
   },
   "source": [
    "# Doubly Linked List"
   ]
  },
  {
   "cell_type": "code",
   "execution_count": 3,
   "id": "4e94476c-749a-4308-b177-44fff9d7c09e",
   "metadata": {},
   "outputs": [],
   "source": [
    "class Node():\n",
    "    def __init__(self,val):\n",
    "        self.val = val\n",
    "        self.next = None\n",
    "        self.prev = None"
   ]
  },
  {
   "cell_type": "code",
   "execution_count": 11,
   "id": "0c3c53d2-7b40-4a8e-8e45-4d7234e01f3e",
   "metadata": {},
   "outputs": [],
   "source": [
    "class doubly_linkedlist():\n",
    "    def __init__(self):\n",
    "        self.head = None\n",
    "\n",
    "    def add(self,val):\n",
    "        if self.head is None:\n",
    "            self.head = Node(val)\n",
    "        else:\n",
    "            new_node = Node(val)\n",
    "            self.head.prev = new_node\n",
    "            new_node.prev = None\n",
    "            new_node.next = self.head\n",
    "            self.head = new_node\n",
    "    def print(self):\n",
    "        temp = self.head\n",
    "        while temp:\n",
    "            print(temp.val)\n",
    "            temp = temp.next\n",
    "\n",
    "    def print_reverse(self):\n",
    "        temp = self.head \n",
    "        while temp.next:\n",
    "            temp = temp.next\n",
    "\n",
    "        while temp != self.head:\n",
    "            print(temp.val)\n",
    "            temp = temp.prev\n",
    "        print(temp.val)\n",
    "\n",
    "    def pop(self):\n",
    "        temp = self.head\n",
    "        self.head = temp.next\n",
    "        temp.prev = None\n",
    "        temp.next = None\n",
    "        return temp.val\n",
    "\n",
    "    def isempty(self):\n",
    "        if self.head is None:\n",
    "            return True\n",
    "        else:\n",
    "            return False\n",
    "\n",
    "    def len(self):\n",
    "        count = 0\n",
    "        temp = self.head\n",
    "        while temp:\n",
    "            count += 1\n",
    "            temp = temp.next\n",
    "        return count\n",
    "\n",
    "    def top(self):\n",
    "        return self.head.val"
   ]
  },
  {
   "cell_type": "code",
   "execution_count": 13,
   "id": "e1e728f7-6e87-496c-8243-6fbcb24953e2",
   "metadata": {},
   "outputs": [],
   "source": [
    "l4 = doubly_linkedlist()\n",
    "l4.add(10)\n",
    "l4.add(20)\n",
    "l4.add(30)\n",
    "l4.add(40)\n",
    "l4.add(50)"
   ]
  },
  {
   "cell_type": "code",
   "execution_count": 14,
   "id": "f429a66a-ab09-4aa2-b422-84abfc86ae71",
   "metadata": {},
   "outputs": [
    {
     "name": "stdout",
     "output_type": "stream",
     "text": [
      "50\n",
      "40\n",
      "30\n",
      "20\n",
      "10\n"
     ]
    }
   ],
   "source": [
    "l4.print()"
   ]
  },
  {
   "cell_type": "code",
   "execution_count": 15,
   "id": "a1d4660f-b3af-41a3-8311-e37d4dc53c86",
   "metadata": {},
   "outputs": [
    {
     "name": "stdout",
     "output_type": "stream",
     "text": [
      "10\n",
      "20\n",
      "30\n",
      "40\n",
      "50\n"
     ]
    }
   ],
   "source": [
    "l4.print_reverse()"
   ]
  },
  {
   "cell_type": "code",
   "execution_count": 16,
   "id": "6c2fbc76-e1a1-474f-a504-9aa4626ef283",
   "metadata": {},
   "outputs": [
    {
     "data": {
      "text/plain": [
       "50"
      ]
     },
     "execution_count": 16,
     "metadata": {},
     "output_type": "execute_result"
    }
   ],
   "source": [
    "l4.pop()"
   ]
  },
  {
   "cell_type": "code",
   "execution_count": 17,
   "id": "6f497139-e22a-4885-9359-e12ac6774c61",
   "metadata": {},
   "outputs": [
    {
     "name": "stdout",
     "output_type": "stream",
     "text": [
      "40\n",
      "30\n",
      "20\n",
      "10\n"
     ]
    }
   ],
   "source": [
    "l4.print()"
   ]
  },
  {
   "cell_type": "code",
   "execution_count": 18,
   "id": "d82df105-57f6-4996-8dbc-324625eea27c",
   "metadata": {},
   "outputs": [
    {
     "data": {
      "text/plain": [
       "4"
      ]
     },
     "execution_count": 18,
     "metadata": {},
     "output_type": "execute_result"
    }
   ],
   "source": [
    "l4.len()"
   ]
  },
  {
   "cell_type": "code",
   "execution_count": 19,
   "id": "36fc7b2c-6ab6-4a63-9e78-5bebe4fc1e43",
   "metadata": {},
   "outputs": [
    {
     "data": {
      "text/plain": [
       "False"
      ]
     },
     "execution_count": 19,
     "metadata": {},
     "output_type": "execute_result"
    }
   ],
   "source": [
    "l4.isempty()"
   ]
  },
  {
   "cell_type": "code",
   "execution_count": 20,
   "id": "1488211a-2757-4435-9cb7-86ea1ef25a19",
   "metadata": {},
   "outputs": [
    {
     "data": {
      "text/plain": [
       "10"
      ]
     },
     "execution_count": 20,
     "metadata": {},
     "output_type": "execute_result"
    }
   ],
   "source": [
    "l4.pop()\n",
    "l4.pop()\n",
    "l4.pop()\n",
    "l4.pop()"
   ]
  },
  {
   "cell_type": "code",
   "execution_count": 21,
   "id": "e58063e7-e9f5-4c46-ac44-98c8b8d57275",
   "metadata": {},
   "outputs": [
    {
     "data": {
      "text/plain": [
       "True"
      ]
     },
     "execution_count": 21,
     "metadata": {},
     "output_type": "execute_result"
    }
   ],
   "source": [
    "l4.isempty()"
   ]
  },
  {
   "cell_type": "markdown",
   "id": "2300e71c-e3f9-40d1-b9c2-518cabcd8aae",
   "metadata": {},
   "source": [
    "## Making Stack Using Doubly linkd list"
   ]
  },
  {
   "cell_type": "code",
   "execution_count": 29,
   "id": "857301fb-9ddb-4d32-81aa-c7a6a5f5887f",
   "metadata": {},
   "outputs": [],
   "source": [
    "class stack1():\n",
    "    def __init__(self):\n",
    "        self.s = doubly_linkedlist()\n",
    "\n",
    "    def push(self,val):\n",
    "        self.s.add(val)\n",
    "\n",
    "    def pop(self):\n",
    "        return self.s.pop()\n",
    "\n",
    "    def contains(self):\n",
    "        self.s.print()"
   ]
  },
  {
   "cell_type": "code",
   "execution_count": 32,
   "id": "faf5c869-2786-4a92-b13b-4f330d18caf9",
   "metadata": {},
   "outputs": [],
   "source": [
    "s1 = stack1()"
   ]
  },
  {
   "cell_type": "code",
   "execution_count": 33,
   "id": "d1713064-879b-4d02-b6e3-98c656b32a39",
   "metadata": {},
   "outputs": [
    {
     "name": "stdout",
     "output_type": "stream",
     "text": [
      "50\n",
      "40\n",
      "30\n",
      "20\n",
      "10\n",
      "Popped item 50\n"
     ]
    }
   ],
   "source": [
    "s1.push(10)\n",
    "s1.push(20)\n",
    "s1.push(30)\n",
    "s1.push(40)\n",
    "s1.push(50)\n",
    "s1.contains()\n",
    "print(\"Popped item \" + str(s1.pop()))"
   ]
  },
  {
   "cell_type": "code",
   "execution_count": 35,
   "id": "4f94bf47-127f-421a-921b-8fe53daa2fc4",
   "metadata": {},
   "outputs": [
    {
     "name": "stdout",
     "output_type": "stream",
     "text": [
      "40\n",
      "30\n",
      "20\n",
      "10\n"
     ]
    }
   ],
   "source": [
    "s1.contains()"
   ]
  },
  {
   "cell_type": "markdown",
   "id": "45117fd8-7052-4072-9c75-edf8a4e5f361",
   "metadata": {},
   "source": [
    "## Queue Using Doubly Linked List"
   ]
  },
  {
   "cell_type": "code",
   "execution_count": null,
   "id": "308862f5-db69-4751-a3ab-0ecf9267f930",
   "metadata": {},
   "outputs": [],
   "source": []
  }
 ],
 "metadata": {
  "kernelspec": {
   "display_name": "Python 3 (ipykernel)",
   "language": "python",
   "name": "python3"
  },
  "language_info": {
   "codemirror_mode": {
    "name": "ipython",
    "version": 3
   },
   "file_extension": ".py",
   "mimetype": "text/x-python",
   "name": "python",
   "nbconvert_exporter": "python",
   "pygments_lexer": "ipython3",
   "version": "3.13.5"
  },
  "widgets": {
   "application/vnd.jupyter.widget-state+json": {
    "state": {},
    "version_major": 2,
    "version_minor": 0
   }
  }
 },
 "nbformat": 4,
 "nbformat_minor": 5
}
