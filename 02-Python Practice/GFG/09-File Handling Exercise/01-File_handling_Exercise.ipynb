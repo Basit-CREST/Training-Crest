{
 "cells": [
  {
   "cell_type": "markdown",
   "id": "6a6f0b90-8742-4c36-85d8-a381bf7327dd",
   "metadata": {
    "jp-MarkdownHeadingCollapsed": true
   },
   "source": [
    "# Copying Txt content from one to another"
   ]
  },
  {
   "cell_type": "code",
   "execution_count": 4,
   "id": "ef34e7fa-9c65-4d29-b31e-9b5ce3249300",
   "metadata": {},
   "outputs": [],
   "source": [
    "f = open(\"intro.txt\",\"r\")\n",
    "input = f.read()"
   ]
  },
  {
   "cell_type": "code",
   "execution_count": 5,
   "id": "ac580968-b261-46df-8e72-e964e473ab3a",
   "metadata": {},
   "outputs": [],
   "source": [
    "output = open(\"outro.txt\",\"w\")\n",
    "for i in input:\n",
    "    output.write(i)\n",
    "    "
   ]
  },
  {
   "cell_type": "code",
   "execution_count": 6,
   "id": "6273e980-1611-4aba-b727-f629e8de30b6",
   "metadata": {},
   "outputs": [],
   "source": [
    "f.close()\n",
    "output.close()"
   ]
  },
  {
   "cell_type": "markdown",
   "id": "db340b8e-0d98-4ba5-8094-b6817f70bb04",
   "metadata": {
    "jp-MarkdownHeadingCollapsed": true
   },
   "source": [
    "# Size of File"
   ]
  },
  {
   "cell_type": "code",
   "execution_count": 7,
   "id": "a160ef3b-178b-4317-8b2e-7b6323c1834c",
   "metadata": {},
   "outputs": [],
   "source": [
    "import os"
   ]
  },
  {
   "cell_type": "code",
   "execution_count": 8,
   "id": "53d23cee-58d2-47cc-aeef-80bc71732324",
   "metadata": {},
   "outputs": [
    {
     "name": "stdout",
     "output_type": "stream",
     "text": [
      "169\n"
     ]
    }
   ],
   "source": [
    "print(os.path.getsize('intro.txt'))"
   ]
  },
  {
   "cell_type": "markdown",
   "id": "a660b73a-dbc3-4ab7-9ef7-be6ccd7d35d7",
   "metadata": {
    "jp-MarkdownHeadingCollapsed": true
   },
   "source": [
    "# Writing Dictionaries in Text files"
   ]
  },
  {
   "cell_type": "markdown",
   "id": "154e3548-9c2d-4e0b-ae77-ba4088d4ed79",
   "metadata": {},
   "source": [
    "## Method 1"
   ]
  },
  {
   "cell_type": "code",
   "execution_count": 12,
   "id": "3e54af34-bd12-4fc9-b6af-430f7766604b",
   "metadata": {},
   "outputs": [],
   "source": [
    "import json"
   ]
  },
  {
   "cell_type": "code",
   "execution_count": 13,
   "id": "5b9506f8-962d-4648-841b-cd4d8a8b0621",
   "metadata": {},
   "outputs": [
    {
     "data": {
      "text/plain": [
       "56"
      ]
     },
     "execution_count": 13,
     "metadata": {},
     "output_type": "execute_result"
    }
   ],
   "source": [
    "dic = {\"1\":\"Basit\",\"2\":\"Meet\",\"3\":\"Priyam\"}\n",
    "f = open(\"dictionaries_dump.txt\",\"w\")\n",
    "f.write(json.dumps(dic,indent=4))\n"
   ]
  },
  {
   "cell_type": "code",
   "execution_count": 14,
   "id": "46135596-b9c6-44ef-a709-9dbb9d176223",
   "metadata": {},
   "outputs": [],
   "source": [
    "f.close()"
   ]
  },
  {
   "cell_type": "markdown",
   "id": "46f01643-8430-46ba-8fae-20449e228c9a",
   "metadata": {},
   "source": [
    "### Method 2"
   ]
  },
  {
   "cell_type": "code",
   "execution_count": 18,
   "id": "40325bde-e8d7-4478-a86d-aa450653fdb0",
   "metadata": {},
   "outputs": [],
   "source": [
    "with open(\"dictionaries_dump.txt\",\"a\") as f:\n",
    "    json.dump(dic,f)"
   ]
  },
  {
   "cell_type": "code",
   "execution_count": 19,
   "id": "12434f65-46d2-41cd-9215-16590476f613",
   "metadata": {},
   "outputs": [],
   "source": [
    "f.close()"
   ]
  },
  {
   "cell_type": "markdown",
   "id": "0d01fbf9-1cb0-420d-9a36-0d3cde02213a",
   "metadata": {
    "jp-MarkdownHeadingCollapsed": true
   },
   "source": [
    "# Find the Highest frequency word in file"
   ]
  },
  {
   "cell_type": "code",
   "execution_count": 23,
   "id": "967db3ff-317a-43b0-ab2e-1031e598a1b5",
   "metadata": {},
   "outputs": [
    {
     "data": {
      "text/plain": [
       "['geeksforgeeks',\n",
       " 'is',\n",
       " 'a',\n",
       " 'computer',\n",
       " 'science',\n",
       " 'portal',\n",
       " 'for',\n",
       " 'geeksit',\n",
       " 'contains',\n",
       " 'well',\n",
       " 'written',\n",
       " 'well',\n",
       " 'thought',\n",
       " 'and',\n",
       " 'well',\n",
       " 'explainedcomputer',\n",
       " 'science',\n",
       " 'and',\n",
       " 'programming',\n",
       " 'articles',\n",
       " 'quizzes',\n",
       " 'etc']"
      ]
     },
     "execution_count": 23,
     "metadata": {},
     "output_type": "execute_result"
    }
   ],
   "source": [
    "with open(\"intro.txt\",\"r\") as f:\n",
    "    line = \"\"\n",
    "    for i in f:\n",
    "        line += i\n",
    "\n",
    "    line1 = line.lower().replace(\",\",\"\").replace(\".\",\"\").replace(\"\\n\",\"\").split(\" \")\n",
    "line1"
   ]
  },
  {
   "cell_type": "code",
   "execution_count": 24,
   "id": "315d5ca9-6b2b-4456-a51d-ffe66b5aa7cd",
   "metadata": {},
   "outputs": [
    {
     "name": "stdout",
     "output_type": "stream",
     "text": [
      "3\n"
     ]
    }
   ],
   "source": [
    "max1 = 0\n",
    "for i in line1:\n",
    "    temp = i\n",
    "    score = 0\n",
    "    for j in line1:\n",
    "        if i == j:\n",
    "            score += 1\n",
    "    max1 = max(score,max1)\n",
    "print(max1)"
   ]
  },
  {
   "cell_type": "markdown",
   "id": "582a267e-60d2-49ba-8085-56f1a8afe70f",
   "metadata": {
    "jp-MarkdownHeadingCollapsed": true
   },
   "source": [
    "# Read Specific Lines from Text Files"
   ]
  },
  {
   "cell_type": "code",
   "execution_count": 27,
   "id": "4553d7fa-7614-4f28-abf9-bdaf90916baf",
   "metadata": {},
   "outputs": [
    {
     "data": {
      "text/plain": [
       "['This is Line 1\\n',\n",
       " 'This is Line 2\\n',\n",
       " 'This is Line 3\\n',\n",
       " 'This is Line 4\\n',\n",
       " 'This is Line 5\\n',\n",
       " 'This is Line 6\\n',\n",
       " 'This is Line 7\\n',\n",
       " 'This is Line 8\\n',\n",
       " 'This is Line 9\\n',\n",
       " 'This is Line 10\\n',\n",
       " 'This is Line 11']"
      ]
     },
     "execution_count": 27,
     "metadata": {},
     "output_type": "execute_result"
    }
   ],
   "source": [
    "f = open(\"text_lines.txt\",\"r\")\n",
    "input = f.readlines()\n",
    "input"
   ]
  },
  {
   "cell_type": "code",
   "execution_count": 28,
   "id": "455ea079-0498-4465-b176-afdff4e98d37",
   "metadata": {},
   "outputs": [],
   "source": [
    "f.close()"
   ]
  },
  {
   "cell_type": "code",
   "execution_count": 29,
   "id": "def1b90e-98bd-41c8-be04-f8e3fff1e0fe",
   "metadata": {},
   "outputs": [],
   "source": [
    "specified_lines = [1,4,6,7,10]"
   ]
  },
  {
   "cell_type": "code",
   "execution_count": 31,
   "id": "a33e6c9d-327f-4d21-a764-757580aaf03c",
   "metadata": {},
   "outputs": [
    {
     "name": "stdout",
     "output_type": "stream",
     "text": [
      "This is Line 2\n",
      "\n",
      "This is Line 5\n",
      "\n",
      "This is Line 7\n",
      "\n",
      "This is Line 8\n",
      "\n",
      "This is Line 11\n"
     ]
    }
   ],
   "source": [
    "with open(\"text_lines.txt\",\"r\") as f:\n",
    "    for pos, data in enumerate(f):\n",
    "        if pos in specified_lines:\n",
    "            print(data)\n",
    "    "
   ]
  },
  {
   "cell_type": "code",
   "execution_count": 32,
   "id": "84f0172d-0ca2-4991-b0b5-b6d7b9938c1e",
   "metadata": {},
   "outputs": [],
   "source": [
    "f.close()"
   ]
  }
 ],
 "metadata": {
  "kernelspec": {
   "display_name": "Python 3 (ipykernel)",
   "language": "python",
   "name": "python3"
  },
  "language_info": {
   "codemirror_mode": {
    "name": "ipython",
    "version": 3
   },
   "file_extension": ".py",
   "mimetype": "text/x-python",
   "name": "python",
   "nbconvert_exporter": "python",
   "pygments_lexer": "ipython3",
   "version": "3.13.5"
  },
  "widgets": {
   "application/vnd.jupyter.widget-state+json": {
    "state": {},
    "version_major": 2,
    "version_minor": 0
   }
  }
 },
 "nbformat": 4,
 "nbformat_minor": 5
}
