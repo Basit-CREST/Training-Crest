{
 "cells": [
  {
   "cell_type": "markdown",
   "id": "b58a61cb-d47d-45a7-bf12-bceae28e42a9",
   "metadata": {
    "jp-MarkdownHeadingCollapsed": true
   },
   "source": [
    "## IPV4 And IPV6 identification using Regex"
   ]
  },
  {
   "cell_type": "code",
   "execution_count": 5,
   "id": "361a5e54-99fc-4ee0-b109-2e6445cbaf34",
   "metadata": {},
   "outputs": [],
   "source": [
    "import re"
   ]
  },
  {
   "cell_type": "code",
   "execution_count": 6,
   "id": "6f36bfb0-36b0-49fe-98b0-4a4ae07dc140",
   "metadata": {},
   "outputs": [],
   "source": [
    "ipv4 = '''^(25[0-5]|2[0-4][0-9]|[0-1]?[0-9][0-9]?)\\.( \n",
    "            25[0-5]|2[0-4][0-9]|[0-1]?[0-9][0-9]?)\\.( \n",
    "            25[0-5]|2[0-4][0-9]|[0-1]?[0-9][0-9]?)\\.( \n",
    "            25[0-5]|2[0-4][0-9]|[0-1]?[0-9][0-9]?)$'''"
   ]
  },
  {
   "cell_type": "code",
   "execution_count": 7,
   "id": "64a53c3b-f880-486d-b712-b1b681c7c230",
   "metadata": {},
   "outputs": [],
   "source": [
    "ipv6 = '''(([0-9a-fA-F]{1,4}:){7,7}[0-9a-fA-F]{1,4}|\n",
    "        ([0-9a-fA-F]{1,4}:){1,7}:|([0-9a-fA-F]{1,4}:)\n",
    "        {1,6}:[0-9a-fA-F]{1,4}|([0-9a-fA-F]{1,4}:){1\n",
    "        ,5}(:[0-9a-fA-F]{1,4}){1,2}|([0-9a-fA-F]{1,4}\n",
    "        :){1,4}(:[0-9a-fA-F]{1,4}){1,3}|([0-9a-fA-F]{\n",
    "        1,4}:){1,3}(:[0-9a-fA-F]{1,4}){1,4}|([0-9a-fA\n",
    "        -F]{1,4}:){1,2}(:[0-9a-fA-F]{1,4}){1,5}|[0-9a\n",
    "        -fA-F]{1,4}:((:[0-9a-fA-F]{1,4}){1,6})|:((:[0\n",
    "        -9a-fA-F]{1,4}){1,7}|:)|fe80:(:[0-9a-fA-F]{0,\n",
    "        4}){0,4}%[0-9a-zA-Z]{1,}|::(ffff(:0{1,4}){0,1}\n",
    "        :){0,1}((25[0-5]|(2[0-4]|1{0,1}[0-9]){0,1}[0-9\n",
    "        ])\\.){3,3}(25[0-5]|(2[0-4]|1{0,1}[0-9]){0,1}[0\n",
    "        -9])|([0-9a-fA-F]{1,4}:){1,4}:((25[0-5]|(2[0-4]\n",
    "        |1{0,1}[0-9]){0,1}[0-9])\\.){3,3}(25[0-5]|(2[0-4]\n",
    "        |1{0,1}[0-9]){0,1}[0-9]))'''"
   ]
  },
  {
   "cell_type": "code",
   "execution_count": 8,
   "id": "7942bf0e-52dc-48cb-93d9-736a96ec7643",
   "metadata": {},
   "outputs": [],
   "source": [
    "def find(Ip):  \n",
    "    if re.search(ipv4, Ip):\n",
    "        print(\"IPv4\")\n",
    "    elif re.search(ipv6, Ip):\n",
    "        print(\"IPv6\")\n",
    "    else:\n",
    "        print(\"Neither\")"
   ]
  },
  {
   "cell_type": "code",
   "execution_count": 9,
   "id": "a37bbb6a-d5a6-41a6-a4f4-3ff82e03e236",
   "metadata": {},
   "outputs": [
    {
     "name": "stdout",
     "output_type": "stream",
     "text": [
      "IPv4\n"
     ]
    }
   ],
   "source": [
    "Ip = \"192.0.2.126\"\n",
    "find(Ip)"
   ]
  },
  {
   "cell_type": "code",
   "execution_count": 10,
   "id": "ec526654-a177-44e4-97aa-1dfeddb13ebd",
   "metadata": {},
   "outputs": [
    {
     "name": "stdout",
     "output_type": "stream",
     "text": [
      "IPv6\n"
     ]
    }
   ],
   "source": [
    "Ip = \"3001:0da8:75a3:0000:0000:8a2e:0370:7334\"\n",
    "find(Ip)"
   ]
  },
  {
   "cell_type": "markdown",
   "id": "d9116aa9-71b8-4eb5-a5c1-198c8866a337",
   "metadata": {
    "jp-MarkdownHeadingCollapsed": true
   },
   "source": [
    "## Converting a 10 digit phone number to US format using Regex in Python"
   ]
  },
  {
   "cell_type": "code",
   "execution_count": 11,
   "id": "61f9f302-8e7a-4f32-995d-eb6c9a649750",
   "metadata": {},
   "outputs": [
    {
     "name": "stdout",
     "output_type": "stream",
     "text": [
      "Call geek (321) 963-0612\n"
     ]
    }
   ],
   "source": [
    "import re \n",
    "\n",
    "def convert_phone_number(phone):\n",
    "    num = re.sub(r'(?<!\\S)(\\d{3})-', r'(\\1) ', phone) \n",
    "    return num \n",
    "print(convert_phone_number(\"Call geek 321-963-0612\"))"
   ]
  },
  {
   "cell_type": "markdown",
   "id": "d3f48265-298e-456e-895c-855dccb777a9",
   "metadata": {
    "jp-MarkdownHeadingCollapsed": true
   },
   "source": [
    "##  Check if String Contain Only Defined Characters using Regex"
   ]
  },
  {
   "cell_type": "code",
   "execution_count": 12,
   "id": "effb0bd6-a871-441b-9e5e-fdf78a3c9b43",
   "metadata": {},
   "outputs": [
    {
     "name": "stdout",
     "output_type": "stream",
     "text": [
      "Valid String\n",
      "Invalid String\n"
     ]
    }
   ],
   "source": [
    "import re\n",
    "def check(str, pattern):\n",
    "    if re.search(pattern, str):\n",
    "        print(\"Valid String\")\n",
    "    else:\n",
    "        print(\"Invalid String\")\n",
    "pattern = re.compile('^[1234]+$')\n",
    "check('2134', pattern)\n",
    "check('349', pattern)"
   ]
  }
 ],
 "metadata": {
  "kernelspec": {
   "display_name": "Python 3 (ipykernel)",
   "language": "python",
   "name": "python3"
  },
  "language_info": {
   "codemirror_mode": {
    "name": "ipython",
    "version": 3
   },
   "file_extension": ".py",
   "mimetype": "text/x-python",
   "name": "python",
   "nbconvert_exporter": "python",
   "pygments_lexer": "ipython3",
   "version": "3.13.5"
  },
  "widgets": {
   "application/vnd.jupyter.widget-state+json": {
    "state": {},
    "version_major": 2,
    "version_minor": 0
   }
  }
 },
 "nbformat": 4,
 "nbformat_minor": 5
}
