{
 "cells": [
  {
   "cell_type": "markdown",
   "id": "b13e608d-b2d1-4cef-8ba0-5f8a80e5b597",
   "metadata": {},
   "source": [
    "# Inner Class"
   ]
  },
  {
   "cell_type": "code",
   "execution_count": 5,
   "id": "b4a809b3-75fc-4e89-b6b2-3d4d99392838",
   "metadata": {},
   "outputs": [
    {
     "name": "stdout",
     "output_type": "stream",
     "text": [
      "I am an inner class!!!\n",
      "i am getting called from inside\n",
      "I am an inner class!!!\n"
     ]
    }
   ],
   "source": [
    "class student():\n",
    "    def __init__(self,name,roll_no):\n",
    "        self.name = name\n",
    "        self.roll_no = roll_no\n",
    "        print(\"i am getting called from inside\")\n",
    "        #self.l1 = self.laptop()\n",
    "\n",
    "    class laptop():\n",
    "        def __init__(self):\n",
    "            print(\"I am an inner class!!!\")\n",
    "\n",
    "        inner_val = 0\n",
    "\n",
    "    l3 = laptop()\n",
    "\n",
    "\n",
    "s1 = student(\"Jaydeep\",90)        \n",
    "l2 = student.laptop()\n",
    "            "
   ]
  },
  {
   "cell_type": "code",
   "execution_count": null,
   "id": "1a8aad91-bee6-48f1-8ef1-c5f93c04bbb8",
   "metadata": {},
   "outputs": [],
   "source": []
  },
  {
   "cell_type": "code",
   "execution_count": null,
   "id": "550288cb-206a-4edf-8812-2d8fb6ebcb34",
   "metadata": {},
   "outputs": [],
   "source": []
  }
 ],
 "metadata": {
  "kernelspec": {
   "display_name": "Python 3 (ipykernel)",
   "language": "python",
   "name": "python3"
  },
  "language_info": {
   "codemirror_mode": {
    "name": "ipython",
    "version": 3
   },
   "file_extension": ".py",
   "mimetype": "text/x-python",
   "name": "python",
   "nbconvert_exporter": "python",
   "pygments_lexer": "ipython3",
   "version": "3.13.5"
  },
  "widgets": {
   "application/vnd.jupyter.widget-state+json": {
    "state": {},
    "version_major": 2,
    "version_minor": 0
   }
  }
 },
 "nbformat": 4,
 "nbformat_minor": 5
}
