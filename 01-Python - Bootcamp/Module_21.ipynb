{
 "cells": [
  {
   "cell_type": "markdown",
   "id": "e7a00a02-50e5-4fd8-ba3f-201c0a934518",
   "metadata": {},
   "source": [
    "# GUIs"
   ]
  },
  {
   "cell_type": "code",
   "execution_count": 1,
   "id": "db11c07b-9217-4f09-ae89-d4dc28c46881",
   "metadata": {},
   "outputs": [],
   "source": [
    "from ipywidgets import interact, interactive, fixed\n",
    "import ipywidgets as widgets"
   ]
  },
  {
   "cell_type": "code",
   "execution_count": 2,
   "id": "6b5989b8-64c9-4240-8d37-b0cf8f726f89",
   "metadata": {},
   "outputs": [],
   "source": [
    "# Very basic function\n",
    "def f(x):\n",
    "    return x"
   ]
  },
  {
   "cell_type": "code",
   "execution_count": 3,
   "id": "1648903b-051a-4a9a-b370-ad7c9b6f6396",
   "metadata": {},
   "outputs": [
    {
     "data": {
      "application/vnd.jupyter.widget-view+json": {
       "model_id": "887a90e287f047e3a1f59f44d0e9cbc2",
       "version_major": 2,
       "version_minor": 0
      },
      "text/plain": [
       "interactive(children=(IntSlider(value=10, description='x', max=30, min=-10), Output()), _dom_classes=('widget-…"
      ]
     },
     "metadata": {},
     "output_type": "display_data"
    },
    {
     "data": {
      "text/plain": [
       "<function __main__.f(x)>"
      ]
     },
     "execution_count": 3,
     "metadata": {},
     "output_type": "execute_result"
    }
   ],
   "source": [
    "# Generate a slider to interact with\n",
    "interact(f, x=10)"
   ]
  },
  {
   "cell_type": "code",
   "execution_count": 6,
   "id": "b24d604b-7f4f-44d1-aa35-18c6d65c4fa7",
   "metadata": {},
   "outputs": [],
   "source": [
    "def func(x):\n",
    "    return x**2"
   ]
  },
  {
   "cell_type": "code",
   "execution_count": 7,
   "id": "9b70a067-77a9-4ac7-8106-9b286eaef3d3",
   "metadata": {},
   "outputs": [
    {
     "data": {
      "application/vnd.jupyter.widget-view+json": {
       "model_id": "5ebaf22ac7834db394884f85df6eb848",
       "version_major": 2,
       "version_minor": 0
      },
      "text/plain": [
       "interactive(children=(IntSlider(value=10, description='x', max=30, min=-10), Output()), _dom_classes=('widget-…"
      ]
     },
     "metadata": {},
     "output_type": "display_data"
    },
    {
     "data": {
      "text/plain": [
       "<function __main__.func(x)>"
      ]
     },
     "execution_count": 7,
     "metadata": {},
     "output_type": "execute_result"
    }
   ],
   "source": [
    "interact(func,x=10)"
   ]
  },
  {
   "cell_type": "code",
   "execution_count": 9,
   "id": "60ae15a0-928a-4ba8-bca2-abd46ce6374c",
   "metadata": {},
   "outputs": [
    {
     "data": {
      "application/vnd.jupyter.widget-view+json": {
       "model_id": "de72324bd1804ce3958416a93ada060b",
       "version_major": 2,
       "version_minor": 0
      },
      "text/plain": [
       "interactive(children=(Checkbox(value=True, description='x'), Output()), _dom_classes=('widget-interact',))"
      ]
     },
     "metadata": {},
     "output_type": "display_data"
    },
    {
     "data": {
      "text/plain": [
       "<function __main__.f(x)>"
      ]
     },
     "execution_count": 9,
     "metadata": {},
     "output_type": "execute_result"
    }
   ],
   "source": [
    "# Generate a slider to interact with\n",
    "interact(f, x=True)"
   ]
  },
  {
   "cell_type": "code",
   "execution_count": 10,
   "id": "07de28aa-1d54-4cc7-936a-a43a155c1d04",
   "metadata": {},
   "outputs": [
    {
     "data": {
      "application/vnd.jupyter.widget-view+json": {
       "model_id": "006bf825a4c84ef5a7dd0e43292b4371",
       "version_major": 2,
       "version_minor": 0
      },
      "text/plain": [
       "interactive(children=(Text(value='Hello', description='x'), Output()), _dom_classes=('widget-interact',))"
      ]
     },
     "metadata": {},
     "output_type": "display_data"
    },
    {
     "data": {
      "text/plain": [
       "<function __main__.f(x)>"
      ]
     },
     "execution_count": 10,
     "metadata": {},
     "output_type": "execute_result"
    }
   ],
   "source": [
    "interact(f, x=\"Hello\")"
   ]
  },
  {
   "cell_type": "code",
   "execution_count": 12,
   "id": "656caeac-d54c-4c78-b8e6-556901f9f1a3",
   "metadata": {},
   "outputs": [
    {
     "data": {
      "application/vnd.jupyter.widget-view+json": {
       "model_id": "5da49b5ddfb3460aa9af3c91cc8ee280",
       "version_major": 2,
       "version_minor": 0
      },
      "text/plain": [
       "interactive(children=(IntSlider(value=1, description='x', max=3, min=-1), Output()), _dom_classes=('widget-int…"
      ]
     },
     "metadata": {},
     "output_type": "display_data"
    }
   ],
   "source": [
    "@interact(x=1,y=fixed(\"hi\"))\n",
    "def g(x,y):\n",
    "    return (x,y)"
   ]
  },
  {
   "cell_type": "code",
   "execution_count": 14,
   "id": "642449a9-e441-477d-bf96-9c87c33fb7f0",
   "metadata": {},
   "outputs": [
    {
     "data": {
      "application/vnd.jupyter.widget-view+json": {
       "model_id": "50f20cd0c09c401bbb159276dfe07da1",
       "version_major": 2,
       "version_minor": 0
      },
      "text/plain": [
       "interactive(children=(IntSlider(value=0, description='x', min=-100), Output()), _dom_classes=('widget-interact…"
      ]
     },
     "metadata": {},
     "output_type": "display_data"
    },
    {
     "data": {
      "text/plain": [
       "<function __main__.f(x)>"
      ]
     },
     "execution_count": 14,
     "metadata": {},
     "output_type": "execute_result"
    }
   ],
   "source": [
    "interact(f,x=widgets.IntSlider(min=-100,max=100,step=1,value=0))"
   ]
  },
  {
   "cell_type": "code",
   "execution_count": 15,
   "id": "c093ce94-036e-4cf0-9a84-5325772d47de",
   "metadata": {},
   "outputs": [
    {
     "data": {
      "application/vnd.jupyter.widget-view+json": {
       "model_id": "505c9129a84f448a8ee060517adcf151",
       "version_major": 2,
       "version_minor": 0
      },
      "text/plain": [
       "interactive(children=(IntSlider(value=0, description='x', max=10, min=-10), Output()), _dom_classes=('widget-i…"
      ]
     },
     "metadata": {},
     "output_type": "display_data"
    },
    {
     "data": {
      "text/plain": [
       "<function __main__.f(x)>"
      ]
     },
     "execution_count": 15,
     "metadata": {},
     "output_type": "execute_result"
    }
   ],
   "source": [
    "interact(f,x=(-10,10,1))"
   ]
  },
  {
   "cell_type": "code",
   "execution_count": 16,
   "id": "714abaa7-9333-4523-8c99-c8f6809d6a42",
   "metadata": {},
   "outputs": [
    {
     "data": {
      "application/vnd.jupyter.widget-view+json": {
       "model_id": "4cc63211093645b88d97ebdcee0bda92",
       "version_major": 2,
       "version_minor": 0
      },
      "text/plain": [
       "interactive(children=(FloatSlider(value=5.0, description='x', max=10.0, min=-10.0), Output()), _dom_classes=('…"
      ]
     },
     "metadata": {},
     "output_type": "display_data"
    }
   ],
   "source": [
    "@interact(x=(-10.0,10.0,0.1))\n",
    "def h(x = 5.0):\n",
    "    return x"
   ]
  },
  {
   "cell_type": "code",
   "execution_count": 19,
   "id": "f13d64d1-929c-4da0-aded-b66be81c86e4",
   "metadata": {},
   "outputs": [
    {
     "data": {
      "application/vnd.jupyter.widget-view+json": {
       "model_id": "69305cb85be14352b49af817952b9e58",
       "version_major": 2,
       "version_minor": 0
      },
      "text/plain": [
       "interactive(children=(Dropdown(description='x', options=('option 1', 'option 2'), value='option 1'), Output())…"
      ]
     },
     "metadata": {},
     "output_type": "display_data"
    },
    {
     "data": {
      "text/plain": [
       "<function __main__.f(x)>"
      ]
     },
     "execution_count": 19,
     "metadata": {},
     "output_type": "execute_result"
    }
   ],
   "source": [
    "interact(f,x=[\"option 1\",\"option 2\"])"
   ]
  },
  {
   "cell_type": "code",
   "execution_count": 20,
   "id": "c0f914e4-7ef0-4f9d-9f60-b7087be6c08b",
   "metadata": {},
   "outputs": [
    {
     "data": {
      "application/vnd.jupyter.widget-view+json": {
       "model_id": "0084eccbfd1147ccb82d28c47f16f9b8",
       "version_major": 2,
       "version_minor": 0
      },
      "text/plain": [
       "interactive(children=(Dropdown(description='x', options={'option 1': 10, 'option 2': 20}, value=10), Output())…"
      ]
     },
     "metadata": {},
     "output_type": "display_data"
    },
    {
     "data": {
      "text/plain": [
       "<function __main__.f(x)>"
      ]
     },
     "execution_count": 20,
     "metadata": {},
     "output_type": "execute_result"
    }
   ],
   "source": [
    "interact(f,x={\"option 1\" : 10,\"option 2\" : 20})"
   ]
  },
  {
   "cell_type": "code",
   "execution_count": 22,
   "id": "33d9de22-84f3-4b54-ab62-73a1d8ff6216",
   "metadata": {},
   "outputs": [],
   "source": [
    "from IPython.display import display"
   ]
  },
  {
   "cell_type": "code",
   "execution_count": 33,
   "id": "972ac7b1-62b8-4d5e-b826-4db7b3db7d9b",
   "metadata": {},
   "outputs": [],
   "source": [
    "def add(a,b):\n",
    "    display(a+b)\n",
    "    return a+b"
   ]
  },
  {
   "cell_type": "code",
   "execution_count": 34,
   "id": "8dadc92f-c6b5-4c59-b59a-3c84be1aa55c",
   "metadata": {},
   "outputs": [],
   "source": [
    "w = interactive(add,a=10,b=10)"
   ]
  },
  {
   "cell_type": "code",
   "execution_count": 35,
   "id": "4532cea7-2419-4e6b-ad2d-8d1bfc8fbcf5",
   "metadata": {},
   "outputs": [
    {
     "data": {
      "text/plain": [
       "ipywidgets.widgets.interaction.interactive"
      ]
     },
     "execution_count": 35,
     "metadata": {},
     "output_type": "execute_result"
    }
   ],
   "source": [
    "type(w)"
   ]
  },
  {
   "cell_type": "code",
   "execution_count": 36,
   "id": "3aa35fc7-f2cb-4ea1-8d84-7fa1bf9bdcbd",
   "metadata": {},
   "outputs": [
    {
     "data": {
      "text/plain": [
       "(IntSlider(value=10, description='a', max=30, min=-10),\n",
       " IntSlider(value=10, description='b', max=30, min=-10),\n",
       " Output(outputs=({'output_type': 'display_data', 'data': {'text/plain': '20'}, 'metadata': {}},)))"
      ]
     },
     "execution_count": 36,
     "metadata": {},
     "output_type": "execute_result"
    }
   ],
   "source": [
    "w.children"
   ]
  },
  {
   "cell_type": "code",
   "execution_count": 37,
   "id": "5600bb2d-acab-46f5-af8d-adde1f4cf08b",
   "metadata": {},
   "outputs": [
    {
     "data": {
      "application/vnd.jupyter.widget-view+json": {
       "model_id": "d8be88a7b752459384aac1418d5a8659",
       "version_major": 2,
       "version_minor": 0
      },
      "text/plain": [
       "interactive(children=(IntSlider(value=10, description='a', max=30, min=-10), IntSlider(value=10, description='…"
      ]
     },
     "metadata": {},
     "output_type": "display_data"
    }
   ],
   "source": [
    "display(w)"
   ]
  },
  {
   "cell_type": "code",
   "execution_count": 43,
   "id": "e4f93ec5-91d4-4d6e-9048-cc7b63ac70f6",
   "metadata": {},
   "outputs": [],
   "source": [
    "w = widgets.IntSlider()"
   ]
  },
  {
   "cell_type": "code",
   "execution_count": 39,
   "id": "7349ca45-8637-4cf9-917a-d88746488d32",
   "metadata": {},
   "outputs": [
    {
     "data": {
      "application/vnd.jupyter.widget-view+json": {
       "model_id": "1ac52b27080343c1b5af292c71934c6c",
       "version_major": 2,
       "version_minor": 0
      },
      "text/plain": [
       "IntSlider(value=0)"
      ]
     },
     "execution_count": 39,
     "metadata": {},
     "output_type": "execute_result"
    }
   ],
   "source": [
    "w"
   ]
  },
  {
   "cell_type": "code",
   "execution_count": 40,
   "id": "e04b8e39-45dc-4ddd-98d0-14d83c3f0e06",
   "metadata": {},
   "outputs": [
    {
     "data": {
      "application/vnd.jupyter.widget-view+json": {
       "model_id": "1ac52b27080343c1b5af292c71934c6c",
       "version_major": 2,
       "version_minor": 0
      },
      "text/plain": [
       "IntSlider(value=0)"
      ]
     },
     "metadata": {},
     "output_type": "display_data"
    }
   ],
   "source": [
    "display(w)"
   ]
  },
  {
   "cell_type": "code",
   "execution_count": 41,
   "id": "f3f9e477-f3de-426b-9f77-2858ee4f4bad",
   "metadata": {},
   "outputs": [],
   "source": [
    "w.close()"
   ]
  },
  {
   "cell_type": "code",
   "execution_count": 44,
   "id": "80464bc6-8176-4ec3-ae65-aa0efcf85f23",
   "metadata": {},
   "outputs": [],
   "source": [
    "w = widgets.IntSlider()"
   ]
  },
  {
   "cell_type": "code",
   "execution_count": 45,
   "id": "52a5d8f7-2baf-4b5e-a95a-33e3c20034fd",
   "metadata": {},
   "outputs": [
    {
     "data": {
      "application/vnd.jupyter.widget-view+json": {
       "model_id": "93ee37a9124f47998f46cd06c28a1f3b",
       "version_major": 2,
       "version_minor": 0
      },
      "text/plain": [
       "IntSlider(value=0)"
      ]
     },
     "metadata": {},
     "output_type": "display_data"
    }
   ],
   "source": [
    "display(w)"
   ]
  },
  {
   "cell_type": "code",
   "execution_count": 50,
   "id": "1d81971c-eced-4790-afa1-9ce6fc00042b",
   "metadata": {},
   "outputs": [
    {
     "data": {
      "text/plain": [
       "60"
      ]
     },
     "execution_count": 50,
     "metadata": {},
     "output_type": "execute_result"
    }
   ],
   "source": [
    "w.value  ### we have to re-run this cell to get updated value"
   ]
  },
  {
   "cell_type": "code",
   "execution_count": 52,
   "id": "c0adee27-3150-4258-8cb0-4e320fb521c0",
   "metadata": {},
   "outputs": [],
   "source": [
    "w.value = 20"
   ]
  },
  {
   "cell_type": "code",
   "execution_count": 55,
   "id": "4bbb2c35-a57d-43d3-9a67-0963257d5be0",
   "metadata": {},
   "outputs": [
    {
     "data": {
      "text/plain": [
       "['_dom_classes',\n",
       " '_model_module',\n",
       " '_model_module_version',\n",
       " '_model_name',\n",
       " '_view_count',\n",
       " '_view_module',\n",
       " '_view_module_version',\n",
       " '_view_name',\n",
       " 'behavior',\n",
       " 'continuous_update',\n",
       " 'description',\n",
       " 'description_allow_html',\n",
       " 'disabled',\n",
       " 'layout',\n",
       " 'max',\n",
       " 'min',\n",
       " 'orientation',\n",
       " 'readout',\n",
       " 'readout_format',\n",
       " 'step',\n",
       " 'style',\n",
       " 'tabbable',\n",
       " 'tooltip',\n",
       " 'value']"
      ]
     },
     "execution_count": 55,
     "metadata": {},
     "output_type": "execute_result"
    }
   ],
   "source": [
    "w.keys"
   ]
  },
  {
   "cell_type": "code",
   "execution_count": 56,
   "id": "3dbe6b27-af82-46a0-a5a0-c1c3bc679266",
   "metadata": {},
   "outputs": [],
   "source": [
    "w.max = 200"
   ]
  },
  {
   "cell_type": "code",
   "execution_count": 62,
   "id": "f0916688-c482-4185-ab15-af247a757a1b",
   "metadata": {},
   "outputs": [],
   "source": [
    "a = widgets.FloatText()\n",
    "b = widgets.FloatSlider()"
   ]
  },
  {
   "cell_type": "code",
   "execution_count": 64,
   "id": "0bc51eb8-e6ec-4c3e-968e-79572aab7e37",
   "metadata": {},
   "outputs": [
    {
     "data": {
      "application/vnd.jupyter.widget-view+json": {
       "model_id": "2bfd32f2582d4e7f8243153fb5f672e0",
       "version_major": 2,
       "version_minor": 0
      },
      "text/plain": [
       "FloatText(value=0.0)"
      ]
     },
     "metadata": {},
     "output_type": "display_data"
    },
    {
     "data": {
      "application/vnd.jupyter.widget-view+json": {
       "model_id": "33acc4f255244c65851dc0db3011b47b",
       "version_major": 2,
       "version_minor": 0
      },
      "text/plain": [
       "FloatSlider(value=0.0)"
      ]
     },
     "metadata": {},
     "output_type": "display_data"
    }
   ],
   "source": [
    "display(a)\n",
    "display(b)\n",
    "myy_link = widgets.jslink((a,\"value\"),(b,\"value\"))"
   ]
  },
  {
   "cell_type": "code",
   "execution_count": 66,
   "id": "cc5512be-3eee-415c-a05e-1d8922a83d65",
   "metadata": {},
   "outputs": [],
   "source": [
    "myy_link.unlink()"
   ]
  },
  {
   "cell_type": "markdown",
   "id": "c0b98458-0f57-4b29-abe6-69c862b16600",
   "metadata": {},
   "source": [
    "### Widget Styling "
   ]
  },
  {
   "cell_type": "code",
   "execution_count": 73,
   "id": "ea8700a9-5f71-4358-892f-c4628b6d110e",
   "metadata": {},
   "outputs": [],
   "source": [
    "import ipywidgets as widgets\n",
    "from  IPython.display import display"
   ]
  },
  {
   "cell_type": "code",
   "execution_count": 74,
   "id": "df73021d-fa05-4761-824e-89db528987bf",
   "metadata": {
    "scrolled": true
   },
   "outputs": [],
   "source": [
    "w = widgets.IntSlider()"
   ]
  },
  {
   "cell_type": "code",
   "execution_count": 80,
   "id": "e7912807-d1e7-414b-bc14-50ecff3e10eb",
   "metadata": {},
   "outputs": [
    {
     "data": {
      "application/vnd.jupyter.widget-view+json": {
       "model_id": "58107cd5392c429f83a93003d0725705",
       "version_major": 2,
       "version_minor": 0
      },
      "text/plain": [
       "IntSlider(value=0, layout=Layout(height='75px', margin='auto'))"
      ]
     },
     "metadata": {},
     "output_type": "display_data"
    }
   ],
   "source": [
    "display(w)"
   ]
  },
  {
   "cell_type": "code",
   "execution_count": 79,
   "id": "f679bb4f-854d-4d52-ac88-dc869326407a",
   "metadata": {},
   "outputs": [],
   "source": [
    "x.layout.margin = 'auto'\n",
    "x.layout.height = '75px'"
   ]
  },
  {
   "cell_type": "code",
   "execution_count": 77,
   "id": "d120b143-fca1-490b-aa7f-8d4c01cdcc45",
   "metadata": {},
   "outputs": [
    {
     "data": {
      "application/vnd.jupyter.widget-view+json": {
       "model_id": "c350d99ad75541ca866b7d85ae7f0cd8",
       "version_major": 2,
       "version_minor": 0
      },
      "text/plain": [
       "IntSlider(value=15, description='New Slider')"
      ]
     },
     "metadata": {},
     "output_type": "display_data"
    }
   ],
   "source": [
    "x = widgets.IntSlider(value=15,description=\"New Slider\")\n",
    "display(x)"
   ]
  },
  {
   "cell_type": "code",
   "execution_count": 82,
   "id": "ee613c64-398d-4cea-88b3-96b8702b1ecf",
   "metadata": {},
   "outputs": [],
   "source": [
    "x.layout = w.layout "
   ]
  },
  {
   "cell_type": "code",
   "execution_count": 84,
   "id": "b71fb965-2bad-4340-a4bb-27c497868062",
   "metadata": {},
   "outputs": [
    {
     "data": {
      "application/vnd.jupyter.widget-view+json": {
       "model_id": "2c58be110f22460cab7e5de07fd2901b",
       "version_major": 2,
       "version_minor": 0
      },
      "text/plain": [
       "Button(button_style='info', description='Ordinary Button', style=ButtonStyle())"
      ]
     },
     "execution_count": 84,
     "metadata": {},
     "output_type": "execute_result"
    }
   ],
   "source": [
    "widgets.Button(description = \"Ordinary Button\" , button_style = 'info')"
   ]
  },
  {
   "cell_type": "code",
   "execution_count": 85,
   "id": "9eb594cb-9c22-459d-b3b0-60af5040998f",
   "metadata": {},
   "outputs": [
    {
     "data": {
      "application/vnd.jupyter.widget-view+json": {
       "model_id": "d30a91ba304a4282ba46c4dfc2a9c7e4",
       "version_major": 2,
       "version_minor": 0
      },
      "text/plain": [
       "Button(button_style='danger', description='Ordinary Button', style=ButtonStyle())"
      ]
     },
     "execution_count": 85,
     "metadata": {},
     "output_type": "execute_result"
    }
   ],
   "source": [
    "widgets.Button(description = \"Ordinary Button\" , button_style = 'danger')"
   ]
  },
  {
   "cell_type": "code",
   "execution_count": 86,
   "id": "f7fa57ea-ebd6-4c3b-8d7a-35e1e4097a50",
   "metadata": {},
   "outputs": [
    {
     "data": {
      "application/vnd.jupyter.widget-view+json": {
       "model_id": "5fcb1f72ce724f7ba5032ad7c344629c",
       "version_major": 2,
       "version_minor": 0
      },
      "text/plain": [
       "Button(button_style='warning', description='Ordinary Button', style=ButtonStyle())"
      ]
     },
     "execution_count": 86,
     "metadata": {},
     "output_type": "execute_result"
    }
   ],
   "source": [
    "widgets.Button(description = \"Ordinary Button\" , button_style = 'warning')"
   ]
  },
  {
   "cell_type": "code",
   "execution_count": 87,
   "id": "9442f2ef-97b6-4989-b7ba-26d9580eb1d4",
   "metadata": {},
   "outputs": [],
   "source": [
    "b1 = widgets.Button(description = \"Ordinary Button\")"
   ]
  },
  {
   "cell_type": "code",
   "execution_count": 88,
   "id": "e740f28e-99a2-4785-b060-893a33c70fb3",
   "metadata": {},
   "outputs": [],
   "source": [
    "b1.style.button_color = \"lightgreen\""
   ]
  },
  {
   "cell_type": "code",
   "execution_count": 89,
   "id": "40ea82ed-8b39-44ac-b0ff-1cee7c8f79db",
   "metadata": {},
   "outputs": [
    {
     "data": {
      "application/vnd.jupyter.widget-view+json": {
       "model_id": "deaa50ddb1d34b9995e06e67da409e6f",
       "version_major": 2,
       "version_minor": 0
      },
      "text/plain": [
       "Button(description='Ordinary Button', style=ButtonStyle(button_color='lightgreen'))"
      ]
     },
     "metadata": {},
     "output_type": "display_data"
    }
   ],
   "source": [
    "display(b1)"
   ]
  },
  {
   "cell_type": "code",
   "execution_count": 90,
   "id": "56d989f5-10d0-491f-9495-ac1ed6e2c3f0",
   "metadata": {},
   "outputs": [
    {
     "data": {
      "text/plain": [
       "['_model_module',\n",
       " '_model_module_version',\n",
       " '_model_name',\n",
       " '_view_count',\n",
       " '_view_module',\n",
       " '_view_module_version',\n",
       " '_view_name',\n",
       " 'button_color',\n",
       " 'font_family',\n",
       " 'font_size',\n",
       " 'font_style',\n",
       " 'font_variant',\n",
       " 'font_weight',\n",
       " 'text_color',\n",
       " 'text_decoration']"
      ]
     },
     "execution_count": 90,
     "metadata": {},
     "output_type": "execute_result"
    }
   ],
   "source": [
    "b1.style.keys"
   ]
  },
  {
   "cell_type": "code",
   "execution_count": 94,
   "id": "84a5911a-2e57-4014-a52d-16abd8073558",
   "metadata": {},
   "outputs": [],
   "source": [
    "b2 = widgets.Button(description = \"New\")"
   ]
  },
  {
   "cell_type": "code",
   "execution_count": 95,
   "id": "9d0c780e-09d5-43e7-9ae6-9520c09aaa40",
   "metadata": {},
   "outputs": [],
   "source": [
    "b2.style = b1.style"
   ]
  },
  {
   "cell_type": "code",
   "execution_count": 96,
   "id": "599268ff-7f6e-41ae-9f49-8b11cb70d904",
   "metadata": {},
   "outputs": [
    {
     "data": {
      "application/vnd.jupyter.widget-view+json": {
       "model_id": "26a36ebd62e548f9919cce3e2679b56f",
       "version_major": 2,
       "version_minor": 0
      },
      "text/plain": [
       "Button(description='New', style=ButtonStyle(button_color='lightgreen'))"
      ]
     },
     "execution_count": 96,
     "metadata": {},
     "output_type": "execute_result"
    }
   ],
   "source": [
    "b2"
   ]
  },
  {
   "cell_type": "code",
   "execution_count": 98,
   "id": "61cf87f6-6650-4c50-bfaf-952e246ad57d",
   "metadata": {},
   "outputs": [
    {
     "data": {
      "application/vnd.jupyter.widget-view+json": {
       "model_id": "9daf12732745458c80ef8741e4f1e6f3",
       "version_major": 2,
       "version_minor": 0
      },
      "text/plain": [
       "IntSlider(value=0, description='My handle')"
      ]
     },
     "execution_count": 98,
     "metadata": {},
     "output_type": "execute_result"
    }
   ],
   "source": [
    "s1 = widgets.IntSlider(description = \"My handle\")\n",
    "s1.style\n",
    "s1"
   ]
  },
  {
   "cell_type": "code",
   "execution_count": 99,
   "id": "37052838-4cad-4189-a617-79c144b5ab3f",
   "metadata": {},
   "outputs": [
    {
     "data": {
      "text/plain": [
       "['_model_module',\n",
       " '_model_module_version',\n",
       " '_model_name',\n",
       " '_view_count',\n",
       " '_view_module',\n",
       " '_view_module_version',\n",
       " '_view_name',\n",
       " 'description_width',\n",
       " 'handle_color']"
      ]
     },
     "execution_count": 99,
     "metadata": {},
     "output_type": "execute_result"
    }
   ],
   "source": [
    "s1.style.keys"
   ]
  },
  {
   "cell_type": "code",
   "execution_count": null,
   "id": "1295e205-d398-4438-873a-da1e9bb7a349",
   "metadata": {},
   "outputs": [],
   "source": []
  }
 ],
 "metadata": {
  "kernelspec": {
   "display_name": "Python 3 (ipykernel)",
   "language": "python",
   "name": "python3"
  },
  "language_info": {
   "codemirror_mode": {
    "name": "ipython",
    "version": 3
   },
   "file_extension": ".py",
   "mimetype": "text/x-python",
   "name": "python",
   "nbconvert_exporter": "python",
   "pygments_lexer": "ipython3",
   "version": "3.13.5"
  },
  "widgets": {
   "application/vnd.jupyter.widget-state+json": {
    "state": {
     "006bf825a4c84ef5a7dd0e43292b4371": {
      "model_module": "@jupyter-widgets/controls",
      "model_module_version": "2.0.0",
      "model_name": "VBoxModel",
      "state": {
       "_dom_classes": [
        "widget-interact"
       ],
       "children": [
        "IPY_MODEL_7625e50b79be42709bdd88e5303bcc8b",
        "IPY_MODEL_d1ad63c188e845b7a93c5461a012e590"
       ],
       "layout": "IPY_MODEL_c7a14d3ea30c4e989bf9547eb5fb87d6"
      }
     },
     "0084eccbfd1147ccb82d28c47f16f9b8": {
      "model_module": "@jupyter-widgets/controls",
      "model_module_version": "2.0.0",
      "model_name": "VBoxModel",
      "state": {
       "_dom_classes": [
        "widget-interact"
       ],
       "children": [
        "IPY_MODEL_029919e6d9314d2cace8c246d0c42e75",
        "IPY_MODEL_8920d55e8bff4bcb9ba82dc652183c86"
       ],
       "layout": "IPY_MODEL_30b4a6c11e64465bb5c94b43aaf9d91f"
      }
     },
     "00f38f07a3d24fbf94cc0a41d4a1b125": {
      "model_module": "@jupyter-widgets/controls",
      "model_module_version": "2.0.0",
      "model_name": "FloatTextModel",
      "state": {
       "layout": "IPY_MODEL_a0e870db02f043a8b782d4fc4b7242c2",
       "step": null,
       "style": "IPY_MODEL_10a5cd4ede3142f3841be9da7bd1df15"
      }
     },
     "029919e6d9314d2cace8c246d0c42e75": {
      "model_module": "@jupyter-widgets/controls",
      "model_module_version": "2.0.0",
      "model_name": "DropdownModel",
      "state": {
       "_options_labels": [
        "option 1",
        "option 2"
       ],
       "description": "x",
       "index": 0,
       "layout": "IPY_MODEL_dad8e9c2ae26426bb2b279b4a19ce821",
       "style": "IPY_MODEL_3a47eecc999443e5af162c76fdb83bba"
      }
     },
     "03f1a3cde40849c4bb76a48f6df34ccc": {
      "model_module": "@jupyter-widgets/output",
      "model_module_version": "1.0.0",
      "model_name": "OutputModel",
      "state": {
       "layout": "IPY_MODEL_f6192fa4735a48c4a6c72600837c6013",
       "outputs": [
        {
         "data": {
          "text/plain": "20"
         },
         "metadata": {},
         "output_type": "display_data"
        }
       ]
      }
     },
     "055cb171457743658bc9263eb0254a85": {
      "model_module": "@jupyter-widgets/base",
      "model_module_version": "2.0.0",
      "model_name": "LayoutModel",
      "state": {}
     },
     "08889a06c95c4181ba0f97066ef1c0a5": {
      "model_module": "@jupyter-widgets/controls",
      "model_module_version": "2.0.0",
      "model_name": "CheckboxStyleModel",
      "state": {
       "description_width": ""
      }
     },
     "091816e6b63e4120b4763f4cb4f30ae6": {
      "model_module": "@jupyter-widgets/controls",
      "model_module_version": "2.0.0",
      "model_name": "IntSliderModel",
      "state": {
       "behavior": "drag-tap",
       "description": "b",
       "layout": "IPY_MODEL_055cb171457743658bc9263eb0254a85",
       "max": 30,
       "min": -10,
       "style": "IPY_MODEL_7de9791f5ce64d43aa2d9b7a8a26c5de",
       "value": -10
      }
     },
     "0ea989938bba40288d2f613d8bc27cf2": {
      "model_module": "@jupyter-widgets/output",
      "model_module_version": "1.0.0",
      "model_name": "OutputModel",
      "state": {
       "layout": "IPY_MODEL_5ce87a5d13d44a659b3535a3d22a9319",
       "outputs": [
        {
         "data": {
          "text/plain": "10"
         },
         "metadata": {},
         "output_type": "display_data"
        }
       ]
      }
     },
     "10202d241873491fae684a3c2cecee3b": {
      "model_module": "@jupyter-widgets/controls",
      "model_module_version": "2.0.0",
      "model_name": "IntSliderModel",
      "state": {
       "behavior": "drag-tap",
       "description": "x",
       "layout": "IPY_MODEL_f493d0421c7942a1a5e96ac291cee136",
       "max": 10,
       "min": -10,
       "style": "IPY_MODEL_4fcd66efa18e43b6b75015e6424c0fa3",
       "value": 10
      }
     },
     "10a5cd4ede3142f3841be9da7bd1df15": {
      "model_module": "@jupyter-widgets/controls",
      "model_module_version": "2.0.0",
      "model_name": "DescriptionStyleModel",
      "state": {
       "description_width": ""
      }
     },
     "1814b1b941084d0da2763edde33a9db7": {
      "model_module": "@jupyter-widgets/base",
      "model_module_version": "2.0.0",
      "model_name": "LayoutModel",
      "state": {}
     },
     "182c423290784cd79a448a129d83a34a": {
      "model_module": "@jupyter-widgets/controls",
      "model_module_version": "2.0.0",
      "model_name": "IntSliderModel",
      "state": {
       "behavior": "drag-tap",
       "description": "x",
       "layout": "IPY_MODEL_bc464ac5e0fc4b479c08351c3b980277",
       "max": 30,
       "min": -10,
       "style": "IPY_MODEL_32dd19370b0f4a46b7136117a825c6d1",
       "value": 10
      }
     },
     "19afcb8a3f184e53b8de584928cf7675": {
      "model_module": "@jupyter-widgets/controls",
      "model_module_version": "2.0.0",
      "model_name": "VBoxModel",
      "state": {
       "_dom_classes": [
        "widget-interact"
       ],
       "children": [
        "IPY_MODEL_7a634e2f833c43768ee740304f5d7144",
        "IPY_MODEL_22691b7627234ee6b63df8cefb8b2a52"
       ],
       "layout": "IPY_MODEL_311f3aa026334fe4b743deea9a0bedf1"
      }
     },
     "1eeee17f8a13459ca022e1b5122aa649": {
      "model_module": "@jupyter-widgets/base",
      "model_module_version": "2.0.0",
      "model_name": "LayoutModel",
      "state": {}
     },
     "1f224adf030b48bba8a4c98a5bea009b": {
      "model_module": "@jupyter-widgets/controls",
      "model_module_version": "2.0.0",
      "model_name": "CheckboxModel",
      "state": {
       "description": "x",
       "disabled": false,
       "layout": "IPY_MODEL_3fe3881f60384873a556fa9f872401e2",
       "style": "IPY_MODEL_08889a06c95c4181ba0f97066ef1c0a5",
       "value": false
      }
     },
     "1f5c620a97774f5faa14b8368d47dde0": {
      "model_module": "@jupyter-widgets/output",
      "model_module_version": "1.0.0",
      "model_name": "OutputModel",
      "state": {
       "layout": "IPY_MODEL_a081daab4bb54a558807c612d7d6b04c",
       "outputs": [
        {
         "data": {
          "text/plain": "121"
         },
         "metadata": {},
         "output_type": "display_data"
        }
       ]
      }
     },
     "208bdd32314b49d4801666efa675fe4e": {
      "model_module": "@jupyter-widgets/controls",
      "model_module_version": "2.0.0",
      "model_name": "VBoxModel",
      "state": {
       "_dom_classes": [
        "widget-interact"
       ],
       "children": [
        "IPY_MODEL_eb97f0d5e6494251b0cdd7e6bcf5ad55",
        "IPY_MODEL_b6996a16d20e4f7186da2fb3d5d8fa83",
        "IPY_MODEL_5f82ec80a0e140aa85c864f5507f1631"
       ],
       "layout": "IPY_MODEL_cf69ec711f7448d691cf5fa97e0a1b59"
      }
     },
     "22691b7627234ee6b63df8cefb8b2a52": {
      "model_module": "@jupyter-widgets/output",
      "model_module_version": "1.0.0",
      "model_name": "OutputModel",
      "state": {
       "layout": "IPY_MODEL_6edfe4d0b787464aab4934a4c2654096",
       "outputs": [
        {
         "data": {
          "text/plain": "'option 1'"
         },
         "metadata": {},
         "output_type": "display_data"
        }
       ]
      }
     },
     "24554724788b4f9a935d1cb2747c74a1": {
      "model_module": "@jupyter-widgets/base",
      "model_module_version": "2.0.0",
      "model_name": "LayoutModel",
      "state": {}
     },
     "26a36ebd62e548f9919cce3e2679b56f": {
      "model_module": "@jupyter-widgets/controls",
      "model_module_version": "2.0.0",
      "model_name": "ButtonModel",
      "state": {
       "description": "New",
       "layout": "IPY_MODEL_fdb0d35fe9a546b3afce5b612d04065c",
       "style": "IPY_MODEL_f39905d0b44d4e3c8e54b1dda4ac9fb4",
       "tooltip": null
      }
     },
     "27723ea5e0194defab27cb59d6a76c62": {
      "model_module": "@jupyter-widgets/controls",
      "model_module_version": "2.0.0",
      "model_name": "ButtonStyleModel",
      "state": {
       "font_family": null,
       "font_size": null,
       "font_style": null,
       "font_variant": null,
       "font_weight": null,
       "text_color": null,
       "text_decoration": null
      }
     },
     "28b74044d30d40058518bc7c8e44cc77": {
      "model_module": "@jupyter-widgets/output",
      "model_module_version": "1.0.0",
      "model_name": "OutputModel",
      "state": {
       "layout": "IPY_MODEL_1814b1b941084d0da2763edde33a9db7",
       "outputs": [
        {
         "ename": "NameError",
         "evalue": "name 'x' is not defined",
         "output_type": "error",
         "traceback": [
          "\u001b[1;31m---------------------------------------------------------------------------\u001b[0m",
          "\u001b[1;31mNameError\u001b[0m                                 Traceback (most recent call last)",
          "File \u001b[1;32m~\\anaconda3\\Lib\\site-packages\\ipywidgets\\widgets\\interaction.py:243\u001b[0m, in \u001b[0;36minteractive.update\u001b[1;34m(self, *args)\u001b[0m\n\u001b[0;32m    241\u001b[0m     value \u001b[38;5;241m=\u001b[39m widget\u001b[38;5;241m.\u001b[39mget_interact_value()\n\u001b[0;32m    242\u001b[0m     \u001b[38;5;28mself\u001b[39m\u001b[38;5;241m.\u001b[39mkwargs[widget\u001b[38;5;241m.\u001b[39m_kwarg] \u001b[38;5;241m=\u001b[39m value\n\u001b[1;32m--> 243\u001b[0m \u001b[38;5;28mself\u001b[39m\u001b[38;5;241m.\u001b[39mresult \u001b[38;5;241m=\u001b[39m \u001b[38;5;28mself\u001b[39m\u001b[38;5;241m.\u001b[39mf(\u001b[38;5;241m*\u001b[39m\u001b[38;5;241m*\u001b[39m\u001b[38;5;28mself\u001b[39m\u001b[38;5;241m.\u001b[39mkwargs)\n\u001b[0;32m    244\u001b[0m show_inline_matplotlib_plots()\n\u001b[0;32m    245\u001b[0m \u001b[38;5;28;01mif\u001b[39;00m \u001b[38;5;28mself\u001b[39m\u001b[38;5;241m.\u001b[39mauto_display \u001b[38;5;129;01mand\u001b[39;00m \u001b[38;5;28mself\u001b[39m\u001b[38;5;241m.\u001b[39mresult \u001b[38;5;129;01mis\u001b[39;00m \u001b[38;5;129;01mnot\u001b[39;00m \u001b[38;5;28;01mNone\u001b[39;00m:\n",
          "Cell \u001b[1;32mIn[4], line 2\u001b[0m, in \u001b[0;36mfunc\u001b[1;34m()\u001b[0m\n\u001b[0;32m      1\u001b[0m \u001b[38;5;28;01mdef\u001b[39;00m\u001b[38;5;250m \u001b[39m\u001b[38;5;21mfunc\u001b[39m():\n\u001b[1;32m----> 2\u001b[0m     \u001b[38;5;28;01mreturn\u001b[39;00m x\u001b[38;5;241m*\u001b[39m\u001b[38;5;241m*\u001b[39m\u001b[38;5;241m2\u001b[39m\n",
          "\u001b[1;31mNameError\u001b[0m: name 'x' is not defined"
         ]
        }
       ]
      }
     },
     "2bfd32f2582d4e7f8243153fb5f672e0": {
      "model_module": "@jupyter-widgets/controls",
      "model_module_version": "2.0.0",
      "model_name": "FloatTextModel",
      "state": {
       "layout": "IPY_MODEL_ddf4c837bb7d4ff3883a3d6342a00294",
       "step": null,
       "style": "IPY_MODEL_d141069c8e134d4cac60d17517c180e7",
       "value": 58.5
      }
     },
     "2c58be110f22460cab7e5de07fd2901b": {
      "model_module": "@jupyter-widgets/controls",
      "model_module_version": "2.0.0",
      "model_name": "ButtonModel",
      "state": {
       "button_style": "info",
       "description": "Ordinary Button",
       "layout": "IPY_MODEL_a01eb45d31e749e7844359ee47ffe8ec",
       "style": "IPY_MODEL_5d53cc5a627440ce91b152ff87f82b0c",
       "tooltip": null
      }
     },
     "2dc6858f49ee4452b1ed7dcaaac34798": {
      "model_module": "@jupyter-widgets/controls",
      "model_module_version": "2.0.0",
      "model_name": "SliderStyleModel",
      "state": {
       "description_width": ""
      }
     },
     "2fe4ffbd47704adda39f1d9f85ce98a4": {
      "model_module": "@jupyter-widgets/base",
      "model_module_version": "2.0.0",
      "model_name": "LayoutModel",
      "state": {}
     },
     "30b4a6c11e64465bb5c94b43aaf9d91f": {
      "model_module": "@jupyter-widgets/base",
      "model_module_version": "2.0.0",
      "model_name": "LayoutModel",
      "state": {}
     },
     "311f3aa026334fe4b743deea9a0bedf1": {
      "model_module": "@jupyter-widgets/base",
      "model_module_version": "2.0.0",
      "model_name": "LayoutModel",
      "state": {}
     },
     "32dd19370b0f4a46b7136117a825c6d1": {
      "model_module": "@jupyter-widgets/controls",
      "model_module_version": "2.0.0",
      "model_name": "SliderStyleModel",
      "state": {
       "description_width": ""
      }
     },
     "330c35c28dea4de6bf91e4bbdab8fce7": {
      "model_module": "@jupyter-widgets/controls",
      "model_module_version": "2.0.0",
      "model_name": "ButtonModel",
      "state": {
       "button_style": "warning",
       "description": "Ordinary Button",
       "layout": "IPY_MODEL_601a580162674c8781b3fe663f7e4771",
       "style": "IPY_MODEL_a671f2ba17ae4a7685b6dc4028808344",
       "tooltip": null
      }
     },
     "33acc4f255244c65851dc0db3011b47b": {
      "model_module": "@jupyter-widgets/controls",
      "model_module_version": "2.0.0",
      "model_name": "FloatSliderModel",
      "state": {
       "behavior": "drag-tap",
       "layout": "IPY_MODEL_e6098973475942f1aede8462ba3f7b4a",
       "step": 0.1,
       "style": "IPY_MODEL_e8ec6c1252934cdba55e403f81922afc",
       "value": 73.60000000000001
      }
     },
     "34f62b5da4f84299aec197b35785a293": {
      "model_module": "@jupyter-widgets/base",
      "model_module_version": "2.0.0",
      "model_name": "LayoutModel",
      "state": {}
     },
     "3863765a85e8424ca02df8271566e713": {
      "model_module": "@jupyter-widgets/controls",
      "model_module_version": "2.0.0",
      "model_name": "ButtonStyleModel",
      "state": {
       "font_family": null,
       "font_size": null,
       "font_style": null,
       "font_variant": null,
       "font_weight": null,
       "text_color": null,
       "text_decoration": null
      }
     },
     "388b04d280334c5390bb56d4e2cf9270": {
      "model_module": "@jupyter-widgets/base",
      "model_module_version": "2.0.0",
      "model_name": "LayoutModel",
      "state": {}
     },
     "3a47eecc999443e5af162c76fdb83bba": {
      "model_module": "@jupyter-widgets/controls",
      "model_module_version": "2.0.0",
      "model_name": "DescriptionStyleModel",
      "state": {
       "description_width": ""
      }
     },
     "3e7469c0524844a2a8442e345f3ba521": {
      "model_module": "@jupyter-widgets/base",
      "model_module_version": "2.0.0",
      "model_name": "LayoutModel",
      "state": {}
     },
     "3f596240d90d44a596420b43d6576dff": {
      "model_module": "@jupyter-widgets/controls",
      "model_module_version": "2.0.0",
      "model_name": "FloatSliderModel",
      "state": {
       "behavior": "drag-tap",
       "description": "x",
       "layout": "IPY_MODEL_b2f54cf4bf0a45f29428cd30c75af431",
       "max": 10,
       "min": -10,
       "step": 0.1,
       "style": "IPY_MODEL_795665fde9f249839b57f6bb0f339936",
       "value": 6.800000000000001
      }
     },
     "3fe3881f60384873a556fa9f872401e2": {
      "model_module": "@jupyter-widgets/base",
      "model_module_version": "2.0.0",
      "model_name": "LayoutModel",
      "state": {}
     },
     "40453b1905054aef85b800ea0e5b9d1c": {
      "model_module": "@jupyter-widgets/base",
      "model_module_version": "2.0.0",
      "model_name": "LayoutModel",
      "state": {}
     },
     "429c0a11244747a98acf9eb2b6ef1be4": {
      "model_module": "@jupyter-widgets/controls",
      "model_module_version": "2.0.0",
      "model_name": "SliderStyleModel",
      "state": {
       "description_width": ""
      }
     },
     "43a1bc915f7c48a39330cf820d22f272": {
      "model_module": "@jupyter-widgets/base",
      "model_module_version": "2.0.0",
      "model_name": "LayoutModel",
      "state": {}
     },
     "44add9d9c7d9400782f8cc6519bcdb10": {
      "model_module": "@jupyter-widgets/controls",
      "model_module_version": "2.0.0",
      "model_name": "IntSliderModel",
      "state": {
       "behavior": "drag-tap",
       "layout": "IPY_MODEL_91f9ad72377b44b1b92c0a9b08abca40",
       "style": "IPY_MODEL_e71e9606d5a74d65b3a8b3d96733a0dc"
      }
     },
     "465e85d2b44c476681a018d3106b9552": {
      "model_module": "@jupyter-widgets/output",
      "model_module_version": "1.0.0",
      "model_name": "OutputModel",
      "state": {
       "layout": "IPY_MODEL_40453b1905054aef85b800ea0e5b9d1c",
       "outputs": [
        {
         "data": {
          "text/plain": "False"
         },
         "metadata": {},
         "output_type": "display_data"
        }
       ]
      }
     },
     "4c406b3b361f4dc2b25d03c1f6459ad3": {
      "model_module": "@jupyter-widgets/controls",
      "model_module_version": "2.0.0",
      "model_name": "ButtonStyleModel",
      "state": {
       "font_family": null,
       "font_size": null,
       "font_style": null,
       "font_variant": null,
       "font_weight": null,
       "text_color": null,
       "text_decoration": null
      }
     },
     "4cc63211093645b88d97ebdcee0bda92": {
      "model_module": "@jupyter-widgets/controls",
      "model_module_version": "2.0.0",
      "model_name": "VBoxModel",
      "state": {
       "_dom_classes": [
        "widget-interact"
       ],
       "children": [
        "IPY_MODEL_3f596240d90d44a596420b43d6576dff",
        "IPY_MODEL_bf268efe20234226a02897dcd7e9ac12"
       ],
       "layout": "IPY_MODEL_60167e948405427ea6b018279456f34d"
      }
     },
     "4e726ab347134da2978d1299ee6f67bf": {
      "model_module": "@jupyter-widgets/base",
      "model_module_version": "2.0.0",
      "model_name": "LayoutModel",
      "state": {
       "height": "75px",
       "margin": "auto"
      }
     },
     "4fcd66efa18e43b6b75015e6424c0fa3": {
      "model_module": "@jupyter-widgets/controls",
      "model_module_version": "2.0.0",
      "model_name": "SliderStyleModel",
      "state": {
       "description_width": ""
      }
     },
     "505c9129a84f448a8ee060517adcf151": {
      "model_module": "@jupyter-widgets/controls",
      "model_module_version": "2.0.0",
      "model_name": "VBoxModel",
      "state": {
       "_dom_classes": [
        "widget-interact"
       ],
       "children": [
        "IPY_MODEL_10202d241873491fae684a3c2cecee3b",
        "IPY_MODEL_0ea989938bba40288d2f613d8bc27cf2"
       ],
       "layout": "IPY_MODEL_fe1252f712d742c785b7cbe827df355c"
      }
     },
     "5080cf46d3944b40882fe31cb2e1b072": {
      "model_module": "@jupyter-widgets/controls",
      "model_module_version": "2.0.0",
      "model_name": "IntSliderModel",
      "state": {
       "behavior": "drag-tap",
       "layout": "IPY_MODEL_ca4ff9c62eac41f6828b1fe86400dd6d",
       "min": -100,
       "style": "IPY_MODEL_f4a180f301c448d6b00d48b2cad3d59f"
      }
     },
     "50f20cd0c09c401bbb159276dfe07da1": {
      "model_module": "@jupyter-widgets/controls",
      "model_module_version": "2.0.0",
      "model_name": "VBoxModel",
      "state": {
       "_dom_classes": [
        "widget-interact"
       ],
       "children": [
        "IPY_MODEL_a5e5686a6a174758b791604feab6273e",
        "IPY_MODEL_60a874de712e4dc393c46ad9ea17f5b7"
       ],
       "layout": "IPY_MODEL_8f83670301e74a049502738b0b35cc03"
      }
     },
     "51a66ee12a6d433eb5162b7832a1c0f8": {
      "model_module": "@jupyter-widgets/base",
      "model_module_version": "2.0.0",
      "model_name": "LayoutModel",
      "state": {}
     },
     "55c0db508afa48f59e8fe66cc74a6acc": {
      "model_module": "@jupyter-widgets/base",
      "model_module_version": "2.0.0",
      "model_name": "LayoutModel",
      "state": {}
     },
     "58107cd5392c429f83a93003d0725705": {
      "model_module": "@jupyter-widgets/controls",
      "model_module_version": "2.0.0",
      "model_name": "IntSliderModel",
      "state": {
       "behavior": "drag-tap",
       "layout": "IPY_MODEL_4e726ab347134da2978d1299ee6f67bf",
       "style": "IPY_MODEL_5be2691fedd047e3a67a5638446b2d34"
      }
     },
     "58e5af60dd0b4926b4791b6f2d3f8d11": {
      "model_module": "@jupyter-widgets/controls",
      "model_module_version": "2.0.0",
      "model_name": "TextStyleModel",
      "state": {
       "description_width": "",
       "font_size": null,
       "text_color": null
      }
     },
     "5be2691fedd047e3a67a5638446b2d34": {
      "model_module": "@jupyter-widgets/controls",
      "model_module_version": "2.0.0",
      "model_name": "SliderStyleModel",
      "state": {
       "description_width": ""
      }
     },
     "5ce87a5d13d44a659b3535a3d22a9319": {
      "model_module": "@jupyter-widgets/base",
      "model_module_version": "2.0.0",
      "model_name": "LayoutModel",
      "state": {}
     },
     "5d53cc5a627440ce91b152ff87f82b0c": {
      "model_module": "@jupyter-widgets/controls",
      "model_module_version": "2.0.0",
      "model_name": "ButtonStyleModel",
      "state": {
       "font_family": null,
       "font_size": null,
       "font_style": null,
       "font_variant": null,
       "font_weight": null,
       "text_color": null,
       "text_decoration": null
      }
     },
     "5da49b5ddfb3460aa9af3c91cc8ee280": {
      "model_module": "@jupyter-widgets/controls",
      "model_module_version": "2.0.0",
      "model_name": "VBoxModel",
      "state": {
       "_dom_classes": [
        "widget-interact"
       ],
       "children": [
        "IPY_MODEL_dcfe67221f4849f8ac18b86553abc5f1",
        "IPY_MODEL_f4e9021a2e4a42a4ad4fd4a44c6f7abd"
       ],
       "layout": "IPY_MODEL_91fa58fb0b2849c189e4cc5775e4a905"
      }
     },
     "5de726fc8f7b4e0996c639b4a9f1df49": {
      "model_module": "@jupyter-widgets/controls",
      "model_module_version": "2.0.0",
      "model_name": "SliderStyleModel",
      "state": {
       "description_width": ""
      }
     },
     "5ebaf22ac7834db394884f85df6eb848": {
      "model_module": "@jupyter-widgets/controls",
      "model_module_version": "2.0.0",
      "model_name": "VBoxModel",
      "state": {
       "_dom_classes": [
        "widget-interact"
       ],
       "children": [
        "IPY_MODEL_73e5a12a85a74ddeb7841ba2d363aeb7",
        "IPY_MODEL_1f5c620a97774f5faa14b8368d47dde0"
       ],
       "layout": "IPY_MODEL_2fe4ffbd47704adda39f1d9f85ce98a4"
      }
     },
     "5f82ec80a0e140aa85c864f5507f1631": {
      "model_module": "@jupyter-widgets/output",
      "model_module_version": "1.0.0",
      "model_name": "OutputModel",
      "state": {
       "layout": "IPY_MODEL_cb17572e281f4b3199d6991e5f91c2e0",
       "outputs": [
        {
         "data": {
          "text/plain": "(1, 'hi')"
         },
         "metadata": {},
         "output_type": "display_data"
        }
       ]
      }
     },
     "5fc231536ac7425a93278c1177ad0e5d": {
      "model_module": "@jupyter-widgets/controls",
      "model_module_version": "2.0.0",
      "model_name": "IntSliderModel",
      "state": {
       "behavior": "drag-tap",
       "description": "a",
       "layout": "IPY_MODEL_6f9f24ca52e04f3dbc0a69c1d0edc2d8",
       "max": 30,
       "min": -10,
       "style": "IPY_MODEL_bc3b9e393e344321b8e7445ad48ba086",
       "value": 30
      }
     },
     "5fcb1f72ce724f7ba5032ad7c344629c": {
      "model_module": "@jupyter-widgets/controls",
      "model_module_version": "2.0.0",
      "model_name": "ButtonModel",
      "state": {
       "button_style": "warning",
       "description": "Ordinary Button",
       "layout": "IPY_MODEL_72c054b714ea4c92a026e3fd6004710f",
       "style": "IPY_MODEL_3863765a85e8424ca02df8271566e713",
       "tooltip": null
      }
     },
     "60167e948405427ea6b018279456f34d": {
      "model_module": "@jupyter-widgets/base",
      "model_module_version": "2.0.0",
      "model_name": "LayoutModel",
      "state": {}
     },
     "601a580162674c8781b3fe663f7e4771": {
      "model_module": "@jupyter-widgets/base",
      "model_module_version": "2.0.0",
      "model_name": "LayoutModel",
      "state": {}
     },
     "60a58780e321491a8f1511832b20502c": {
      "model_module": "@jupyter-widgets/controls",
      "model_module_version": "2.0.0",
      "model_name": "VBoxModel",
      "state": {
       "_dom_classes": [
        "widget-interact"
       ],
       "children": [
        "IPY_MODEL_67d88a58b1f8466ab3bca684a303c1db",
        "IPY_MODEL_8d2034db82eb46f0b9cc51afea6823b5"
       ],
       "layout": "IPY_MODEL_bd22d88ea0ea4b6eaa9952acb8e587aa"
      }
     },
     "60a874de712e4dc393c46ad9ea17f5b7": {
      "model_module": "@jupyter-widgets/output",
      "model_module_version": "1.0.0",
      "model_name": "OutputModel",
      "state": {
       "layout": "IPY_MODEL_ed374966c05c443ab6e1c8bd6bc257ee",
       "outputs": [
        {
         "data": {
          "text/plain": "-15"
         },
         "metadata": {},
         "output_type": "display_data"
        }
       ]
      }
     },
     "60dc9d9a35e84e4a9dbe9521a16533b9": {
      "model_module": "@jupyter-widgets/controls",
      "model_module_version": "2.0.0",
      "model_name": "VBoxModel",
      "state": {
       "_dom_classes": [
        "widget-interact"
       ],
       "children": [
        "IPY_MODEL_5fc231536ac7425a93278c1177ad0e5d",
        "IPY_MODEL_091816e6b63e4120b4763f4cb4f30ae6",
        "IPY_MODEL_7f7eeea31f3548609d4248fedf38c116"
       ],
       "layout": "IPY_MODEL_c45a0d1468f94cd191adfa9c7dd7da6f"
      }
     },
     "63cb47d3fbfa4c799fe50d0ec6143ab6": {
      "model_module": "@jupyter-widgets/controls",
      "model_module_version": "2.0.0",
      "model_name": "SliderStyleModel",
      "state": {
       "description_width": ""
      }
     },
     "64b55ccacbd440caab105db91a8f1c32": {
      "model_module": "@jupyter-widgets/base",
      "model_module_version": "2.0.0",
      "model_name": "LayoutModel",
      "state": {}
     },
     "6513c5a93b6a418daca4685c527e73dd": {
      "model_module": "@jupyter-widgets/controls",
      "model_module_version": "2.0.0",
      "model_name": "SliderStyleModel",
      "state": {
       "description_width": ""
      }
     },
     "67d88a58b1f8466ab3bca684a303c1db": {
      "model_module": "@jupyter-widgets/controls",
      "model_module_version": "2.0.0",
      "model_name": "DropdownModel",
      "state": {
       "_options_labels": [
        "option 1"
       ],
       "description": "x",
       "index": 0,
       "layout": "IPY_MODEL_43a1bc915f7c48a39330cf820d22f272",
       "style": "IPY_MODEL_ac51ed0dbe524349b674bf230afb0c50"
      }
     },
     "69305cb85be14352b49af817952b9e58": {
      "model_module": "@jupyter-widgets/controls",
      "model_module_version": "2.0.0",
      "model_name": "VBoxModel",
      "state": {
       "_dom_classes": [
        "widget-interact"
       ],
       "children": [
        "IPY_MODEL_d4332aaf8d324da5bc50cc9ed6d4b9b1",
        "IPY_MODEL_c045511c243945679985cb8bd68ac1f7"
       ],
       "layout": "IPY_MODEL_eea84fe54d9245e5b1278fca7be06458"
      }
     },
     "695905f73be1453588fe8bbb1fcadb28": {
      "model_module": "@jupyter-widgets/controls",
      "model_module_version": "2.0.0",
      "model_name": "IntSliderModel",
      "state": {
       "behavior": "drag-tap",
       "layout": "IPY_MODEL_fd72c1debf9242c4b2842c15dbf6d78b",
       "style": "IPY_MODEL_d567a95292ae49d7923dd75a32aef124"
      }
     },
     "6a200c95477a428984c7c51ae7091f62": {
      "model_module": "@jupyter-widgets/output",
      "model_module_version": "1.0.0",
      "model_name": "OutputModel",
      "state": {
       "layout": "IPY_MODEL_823e72a3dc694005afe1018470878d8c"
      }
     },
     "6a332b9ffb914346bf9b7802ed75398f": {
      "model_module": "@jupyter-widgets/base",
      "model_module_version": "2.0.0",
      "model_name": "LayoutModel",
      "state": {}
     },
     "6b3ec52ccdd6403c94c5115f1ee8047b": {
      "model_module": "@jupyter-widgets/base",
      "model_module_version": "2.0.0",
      "model_name": "LayoutModel",
      "state": {
       "height": "75px",
       "margin": "auto"
      }
     },
     "6edfe4d0b787464aab4934a4c2654096": {
      "model_module": "@jupyter-widgets/base",
      "model_module_version": "2.0.0",
      "model_name": "LayoutModel",
      "state": {}
     },
     "6f83d7f83b4d408e8df33e2783d5455c": {
      "model_module": "@jupyter-widgets/base",
      "model_module_version": "2.0.0",
      "model_name": "LayoutModel",
      "state": {}
     },
     "6f9f24ca52e04f3dbc0a69c1d0edc2d8": {
      "model_module": "@jupyter-widgets/base",
      "model_module_version": "2.0.0",
      "model_name": "LayoutModel",
      "state": {}
     },
     "72c054b714ea4c92a026e3fd6004710f": {
      "model_module": "@jupyter-widgets/base",
      "model_module_version": "2.0.0",
      "model_name": "LayoutModel",
      "state": {}
     },
     "73c78314c8b64ab0ac343cb873b4d5ee": {
      "model_module": "@jupyter-widgets/base",
      "model_module_version": "2.0.0",
      "model_name": "LayoutModel",
      "state": {}
     },
     "73e5a12a85a74ddeb7841ba2d363aeb7": {
      "model_module": "@jupyter-widgets/controls",
      "model_module_version": "2.0.0",
      "model_name": "IntSliderModel",
      "state": {
       "behavior": "drag-tap",
       "description": "x",
       "layout": "IPY_MODEL_bd95b4acc48a4d5481bf45d3a7bfc693",
       "max": 30,
       "min": -10,
       "style": "IPY_MODEL_5de726fc8f7b4e0996c639b4a9f1df49",
       "value": 11
      }
     },
     "74072e6f3740458695ef60f70cdda053": {
      "model_module": "@jupyter-widgets/base",
      "model_module_version": "2.0.0",
      "model_name": "LayoutModel",
      "state": {}
     },
     "7625e50b79be42709bdd88e5303bcc8b": {
      "model_module": "@jupyter-widgets/controls",
      "model_module_version": "2.0.0",
      "model_name": "TextModel",
      "state": {
       "description": "x",
       "layout": "IPY_MODEL_9b78c94e5fc54721955c49b74042ba14",
       "style": "IPY_MODEL_58e5af60dd0b4926b4791b6f2d3f8d11",
       "value": "Hello"
      }
     },
     "795665fde9f249839b57f6bb0f339936": {
      "model_module": "@jupyter-widgets/controls",
      "model_module_version": "2.0.0",
      "model_name": "SliderStyleModel",
      "state": {
       "description_width": ""
      }
     },
     "7a634e2f833c43768ee740304f5d7144": {
      "model_module": "@jupyter-widgets/controls",
      "model_module_version": "2.0.0",
      "model_name": "DropdownModel",
      "state": {
       "_options_labels": [
        "option 1",
        "option 1"
       ],
       "description": "x",
       "index": 1,
       "layout": "IPY_MODEL_a5b286ac3ac74a7da295eea87c684412",
       "style": "IPY_MODEL_92f7042b757c45eab63cb59c76d4da63"
      }
     },
     "7d12b638a3da44b793adb3f147dca0a0": {
      "model_module": "@jupyter-widgets/base",
      "model_module_version": "2.0.0",
      "model_name": "LayoutModel",
      "state": {}
     },
     "7de5bfa5c08f40be83a47b207bccd0dd": {
      "model_module": "@jupyter-widgets/base",
      "model_module_version": "2.0.0",
      "model_name": "LayoutModel",
      "state": {}
     },
     "7de9791f5ce64d43aa2d9b7a8a26c5de": {
      "model_module": "@jupyter-widgets/controls",
      "model_module_version": "2.0.0",
      "model_name": "SliderStyleModel",
      "state": {
       "description_width": ""
      }
     },
     "7f7eeea31f3548609d4248fedf38c116": {
      "model_module": "@jupyter-widgets/output",
      "model_module_version": "1.0.0",
      "model_name": "OutputModel",
      "state": {
       "layout": "IPY_MODEL_e6005123390e40b2a9bd8eecb7bc2553",
       "outputs": [
        {
         "data": {
          "text/plain": "20"
         },
         "metadata": {},
         "output_type": "display_data"
        }
       ]
      }
     },
     "8028ceb5ac5c45119fa80370970f9121": {
      "model_module": "@jupyter-widgets/base",
      "model_module_version": "2.0.0",
      "model_name": "LayoutModel",
      "state": {}
     },
     "80c9fd5ecc1f4d2c938f9c0cf3672ecd": {
      "model_module": "@jupyter-widgets/base",
      "model_module_version": "2.0.0",
      "model_name": "LayoutModel",
      "state": {}
     },
     "823e72a3dc694005afe1018470878d8c": {
      "model_module": "@jupyter-widgets/base",
      "model_module_version": "2.0.0",
      "model_name": "LayoutModel",
      "state": {}
     },
     "8549b63b5a164f0bbf748fa41b32b97b": {
      "model_module": "@jupyter-widgets/controls",
      "model_module_version": "2.0.0",
      "model_name": "SliderStyleModel",
      "state": {
       "description_width": ""
      }
     },
     "86857698e051443683fd395dd3556804": {
      "model_module": "@jupyter-widgets/controls",
      "model_module_version": "2.0.0",
      "model_name": "IntSliderModel",
      "state": {
       "behavior": "drag-tap",
       "description": "b",
       "layout": "IPY_MODEL_b8a59c76869f4e2daf10fe08429b1ca8",
       "max": 30,
       "min": -10,
       "style": "IPY_MODEL_aead42f1f9374c33bc5db92024d68286",
       "value": 10
      }
     },
     "88442316e9d14fe3bd976098720492f1": {
      "model_module": "@jupyter-widgets/base",
      "model_module_version": "2.0.0",
      "model_name": "LayoutModel",
      "state": {}
     },
     "887a90e287f047e3a1f59f44d0e9cbc2": {
      "model_module": "@jupyter-widgets/controls",
      "model_module_version": "2.0.0",
      "model_name": "VBoxModel",
      "state": {
       "_dom_classes": [
        "widget-interact"
       ],
       "children": [
        "IPY_MODEL_182c423290784cd79a448a129d83a34a",
        "IPY_MODEL_e19046d746114abda5297d69bcebab01"
       ],
       "layout": "IPY_MODEL_8028ceb5ac5c45119fa80370970f9121"
      }
     },
     "88f19ab5dce74c649c187c4e1570421c": {
      "model_module": "@jupyter-widgets/controls",
      "model_module_version": "2.0.0",
      "model_name": "TextStyleModel",
      "state": {
       "description_width": "",
       "font_size": null,
       "text_color": null
      }
     },
     "8920d55e8bff4bcb9ba82dc652183c86": {
      "model_module": "@jupyter-widgets/output",
      "model_module_version": "1.0.0",
      "model_name": "OutputModel",
      "state": {
       "layout": "IPY_MODEL_80c9fd5ecc1f4d2c938f9c0cf3672ecd",
       "outputs": [
        {
         "data": {
          "text/plain": "10"
         },
         "metadata": {},
         "output_type": "display_data"
        }
       ]
      }
     },
     "8a494ac1a18d45218f1360fd604d5499": {
      "model_module": "@jupyter-widgets/controls",
      "model_module_version": "2.0.0",
      "model_name": "DescriptionStyleModel",
      "state": {
       "description_width": ""
      }
     },
     "8d2034db82eb46f0b9cc51afea6823b5": {
      "model_module": "@jupyter-widgets/output",
      "model_module_version": "1.0.0",
      "model_name": "OutputModel",
      "state": {
       "layout": "IPY_MODEL_7de5bfa5c08f40be83a47b207bccd0dd",
       "outputs": [
        {
         "data": {
          "text/plain": "'option 1'"
         },
         "metadata": {},
         "output_type": "display_data"
        }
       ]
      }
     },
     "8f83670301e74a049502738b0b35cc03": {
      "model_module": "@jupyter-widgets/base",
      "model_module_version": "2.0.0",
      "model_name": "LayoutModel",
      "state": {}
     },
     "90179471aae749e6ab9e83b7359fc807": {
      "model_module": "@jupyter-widgets/controls",
      "model_module_version": "2.0.0",
      "model_name": "IntSliderModel",
      "state": {
       "behavior": "drag-tap",
       "description": "b",
       "layout": "IPY_MODEL_c8f054ab84554a7096e9c53350f88025",
       "max": 30,
       "min": -10,
       "style": "IPY_MODEL_bb44e4f3d0c742b1aa4c40e3e77cd8eb",
       "value": 10
      }
     },
     "9087e95abb9446928ffdcc6ffb4d5056": {
      "model_module": "@jupyter-widgets/base",
      "model_module_version": "2.0.0",
      "model_name": "LayoutModel",
      "state": {}
     },
     "9097e99eb23c47a5917d40bc43de9cbe": {
      "model_module": "@jupyter-widgets/base",
      "model_module_version": "2.0.0",
      "model_name": "LayoutModel",
      "state": {}
     },
     "91f9ad72377b44b1b92c0a9b08abca40": {
      "model_module": "@jupyter-widgets/base",
      "model_module_version": "2.0.0",
      "model_name": "LayoutModel",
      "state": {}
     },
     "91fa58fb0b2849c189e4cc5775e4a905": {
      "model_module": "@jupyter-widgets/base",
      "model_module_version": "2.0.0",
      "model_name": "LayoutModel",
      "state": {}
     },
     "92f7042b757c45eab63cb59c76d4da63": {
      "model_module": "@jupyter-widgets/controls",
      "model_module_version": "2.0.0",
      "model_name": "DescriptionStyleModel",
      "state": {
       "description_width": ""
      }
     },
     "93ee37a9124f47998f46cd06c28a1f3b": {
      "model_module": "@jupyter-widgets/controls",
      "model_module_version": "2.0.0",
      "model_name": "IntSliderModel",
      "state": {
       "behavior": "drag-tap",
       "layout": "IPY_MODEL_96a80af8868e449588bb24b8807947a8",
       "max": 200,
       "style": "IPY_MODEL_2dc6858f49ee4452b1ed7dcaaac34798",
       "value": 20
      }
     },
     "94c135f352b94221886383e22d5c9059": {
      "model_module": "@jupyter-widgets/controls",
      "model_module_version": "2.0.0",
      "model_name": "SliderStyleModel",
      "state": {
       "description_width": ""
      }
     },
     "96a80af8868e449588bb24b8807947a8": {
      "model_module": "@jupyter-widgets/base",
      "model_module_version": "2.0.0",
      "model_name": "LayoutModel",
      "state": {}
     },
     "9859f05687f140458eb150e69a9e16b3": {
      "model_module": "@jupyter-widgets/controls",
      "model_module_version": "2.0.0",
      "model_name": "DescriptionStyleModel",
      "state": {
       "description_width": ""
      }
     },
     "9b78c94e5fc54721955c49b74042ba14": {
      "model_module": "@jupyter-widgets/base",
      "model_module_version": "2.0.0",
      "model_name": "LayoutModel",
      "state": {}
     },
     "9daf12732745458c80ef8741e4f1e6f3": {
      "model_module": "@jupyter-widgets/controls",
      "model_module_version": "2.0.0",
      "model_name": "IntSliderModel",
      "state": {
       "behavior": "drag-tap",
       "description": "My handle",
       "layout": "IPY_MODEL_3e7469c0524844a2a8442e345f3ba521",
       "style": "IPY_MODEL_63cb47d3fbfa4c799fe50d0ec6143ab6"
      }
     },
     "a01eb45d31e749e7844359ee47ffe8ec": {
      "model_module": "@jupyter-widgets/base",
      "model_module_version": "2.0.0",
      "model_name": "LayoutModel",
      "state": {}
     },
     "a081daab4bb54a558807c612d7d6b04c": {
      "model_module": "@jupyter-widgets/base",
      "model_module_version": "2.0.0",
      "model_name": "LayoutModel",
      "state": {}
     },
     "a0e870db02f043a8b782d4fc4b7242c2": {
      "model_module": "@jupyter-widgets/base",
      "model_module_version": "2.0.0",
      "model_name": "LayoutModel",
      "state": {}
     },
     "a5b286ac3ac74a7da295eea87c684412": {
      "model_module": "@jupyter-widgets/base",
      "model_module_version": "2.0.0",
      "model_name": "LayoutModel",
      "state": {}
     },
     "a5e5686a6a174758b791604feab6273e": {
      "model_module": "@jupyter-widgets/controls",
      "model_module_version": "2.0.0",
      "model_name": "IntSliderModel",
      "state": {
       "behavior": "drag-tap",
       "description": "x",
       "layout": "IPY_MODEL_9097e99eb23c47a5917d40bc43de9cbe",
       "min": -100,
       "style": "IPY_MODEL_b5da2300799845a6bad08a7195973e31",
       "value": -15
      }
     },
     "a671f2ba17ae4a7685b6dc4028808344": {
      "model_module": "@jupyter-widgets/controls",
      "model_module_version": "2.0.0",
      "model_name": "ButtonStyleModel",
      "state": {
       "font_family": null,
       "font_size": null,
       "font_style": null,
       "font_variant": null,
       "font_weight": null,
       "text_color": null,
       "text_decoration": null
      }
     },
     "ac51ed0dbe524349b674bf230afb0c50": {
      "model_module": "@jupyter-widgets/controls",
      "model_module_version": "2.0.0",
      "model_name": "DescriptionStyleModel",
      "state": {
       "description_width": ""
      }
     },
     "ae1a70e3c0774641bc4b27c6a296a825": {
      "model_module": "@jupyter-widgets/base",
      "model_module_version": "2.0.0",
      "model_name": "LayoutModel",
      "state": {}
     },
     "aead42f1f9374c33bc5db92024d68286": {
      "model_module": "@jupyter-widgets/controls",
      "model_module_version": "2.0.0",
      "model_name": "SliderStyleModel",
      "state": {
       "description_width": ""
      }
     },
     "af83e0802ea440bfb8564abbe33f3a2d": {
      "model_module": "@jupyter-widgets/controls",
      "model_module_version": "2.0.0",
      "model_name": "VBoxModel",
      "state": {
       "_dom_classes": [
        "widget-interact"
       ],
       "children": [
        "IPY_MODEL_d05eea0dc3564f1db15d7f99f34ee4f9",
        "IPY_MODEL_90179471aae749e6ab9e83b7359fc807",
        "IPY_MODEL_6a200c95477a428984c7c51ae7091f62"
       ],
       "layout": "IPY_MODEL_f3f1503cf11842f4ba85e60042a930df"
      }
     },
     "b2f54cf4bf0a45f29428cd30c75af431": {
      "model_module": "@jupyter-widgets/base",
      "model_module_version": "2.0.0",
      "model_name": "LayoutModel",
      "state": {}
     },
     "b4e8703febe14929842822f7a1c4724b": {
      "model_module": "@jupyter-widgets/controls",
      "model_module_version": "2.0.0",
      "model_name": "IntSliderModel",
      "state": {
       "behavior": "drag-tap",
       "description": "a",
       "layout": "IPY_MODEL_1eeee17f8a13459ca022e1b5122aa649",
       "max": 30,
       "min": -10,
       "style": "IPY_MODEL_429c0a11244747a98acf9eb2b6ef1be4",
       "value": 10
      }
     },
     "b5da2300799845a6bad08a7195973e31": {
      "model_module": "@jupyter-widgets/controls",
      "model_module_version": "2.0.0",
      "model_name": "SliderStyleModel",
      "state": {
       "description_width": ""
      }
     },
     "b6996a16d20e4f7186da2fb3d5d8fa83": {
      "model_module": "@jupyter-widgets/controls",
      "model_module_version": "2.0.0",
      "model_name": "TextModel",
      "state": {
       "description": "y",
       "layout": "IPY_MODEL_ee7f8b5b41ca4eeb81bce880fc46dc5d",
       "style": "IPY_MODEL_88f19ab5dce74c649c187c4e1570421c",
       "value": "hi"
      }
     },
     "b8a59c76869f4e2daf10fe08429b1ca8": {
      "model_module": "@jupyter-widgets/base",
      "model_module_version": "2.0.0",
      "model_name": "LayoutModel",
      "state": {}
     },
     "bb44e4f3d0c742b1aa4c40e3e77cd8eb": {
      "model_module": "@jupyter-widgets/controls",
      "model_module_version": "2.0.0",
      "model_name": "SliderStyleModel",
      "state": {
       "description_width": ""
      }
     },
     "bc3b9e393e344321b8e7445ad48ba086": {
      "model_module": "@jupyter-widgets/controls",
      "model_module_version": "2.0.0",
      "model_name": "SliderStyleModel",
      "state": {
       "description_width": ""
      }
     },
     "bc464ac5e0fc4b479c08351c3b980277": {
      "model_module": "@jupyter-widgets/base",
      "model_module_version": "2.0.0",
      "model_name": "LayoutModel",
      "state": {}
     },
     "bd22d88ea0ea4b6eaa9952acb8e587aa": {
      "model_module": "@jupyter-widgets/base",
      "model_module_version": "2.0.0",
      "model_name": "LayoutModel",
      "state": {}
     },
     "bd95b4acc48a4d5481bf45d3a7bfc693": {
      "model_module": "@jupyter-widgets/base",
      "model_module_version": "2.0.0",
      "model_name": "LayoutModel",
      "state": {}
     },
     "bf268efe20234226a02897dcd7e9ac12": {
      "model_module": "@jupyter-widgets/output",
      "model_module_version": "1.0.0",
      "model_name": "OutputModel",
      "state": {
       "layout": "IPY_MODEL_6f83d7f83b4d408e8df33e2783d5455c",
       "outputs": [
        {
         "data": {
          "text/plain": "6.800000000000001"
         },
         "metadata": {},
         "output_type": "display_data"
        }
       ]
      }
     },
     "c045511c243945679985cb8bd68ac1f7": {
      "model_module": "@jupyter-widgets/output",
      "model_module_version": "1.0.0",
      "model_name": "OutputModel",
      "state": {
       "layout": "IPY_MODEL_7d12b638a3da44b793adb3f147dca0a0",
       "outputs": [
        {
         "data": {
          "text/plain": "'option 1'"
         },
         "metadata": {},
         "output_type": "display_data"
        }
       ]
      }
     },
     "c273bd95859742b38b8d032efcb5a28f": {
      "model_module": "@jupyter-widgets/controls",
      "model_module_version": "2.0.0",
      "model_name": "FloatTextModel",
      "state": {
       "layout": "IPY_MODEL_ebb6bd949fa6413ba6c4a5eb495330d6",
       "step": null,
       "style": "IPY_MODEL_9859f05687f140458eb150e69a9e16b3"
      }
     },
     "c350d99ad75541ca866b7d85ae7f0cd8": {
      "model_module": "@jupyter-widgets/controls",
      "model_module_version": "2.0.0",
      "model_name": "IntSliderModel",
      "state": {
       "behavior": "drag-tap",
       "description": "New Slider",
       "layout": "IPY_MODEL_4e726ab347134da2978d1299ee6f67bf",
       "style": "IPY_MODEL_6513c5a93b6a418daca4685c527e73dd",
       "value": 15
      }
     },
     "c45a0d1468f94cd191adfa9c7dd7da6f": {
      "model_module": "@jupyter-widgets/base",
      "model_module_version": "2.0.0",
      "model_name": "LayoutModel",
      "state": {}
     },
     "c4642fe629ff4c57b114f0d920f391b3": {
      "model_module": "@jupyter-widgets/controls",
      "model_module_version": "2.0.0",
      "model_name": "SliderStyleModel",
      "state": {
       "description_width": ""
      }
     },
     "c7a14d3ea30c4e989bf9547eb5fb87d6": {
      "model_module": "@jupyter-widgets/base",
      "model_module_version": "2.0.0",
      "model_name": "LayoutModel",
      "state": {}
     },
     "c8f054ab84554a7096e9c53350f88025": {
      "model_module": "@jupyter-widgets/base",
      "model_module_version": "2.0.0",
      "model_name": "LayoutModel",
      "state": {}
     },
     "ca4ff9c62eac41f6828b1fe86400dd6d": {
      "model_module": "@jupyter-widgets/base",
      "model_module_version": "2.0.0",
      "model_name": "LayoutModel",
      "state": {}
     },
     "cb17572e281f4b3199d6991e5f91c2e0": {
      "model_module": "@jupyter-widgets/base",
      "model_module_version": "2.0.0",
      "model_name": "LayoutModel",
      "state": {}
     },
     "cb7a9b9165a74aa88e3815a4ab70297b": {
      "model_module": "@jupyter-widgets/controls",
      "model_module_version": "2.0.0",
      "model_name": "SliderStyleModel",
      "state": {
       "description_width": ""
      }
     },
     "cf69ec711f7448d691cf5fa97e0a1b59": {
      "model_module": "@jupyter-widgets/base",
      "model_module_version": "2.0.0",
      "model_name": "LayoutModel",
      "state": {}
     },
     "d05eea0dc3564f1db15d7f99f34ee4f9": {
      "model_module": "@jupyter-widgets/controls",
      "model_module_version": "2.0.0",
      "model_name": "IntSliderModel",
      "state": {
       "behavior": "drag-tap",
       "description": "a",
       "layout": "IPY_MODEL_55c0db508afa48f59e8fe66cc74a6acc",
       "max": 30,
       "min": -10,
       "style": "IPY_MODEL_c4642fe629ff4c57b114f0d920f391b3",
       "value": 10
      }
     },
     "d141069c8e134d4cac60d17517c180e7": {
      "model_module": "@jupyter-widgets/controls",
      "model_module_version": "2.0.0",
      "model_name": "DescriptionStyleModel",
      "state": {
       "description_width": ""
      }
     },
     "d1ad63c188e845b7a93c5461a012e590": {
      "model_module": "@jupyter-widgets/output",
      "model_module_version": "1.0.0",
      "model_name": "OutputModel",
      "state": {
       "layout": "IPY_MODEL_64b55ccacbd440caab105db91a8f1c32",
       "outputs": [
        {
         "data": {
          "text/plain": "'Hello'"
         },
         "metadata": {},
         "output_type": "display_data"
        }
       ]
      }
     },
     "d30a91ba304a4282ba46c4dfc2a9c7e4": {
      "model_module": "@jupyter-widgets/controls",
      "model_module_version": "2.0.0",
      "model_name": "ButtonModel",
      "state": {
       "button_style": "danger",
       "description": "Ordinary Button",
       "layout": "IPY_MODEL_ae1a70e3c0774641bc4b27c6a296a825",
       "style": "IPY_MODEL_27723ea5e0194defab27cb59d6a76c62",
       "tooltip": null
      }
     },
     "d4332aaf8d324da5bc50cc9ed6d4b9b1": {
      "model_module": "@jupyter-widgets/controls",
      "model_module_version": "2.0.0",
      "model_name": "DropdownModel",
      "state": {
       "_options_labels": [
        "option 1",
        "option 2"
       ],
       "description": "x",
       "index": 0,
       "layout": "IPY_MODEL_34f62b5da4f84299aec197b35785a293",
       "style": "IPY_MODEL_8a494ac1a18d45218f1360fd604d5499"
      }
     },
     "d567a95292ae49d7923dd75a32aef124": {
      "model_module": "@jupyter-widgets/controls",
      "model_module_version": "2.0.0",
      "model_name": "SliderStyleModel",
      "state": {
       "description_width": ""
      }
     },
     "d8be88a7b752459384aac1418d5a8659": {
      "model_module": "@jupyter-widgets/controls",
      "model_module_version": "2.0.0",
      "model_name": "VBoxModel",
      "state": {
       "_dom_classes": [
        "widget-interact"
       ],
       "children": [
        "IPY_MODEL_b4e8703febe14929842822f7a1c4724b",
        "IPY_MODEL_86857698e051443683fd395dd3556804",
        "IPY_MODEL_03f1a3cde40849c4bb76a48f6df34ccc"
       ],
       "layout": "IPY_MODEL_6a332b9ffb914346bf9b7802ed75398f"
      }
     },
     "dad8e9c2ae26426bb2b279b4a19ce821": {
      "model_module": "@jupyter-widgets/base",
      "model_module_version": "2.0.0",
      "model_name": "LayoutModel",
      "state": {}
     },
     "dcfe67221f4849f8ac18b86553abc5f1": {
      "model_module": "@jupyter-widgets/controls",
      "model_module_version": "2.0.0",
      "model_name": "IntSliderModel",
      "state": {
       "behavior": "drag-tap",
       "description": "x",
       "layout": "IPY_MODEL_88442316e9d14fe3bd976098720492f1",
       "max": 3,
       "min": -1,
       "style": "IPY_MODEL_de986b462479438ea46dcc47eda164a2",
       "value": 1
      }
     },
     "ddf4c837bb7d4ff3883a3d6342a00294": {
      "model_module": "@jupyter-widgets/base",
      "model_module_version": "2.0.0",
      "model_name": "LayoutModel",
      "state": {}
     },
     "de260eb0415f430197ea4be8a92a54d6": {
      "model_module": "@jupyter-widgets/controls",
      "model_module_version": "2.0.0",
      "model_name": "VBoxModel",
      "state": {
       "_dom_classes": [
        "widget-interact"
       ],
       "children": [
        "IPY_MODEL_28b74044d30d40058518bc7c8e44cc77"
       ],
       "layout": "IPY_MODEL_51a66ee12a6d433eb5162b7832a1c0f8"
      }
     },
     "de72324bd1804ce3958416a93ada060b": {
      "model_module": "@jupyter-widgets/controls",
      "model_module_version": "2.0.0",
      "model_name": "VBoxModel",
      "state": {
       "_dom_classes": [
        "widget-interact"
       ],
       "children": [
        "IPY_MODEL_1f224adf030b48bba8a4c98a5bea009b",
        "IPY_MODEL_465e85d2b44c476681a018d3106b9552"
       ],
       "layout": "IPY_MODEL_f8ce96f6dea54433bd796c7ee5ee6e5a"
      }
     },
     "de986b462479438ea46dcc47eda164a2": {
      "model_module": "@jupyter-widgets/controls",
      "model_module_version": "2.0.0",
      "model_name": "SliderStyleModel",
      "state": {
       "description_width": ""
      }
     },
     "deaa50ddb1d34b9995e06e67da409e6f": {
      "model_module": "@jupyter-widgets/controls",
      "model_module_version": "2.0.0",
      "model_name": "ButtonModel",
      "state": {
       "description": "Ordinary Button",
       "layout": "IPY_MODEL_9087e95abb9446928ffdcc6ffb4d5056",
       "style": "IPY_MODEL_f39905d0b44d4e3c8e54b1dda4ac9fb4",
       "tooltip": null
      }
     },
     "e19046d746114abda5297d69bcebab01": {
      "model_module": "@jupyter-widgets/output",
      "model_module_version": "1.0.0",
      "model_name": "OutputModel",
      "state": {
       "layout": "IPY_MODEL_74072e6f3740458695ef60f70cdda053",
       "outputs": [
        {
         "data": {
          "text/plain": "10"
         },
         "metadata": {},
         "output_type": "display_data"
        }
       ]
      }
     },
     "e6005123390e40b2a9bd8eecb7bc2553": {
      "model_module": "@jupyter-widgets/base",
      "model_module_version": "2.0.0",
      "model_name": "LayoutModel",
      "state": {}
     },
     "e6098973475942f1aede8462ba3f7b4a": {
      "model_module": "@jupyter-widgets/base",
      "model_module_version": "2.0.0",
      "model_name": "LayoutModel",
      "state": {}
     },
     "e6ada54f50a14d7aba94301b7f8c7323": {
      "model_module": "@jupyter-widgets/controls",
      "model_module_version": "2.0.0",
      "model_name": "ButtonModel",
      "state": {
       "layout": "IPY_MODEL_ec11ca6e1e614e6d92a099d8f1b9c666",
       "style": "IPY_MODEL_f39905d0b44d4e3c8e54b1dda4ac9fb4",
       "tooltip": null
      }
     },
     "e71e9606d5a74d65b3a8b3d96733a0dc": {
      "model_module": "@jupyter-widgets/controls",
      "model_module_version": "2.0.0",
      "model_name": "SliderStyleModel",
      "state": {
       "description_width": ""
      }
     },
     "e8ec6c1252934cdba55e403f81922afc": {
      "model_module": "@jupyter-widgets/controls",
      "model_module_version": "2.0.0",
      "model_name": "SliderStyleModel",
      "state": {
       "description_width": ""
      }
     },
     "ea33f5b086b14200a61fa5f2ce78beb3": {
      "model_module": "@jupyter-widgets/controls",
      "model_module_version": "2.0.0",
      "model_name": "ButtonStyleModel",
      "state": {
       "font_family": null,
       "font_size": null,
       "font_style": null,
       "font_variant": null,
       "font_weight": null,
       "text_color": null,
       "text_decoration": null
      }
     },
     "eb97f0d5e6494251b0cdd7e6bcf5ad55": {
      "model_module": "@jupyter-widgets/controls",
      "model_module_version": "2.0.0",
      "model_name": "IntSliderModel",
      "state": {
       "behavior": "drag-tap",
       "description": "x",
       "layout": "IPY_MODEL_24554724788b4f9a935d1cb2747c74a1",
       "max": 3,
       "min": -1,
       "style": "IPY_MODEL_94c135f352b94221886383e22d5c9059",
       "value": 1
      }
     },
     "ebb6bd949fa6413ba6c4a5eb495330d6": {
      "model_module": "@jupyter-widgets/base",
      "model_module_version": "2.0.0",
      "model_name": "LayoutModel",
      "state": {}
     },
     "ec11ca6e1e614e6d92a099d8f1b9c666": {
      "model_module": "@jupyter-widgets/base",
      "model_module_version": "2.0.0",
      "model_name": "LayoutModel",
      "state": {}
     },
     "ed374966c05c443ab6e1c8bd6bc257ee": {
      "model_module": "@jupyter-widgets/base",
      "model_module_version": "2.0.0",
      "model_name": "LayoutModel",
      "state": {}
     },
     "ee7f8b5b41ca4eeb81bce880fc46dc5d": {
      "model_module": "@jupyter-widgets/base",
      "model_module_version": "2.0.0",
      "model_name": "LayoutModel",
      "state": {}
     },
     "eea84fe54d9245e5b1278fca7be06458": {
      "model_module": "@jupyter-widgets/base",
      "model_module_version": "2.0.0",
      "model_name": "LayoutModel",
      "state": {}
     },
     "f39905d0b44d4e3c8e54b1dda4ac9fb4": {
      "model_module": "@jupyter-widgets/controls",
      "model_module_version": "2.0.0",
      "model_name": "ButtonStyleModel",
      "state": {
       "button_color": "lightgreen",
       "font_family": null,
       "font_size": null,
       "font_style": null,
       "font_variant": null,
       "font_weight": null,
       "text_color": null,
       "text_decoration": null
      }
     },
     "f3f1503cf11842f4ba85e60042a930df": {
      "model_module": "@jupyter-widgets/base",
      "model_module_version": "2.0.0",
      "model_name": "LayoutModel",
      "state": {}
     },
     "f493d0421c7942a1a5e96ac291cee136": {
      "model_module": "@jupyter-widgets/base",
      "model_module_version": "2.0.0",
      "model_name": "LayoutModel",
      "state": {}
     },
     "f4a180f301c448d6b00d48b2cad3d59f": {
      "model_module": "@jupyter-widgets/controls",
      "model_module_version": "2.0.0",
      "model_name": "SliderStyleModel",
      "state": {
       "description_width": ""
      }
     },
     "f4e9021a2e4a42a4ad4fd4a44c6f7abd": {
      "model_module": "@jupyter-widgets/output",
      "model_module_version": "1.0.0",
      "model_name": "OutputModel",
      "state": {
       "layout": "IPY_MODEL_73c78314c8b64ab0ac343cb873b4d5ee",
       "outputs": [
        {
         "data": {
          "text/plain": "(1, 'hi')"
         },
         "metadata": {},
         "output_type": "display_data"
        }
       ]
      }
     },
     "f6192fa4735a48c4a6c72600837c6013": {
      "model_module": "@jupyter-widgets/base",
      "model_module_version": "2.0.0",
      "model_name": "LayoutModel",
      "state": {}
     },
     "f8ce96f6dea54433bd796c7ee5ee6e5a": {
      "model_module": "@jupyter-widgets/base",
      "model_module_version": "2.0.0",
      "model_name": "LayoutModel",
      "state": {}
     },
     "fc5c9324b7274798819a0ce6ea3db60f": {
      "model_module": "@jupyter-widgets/base",
      "model_module_version": "2.0.0",
      "model_name": "LayoutModel",
      "state": {}
     },
     "fd3652b6616948cb87a859c8411f3d84": {
      "model_module": "@jupyter-widgets/controls",
      "model_module_version": "2.0.0",
      "model_name": "IntSliderModel",
      "state": {
       "behavior": "drag-tap",
       "layout": "IPY_MODEL_fc5c9324b7274798819a0ce6ea3db60f",
       "style": "IPY_MODEL_8549b63b5a164f0bbf748fa41b32b97b"
      }
     },
     "fd72c1debf9242c4b2842c15dbf6d78b": {
      "model_module": "@jupyter-widgets/base",
      "model_module_version": "2.0.0",
      "model_name": "LayoutModel",
      "state": {}
     },
     "fdb0d35fe9a546b3afce5b612d04065c": {
      "model_module": "@jupyter-widgets/base",
      "model_module_version": "2.0.0",
      "model_name": "LayoutModel",
      "state": {}
     },
     "fe1252f712d742c785b7cbe827df355c": {
      "model_module": "@jupyter-widgets/base",
      "model_module_version": "2.0.0",
      "model_name": "LayoutModel",
      "state": {}
     }
    },
    "version_major": 2,
    "version_minor": 0
   }
  }
 },
 "nbformat": 4,
 "nbformat_minor": 5
}
